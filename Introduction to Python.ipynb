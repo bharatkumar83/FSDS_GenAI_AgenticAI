{
 "cells": [
  {
   "cell_type": "markdown",
   "id": "06c03aac-8fcc-4241-97d4-e8b2b6a436fe",
   "metadata": {},
   "source": [
    "### Calculator in python"
   ]
  },
  {
   "cell_type": "code",
   "execution_count": 2,
   "id": "a5a30d42-600c-4790-9400-06cc04d98684",
   "metadata": {},
   "outputs": [
    {
     "data": {
      "text/plain": [
       "49.0"
      ]
     },
     "execution_count": 2,
     "metadata": {},
     "output_type": "execute_result"
    }
   ],
   "source": [
    "15+43-45/(12-2)*2"
   ]
  },
  {
   "cell_type": "code",
   "execution_count": 3,
   "id": "97ddacbf-3972-4290-9935-4d3df33ed7cb",
   "metadata": {},
   "outputs": [
    {
     "data": {
      "text/plain": [
       "1024"
      ]
     },
     "execution_count": 3,
     "metadata": {},
     "output_type": "execute_result"
    }
   ],
   "source": [
    "32**2"
   ]
  },
  {
   "cell_type": "code",
   "execution_count": 4,
   "id": "746a1bac-51a1-49f8-9abe-ca072e72d132",
   "metadata": {},
   "outputs": [
    {
     "data": {
      "text/plain": [
       "4294967296"
      ]
     },
     "execution_count": 4,
     "metadata": {},
     "output_type": "execute_result"
    }
   ],
   "source": [
    "2**32"
   ]
  },
  {
   "cell_type": "code",
   "execution_count": 5,
   "id": "0ad46211-18c4-4bbf-b6ec-43166b7fabaf",
   "metadata": {},
   "outputs": [
    {
     "data": {
      "text/plain": [
       "81"
      ]
     },
     "execution_count": 5,
     "metadata": {},
     "output_type": "execute_result"
    }
   ],
   "source": [
    "3**4"
   ]
  },
  {
   "cell_type": "markdown",
   "id": "3578efc6-dfaa-4602-af3f-f30dd5b2d7d9",
   "metadata": {},
   "source": [
    "### assigning variables and calculations"
   ]
  },
  {
   "cell_type": "code",
   "execution_count": 6,
   "id": "705374d0-01e1-41ee-a007-e888d5cebee1",
   "metadata": {},
   "outputs": [],
   "source": [
    "v = 2"
   ]
  },
  {
   "cell_type": "code",
   "execution_count": 7,
   "id": "6a5909dc-a026-4a84-8976-80b2f76def5d",
   "metadata": {},
   "outputs": [
    {
     "data": {
      "text/plain": [
       "int"
      ]
     },
     "execution_count": 7,
     "metadata": {},
     "output_type": "execute_result"
    }
   ],
   "source": [
    "type (v)"
   ]
  },
  {
   "cell_type": "code",
   "execution_count": 8,
   "id": "4b4caa15-bc90-4f82-8a19-69e9ed127ab9",
   "metadata": {},
   "outputs": [
    {
     "data": {
      "text/plain": [
       "2277147214096"
      ]
     },
     "execution_count": 8,
     "metadata": {},
     "output_type": "execute_result"
    }
   ],
   "source": [
    "id(v)"
   ]
  },
  {
   "cell_type": "code",
   "execution_count": 9,
   "id": "3ae3550a-c65e-42cf-84a3-c8aff48307fd",
   "metadata": {},
   "outputs": [],
   "source": [
    "length= 10\n",
    "height= 9\n",
    "width = 12"
   ]
  },
  {
   "cell_type": "code",
   "execution_count": 10,
   "id": "53b393af-a982-4c46-b6cd-9478673e43f2",
   "metadata": {},
   "outputs": [],
   "source": [
    "area = length*height*width"
   ]
  },
  {
   "cell_type": "code",
   "execution_count": 11,
   "id": "87473fc8-2e6d-4df0-bf7e-dc49c590600d",
   "metadata": {},
   "outputs": [
    {
     "data": {
      "text/plain": [
       "1080"
      ]
     },
     "execution_count": 11,
     "metadata": {},
     "output_type": "execute_result"
    }
   ],
   "source": [
    "area"
   ]
  },
  {
   "cell_type": "code",
   "execution_count": 12,
   "id": "3ea01f8d-4c73-46c2-8bf6-494244d97593",
   "metadata": {},
   "outputs": [],
   "source": [
    "p = 1200\n",
    "t =1\n",
    "r= 3.5"
   ]
  },
  {
   "cell_type": "code",
   "execution_count": 13,
   "id": "aa8d3a94-5057-4965-9128-4c48cb33532f",
   "metadata": {},
   "outputs": [
    {
     "data": {
      "text/plain": [
       "4200.0"
      ]
     },
     "execution_count": 13,
     "metadata": {},
     "output_type": "execute_result"
    }
   ],
   "source": [
    "p*t*r"
   ]
  },
  {
   "cell_type": "code",
   "execution_count": 14,
   "id": "b9db5fc2-17c0-4ac6-a33a-4fbfac06e54c",
   "metadata": {},
   "outputs": [
    {
     "data": {
      "text/plain": [
       "42.0"
      ]
     },
     "execution_count": 14,
     "metadata": {},
     "output_type": "execute_result"
    }
   ],
   "source": [
    "_/100"
   ]
  },
  {
   "cell_type": "code",
   "execution_count": 15,
   "id": "028b6870-0006-49d9-88a7-cd834f21ff08",
   "metadata": {},
   "outputs": [],
   "source": [
    "total = p+_\n"
   ]
  },
  {
   "cell_type": "code",
   "execution_count": 16,
   "id": "ce170918-6cbe-4f48-a365-86b19982d703",
   "metadata": {},
   "outputs": [
    {
     "data": {
      "text/plain": [
       "1242.0"
      ]
     },
     "execution_count": 16,
     "metadata": {},
     "output_type": "execute_result"
    }
   ],
   "source": [
    "total"
   ]
  },
  {
   "cell_type": "code",
   "execution_count": 17,
   "id": "a72ea4a9-ef40-4027-a0ad-8371019fe3da",
   "metadata": {},
   "outputs": [],
   "source": [
    "import math"
   ]
  },
  {
   "cell_type": "code",
   "execution_count": 18,
   "id": "c097762e-e221-4906-9567-3634e96ea0f2",
   "metadata": {},
   "outputs": [
    {
     "data": {
      "text/plain": [
       "3.141592653589793"
      ]
     },
     "execution_count": 18,
     "metadata": {},
     "output_type": "execute_result"
    }
   ],
   "source": [
    "math.pi"
   ]
  },
  {
   "cell_type": "code",
   "execution_count": 19,
   "id": "60f35569-5a09-4a18-9163-edb403b2f422",
   "metadata": {},
   "outputs": [
    {
     "data": {
      "text/plain": [
       "3"
      ]
     },
     "execution_count": 19,
     "metadata": {},
     "output_type": "execute_result"
    }
   ],
   "source": [
    "round(_)"
   ]
  },
  {
   "cell_type": "code",
   "execution_count": 20,
   "id": "139b2d72-53c8-4156-b995-0bbfd46b5cd8",
   "metadata": {},
   "outputs": [
    {
     "data": {
      "text/plain": [
       "4"
      ]
     },
     "execution_count": 20,
     "metadata": {},
     "output_type": "execute_result"
    }
   ],
   "source": [
    "math.ceil(3.1415)"
   ]
  },
  {
   "cell_type": "code",
   "execution_count": 21,
   "id": "33c1b1b6-331c-4262-be49-7ff119479dd0",
   "metadata": {},
   "outputs": [
    {
     "data": {
      "text/plain": [
       "3"
      ]
     },
     "execution_count": 21,
     "metadata": {},
     "output_type": "execute_result"
    }
   ],
   "source": [
    "math.floor(3.1415)"
   ]
  },
  {
   "cell_type": "markdown",
   "id": "3b46fa1a-6fce-4240-b08f-dc8fdd5e52d9",
   "metadata": {},
   "source": [
    "### text"
   ]
  },
  {
   "cell_type": "code",
   "execution_count": 22,
   "id": "44bb912f-f21b-4c70-a5ad-0b9f6e5e80cb",
   "metadata": {},
   "outputs": [
    {
     "data": {
      "text/plain": [
       "'Bharat'"
      ]
     },
     "execution_count": 22,
     "metadata": {},
     "output_type": "execute_result"
    }
   ],
   "source": [
    "'Bharat'"
   ]
  },
  {
   "cell_type": "code",
   "execution_count": 23,
   "id": "55994191-3bf6-49fc-a3ce-6519ad02e4ef",
   "metadata": {},
   "outputs": [
    {
     "data": {
      "text/plain": [
       "'what is data science ?'"
      ]
     },
     "execution_count": 23,
     "metadata": {},
     "output_type": "execute_result"
    }
   ],
   "source": [
    "'what is data science ?'"
   ]
  },
  {
   "cell_type": "code",
   "execution_count": 24,
   "id": "c47b2848-4c2a-4239-b44e-0b2148c00c45",
   "metadata": {},
   "outputs": [
    {
     "data": {
      "text/plain": [
       "\"doesn't\""
      ]
     },
     "execution_count": 24,
     "metadata": {},
     "output_type": "execute_result"
    }
   ],
   "source": [
    "'doesn\\'t' # we use \\' to escape the single quote or use \"\" "
   ]
  },
  {
   "cell_type": "code",
   "execution_count": 25,
   "id": "16848f00-fece-4644-b64b-c745607f98d9",
   "metadata": {},
   "outputs": [
    {
     "data": {
      "text/plain": [
       "\"dosen't\""
      ]
     },
     "execution_count": 25,
     "metadata": {},
     "output_type": "execute_result"
    }
   ],
   "source": [
    "\"dosen't\""
   ]
  },
  {
   "cell_type": "code",
   "execution_count": 26,
   "id": "74a262f6-4f5b-4e33-a27c-1f4e31bc7cc9",
   "metadata": {},
   "outputs": [
    {
     "data": {
      "text/plain": [
       "'Bharat Kumar \\n from vizag'"
      ]
     },
     "execution_count": 26,
     "metadata": {},
     "output_type": "execute_result"
    }
   ],
   "source": [
    "a = 'Bharat Kumar \\n from vizag'\n",
    "a # without print()"
   ]
  },
  {
   "cell_type": "code",
   "execution_count": 27,
   "id": "de1d4c7b-ae2d-4606-9f92-86d0e13cd048",
   "metadata": {},
   "outputs": [
    {
     "name": "stdout",
     "output_type": "stream",
     "text": [
      "Bharat Kumar \n",
      " from vizag\n"
     ]
    }
   ],
   "source": [
    "print(a) # print function in strings"
   ]
  },
  {
   "cell_type": "code",
   "execution_count": 28,
   "id": "01bf07ab-b56a-46d7-84b6-5425c77e9622",
   "metadata": {},
   "outputs": [
    {
     "name": "stdout",
     "output_type": "stream",
     "text": [
      "d:\tab\n"
     ]
    }
   ],
   "source": [
    "print('d:\\tab') # \\t means tab "
   ]
  },
  {
   "cell_type": "code",
   "execution_count": 29,
   "id": "e9248e46-18a0-48e2-8279-25e1a78f07ad",
   "metadata": {},
   "outputs": [
    {
     "name": "stdout",
     "output_type": "stream",
     "text": [
      "d:\\tab\n"
     ]
    }
   ],
   "source": [
    "print(r'd:\\tab') # to aviod the problem we use r before the quote"
   ]
  },
  {
   "cell_type": "code",
   "execution_count": 30,
   "id": "79838c68-f3bc-4404-91aa-944c2ee1ba53",
   "metadata": {},
   "outputs": [
    {
     "name": "stdout",
     "output_type": "stream",
     "text": [
      " Name : Bharat kumar\n",
      "From  : Visakhapatnam\n",
      "To: Hyderbad \n"
     ]
    }
   ],
   "source": [
    "print(''' Name : Bharat kumar\n",
    "From  : Visakhapatnam\n",
    "To: Hyderbad ''') # use '''...''' or \"\"\"...\"\"\" for multiple lines"
   ]
  },
  {
   "cell_type": "code",
   "execution_count": 31,
   "id": "5d365c54-0917-4d16-bffb-52f4ff1612ab",
   "metadata": {},
   "outputs": [
    {
     "data": {
      "text/plain": [
       "'school'"
      ]
     },
     "execution_count": 31,
     "metadata": {},
     "output_type": "execute_result"
    }
   ],
   "source": [
    "# use * for repeat and + for concatination in strings \n",
    "\n",
    "'sch'+ 2*'o'+ 'l'"
   ]
  },
  {
   "cell_type": "code",
   "execution_count": 32,
   "id": "c42dbcba-774f-4f38-b17f-30dd168763b7",
   "metadata": {},
   "outputs": [
    {
     "data": {
      "text/plain": [
       "'oops'"
      ]
     },
     "execution_count": 32,
     "metadata": {},
     "output_type": "execute_result"
    }
   ],
   "source": [
    "2*'o'+'ps'"
   ]
  },
  {
   "cell_type": "code",
   "execution_count": 33,
   "id": "9f49e81a-79e0-4442-9c29-6d913d494455",
   "metadata": {},
   "outputs": [
    {
     "data": {
      "text/plain": [
       "'concentration'"
      ]
     },
     "execution_count": 33,
     "metadata": {},
     "output_type": "execute_result"
    }
   ],
   "source": [
    "\"con\"+\"centration\""
   ]
  },
  {
   "cell_type": "code",
   "execution_count": 34,
   "id": "43e64e11-1b1a-4732-9de9-892d690e81c1",
   "metadata": {},
   "outputs": [
    {
     "data": {
      "text/plain": [
       "'concentration'"
      ]
     },
     "execution_count": 34,
     "metadata": {},
     "output_type": "execute_result"
    }
   ],
   "source": [
    "\"con\" \"centration\" # string can join by putting next together and also works for several strings"
   ]
  },
  {
   "cell_type": "code",
   "execution_count": 35,
   "id": "296ee0b2-2bbc-49df-9e9f-8c2d8128f6c1",
   "metadata": {},
   "outputs": [],
   "source": [
    "text = ('by using the parentheses '\n",
    "       'the severeal strings can  join together')"
   ]
  },
  {
   "cell_type": "code",
   "execution_count": 36,
   "id": "ebd7f5ba-0c9b-4e91-95ce-78e4726a023a",
   "metadata": {},
   "outputs": [
    {
     "data": {
      "text/plain": [
       "'by using the parentheses the severeal strings can  join together'"
      ]
     },
     "execution_count": 36,
     "metadata": {},
     "output_type": "execute_result"
    }
   ],
   "source": [
    "text"
   ]
  },
  {
   "cell_type": "code",
   "execution_count": 37,
   "id": "432e0423-a0fe-4841-b9bc-3f0c760f3d63",
   "metadata": {},
   "outputs": [],
   "source": [
    "s= 'anaconda'"
   ]
  },
  {
   "cell_type": "code",
   "execution_count": 38,
   "id": "b6b267b0-c7e9-487f-8bd0-da37fad175a0",
   "metadata": {},
   "outputs": [],
   "source": [
    "p= s+' navigator'"
   ]
  },
  {
   "cell_type": "code",
   "execution_count": 39,
   "id": "755e0760-983d-4e02-9471-22e07e42815d",
   "metadata": {},
   "outputs": [
    {
     "data": {
      "text/plain": [
       "'anaconda navigator'"
      ]
     },
     "execution_count": 39,
     "metadata": {},
     "output_type": "execute_result"
    }
   ],
   "source": [
    "p"
   ]
  },
  {
   "cell_type": "code",
   "execution_count": 40,
   "id": "a6ef3791-5b34-4f79-a721-bc7e9585ebf1",
   "metadata": {},
   "outputs": [
    {
     "data": {
      "text/plain": [
       "'a'"
      ]
     },
     "execution_count": 40,
     "metadata": {},
     "output_type": "execute_result"
    }
   ],
   "source": [
    "# indexing in strings\n",
    "p[0]"
   ]
  },
  {
   "cell_type": "code",
   "execution_count": 41,
   "id": "6d706585-10f0-4321-8d90-9ca518d5f913",
   "metadata": {},
   "outputs": [
    {
     "data": {
      "text/plain": [
       "'c'"
      ]
     },
     "execution_count": 41,
     "metadata": {},
     "output_type": "execute_result"
    }
   ],
   "source": [
    "p[3]\n"
   ]
  },
  {
   "cell_type": "code",
   "execution_count": 42,
   "id": "b91fc5cc-37fc-4191-a807-29a9545acfe2",
   "metadata": {},
   "outputs": [
    {
     "data": {
      "text/plain": [
       "'r'"
      ]
     },
     "execution_count": 42,
     "metadata": {},
     "output_type": "execute_result"
    }
   ],
   "source": [
    "p[-1] # negative indexing "
   ]
  },
  {
   "cell_type": "code",
   "execution_count": 43,
   "id": "f5f9d91c-752b-4fa7-8888-9ffe2c68ab31",
   "metadata": {},
   "outputs": [
    {
     "data": {
      "text/plain": [
       "'a'"
      ]
     },
     "execution_count": 43,
     "metadata": {},
     "output_type": "execute_result"
    }
   ],
   "source": [
    "p[-4] # fourth last element "
   ]
  },
  {
   "cell_type": "code",
   "execution_count": 44,
   "id": "31b7ffe7-f5a6-4e89-a43e-d8556fc39849",
   "metadata": {},
   "outputs": [
    {
     "data": {
      "text/plain": [
       "'anacon'"
      ]
     },
     "execution_count": 44,
     "metadata": {},
     "output_type": "execute_result"
    }
   ],
   "source": [
    "p[0:6] # elements from 0 index until 6 index (executed)"
   ]
  },
  {
   "cell_type": "code",
   "execution_count": 45,
   "id": "51e45895-c97a-4b9a-8a13-92bc83d0757d",
   "metadata": {},
   "outputs": [
    {
     "data": {
      "text/plain": [
       "'nav'"
      ]
     },
     "execution_count": 45,
     "metadata": {},
     "output_type": "execute_result"
    }
   ],
   "source": [
    "p[9:12]"
   ]
  },
  {
   "cell_type": "code",
   "execution_count": 46,
   "id": "c08370e7-389a-44bd-a1ba-ca56529c8cec",
   "metadata": {},
   "outputs": [
    {
     "data": {
      "text/plain": [
       "' navigator'"
      ]
     },
     "execution_count": 46,
     "metadata": {},
     "output_type": "execute_result"
    }
   ],
   "source": [
    "p[8:] # elements from 8 index until end"
   ]
  },
  {
   "cell_type": "code",
   "execution_count": 47,
   "id": "e0902b89-6df9-494d-8315-edad8d703d68",
   "metadata": {},
   "outputs": [
    {
     "data": {
      "text/plain": [
       "'anaconda'"
      ]
     },
     "execution_count": 47,
     "metadata": {},
     "output_type": "execute_result"
    }
   ],
   "source": [
    "p[:8]  # elements from until 8 index (executed)"
   ]
  },
  {
   "cell_type": "code",
   "execution_count": 48,
   "id": "6e0bb614-25c6-45ec-9dc6-67a7db35349e",
   "metadata": {},
   "outputs": [
    {
     "data": {
      "text/plain": [
       "'gato'"
      ]
     },
     "execution_count": 48,
     "metadata": {},
     "output_type": "execute_result"
    }
   ],
   "source": [
    "p[-5: -1]"
   ]
  },
  {
   "cell_type": "code",
   "execution_count": 49,
   "id": "976cec03-649a-4929-b166-e46e12364ee1",
   "metadata": {},
   "outputs": [
    {
     "data": {
      "text/plain": [
       "'anaconda navigato'"
      ]
     },
     "execution_count": 49,
     "metadata": {},
     "output_type": "execute_result"
    }
   ],
   "source": [
    "p[: -1]"
   ]
  },
  {
   "cell_type": "code",
   "execution_count": 50,
   "id": "23c0c57a-684c-4c4c-ab8b-029f86365c93",
   "metadata": {},
   "outputs": [
    {
     "data": {
      "text/plain": [
       "'gator'"
      ]
     },
     "execution_count": 50,
     "metadata": {},
     "output_type": "execute_result"
    }
   ],
   "source": [
    "p[-5:]"
   ]
  },
  {
   "cell_type": "code",
   "execution_count": 51,
   "id": "63f97ed4-a572-4ce7-9b4a-f05e047c7aeb",
   "metadata": {},
   "outputs": [
    {
     "data": {
      "text/plain": [
       "'anaconda navigator'"
      ]
     },
     "execution_count": 51,
     "metadata": {},
     "output_type": "execute_result"
    }
   ],
   "source": [
    "p[:4]+p[4:]"
   ]
  },
  {
   "cell_type": "code",
   "execution_count": 52,
   "id": "0b4813cc-8a8a-485b-a49c-644b5f13b67d",
   "metadata": {},
   "outputs": [
    {
     "data": {
      "text/plain": [
       "'navigator'"
      ]
     },
     "execution_count": 52,
     "metadata": {},
     "output_type": "execute_result"
    }
   ],
   "source": [
    "p[9:23]"
   ]
  },
  {
   "cell_type": "code",
   "execution_count": 53,
   "id": "3bed2577-047b-453e-b56c-2e07eaa7c969",
   "metadata": {},
   "outputs": [
    {
     "ename": "TypeError",
     "evalue": "'str' object does not support item assignment",
     "output_type": "error",
     "traceback": [
      "\u001b[1;31m---------------------------------------------------------------------------\u001b[0m",
      "\u001b[1;31mTypeError\u001b[0m                                 Traceback (most recent call last)",
      "Cell \u001b[1;32mIn[53], line 1\u001b[0m\n\u001b[1;32m----> 1\u001b[0m p[\u001b[38;5;241m0\u001b[39m]\u001b[38;5;241m=\u001b[39m\u001b[38;5;124m'\u001b[39m\u001b[38;5;124mb\u001b[39m\u001b[38;5;124m'\u001b[39m\n",
      "\u001b[1;31mTypeError\u001b[0m: 'str' object does not support item assignment"
     ]
    }
   ],
   "source": [
    "p[0]='b' # strindgs are immutable"
   ]
  },
  {
   "cell_type": "code",
   "execution_count": 54,
   "id": "0573af5c-3e0f-4f3e-8478-ba88d0463ac0",
   "metadata": {},
   "outputs": [
    {
     "data": {
      "text/plain": [
       "'my navigator'"
      ]
     },
     "execution_count": 54,
     "metadata": {},
     "output_type": "execute_result"
    }
   ],
   "source": [
    "'my'+p[8:]"
   ]
  },
  {
   "cell_type": "code",
   "execution_count": 55,
   "id": "d74fe104-dd1e-4602-b966-69150c4161a6",
   "metadata": {},
   "outputs": [
    {
     "data": {
      "text/plain": [
       "18"
      ]
     },
     "execution_count": 55,
     "metadata": {},
     "output_type": "execute_result"
    }
   ],
   "source": [
    "len(p) # to check the length of the variable"
   ]
  },
  {
   "cell_type": "markdown",
   "id": "34405dd6-dcad-4dbb-a5b4-7eca9d2c3c94",
   "metadata": {},
   "source": [
    "### List"
   ]
  },
  {
   "cell_type": "code",
   "execution_count": 56,
   "id": "3703451d-73bf-4e02-a4f7-f32b404d77f2",
   "metadata": {},
   "outputs": [
    {
     "data": {
      "text/plain": [
       "[1, 4, 9, 16, 25, 36]"
      ]
     },
     "execution_count": 56,
     "metadata": {},
     "output_type": "execute_result"
    }
   ],
   "source": [
    "squares = [1,4,9,16,25,36]\n",
    "squares"
   ]
  },
  {
   "cell_type": "code",
   "execution_count": 57,
   "id": "1bed1284-66e3-4097-9d48-f8a102e58a36",
   "metadata": {},
   "outputs": [
    {
     "data": {
      "text/plain": [
       "1"
      ]
     },
     "execution_count": 57,
     "metadata": {},
     "output_type": "execute_result"
    }
   ],
   "source": [
    "squares[0]"
   ]
  },
  {
   "cell_type": "code",
   "execution_count": 58,
   "id": "067ca577-48be-4cd9-a945-11ec2c9eccac",
   "metadata": {},
   "outputs": [
    {
     "data": {
      "text/plain": [
       "36"
      ]
     },
     "execution_count": 58,
     "metadata": {},
     "output_type": "execute_result"
    }
   ],
   "source": [
    "squares[-1]"
   ]
  },
  {
   "cell_type": "code",
   "execution_count": 59,
   "id": "5280db2f-f150-486e-8370-dc884b61da6d",
   "metadata": {},
   "outputs": [
    {
     "data": {
      "text/plain": [
       "[25, 36]"
      ]
     },
     "execution_count": 59,
     "metadata": {},
     "output_type": "execute_result"
    }
   ],
   "source": [
    "squares[-2:]"
   ]
  },
  {
   "cell_type": "code",
   "execution_count": 60,
   "id": "bf976cc4-1817-4d3c-9a24-faa88ac34d51",
   "metadata": {},
   "outputs": [
    {
     "data": {
      "text/plain": [
       "[1, 4, 9, 16, 25, 36, 49, 64, 81, 100, 121, 144, 169, 196, 225]"
      ]
     },
     "execution_count": 60,
     "metadata": {},
     "output_type": "execute_result"
    }
   ],
   "source": [
    "squares +[49,64,81,100,121,144,169,196,225]"
   ]
  },
  {
   "cell_type": "code",
   "execution_count": 61,
   "id": "dac39123-1f4c-4259-9759-7e0fced9126d",
   "metadata": {},
   "outputs": [],
   "source": [
    "cubes =[1,8,27,64,124]"
   ]
  },
  {
   "cell_type": "code",
   "execution_count": 62,
   "id": "103d8334-877c-4e39-a5d9-ae58a8d7dbcb",
   "metadata": {},
   "outputs": [
    {
     "data": {
      "text/plain": [
       "[1, 8, 27, 64, 124]"
      ]
     },
     "execution_count": 62,
     "metadata": {},
     "output_type": "execute_result"
    }
   ],
   "source": [
    "cubes"
   ]
  },
  {
   "cell_type": "code",
   "execution_count": 63,
   "id": "0e1df173-2320-47b7-a283-219708233c70",
   "metadata": {},
   "outputs": [
    {
     "data": {
      "text/plain": [
       "125"
      ]
     },
     "execution_count": 63,
     "metadata": {},
     "output_type": "execute_result"
    }
   ],
   "source": [
    "5**3"
   ]
  },
  {
   "cell_type": "code",
   "execution_count": 64,
   "id": "49b5e452-35ab-4097-90be-ae11079a955f",
   "metadata": {},
   "outputs": [],
   "source": [
    "cubes[4]=125"
   ]
  },
  {
   "cell_type": "code",
   "execution_count": 65,
   "id": "0671643e-8119-4362-a903-c40727b295d3",
   "metadata": {},
   "outputs": [
    {
     "data": {
      "text/plain": [
       "[1, 8, 27, 64, 125]"
      ]
     },
     "execution_count": 65,
     "metadata": {},
     "output_type": "execute_result"
    }
   ],
   "source": [
    "cubes"
   ]
  },
  {
   "cell_type": "code",
   "execution_count": 66,
   "id": "b5dd6ce9-6b4a-4330-b772-f67ae2213b1c",
   "metadata": {},
   "outputs": [],
   "source": [
    "cubes.append(216)\n",
    "cubes.append(7**3)"
   ]
  },
  {
   "cell_type": "code",
   "execution_count": 67,
   "id": "45fbea1f-2d28-466f-964b-d5a104cde480",
   "metadata": {},
   "outputs": [
    {
     "data": {
      "text/plain": [
       "[1, 8, 27, 64, 125, 216, 343]"
      ]
     },
     "execution_count": 67,
     "metadata": {},
     "output_type": "execute_result"
    }
   ],
   "source": [
    "cubes"
   ]
  },
  {
   "cell_type": "code",
   "execution_count": 68,
   "id": "9054707e-156a-42ae-8fe8-0df6f7f95c88",
   "metadata": {},
   "outputs": [],
   "source": [
    "rgb =['Red','Green','Blue']"
   ]
  },
  {
   "cell_type": "code",
   "execution_count": 69,
   "id": "4d63724c-ab37-428d-b5e4-ab9fbac24e71",
   "metadata": {},
   "outputs": [],
   "source": [
    "rgba = rgb"
   ]
  },
  {
   "cell_type": "code",
   "execution_count": 70,
   "id": "7993097e-f300-4233-8c0a-7ce3873712af",
   "metadata": {},
   "outputs": [
    {
     "data": {
      "text/plain": [
       "['Red', 'Green', 'Blue']"
      ]
     },
     "execution_count": 70,
     "metadata": {},
     "output_type": "execute_result"
    }
   ],
   "source": [
    "rgba"
   ]
  },
  {
   "cell_type": "code",
   "execution_count": 71,
   "id": "8105df6d-f01e-4190-8b73-b810404ca159",
   "metadata": {},
   "outputs": [],
   "source": [
    "rgba.append('Yellow')"
   ]
  },
  {
   "cell_type": "code",
   "execution_count": 72,
   "id": "dac66c74-f329-4ee8-9999-3a5591a5caad",
   "metadata": {},
   "outputs": [
    {
     "data": {
      "text/plain": [
       "['Red', 'Green', 'Blue', 'Yellow']"
      ]
     },
     "execution_count": 72,
     "metadata": {},
     "output_type": "execute_result"
    }
   ],
   "source": [
    "rgba"
   ]
  },
  {
   "cell_type": "code",
   "execution_count": 73,
   "id": "00d63f0e-3949-42e0-9414-1acb1e47c5b9",
   "metadata": {},
   "outputs": [
    {
     "data": {
      "text/plain": [
       "['Red', 'Green', 'Blue', 'Yellow']"
      ]
     },
     "execution_count": 73,
     "metadata": {},
     "output_type": "execute_result"
    }
   ],
   "source": [
    "rgb"
   ]
  },
  {
   "cell_type": "code",
   "execution_count": 75,
   "id": "d20a1c27-7212-49e2-a17b-885ef2219234",
   "metadata": {},
   "outputs": [
    {
     "data": {
      "text/plain": [
       "True"
      ]
     },
     "execution_count": 75,
     "metadata": {},
     "output_type": "execute_result"
    }
   ],
   "source": [
    "id(rgb)==id(rgba)"
   ]
  },
  {
   "cell_type": "code",
   "execution_count": 76,
   "id": "f0d58730-1683-4d30-9bbb-7e04a11d82a8",
   "metadata": {},
   "outputs": [],
   "source": [
    "cort_rgba=rgba[:]"
   ]
  },
  {
   "cell_type": "code",
   "execution_count": 77,
   "id": "4b62550e-ef09-434a-a3bb-12a67f448df8",
   "metadata": {},
   "outputs": [
    {
     "data": {
      "text/plain": [
       "['Red', 'Green', 'Blue', 'Yellow']"
      ]
     },
     "execution_count": 77,
     "metadata": {},
     "output_type": "execute_result"
    }
   ],
   "source": [
    "cort_rgba"
   ]
  },
  {
   "cell_type": "code",
   "execution_count": 78,
   "id": "d1004405-ed43-4333-a69a-1eeebbcd1020",
   "metadata": {},
   "outputs": [
    {
     "data": {
      "text/plain": [
       "False"
      ]
     },
     "execution_count": 78,
     "metadata": {},
     "output_type": "execute_result"
    }
   ],
   "source": [
    "id(cort_rgba)== id(rgba)"
   ]
  },
  {
   "cell_type": "code",
   "execution_count": 79,
   "id": "f146cb2d-0246-4345-9dae-085d609917d2",
   "metadata": {},
   "outputs": [
    {
     "data": {
      "text/plain": [
       "'Yellow'"
      ]
     },
     "execution_count": 79,
     "metadata": {},
     "output_type": "execute_result"
    }
   ],
   "source": [
    "cort_rgba.pop()"
   ]
  },
  {
   "cell_type": "code",
   "execution_count": 80,
   "id": "ade83c2a-42a0-427c-a3b2-0c98c6642cef",
   "metadata": {},
   "outputs": [
    {
     "data": {
      "text/plain": [
       "['Red', 'Green', 'Blue']"
      ]
     },
     "execution_count": 80,
     "metadata": {},
     "output_type": "execute_result"
    }
   ],
   "source": [
    "cort_rgba"
   ]
  },
  {
   "cell_type": "code",
   "execution_count": 81,
   "id": "7751f3d7-fa79-491c-8a72-440e2dcb9aa6",
   "metadata": {},
   "outputs": [
    {
     "data": {
      "text/plain": [
       "['Red', 'Green', 'Blue', 'Yellow']"
      ]
     },
     "execution_count": 81,
     "metadata": {},
     "output_type": "execute_result"
    }
   ],
   "source": [
    "rgba"
   ]
  },
  {
   "cell_type": "code",
   "execution_count": 82,
   "id": "df3febe2-3700-413a-ba5d-a01bcf4155e8",
   "metadata": {},
   "outputs": [
    {
     "data": {
      "text/plain": [
       "['Green', 'Blue']"
      ]
     },
     "execution_count": 82,
     "metadata": {},
     "output_type": "execute_result"
    }
   ],
   "source": [
    "rgba[1:3]"
   ]
  },
  {
   "cell_type": "code",
   "execution_count": 83,
   "id": "2d7eb161-0912-42e6-bc1b-a3936a5e34ff",
   "metadata": {},
   "outputs": [],
   "source": [
    "rgb[:]=[]"
   ]
  },
  {
   "cell_type": "code",
   "execution_count": 84,
   "id": "50aa2cd5-bcde-4973-9e28-dde3d358accd",
   "metadata": {},
   "outputs": [
    {
     "data": {
      "text/plain": [
       "[]"
      ]
     },
     "execution_count": 84,
     "metadata": {},
     "output_type": "execute_result"
    }
   ],
   "source": [
    "rgba"
   ]
  },
  {
   "cell_type": "code",
   "execution_count": 85,
   "id": "da2eeacb-1e21-4471-8fe6-46c14e1bee80",
   "metadata": {},
   "outputs": [],
   "source": [
    "# nested list\n",
    "\n",
    "a=['k','l','m']"
   ]
  },
  {
   "cell_type": "code",
   "execution_count": 87,
   "id": "766e57ba-a38f-48fc-8ccd-96c87560caff",
   "metadata": {},
   "outputs": [],
   "source": [
    "n=[1,2,3]"
   ]
  },
  {
   "cell_type": "code",
   "execution_count": 88,
   "id": "90145ef7-4b73-4507-b31b-e5aeb1ccca9a",
   "metadata": {},
   "outputs": [],
   "source": [
    "x=[a,n]"
   ]
  },
  {
   "cell_type": "code",
   "execution_count": 89,
   "id": "99a4d911-4ae1-4725-91cd-7080e6bdd741",
   "metadata": {},
   "outputs": [
    {
     "data": {
      "text/plain": [
       "[['k', 'l', 'm'], [1, 2, 3]]"
      ]
     },
     "execution_count": 89,
     "metadata": {},
     "output_type": "execute_result"
    }
   ],
   "source": [
    "x"
   ]
  },
  {
   "cell_type": "code",
   "execution_count": 91,
   "id": "3741d52b-0a51-4d57-a080-3cb7b6947383",
   "metadata": {},
   "outputs": [
    {
     "data": {
      "text/plain": [
       "['k', 'l', 'm']"
      ]
     },
     "execution_count": 91,
     "metadata": {},
     "output_type": "execute_result"
    }
   ],
   "source": [
    "x[0]"
   ]
  },
  {
   "cell_type": "code",
   "execution_count": 92,
   "id": "5f714dea-3f97-4e49-8cde-786e9532e521",
   "metadata": {},
   "outputs": [
    {
     "data": {
      "text/plain": [
       "'k'"
      ]
     },
     "execution_count": 92,
     "metadata": {},
     "output_type": "execute_result"
    }
   ],
   "source": [
    "x[0][0]"
   ]
  },
  {
   "cell_type": "code",
   "execution_count": 93,
   "id": "6b251163-a02f-4674-a12a-e15a6b725135",
   "metadata": {},
   "outputs": [
    {
     "data": {
      "text/plain": [
       "'m'"
      ]
     },
     "execution_count": 93,
     "metadata": {},
     "output_type": "execute_result"
    }
   ],
   "source": [
    "x[0][2]"
   ]
  },
  {
   "cell_type": "code",
   "execution_count": 94,
   "id": "4f5da710-7b12-4642-935d-f7a563341eb2",
   "metadata": {},
   "outputs": [
    {
     "data": {
      "text/plain": [
       "1"
      ]
     },
     "execution_count": 94,
     "metadata": {},
     "output_type": "execute_result"
    }
   ],
   "source": [
    "x[1][0]"
   ]
  },
  {
   "cell_type": "markdown",
   "id": "7eda9c67-b6ba-4a01-9d46-22ae7da5435d",
   "metadata": {},
   "source": [
    "### Fibonacci series"
   ]
  },
  {
   "cell_type": "code",
   "execution_count": 101,
   "id": "a421fce7-e4be-49d4-bcc9-9c604a63b234",
   "metadata": {},
   "outputs": [],
   "source": [
    "a,b = 0,1 "
   ]
  },
  {
   "cell_type": "code",
   "execution_count": 96,
   "id": "c08d513d-deb2-439a-b09d-347d6b662e88",
   "metadata": {},
   "outputs": [
    {
     "name": "stdout",
     "output_type": "stream",
     "text": [
      "0\n",
      "1\n",
      "1\n",
      "2\n",
      "3\n",
      "5\n",
      "8\n"
     ]
    }
   ],
   "source": [
    "while a < 10:\n",
    "    print(a)\n",
    "    a,b= b,a+b\n"
   ]
  },
  {
   "cell_type": "code",
   "execution_count": 102,
   "id": "30bc5d59-76e7-4473-b3b8-802a3bf950ed",
   "metadata": {},
   "outputs": [
    {
     "name": "stdout",
     "output_type": "stream",
     "text": [
      "0,1,1,2,3,5,8,13,21,34,"
     ]
    }
   ],
   "source": [
    "while a < 35:\n",
    "    print(a,end= ',')\n",
    "    a,b= b,a+b"
   ]
  },
  {
   "cell_type": "code",
   "execution_count": null,
   "id": "927fdf9d-5c2c-4bce-8457-7d6f41a845fc",
   "metadata": {},
   "outputs": [],
   "source": []
  },
  {
   "cell_type": "code",
   "execution_count": null,
   "id": "a9171279-c0a7-4b1e-a183-263271a45ccd",
   "metadata": {},
   "outputs": [],
   "source": []
  }
 ],
 "metadata": {
  "kernelspec": {
   "display_name": "Python 3 (ipykernel)",
   "language": "python",
   "name": "python3"
  },
  "language_info": {
   "codemirror_mode": {
    "name": "ipython",
    "version": 3
   },
   "file_extension": ".py",
   "mimetype": "text/x-python",
   "name": "python",
   "nbconvert_exporter": "python",
   "pygments_lexer": "ipython3",
   "version": "3.10.9"
  }
 },
 "nbformat": 4,
 "nbformat_minor": 5
}
