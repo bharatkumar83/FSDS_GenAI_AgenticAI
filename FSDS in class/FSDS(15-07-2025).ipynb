{
 "cells": [
  {
   "cell_type": "markdown",
   "id": "b0259943-1a34-4b86-800b-26e5253615fc",
   "metadata": {},
   "source": [
    "## Conditional Statements"
   ]
  },
  {
   "cell_type": "code",
   "execution_count": 1,
   "id": "d21e7bd6-efe4-4cf9-a0e7-a4252f2170dc",
   "metadata": {},
   "outputs": [
    {
     "name": "stdout",
     "output_type": "stream",
     "text": [
      "hello\n"
     ]
    }
   ],
   "source": [
    "if True: #prints the statements  if the condition is true\n",
    "    print('hello')"
   ]
  },
  {
   "cell_type": "code",
   "execution_count": 2,
   "id": "8fdf3ba7-a67e-4c1b-a6ec-dc27bccbee05",
   "metadata": {},
   "outputs": [
    {
     "ename": "IndentationError",
     "evalue": "expected an indented block after 'if' statement on line 1 (2714587685.py, line 2)",
     "output_type": "error",
     "traceback": [
      "\u001b[1;36m  Cell \u001b[1;32mIn[2], line 2\u001b[1;36m\u001b[0m\n\u001b[1;33m    print('Hello')\u001b[0m\n\u001b[1;37m    ^\u001b[0m\n\u001b[1;31mIndentationError\u001b[0m\u001b[1;31m:\u001b[0m expected an indented block after 'if' statement on line 1\n"
     ]
    }
   ],
   "source": [
    "if True: # displays error because before print statement there should be space\n",
    "print('Hello')"
   ]
  },
  {
   "cell_type": "code",
   "execution_count": 3,
   "id": "0f4164b2-097d-47ee-b49e-1e5984a21e9f",
   "metadata": {},
   "outputs": [],
   "source": [
    "if False: \n",
    "    print('Bye')"
   ]
  },
  {
   "cell_type": "code",
   "execution_count": 4,
   "id": "db87ef24-e124-4e54-aa37-aae82deebbfe",
   "metadata": {},
   "outputs": [
    {
     "name": "stdout",
     "output_type": "stream",
     "text": [
      "Hello\n",
      "Data Science Students\n"
     ]
    }
   ],
   "source": [
    "if True:\n",
    "    print('Hello')\n",
    "\n",
    "print('Data Science Students') "
   ]
  },
  {
   "cell_type": "code",
   "execution_count": 5,
   "id": "ded84e52-019d-42bc-99c8-c6557ab3f45c",
   "metadata": {},
   "outputs": [
    {
     "name": "stdout",
     "output_type": "stream",
     "text": [
      "Data Science Students\n"
     ]
    }
   ],
   "source": [
    "if False:\n",
    "    print('Bye')\n",
    "\n",
    "print('Data Science Students')"
   ]
  },
  {
   "cell_type": "code",
   "execution_count": 6,
   "id": "20a899aa-6cdd-4be1-acb3-cdd97ee3a5fd",
   "metadata": {},
   "outputs": [
    {
     "name": "stdout",
     "output_type": "stream",
     "text": [
      "Hello \n"
     ]
    }
   ],
   "source": [
    "if True: \n",
    "    print('Hello ')\n",
    "if False:\n",
    "    print('Bye')"
   ]
  },
  {
   "cell_type": "code",
   "execution_count": 7,
   "id": "460d7727-32b1-41f4-a7bc-f39078095d4b",
   "metadata": {},
   "outputs": [
    {
     "name": "stdout",
     "output_type": "stream",
     "text": [
      "Hello \n"
     ]
    }
   ],
   "source": [
    "if True:\n",
    "    print('Hello ')  # prints true statement if the condition is true otherwise it prints else statement\n",
    "else:\n",
    "    print('Bye')"
   ]
  },
  {
   "cell_type": "code",
   "execution_count": 8,
   "id": "3419221e-4ce8-414d-8559-18b3c07e9fc8",
   "metadata": {},
   "outputs": [
    {
     "name": "stdout",
     "output_type": "stream",
     "text": [
      "Bye\n"
     ]
    }
   ],
   "source": [
    "if False:\n",
    "    print('Hello ')\n",
    "else:\n",
    "    print('Bye')"
   ]
  },
  {
   "cell_type": "markdown",
   "id": "ee4221c7-471e-467b-9576-5d28284c3ab5",
   "metadata": {},
   "source": [
    "### To check weather number is even or odd"
   ]
  },
  {
   "cell_type": "code",
   "execution_count": 9,
   "id": "25e1791a-91b5-4139-990d-38463148c565",
   "metadata": {},
   "outputs": [
    {
     "name": "stdout",
     "output_type": "stream",
     "text": [
      "Even Number\n"
     ]
    }
   ],
   "source": [
    "x = 4  \n",
    "r =x% 2\n",
    "\n",
    "if r==0:\n",
    "    print('Even Number') # using conditional statements to check the number is even or odd"
   ]
  },
  {
   "cell_type": "code",
   "execution_count": 10,
   "id": "b265a13b-ec7e-410a-82e8-77478f3d5252",
   "metadata": {},
   "outputs": [],
   "source": [
    "x = 5 \n",
    "r =x% 2\n",
    "\n",
    "if r==0:\n",
    "    print('Even Number') #only prints if the number is even "
   ]
  },
  {
   "cell_type": "code",
   "execution_count": 11,
   "id": "1f9a6cdc-4d38-4251-b5a6-54a5560377dc",
   "metadata": {},
   "outputs": [
    {
     "name": "stdout",
     "output_type": "stream",
     "text": [
      "Even Number\n"
     ]
    }
   ],
   "source": [
    "x = 6\n",
    "r =x% 2\n",
    "\n",
    "if r==0:\n",
    "    print('Even Number') \n",
    "if r==1:\n",
    "    print('Odd Number') #prints the number is odd or even"
   ]
  },
  {
   "cell_type": "code",
   "execution_count": 12,
   "id": "442cdb91-676f-4829-a1ad-5cc6aa0a7bd9",
   "metadata": {},
   "outputs": [
    {
     "name": "stdout",
     "output_type": "stream",
     "text": [
      "Odd Number\n"
     ]
    }
   ],
   "source": [
    "x = 9\n",
    "r =x% 2\n",
    "\n",
    "if r==0:\n",
    "    print('Even Number')\n",
    "if r==1:\n",
    "    print('Odd Number')"
   ]
  },
  {
   "cell_type": "code",
   "execution_count": 13,
   "id": "11663ed5-ac7e-44ac-a107-7c93471ca7f6",
   "metadata": {},
   "outputs": [
    {
     "name": "stdout",
     "output_type": "stream",
     "text": [
      "Even Number\n",
      "odd number\n"
     ]
    }
   ],
   "source": [
    "x = 6\n",
    "r =x% 2\n",
    "\n",
    "if r==0:\n",
    "    print('Even Number')\n",
    "print('odd number')"
   ]
  },
  {
   "cell_type": "code",
   "execution_count": 14,
   "id": "cd1321e3-07bc-4bc0-b811-0a7064ab7b40",
   "metadata": {},
   "outputs": [
    {
     "name": "stdout",
     "output_type": "stream",
     "text": [
      "Odd Number\n"
     ]
    }
   ],
   "source": [
    "x = 9\n",
    "r =x% 2\n",
    "\n",
    "if r==0:\n",
    "    print('Even Number')\n",
    "else:\n",
    "    print('Odd Number') #we use if else instead of multiple if stmts because it executes fast."
   ]
  },
  {
   "cell_type": "code",
   "execution_count": 15,
   "id": "036b9632-4316-4460-8dea-8fdc273f060a",
   "metadata": {},
   "outputs": [
    {
     "name": "stdout",
     "output_type": "stream",
     "text": [
      "Odd Number\n"
     ]
    }
   ],
   "source": [
    "x = 9\n",
    "r =x% 2\n",
    "\n",
    "if r==0: print('Even Number')\n",
    "else: print('Odd Number')"
   ]
  },
  {
   "cell_type": "code",
   "execution_count": 16,
   "id": "72c60b63-be37-4cab-9f87-8b81780e87ca",
   "metadata": {},
   "outputs": [
    {
     "name": "stdout",
     "output_type": "stream",
     "text": [
      "Odd Number\n"
     ]
    }
   ],
   "source": [
    "x= 9\n",
    "\n",
    "r = x%2\n",
    "\n",
    "if r==0:\n",
    "    print('Even Number')\n",
    "if r!=0:\n",
    "    print('Odd Number')"
   ]
  },
  {
   "cell_type": "markdown",
   "id": "e9839578-22e6-43d7-9b37-6a7c7b020e7c",
   "metadata": {},
   "source": [
    "### Nested if"
   ]
  },
  {
   "cell_type": "code",
   "execution_count": 17,
   "id": "f79bb6f7-27a6-490c-9215-b1d7baeb8ca8",
   "metadata": {},
   "outputs": [
    {
     "name": "stdout",
     "output_type": "stream",
     "text": [
      "odd Number\n"
     ]
    }
   ],
   "source": [
    "x= 7 # nested if means if else statement inside a if else statement\n",
    "\n",
    "r=x%2\n",
    "\n",
    "if r==0:\n",
    "    print('Even Number')\n",
    "    if x>5:\n",
    "        print('Greater Number')\n",
    "\n",
    "else:\n",
    "    print('odd Number')"
   ]
  },
  {
   "cell_type": "code",
   "execution_count": 18,
   "id": "47824961-0bb5-42e4-bb38-648de21fa352",
   "metadata": {},
   "outputs": [
    {
     "name": "stdout",
     "output_type": "stream",
     "text": [
      "Even Number\n",
      "Greater Number\n"
     ]
    }
   ],
   "source": [
    "x= 6\n",
    "\n",
    "r=x%2\n",
    "\n",
    "if r==0:\n",
    "    print('Even Number')\n",
    "    if x>5:\n",
    "        print('Greater Number')\n",
    "    else:\n",
    "        print('Smaller Number')\n",
    "\n",
    "else:\n",
    "    print('odd Number')"
   ]
  },
  {
   "cell_type": "markdown",
   "id": "f346e6a9-8e13-41a0-928c-c05ac1cc730d",
   "metadata": {},
   "source": [
    "#### elif"
   ]
  },
  {
   "cell_type": "code",
   "execution_count": 19,
   "id": "1f860161-4b15-45c3-886c-ecaf228fadba",
   "metadata": {},
   "outputs": [
    {
     "name": "stdout",
     "output_type": "stream",
     "text": [
      "Three\n"
     ]
    }
   ],
   "source": [
    "x=3\n",
    "\n",
    "if x==1:\n",
    "    print('One')\n",
    "if x==2:\n",
    "    print('Two')\n",
    "if x==3:\n",
    "    print('Three')\n",
    "if x==4:\n",
    "    print('Four')"
   ]
  },
  {
   "cell_type": "code",
   "execution_count": 20,
   "id": "e27f1e5e-a04f-42d1-a8f2-5506b634c471",
   "metadata": {},
   "outputs": [
    {
     "name": "stdout",
     "output_type": "stream",
     "text": [
      "Two\n"
     ]
    }
   ],
   "source": [
    "x=2  # use elif statement for multiple conditions instead of multiole if statements\n",
    "\n",
    "if x==1:\n",
    "    print('One')\n",
    "elif x==2:\n",
    "    print('Two')\n",
    "elif x==3:\n",
    "    print('Three')\n",
    "elif x==4:\n",
    "    print('Four')"
   ]
  },
  {
   "cell_type": "code",
   "execution_count": 21,
   "id": "ae2801ac-dd9c-4542-84fb-62377e28ab3f",
   "metadata": {},
   "outputs": [],
   "source": [
    "x=10\n",
    "\n",
    "if x==1:\n",
    "    print('One')\n",
    "elif x==2:\n",
    "    print('Two')\n",
    "elif x==3:\n",
    "    print('Three')\n",
    "elif x==4:\n",
    "    print('Four')"
   ]
  },
  {
   "cell_type": "code",
   "execution_count": 22,
   "id": "0da0a19b-f795-4b6d-ab89-51c40c841d5b",
   "metadata": {},
   "outputs": [
    {
     "name": "stdout",
     "output_type": "stream",
     "text": [
      "Number not Found\n"
     ]
    }
   ],
   "source": [
    "x=10 \n",
    "\n",
    "if x==1:\n",
    "    print('One')\n",
    "elif x==2:\n",
    "    print('Two')\n",
    "elif x==3:\n",
    "    print('Three')\n",
    "elif x==4:\n",
    "    print('Four')\n",
    "    \n",
    "else:\n",
    "    print('Number not Found')"
   ]
  },
  {
   "cell_type": "code",
   "execution_count": 23,
   "id": "f08e0a9e-4ece-4685-9abc-dd10736d13fd",
   "metadata": {},
   "outputs": [
    {
     "name": "stdin",
     "output_type": "stream",
     "text": [
      "Enter a number : 5\n"
     ]
    },
    {
     "name": "stdout",
     "output_type": "stream",
     "text": [
      "Entered number is positive\n"
     ]
    }
   ],
   "source": [
    "# check wheather a number is positive or negative from a user\n",
    "\n",
    "num= int(input('Enter a number :'))\n",
    "\n",
    "if num>0:\n",
    "    print('Entered number is positive')\n",
    "elif num<0:\n",
    "    print('Entered number is negative')\n",
    "\n",
    "else:\n",
    "    print('Entered number is zero')"
   ]
  },
  {
   "cell_type": "code",
   "execution_count": null,
   "id": "3a04b954-0414-4a48-ba89-757b642408d7",
   "metadata": {},
   "outputs": [],
   "source": []
  },
  {
   "cell_type": "code",
   "execution_count": null,
   "id": "45cd657e-1704-456a-80f0-ba8cb34354e2",
   "metadata": {},
   "outputs": [],
   "source": []
  }
 ],
 "metadata": {
  "kernelspec": {
   "display_name": "Python 3 (ipykernel)",
   "language": "python",
   "name": "python3"
  },
  "language_info": {
   "codemirror_mode": {
    "name": "ipython",
    "version": 3
   },
   "file_extension": ".py",
   "mimetype": "text/x-python",
   "name": "python",
   "nbconvert_exporter": "python",
   "pygments_lexer": "ipython3",
   "version": "3.10.9"
  }
 },
 "nbformat": 4,
 "nbformat_minor": 5
}
