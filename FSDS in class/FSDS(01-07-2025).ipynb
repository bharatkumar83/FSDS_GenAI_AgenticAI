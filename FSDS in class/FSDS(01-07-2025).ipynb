{
 "cells": [
  {
   "cell_type": "markdown",
   "id": "caee9383-d41d-4b90-ae52-8341ee301309",
   "metadata": {},
   "source": [
    "### Number system"
   ]
  },
  {
   "cell_type": "code",
   "execution_count": 1,
   "id": "1d4baee2-fbb7-4293-a731-ae31257879e4",
   "metadata": {},
   "outputs": [
    {
     "data": {
      "text/plain": [
       "25"
      ]
     },
     "execution_count": 1,
     "metadata": {},
     "output_type": "execute_result"
    }
   ],
   "source": [
    "25"
   ]
  },
  {
   "cell_type": "code",
   "execution_count": 2,
   "id": "88f0e78a-0dc7-4bc7-90ea-e882581493f7",
   "metadata": {},
   "outputs": [
    {
     "data": {
      "text/plain": [
       "'0b11001'"
      ]
     },
     "execution_count": 2,
     "metadata": {},
     "output_type": "execute_result"
    }
   ],
   "source": [
    "bin(25)"
   ]
  },
  {
   "cell_type": "code",
   "execution_count": 3,
   "id": "7e87cc76-b903-4798-83a5-efbae9f25f0b",
   "metadata": {},
   "outputs": [
    {
     "data": {
      "text/plain": [
       "'0b11110'"
      ]
     },
     "execution_count": 3,
     "metadata": {},
     "output_type": "execute_result"
    }
   ],
   "source": [
    "bin(30)"
   ]
  },
  {
   "cell_type": "code",
   "execution_count": 4,
   "id": "738e2142-becc-432d-b9d9-82b16cd59f90",
   "metadata": {},
   "outputs": [
    {
     "data": {
      "text/plain": [
       "'0o31'"
      ]
     },
     "execution_count": 4,
     "metadata": {},
     "output_type": "execute_result"
    }
   ],
   "source": [
    "oct(25)"
   ]
  },
  {
   "cell_type": "code",
   "execution_count": 5,
   "id": "b2819864-2690-4324-97b6-933261272aba",
   "metadata": {},
   "outputs": [
    {
     "data": {
      "text/plain": [
       "'0xc4'"
      ]
     },
     "execution_count": 5,
     "metadata": {},
     "output_type": "execute_result"
    }
   ],
   "source": [
    "hex(196)"
   ]
  },
  {
   "cell_type": "code",
   "execution_count": 6,
   "id": "a871fe4e-a2bf-464b-9b2f-95aecfdf8bda",
   "metadata": {},
   "outputs": [
    {
     "data": {
      "text/plain": [
       "'0xc4'"
      ]
     },
     "execution_count": 6,
     "metadata": {},
     "output_type": "execute_result"
    }
   ],
   "source": [
    "hex(196)"
   ]
  },
  {
   "cell_type": "code",
   "execution_count": 9,
   "id": "8c4b6891-3386-4dd4-84b3-eefb468d413d",
   "metadata": {},
   "outputs": [
    {
     "data": {
      "text/plain": [
       "1"
      ]
     },
     "execution_count": 9,
     "metadata": {},
     "output_type": "execute_result"
    }
   ],
   "source": [
    "0x1"
   ]
  },
  {
   "cell_type": "code",
   "execution_count": 8,
   "id": "d09b065a-39e6-4cd9-9179-150e0f7c56ff",
   "metadata": {},
   "outputs": [
    {
     "data": {
      "text/plain": [
       "25"
      ]
     },
     "execution_count": 8,
     "metadata": {},
     "output_type": "execute_result"
    }
   ],
   "source": [
    "0x19"
   ]
  },
  {
   "cell_type": "code",
   "execution_count": 10,
   "id": "63d4cb3d-9467-4c7e-b142-83725f2fcf80",
   "metadata": {},
   "outputs": [],
   "source": [
    "a = 2\n",
    "b= 4"
   ]
  },
  {
   "cell_type": "code",
   "execution_count": 11,
   "id": "ee93d0b5-c5e0-4d64-b211-5037fc16135a",
   "metadata": {},
   "outputs": [
    {
     "name": "stdout",
     "output_type": "stream",
     "text": [
      "2\n",
      "4\n"
     ]
    }
   ],
   "source": [
    "print(a)\n",
    "print(b)"
   ]
  },
  {
   "cell_type": "code",
   "execution_count": 13,
   "id": "fa17718d-23b2-4203-8f3c-f2968db79a73",
   "metadata": {},
   "outputs": [],
   "source": [
    "temp =a\n",
    "a= b\n",
    "b= temp"
   ]
  },
  {
   "cell_type": "code",
   "execution_count": 14,
   "id": "d8d527c2-936a-4b55-8439-533c2d3df994",
   "metadata": {},
   "outputs": [
    {
     "data": {
      "text/plain": [
       "4"
      ]
     },
     "execution_count": 14,
     "metadata": {},
     "output_type": "execute_result"
    }
   ],
   "source": [
    "a"
   ]
  },
  {
   "cell_type": "code",
   "execution_count": 15,
   "id": "1eedf439-311a-468e-8bda-da9fa6ab0e63",
   "metadata": {},
   "outputs": [
    {
     "data": {
      "text/plain": [
       "2"
      ]
     },
     "execution_count": 15,
     "metadata": {},
     "output_type": "execute_result"
    }
   ],
   "source": [
    "b"
   ]
  },
  {
   "cell_type": "code",
   "execution_count": 16,
   "id": "b1667c6b-a7ee-4130-a368-8cfeb5c06c11",
   "metadata": {},
   "outputs": [
    {
     "data": {
      "text/plain": [
       "2"
      ]
     },
     "execution_count": 16,
     "metadata": {},
     "output_type": "execute_result"
    }
   ],
   "source": [
    "10>> 2"
   ]
  },
  {
   "cell_type": "code",
   "execution_count": 18,
   "id": "a46fadb2-ecdd-4beb-84c6-21c33f73f0f4",
   "metadata": {},
   "outputs": [
    {
     "data": {
      "text/plain": [
       "5"
      ]
     },
     "execution_count": 18,
     "metadata": {},
     "output_type": "execute_result"
    }
   ],
   "source": [
    "40>>3"
   ]
  },
  {
   "cell_type": "code",
   "execution_count": null,
   "id": "c27e0893-d2b7-46fa-ab6b-c189fb6f170c",
   "metadata": {},
   "outputs": [],
   "source": []
  }
 ],
 "metadata": {
  "kernelspec": {
   "display_name": "Python 3 (ipykernel)",
   "language": "python",
   "name": "python3"
  },
  "language_info": {
   "codemirror_mode": {
    "name": "ipython",
    "version": 3
   },
   "file_extension": ".py",
   "mimetype": "text/x-python",
   "name": "python",
   "nbconvert_exporter": "python",
   "pygments_lexer": "ipython3",
   "version": "3.10.9"
  }
 },
 "nbformat": 4,
 "nbformat_minor": 5
}
