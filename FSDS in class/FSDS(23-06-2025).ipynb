{
 "cells": [
  {
   "cell_type": "code",
   "execution_count": 1,
   "id": "52a5d02a-171a-404f-a2d6-c6216fa784c6",
   "metadata": {},
   "outputs": [],
   "source": [
    "l=[]"
   ]
  },
  {
   "cell_type": "code",
   "execution_count": 2,
   "id": "3898fe87-e766-4fc6-9d5c-efafd45a06cc",
   "metadata": {},
   "outputs": [
    {
     "data": {
      "text/plain": [
       "[]"
      ]
     },
     "execution_count": 2,
     "metadata": {},
     "output_type": "execute_result"
    }
   ],
   "source": [
    "l"
   ]
  },
  {
   "cell_type": "code",
   "execution_count": 3,
   "id": "b86f41aa-56a6-4125-9e0b-1eb59a7f0ca3",
   "metadata": {},
   "outputs": [
    {
     "data": {
      "text/plain": [
       "list"
      ]
     },
     "execution_count": 3,
     "metadata": {},
     "output_type": "execute_result"
    }
   ],
   "source": [
    "type(l)"
   ]
  },
  {
   "cell_type": "code",
   "execution_count": 4,
   "id": "bb07335d-98b3-42f5-923a-8dffb44c3345",
   "metadata": {},
   "outputs": [
    {
     "name": "stdout",
     "output_type": "stream",
     "text": [
      "<class 'list'>\n"
     ]
    }
   ],
   "source": [
    "print(type(l))"
   ]
  },
  {
   "cell_type": "code",
   "execution_count": 5,
   "id": "a774be3c-0e99-4629-a830-582f35d2b26e",
   "metadata": {},
   "outputs": [
    {
     "data": {
      "text/plain": [
       "0"
      ]
     },
     "execution_count": 5,
     "metadata": {},
     "output_type": "execute_result"
    }
   ],
   "source": [
    "len(l)"
   ]
  },
  {
   "cell_type": "code",
   "execution_count": 6,
   "id": "d2da9c80-f9cb-4482-accd-a6e548abc1f1",
   "metadata": {},
   "outputs": [
    {
     "data": {
      "text/plain": [
       "[21]"
      ]
     },
     "execution_count": 6,
     "metadata": {},
     "output_type": "execute_result"
    }
   ],
   "source": [
    "l.append(21)\n",
    "l"
   ]
  },
  {
   "cell_type": "code",
   "execution_count": 7,
   "id": "4f564dca-7815-4c02-a9c2-d1241b3f2c98",
   "metadata": {},
   "outputs": [],
   "source": [
    "l.append(22)\n",
    "l.append(32)\n",
    "l.append(23)"
   ]
  },
  {
   "cell_type": "code",
   "execution_count": 8,
   "id": "8dc9874c-9919-43d6-aaaf-db562c18aaa3",
   "metadata": {},
   "outputs": [
    {
     "data": {
      "text/plain": [
       "[21, 22, 32, 23]"
      ]
     },
     "execution_count": 8,
     "metadata": {},
     "output_type": "execute_result"
    }
   ],
   "source": [
    "l"
   ]
  },
  {
   "cell_type": "code",
   "execution_count": 9,
   "id": "76cf42b9-6738-4ed5-88c8-38d7d7900720",
   "metadata": {},
   "outputs": [
    {
     "data": {
      "text/plain": [
       "4"
      ]
     },
     "execution_count": 9,
     "metadata": {},
     "output_type": "execute_result"
    }
   ],
   "source": [
    "len(l)"
   ]
  },
  {
   "cell_type": "code",
   "execution_count": 10,
   "id": "1dc20cf5-4b6e-4c6e-a602-23431bf86f54",
   "metadata": {},
   "outputs": [
    {
     "ename": "TypeError",
     "evalue": "list.append() takes exactly one argument (2 given)",
     "output_type": "error",
     "traceback": [
      "\u001b[1;31m---------------------------------------------------------------------------\u001b[0m",
      "\u001b[1;31mTypeError\u001b[0m                                 Traceback (most recent call last)",
      "Cell \u001b[1;32mIn[10], line 1\u001b[0m\n\u001b[1;32m----> 1\u001b[0m \u001b[43ml\u001b[49m\u001b[38;5;241;43m.\u001b[39;49m\u001b[43mappend\u001b[49m\u001b[43m(\u001b[49m\u001b[38;5;241;43m13\u001b[39;49m\u001b[43m,\u001b[49m\u001b[38;5;241;43m43\u001b[39;49m\u001b[43m)\u001b[49m\n",
      "\u001b[1;31mTypeError\u001b[0m: list.append() takes exactly one argument (2 given)"
     ]
    }
   ],
   "source": [
    "l.append(13,43)"
   ]
  },
  {
   "cell_type": "code",
   "execution_count": null,
   "id": "f1039b80-d729-4dd4-9874-bf5cc0f1b2d1",
   "metadata": {},
   "outputs": [],
   "source": [
    "l[0]"
   ]
  },
  {
   "cell_type": "code",
   "execution_count": null,
   "id": "4074ce87-416a-43b8-bae2-9e1cf09dffae",
   "metadata": {},
   "outputs": [],
   "source": [
    "l[-1]"
   ]
  },
  {
   "cell_type": "code",
   "execution_count": null,
   "id": "f6010425-2e34-4fdf-a2b3-8ad04534c8c5",
   "metadata": {},
   "outputs": [],
   "source": [
    "l[-2]=24"
   ]
  },
  {
   "cell_type": "code",
   "execution_count": null,
   "id": "c490e47c-110e-4825-8f1c-f203b56db4cf",
   "metadata": {},
   "outputs": [],
   "source": [
    "l"
   ]
  },
  {
   "cell_type": "code",
   "execution_count": 33,
   "id": "6acc669c-b7a1-48ef-a46e-64019af00209",
   "metadata": {},
   "outputs": [],
   "source": [
    "l1=l.copy()"
   ]
  },
  {
   "cell_type": "code",
   "execution_count": null,
   "id": "8bef81f3-a48c-40e7-9979-eff95c560cab",
   "metadata": {},
   "outputs": [],
   "source": [
    "l1"
   ]
  },
  {
   "cell_type": "code",
   "execution_count": null,
   "id": "edb3feb2-41d9-45df-9a45-324133a6a108",
   "metadata": {},
   "outputs": [],
   "source": [
    "l==l1"
   ]
  },
  {
   "cell_type": "code",
   "execution_count": null,
   "id": "0b582aab-8bcf-43f6-ad01-700a019d9186",
   "metadata": {},
   "outputs": [],
   "source": [
    "id(l)==id(l1)"
   ]
  },
  {
   "cell_type": "code",
   "execution_count": null,
   "id": "34d76fc4-2956-4a4e-b8fb-30e99f7018a7",
   "metadata": {},
   "outputs": [],
   "source": [
    "id(l)!=id(l1)"
   ]
  },
  {
   "cell_type": "code",
   "execution_count": null,
   "id": "d0b7a671-ca8d-4001-b376-bcf65ae92ed2",
   "metadata": {},
   "outputs": [],
   "source": [
    "l1.count(24)"
   ]
  },
  {
   "cell_type": "code",
   "execution_count": null,
   "id": "fd4651a3-fa1c-4138-9c2b-78a0d497ea77",
   "metadata": {},
   "outputs": [],
   "source": [
    "len(l1)"
   ]
  },
  {
   "cell_type": "code",
   "execution_count": null,
   "id": "36952044-7167-48c3-a3fa-0d9bb143d2aa",
   "metadata": {},
   "outputs": [],
   "source": [
    "l1.clear()"
   ]
  },
  {
   "cell_type": "code",
   "execution_count": null,
   "id": "c13bc547-74ce-45d8-9d71-e3e7c3c3500d",
   "metadata": {},
   "outputs": [],
   "source": [
    "l1"
   ]
  },
  {
   "cell_type": "code",
   "execution_count": null,
   "id": "4d57aa74-f0e2-4836-b1e6-693c29e22a76",
   "metadata": {},
   "outputs": [],
   "source": [
    "del l1"
   ]
  },
  {
   "cell_type": "code",
   "execution_count": null,
   "id": "f7a5f26b-f999-4bcf-8c53-daf6867a8b46",
   "metadata": {},
   "outputs": [],
   "source": [
    "l1"
   ]
  },
  {
   "cell_type": "code",
   "execution_count": null,
   "id": "8d46d59a-fa0f-41c7-b12d-ce45b17c9d87",
   "metadata": {},
   "outputs": [],
   "source": [
    "l2=[]"
   ]
  },
  {
   "cell_type": "code",
   "execution_count": null,
   "id": "f37a9b76-667e-4b50-9ad0-47f11adf3d19",
   "metadata": {},
   "outputs": [],
   "source": [
    "l2.append(2)\n",
    "l2.append(3.3)\n",
    "l2.append('ar')\n",
    "l2.append(1+2J)"
   ]
  },
  {
   "cell_type": "code",
   "execution_count": null,
   "id": "5e70eb67-bac8-41a7-8160-175ef7774154",
   "metadata": {},
   "outputs": [],
   "source": [
    "print(l)\n",
    "print(l2)"
   ]
  },
  {
   "cell_type": "code",
   "execution_count": null,
   "id": "e3123c4d-5866-4002-af4b-5b76c9cb619e",
   "metadata": {},
   "outputs": [],
   "source": [
    "l.index(22)"
   ]
  },
  {
   "cell_type": "code",
   "execution_count": null,
   "id": "bb45728a-1ab5-4ca3-bdfe-47605603e859",
   "metadata": {},
   "outputs": [],
   "source": [
    "l2"
   ]
  },
  {
   "cell_type": "code",
   "execution_count": null,
   "id": "ce03982b-5aa6-4417-bf64-5c19fadeb788",
   "metadata": {},
   "outputs": [],
   "source": [
    "l2[2][1]"
   ]
  },
  {
   "cell_type": "code",
   "execution_count": 11,
   "id": "ea42d914-bd77-46f4-8a76-f3c9f321d856",
   "metadata": {},
   "outputs": [
    {
     "ename": "NameError",
     "evalue": "name 'l2' is not defined",
     "output_type": "error",
     "traceback": [
      "\u001b[1;31m---------------------------------------------------------------------------\u001b[0m",
      "\u001b[1;31mNameError\u001b[0m                                 Traceback (most recent call last)",
      "Cell \u001b[1;32mIn[11], line 1\u001b[0m\n\u001b[1;32m----> 1\u001b[0m \u001b[38;5;28mprint\u001b[39m(\u001b[43ml2\u001b[49m[\u001b[38;5;241m2\u001b[39m][\u001b[38;5;241m0\u001b[39m])\n\u001b[0;32m      2\u001b[0m \u001b[38;5;28mprint\u001b[39m(l2[\u001b[38;5;241m2\u001b[39m][\u001b[38;5;241m1\u001b[39m])\n",
      "\u001b[1;31mNameError\u001b[0m: name 'l2' is not defined"
     ]
    }
   ],
   "source": [
    "print(l2[2][0])\n",
    "print(l2[2][1])"
   ]
  },
  {
   "cell_type": "code",
   "execution_count": null,
   "id": "c1493d1c-f5a9-4a4d-8bb8-0e7127958c7a",
   "metadata": {},
   "outputs": [],
   "source": [
    "l"
   ]
  },
  {
   "cell_type": "code",
   "execution_count": 12,
   "id": "6ea9b455-e36c-4c0a-a2b0-080b3b12c9d2",
   "metadata": {},
   "outputs": [
    {
     "data": {
      "text/plain": [
       "[21, 22, 32, 23]"
      ]
     },
     "execution_count": 12,
     "metadata": {},
     "output_type": "execute_result"
    }
   ],
   "source": [
    "l[:]"
   ]
  },
  {
   "cell_type": "code",
   "execution_count": 13,
   "id": "40360694-d89d-4e25-942a-e83c77e51164",
   "metadata": {},
   "outputs": [
    {
     "data": {
      "text/plain": [
       "[32, 23]"
      ]
     },
     "execution_count": 13,
     "metadata": {},
     "output_type": "execute_result"
    }
   ],
   "source": [
    "l[2:]"
   ]
  },
  {
   "cell_type": "code",
   "execution_count": 14,
   "id": "007379f0-3d2f-436d-a30d-e92c00e699d5",
   "metadata": {},
   "outputs": [],
   "source": [
    "l.append(25)\n",
    "l.append(26)\n",
    "l.append(27)"
   ]
  },
  {
   "cell_type": "code",
   "execution_count": 15,
   "id": "ea45fa98-3d2a-4e2d-a3d9-312d68218f48",
   "metadata": {},
   "outputs": [
    {
     "data": {
      "text/plain": [
       "[21, 22, 32, 23, 25, 26, 27]"
      ]
     },
     "execution_count": 15,
     "metadata": {},
     "output_type": "execute_result"
    }
   ],
   "source": [
    "l"
   ]
  },
  {
   "cell_type": "code",
   "execution_count": 16,
   "id": "06cfc957-c951-4f68-a522-7b48d3938d69",
   "metadata": {},
   "outputs": [
    {
     "data": {
      "text/plain": [
       "[22, 25]"
      ]
     },
     "execution_count": 16,
     "metadata": {},
     "output_type": "execute_result"
    }
   ],
   "source": [
    "l[1:8:3]"
   ]
  },
  {
   "cell_type": "code",
   "execution_count": 17,
   "id": "433c2e9f-bf12-4f11-acf9-d54bc11aa109",
   "metadata": {},
   "outputs": [
    {
     "ename": "NameError",
     "evalue": "name 'l2' is not defined",
     "output_type": "error",
     "traceback": [
      "\u001b[1;31m---------------------------------------------------------------------------\u001b[0m",
      "\u001b[1;31mNameError\u001b[0m                                 Traceback (most recent call last)",
      "Cell \u001b[1;32mIn[17], line 1\u001b[0m\n\u001b[1;32m----> 1\u001b[0m \u001b[43ml2\u001b[49m[\u001b[38;5;241m0\u001b[39m:\u001b[38;5;241m3\u001b[39m:\u001b[38;5;241m2\u001b[39m]\n",
      "\u001b[1;31mNameError\u001b[0m: name 'l2' is not defined"
     ]
    }
   ],
   "source": [
    "l2[0:3:2]"
   ]
  },
  {
   "cell_type": "code",
   "execution_count": 18,
   "id": "83228a56-805f-4685-af5a-40a5fa78a2d8",
   "metadata": {},
   "outputs": [],
   "source": [
    "l.insert(3,29)"
   ]
  },
  {
   "cell_type": "code",
   "execution_count": 19,
   "id": "3f1bbd57-3476-4c8f-848f-731a8b22ce59",
   "metadata": {},
   "outputs": [
    {
     "data": {
      "text/plain": [
       "[21, 22, 32, 29, 23, 25, 26, 27]"
      ]
     },
     "execution_count": 19,
     "metadata": {},
     "output_type": "execute_result"
    }
   ],
   "source": [
    "l"
   ]
  },
  {
   "cell_type": "code",
   "execution_count": 20,
   "id": "2c75f19a-e660-44f5-bbe0-b795d4483e0c",
   "metadata": {},
   "outputs": [
    {
     "data": {
      "text/plain": [
       "27"
      ]
     },
     "execution_count": 20,
     "metadata": {},
     "output_type": "execute_result"
    }
   ],
   "source": [
    "l.pop()"
   ]
  },
  {
   "cell_type": "code",
   "execution_count": 21,
   "id": "10041721-81bd-4565-8320-ca672f40214f",
   "metadata": {},
   "outputs": [
    {
     "data": {
      "text/plain": [
       "29"
      ]
     },
     "execution_count": 21,
     "metadata": {},
     "output_type": "execute_result"
    }
   ],
   "source": [
    "l.pop(3)"
   ]
  },
  {
   "cell_type": "code",
   "execution_count": 22,
   "id": "cbbb6209-3d9f-4b09-ad85-2030d554d26b",
   "metadata": {},
   "outputs": [
    {
     "data": {
      "text/plain": [
       "[21, 22, 32, 23, 25, 26]"
      ]
     },
     "execution_count": 22,
     "metadata": {},
     "output_type": "execute_result"
    }
   ],
   "source": [
    "l"
   ]
  },
  {
   "cell_type": "code",
   "execution_count": 23,
   "id": "3173a812-012c-4de4-a5db-806263f89f1f",
   "metadata": {},
   "outputs": [],
   "source": [
    "l.remove(26)"
   ]
  },
  {
   "cell_type": "code",
   "execution_count": 24,
   "id": "7c2dd607-f02b-44b3-a9e0-29b6ec13ca95",
   "metadata": {},
   "outputs": [
    {
     "data": {
      "text/plain": [
       "[21, 22, 32, 23, 25]"
      ]
     },
     "execution_count": 24,
     "metadata": {},
     "output_type": "execute_result"
    }
   ],
   "source": [
    "l"
   ]
  },
  {
   "cell_type": "code",
   "execution_count": 25,
   "id": "3b9900f8-162b-443b-9ea7-ab67a7370620",
   "metadata": {},
   "outputs": [],
   "source": [
    "l.sort()"
   ]
  },
  {
   "cell_type": "code",
   "execution_count": 26,
   "id": "4517ade9-98e1-4ec7-9eaf-b61d78e45e11",
   "metadata": {},
   "outputs": [
    {
     "data": {
      "text/plain": [
       "[21, 22, 23, 25, 32]"
      ]
     },
     "execution_count": 26,
     "metadata": {},
     "output_type": "execute_result"
    }
   ],
   "source": [
    "l"
   ]
  },
  {
   "cell_type": "code",
   "execution_count": 27,
   "id": "3a537aaf-dafd-43c0-8ec5-234f9ae130e7",
   "metadata": {},
   "outputs": [
    {
     "data": {
      "text/plain": [
       "1"
      ]
     },
     "execution_count": 27,
     "metadata": {},
     "output_type": "execute_result"
    }
   ],
   "source": [
    "l.count(25)"
   ]
  },
  {
   "cell_type": "code",
   "execution_count": 29,
   "id": "6016303b-57ff-4dbe-8d79-b5e861a7d17b",
   "metadata": {},
   "outputs": [
    {
     "name": "stdout",
     "output_type": "stream",
     "text": [
      "21\n",
      "22\n",
      "23\n",
      "25\n",
      "32\n"
     ]
    }
   ],
   "source": [
    "for i in l:\n",
    "    print(i)"
   ]
  },
  {
   "cell_type": "code",
   "execution_count": 30,
   "id": "856f53e1-eef2-4750-86dc-6a5e9e9f362e",
   "metadata": {},
   "outputs": [
    {
     "name": "stdout",
     "output_type": "stream",
     "text": [
      "(0, 21)\n",
      "(1, 22)\n",
      "(2, 23)\n",
      "(3, 25)\n",
      "(4, 32)\n"
     ]
    }
   ],
   "source": [
    "for i in enumerate(l):\n",
    "    print(i)"
   ]
  },
  {
   "cell_type": "code",
   "execution_count": 34,
   "id": "f8c79670-571a-4962-b579-c9f2bdacd8dd",
   "metadata": {},
   "outputs": [
    {
     "name": "stdout",
     "output_type": "stream",
     "text": [
      "[21, 22, 23, 25, 32]\n",
      "[21, 22, 23, 25, 32]\n"
     ]
    }
   ],
   "source": [
    "print(l)\n",
    "print(l1)"
   ]
  },
  {
   "cell_type": "code",
   "execution_count": 35,
   "id": "b100e5c3-c848-4b0a-8e1a-47b2f8eb170e",
   "metadata": {},
   "outputs": [],
   "source": [
    "l1.extend(l)"
   ]
  },
  {
   "cell_type": "code",
   "execution_count": 36,
   "id": "6adfd311-70d8-450c-89e1-7b7b2a3a5a1e",
   "metadata": {},
   "outputs": [
    {
     "data": {
      "text/plain": [
       "[21, 22, 23, 25, 32, 21, 22, 23, 25, 32]"
      ]
     },
     "execution_count": 36,
     "metadata": {},
     "output_type": "execute_result"
    }
   ],
   "source": [
    "l1"
   ]
  },
  {
   "cell_type": "code",
   "execution_count": 37,
   "id": "4e9f903c-9b26-4fcd-b7fb-261cd994cd5a",
   "metadata": {},
   "outputs": [],
   "source": [
    "l.sort()"
   ]
  },
  {
   "cell_type": "code",
   "execution_count": 38,
   "id": "cd41ab82-2ef0-4f25-84a3-e244463b68e3",
   "metadata": {},
   "outputs": [
    {
     "data": {
      "text/plain": [
       "[21, 22, 23, 25, 32]"
      ]
     },
     "execution_count": 38,
     "metadata": {},
     "output_type": "execute_result"
    }
   ],
   "source": [
    "l"
   ]
  },
  {
   "cell_type": "code",
   "execution_count": 39,
   "id": "037cf889-40a3-4eaa-95f0-acf24624bc9c",
   "metadata": {},
   "outputs": [],
   "source": [
    "l.sort(reverse=True)"
   ]
  },
  {
   "cell_type": "code",
   "execution_count": 40,
   "id": "fc821f28-7499-486b-aa23-1ad2c830d9ef",
   "metadata": {},
   "outputs": [
    {
     "data": {
      "text/plain": [
       "[32, 25, 23, 22, 21]"
      ]
     },
     "execution_count": 40,
     "metadata": {},
     "output_type": "execute_result"
    }
   ],
   "source": [
    "l"
   ]
  },
  {
   "cell_type": "code",
   "execution_count": 41,
   "id": "46da6f68-a982-40d3-b480-0ae443820a18",
   "metadata": {},
   "outputs": [
    {
     "data": {
      "text/plain": [
       "['a', 'g', 'b', 'k']"
      ]
     },
     "execution_count": 41,
     "metadata": {},
     "output_type": "execute_result"
    }
   ],
   "source": [
    "l3=['a','g','b','k']\n",
    "l3"
   ]
  },
  {
   "cell_type": "code",
   "execution_count": 42,
   "id": "b31a2ed7-4787-4145-b28a-69bceea6ad09",
   "metadata": {},
   "outputs": [
    {
     "data": {
      "text/plain": [
       "['a', 'b', 'g', 'k']"
      ]
     },
     "execution_count": 42,
     "metadata": {},
     "output_type": "execute_result"
    }
   ],
   "source": [
    "l3.sort()\n",
    "l3"
   ]
  },
  {
   "cell_type": "code",
   "execution_count": 43,
   "id": "08a08e5a-157a-42d3-aa6b-5051177e3018",
   "metadata": {},
   "outputs": [],
   "source": [
    "l3.sort(reverse=False)"
   ]
  },
  {
   "cell_type": "code",
   "execution_count": 44,
   "id": "901e0005-a493-4f79-852c-5e5dec1fa029",
   "metadata": {},
   "outputs": [
    {
     "data": {
      "text/plain": [
       "['a', 'b', 'g', 'k']"
      ]
     },
     "execution_count": 44,
     "metadata": {},
     "output_type": "execute_result"
    }
   ],
   "source": [
    "l3"
   ]
  },
  {
   "cell_type": "code",
   "execution_count": 45,
   "id": "f4663cab-d4f4-4899-9798-6de5f0c1ce91",
   "metadata": {},
   "outputs": [
    {
     "data": {
      "text/plain": [
       "True"
      ]
     },
     "execution_count": 45,
     "metadata": {},
     "output_type": "execute_result"
    }
   ],
   "source": [
    "all(l)"
   ]
  },
  {
   "cell_type": "code",
   "execution_count": 47,
   "id": "ab124b09-10d6-4ba2-a39d-3098f65a6edc",
   "metadata": {},
   "outputs": [
    {
     "data": {
      "text/plain": [
       "True"
      ]
     },
     "execution_count": 47,
     "metadata": {},
     "output_type": "execute_result"
    }
   ],
   "source": [
    "any(l)"
   ]
  },
  {
   "cell_type": "markdown",
   "id": "fcecbdf4-6691-4161-a248-15349e4ae4a0",
   "metadata": {},
   "source": [
    "## Tuple"
   ]
  },
  {
   "cell_type": "code",
   "execution_count": 2,
   "id": "27550dc2-11a1-4267-9dc0-90771d9c96e4",
   "metadata": {},
   "outputs": [],
   "source": [
    "t =()"
   ]
  },
  {
   "cell_type": "code",
   "execution_count": 49,
   "id": "8fa3adcd-ab20-4ced-aee0-c4056d351317",
   "metadata": {},
   "outputs": [
    {
     "data": {
      "text/plain": [
       "()"
      ]
     },
     "execution_count": 49,
     "metadata": {},
     "output_type": "execute_result"
    }
   ],
   "source": [
    "t"
   ]
  },
  {
   "cell_type": "code",
   "execution_count": 50,
   "id": "7c8dfd9b-6223-4a48-b24c-46f57ecd6d8f",
   "metadata": {},
   "outputs": [],
   "source": [
    "t=(10,20,40,45,21,11)"
   ]
  },
  {
   "cell_type": "code",
   "execution_count": 51,
   "id": "c47ca594-28f4-47a1-94dd-b479d94ec400",
   "metadata": {},
   "outputs": [],
   "source": [
    "t2 =t*3"
   ]
  },
  {
   "cell_type": "code",
   "execution_count": 52,
   "id": "ea87242d-8060-41fe-86a6-223eba1dfccb",
   "metadata": {},
   "outputs": [
    {
     "data": {
      "text/plain": [
       "(10, 20, 40, 45, 21, 11, 10, 20, 40, 45, 21, 11, 10, 20, 40, 45, 21, 11)"
      ]
     },
     "execution_count": 52,
     "metadata": {},
     "output_type": "execute_result"
    }
   ],
   "source": [
    "t2"
   ]
  },
  {
   "cell_type": "code",
   "execution_count": 54,
   "id": "1b19c640-39bd-400d-91c7-560e5e369d35",
   "metadata": {},
   "outputs": [
    {
     "data": {
      "text/plain": [
       "3"
      ]
     },
     "execution_count": 54,
     "metadata": {},
     "output_type": "execute_result"
    }
   ],
   "source": [
    "t2.count(40)"
   ]
  },
  {
   "cell_type": "code",
   "execution_count": 59,
   "id": "3a6ef5f2-37e3-4239-8748-83ee4f2ea4b4",
   "metadata": {},
   "outputs": [
    {
     "data": {
      "text/plain": [
       "1"
      ]
     },
     "execution_count": 59,
     "metadata": {},
     "output_type": "execute_result"
    }
   ],
   "source": [
    "t2.index(20)"
   ]
  },
  {
   "cell_type": "code",
   "execution_count": 61,
   "id": "cf86bfe7-11e2-4d5a-a3b1-43ac7f181c34",
   "metadata": {},
   "outputs": [
    {
     "data": {
      "text/plain": [
       "(0, 0, 0)"
      ]
     },
     "execution_count": 61,
     "metadata": {},
     "output_type": "execute_result"
    }
   ],
   "source": [
    "t1=(0,0,0)\n",
    "t1"
   ]
  },
  {
   "cell_type": "code",
   "execution_count": 62,
   "id": "bcc0269c-5b62-4c86-ad77-8d0d47738ad8",
   "metadata": {},
   "outputs": [
    {
     "data": {
      "text/plain": [
       "(10, 20, 12)"
      ]
     },
     "execution_count": 62,
     "metadata": {},
     "output_type": "execute_result"
    }
   ],
   "source": [
    "t1=(10,20,12)\n",
    "t1"
   ]
  },
  {
   "cell_type": "code",
   "execution_count": 63,
   "id": "026d22fb-6f42-4c4b-88d6-7722cd81b9f1",
   "metadata": {},
   "outputs": [],
   "source": [
    "t1=(21,322,43)"
   ]
  },
  {
   "cell_type": "code",
   "execution_count": 64,
   "id": "74b4a09c-e0e2-4121-a3f6-f0aa2d57a981",
   "metadata": {},
   "outputs": [
    {
     "data": {
      "text/plain": [
       "(21, 322, 43)"
      ]
     },
     "execution_count": 64,
     "metadata": {},
     "output_type": "execute_result"
    }
   ],
   "source": [
    "t1"
   ]
  },
  {
   "cell_type": "code",
   "execution_count": null,
   "id": "ee930ff7-091c-4e9f-bbba-dafd0ac68265",
   "metadata": {},
   "outputs": [],
   "source": []
  },
  {
   "cell_type": "code",
   "execution_count": null,
   "id": "ad1a0d67-e331-4bdc-ae07-0d9211563491",
   "metadata": {},
   "outputs": [],
   "source": []
  }
 ],
 "metadata": {
  "kernelspec": {
   "display_name": "Python 3 (ipykernel)",
   "language": "python",
   "name": "python3"
  },
  "language_info": {
   "codemirror_mode": {
    "name": "ipython",
    "version": 3
   },
   "file_extension": ".py",
   "mimetype": "text/x-python",
   "name": "python",
   "nbconvert_exporter": "python",
   "pygments_lexer": "ipython3",
   "version": "3.10.9"
  }
 },
 "nbformat": 4,
 "nbformat_minor": 5
}
