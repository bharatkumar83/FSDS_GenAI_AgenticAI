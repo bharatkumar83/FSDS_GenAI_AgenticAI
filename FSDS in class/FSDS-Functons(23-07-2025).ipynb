{
 "cells": [
  {
   "cell_type": "markdown",
   "id": "11a4cf4a-cdb9-4ce1-b5ea-4d50c6087654",
   "metadata": {},
   "source": [
    "### Functions"
   ]
  },
  {
   "cell_type": "code",
   "execution_count": 1,
   "id": "cd599dcd-1fae-45a5-b194-b2166420a872",
   "metadata": {},
   "outputs": [],
   "source": [
    "# A user-defined function is defined with def funtionname()\n",
    "\n",
    "def greet():\n",
    "    print('hello')\n",
    "    print('Good morning')"
   ]
  },
  {
   "cell_type": "code",
   "execution_count": 3,
   "id": "54592218-c470-449b-ad93-42ba2a796bab",
   "metadata": {},
   "outputs": [
    {
     "name": "stdout",
     "output_type": "stream",
     "text": [
      "hello\n",
      "Good morning\n"
     ]
    }
   ],
   "source": [
    "# funtion should be call by the user to use it and call at the end of the program\n",
    "def greet():\n",
    "    print('hello')\n",
    "    print('Good morning')\n",
    "greet()"
   ]
  },
  {
   "cell_type": "code",
   "execution_count": 4,
   "id": "80765441-fe67-46f0-a523-645cdecaca75",
   "metadata": {},
   "outputs": [
    {
     "name": "stdout",
     "output_type": "stream",
     "text": [
      "hello\n",
      "Good morning\n",
      "hello\n",
      "Good morning\n"
     ]
    }
   ],
   "source": [
    "def greet():\n",
    "    print('hello')\n",
    "    print('Good morning')\n",
    "greet()\n",
    "\n",
    "def greet():\n",
    "    print('hello')\n",
    "    print('Good morning')\n",
    "greet()\n"
   ]
  },
  {
   "cell_type": "code",
   "execution_count": 5,
   "id": "3ef785c2-828e-49d5-8d5a-a24e21fac98e",
   "metadata": {},
   "outputs": [
    {
     "name": "stdout",
     "output_type": "stream",
     "text": [
      "hello\n",
      "Good morning\n",
      "\n",
      "hello\n",
      "Good morning\n"
     ]
    }
   ],
   "source": [
    "def greet():\n",
    "    print('hello')\n",
    "    print('Good morning')\n",
    "greet()\n",
    "\n",
    "print()\n",
    "\n",
    "def greet():\n",
    "    print('hello')\n",
    "    print('Good morning')\n",
    "greet()"
   ]
  },
  {
   "cell_type": "code",
   "execution_count": 6,
   "id": "6c7e8002-f740-4259-ba1b-3a42e5072639",
   "metadata": {},
   "outputs": [
    {
     "name": "stdout",
     "output_type": "stream",
     "text": [
      "hello\n",
      "good morning team\n",
      "\n",
      "hello\n",
      "good morning team\n",
      "\n",
      "hello\n",
      "good morning team\n"
     ]
    }
   ],
   "source": [
    "def greet(): \n",
    "    print('hello')\n",
    "    print('good morning team')\n",
    "greet()\n",
    "\n",
    "print()\n",
    "\n",
    "def greet(): \n",
    "    print('hello')\n",
    "    print('good morning team')\n",
    "greet()\n",
    "\n",
    "print()\n",
    "\n",
    "def greet(): \n",
    "    print('hello')\n",
    "    print('good morning team')\n",
    "greet()"
   ]
  },
  {
   "cell_type": "code",
   "execution_count": 7,
   "id": "f5395985-3171-4bd0-920a-f304567f1228",
   "metadata": {},
   "outputs": [
    {
     "name": "stdout",
     "output_type": "stream",
     "text": [
      "hello\n",
      "good morning team\n",
      "*****************\n",
      "hello\n",
      "good morning team\n",
      "*****************\n",
      "hello\n",
      "good morning team\n"
     ]
    }
   ],
   "source": [
    "# it is no need to create a funtion to call it multiple times because once we create a funtion we can call it multiple times\n",
    "\n",
    "def greet(): \n",
    "    print('hello')\n",
    "    print('good morning team')\n",
    "greet()\n",
    "\n",
    "print('*****************')\n",
    "greet()\n",
    "\n",
    "print('*****************')\n",
    "greet()"
   ]
  },
  {
   "cell_type": "code",
   "execution_count": 8,
   "id": "eec4ba99-bfcf-491d-86a8-5b6f0824b422",
   "metadata": {},
   "outputs": [
    {
     "name": "stdout",
     "output_type": "stream",
     "text": [
      "Hello\n",
      "Good Morning\n"
     ]
    }
   ],
   "source": [
    "#creating a funtion with out argument\n",
    "\n",
    "def greet():\n",
    "    print('Hello')\n",
    "    print('Good Morning')\n",
    "    \n",
    "greet()"
   ]
  },
  {
   "cell_type": "code",
   "execution_count": 9,
   "id": "ae8a22fb-8070-4def-94a3-f0e272e5f957",
   "metadata": {},
   "outputs": [
    {
     "name": "stdout",
     "output_type": "stream",
     "text": [
      "11\n"
     ]
    }
   ],
   "source": [
    "# creating the funtions with argument\n",
    "def add(x,y):\n",
    "    c=x+y\n",
    "    print(c)\n",
    "add(5,6)"
   ]
  },
  {
   "cell_type": "code",
   "execution_count": 10,
   "id": "d02a2b9e-52ff-46cc-a238-aad043266368",
   "metadata": {},
   "outputs": [
    {
     "data": {
      "text/plain": [
       "2"
      ]
     },
     "execution_count": 10,
     "metadata": {},
     "output_type": "execute_result"
    }
   ],
   "source": [
    "# wee call the funtion by return keywod instead of print stmt \n",
    "\n",
    "def sub(x,y):\n",
    "    c=x-y\n",
    "    return c\n",
    "\n",
    "sub(4,2)"
   ]
  },
  {
   "cell_type": "code",
   "execution_count": 11,
   "id": "3bd3728f-26a0-4321-b939-0f8e34769d85",
   "metadata": {},
   "outputs": [
    {
     "ename": "TypeError",
     "evalue": "sub() missing 1 required positional argument: 'y'",
     "output_type": "error",
     "traceback": [
      "\u001b[1;31m---------------------------------------------------------------------------\u001b[0m",
      "\u001b[1;31mTypeError\u001b[0m                                 Traceback (most recent call last)",
      "Cell \u001b[1;32mIn[11], line 7\u001b[0m\n\u001b[0;32m      4\u001b[0m     c\u001b[38;5;241m=\u001b[39mx\u001b[38;5;241m-\u001b[39my\n\u001b[0;32m      5\u001b[0m     \u001b[38;5;28;01mreturn\u001b[39;00m c\n\u001b[1;32m----> 7\u001b[0m \u001b[43msub\u001b[49m\u001b[43m(\u001b[49m\u001b[38;5;241;43m4\u001b[39;49m\u001b[43m)\u001b[49m\n",
      "\u001b[1;31mTypeError\u001b[0m: sub() missing 1 required positional argument: 'y'"
     ]
    }
   ],
   "source": [
    "# it prints error if we create a two argument funtion and give only one argument\n",
    "\n",
    "def sub(x,y):\n",
    "    c=x-y\n",
    "    return c\n",
    "\n",
    "sub(4)"
   ]
  },
  {
   "cell_type": "code",
   "execution_count": 12,
   "id": "442669c2-459c-4e22-a02d-534654ba8f5d",
   "metadata": {},
   "outputs": [
    {
     "ename": "TypeError",
     "evalue": "sub() takes 2 positional arguments but 3 were given",
     "output_type": "error",
     "traceback": [
      "\u001b[1;31m---------------------------------------------------------------------------\u001b[0m",
      "\u001b[1;31mTypeError\u001b[0m                                 Traceback (most recent call last)",
      "Cell \u001b[1;32mIn[12], line 7\u001b[0m\n\u001b[0;32m      4\u001b[0m     c\u001b[38;5;241m=\u001b[39mx\u001b[38;5;241m-\u001b[39my\n\u001b[0;32m      5\u001b[0m     \u001b[38;5;28;01mreturn\u001b[39;00m c\n\u001b[1;32m----> 7\u001b[0m \u001b[43msub\u001b[49m\u001b[43m(\u001b[49m\u001b[38;5;241;43m5\u001b[39;49m\u001b[43m,\u001b[49m\u001b[38;5;241;43m2\u001b[39;49m\u001b[43m,\u001b[49m\u001b[38;5;241;43m1\u001b[39;49m\u001b[43m)\u001b[49m\n",
      "\u001b[1;31mTypeError\u001b[0m: sub() takes 2 positional arguments but 3 were given"
     ]
    }
   ],
   "source": [
    "# it prints error if we create a two argument funtion and pass threearg ument\n",
    "\n",
    "def sub(x,y):\n",
    "    c=x-y\n",
    "    return c\n",
    "\n",
    "sub(5,2,1)"
   ]
  },
  {
   "cell_type": "code",
   "execution_count": 13,
   "id": "8d8998e5-396e-41f1-9e9a-116361c01bd1",
   "metadata": {},
   "outputs": [
    {
     "data": {
      "text/plain": [
       "2"
      ]
     },
     "execution_count": 13,
     "metadata": {},
     "output_type": "execute_result"
    }
   ],
   "source": [
    "# it prints error if we create a two argument funtion and give only one argument\n",
    "\n",
    "def sub(x,y,z):\n",
    "    c=x-y\n",
    "    return c\n",
    "\n",
    "sub(6,4,1)"
   ]
  },
  {
   "cell_type": "code",
   "execution_count": 15,
   "id": "856be7b7-372d-4c56-825c-04196b5fe748",
   "metadata": {},
   "outputs": [
    {
     "ename": "TypeError",
     "evalue": "add() takes 3 positional arguments but 4 were given",
     "output_type": "error",
     "traceback": [
      "\u001b[1;31m---------------------------------------------------------------------------\u001b[0m",
      "\u001b[1;31mTypeError\u001b[0m                                 Traceback (most recent call last)",
      "Cell \u001b[1;32mIn[15], line 5\u001b[0m\n\u001b[0;32m      2\u001b[0m     c\u001b[38;5;241m=\u001b[39m x\u001b[38;5;241m+\u001b[39my\u001b[38;5;241m+\u001b[39mz\u001b[38;5;241m+\u001b[39mm\n\u001b[0;32m      3\u001b[0m     \u001b[38;5;28;01mreturn\u001b[39;00m c\n\u001b[1;32m----> 5\u001b[0m \u001b[43madd\u001b[49m\u001b[43m(\u001b[49m\u001b[38;5;241;43m2\u001b[39;49m\u001b[43m,\u001b[49m\u001b[38;5;241;43m3\u001b[39;49m\u001b[43m,\u001b[49m\u001b[38;5;241;43m4\u001b[39;49m\u001b[43m,\u001b[49m\u001b[38;5;241;43m5\u001b[39;49m\u001b[43m)\u001b[49m\n",
      "\u001b[1;31mTypeError\u001b[0m: add() takes 3 positional arguments but 4 were given"
     ]
    }
   ],
   "source": [
    "def add(x,y,z):\n",
    "    c= x+y+z+m\n",
    "    return c\n",
    "\n",
    "add(2,3,4,5)"
   ]
  },
  {
   "cell_type": "code",
   "execution_count": 16,
   "id": "7f4bb8ca-cbaf-4494-beee-2eaeea441893",
   "metadata": {},
   "outputs": [
    {
     "ename": "NameError",
     "evalue": "name 'm' is not defined",
     "output_type": "error",
     "traceback": [
      "\u001b[1;31m---------------------------------------------------------------------------\u001b[0m",
      "\u001b[1;31mNameError\u001b[0m                                 Traceback (most recent call last)",
      "Cell \u001b[1;32mIn[16], line 5\u001b[0m\n\u001b[0;32m      2\u001b[0m     c\u001b[38;5;241m=\u001b[39m x\u001b[38;5;241m+\u001b[39my\u001b[38;5;241m+\u001b[39mz\u001b[38;5;241m+\u001b[39mm\n\u001b[0;32m      3\u001b[0m     \u001b[38;5;28;01mreturn\u001b[39;00m c\n\u001b[1;32m----> 5\u001b[0m \u001b[43madd\u001b[49m\u001b[43m(\u001b[49m\u001b[38;5;241;43m2\u001b[39;49m\u001b[43m,\u001b[49m\u001b[38;5;241;43m3\u001b[39;49m\u001b[43m,\u001b[49m\u001b[38;5;241;43m4\u001b[39;49m\u001b[43m,\u001b[49m\u001b[38;5;241;43m5\u001b[39;49m\u001b[43m)\u001b[49m\n",
      "Cell \u001b[1;32mIn[16], line 2\u001b[0m, in \u001b[0;36madd\u001b[1;34m(x, y, z, n)\u001b[0m\n\u001b[0;32m      1\u001b[0m \u001b[38;5;28;01mdef\u001b[39;00m\u001b[38;5;250m \u001b[39m\u001b[38;5;21madd\u001b[39m(x,y,z,n):\n\u001b[1;32m----> 2\u001b[0m     c\u001b[38;5;241m=\u001b[39m x\u001b[38;5;241m+\u001b[39my\u001b[38;5;241m+\u001b[39mz\u001b[38;5;241m+\u001b[39m\u001b[43mm\u001b[49m\n\u001b[0;32m      3\u001b[0m     \u001b[38;5;28;01mreturn\u001b[39;00m c\n",
      "\u001b[1;31mNameError\u001b[0m: name 'm' is not defined"
     ]
    }
   ],
   "source": [
    "def add(x,y,z,n):\n",
    "    c= x+y+z+m\n",
    "    return c\n",
    "\n",
    "add(2,3,4,5)"
   ]
  },
  {
   "cell_type": "code",
   "execution_count": 18,
   "id": "6f5619db-287c-455f-93d6-94235767dea7",
   "metadata": {},
   "outputs": [
    {
     "data": {
      "text/plain": [
       "14"
      ]
     },
     "execution_count": 18,
     "metadata": {},
     "output_type": "execute_result"
    }
   ],
   "source": [
    "def add(x,y,z,n):\n",
    "    c= x+y+z+n\n",
    "    return c\n",
    "\n",
    "add(2,3,4,5)"
   ]
  },
  {
   "cell_type": "code",
   "execution_count": 19,
   "id": "3de60074-3101-477c-a464-d16b4bc8e8b2",
   "metadata": {},
   "outputs": [
    {
     "name": "stdout",
     "output_type": "stream",
     "text": [
      "Good Morning\n",
      "Welcome to Hyderbad\n"
     ]
    },
    {
     "data": {
      "text/plain": [
       "5"
      ]
     },
     "execution_count": 19,
     "metadata": {},
     "output_type": "execute_result"
    }
   ],
   "source": [
    "# creating a funtion with and without argument\n",
    "\n",
    "def wishes():\n",
    "    print('Good Morning')\n",
    "    print('Welcome to Hyderbad')\n",
    "wishes()\n",
    "\n",
    "def add(x,y):\n",
    "    c=x+y\n",
    "    return c\n",
    "add(2,3)"
   ]
  },
  {
   "cell_type": "code",
   "execution_count": 21,
   "id": "51098f1f-b38f-459f-bc54-b3fa579ae5d6",
   "metadata": {},
   "outputs": [
    {
     "name": "stdout",
     "output_type": "stream",
     "text": [
      "Good Morning\n",
      "Welcome to Hyderbad\n",
      "5\n",
      "3\n"
     ]
    }
   ],
   "source": [
    "def wishes():\n",
    "    print('Good Morning')\n",
    "    print('Welcome to Hyderbad')\n",
    "\n",
    "def add(x,y):\n",
    "    c=x+y\n",
    "    return c\n",
    "\n",
    "def sub(x,y):\n",
    "    d=x-y\n",
    "    return d\n",
    "\n",
    "wishes()\n",
    "print(add(2,3))\n",
    "print(sub(5,2))"
   ]
  },
  {
   "cell_type": "code",
   "execution_count": 22,
   "id": "6365b35a-f2bf-4133-a932-52da7eedd2c2",
   "metadata": {},
   "outputs": [
    {
     "name": "stdout",
     "output_type": "stream",
     "text": [
      "(9, -1)\n",
      "<class 'tuple'>\n"
     ]
    }
   ],
   "source": [
    "def add_sub(x,y):\n",
    "    c= x+y\n",
    "    d= x-y\n",
    "    return c,d\n",
    "\n",
    "result=add_sub(4,5)\n",
    "print(result)\n",
    "print(type(result))"
   ]
  },
  {
   "cell_type": "code",
   "execution_count": 25,
   "id": "7b5a9d05-a2f3-401c-b259-a6260456a849",
   "metadata": {},
   "outputs": [
    {
     "name": "stdout",
     "output_type": "stream",
     "text": [
      "9\n",
      "-1\n",
      "<class 'int'>\n"
     ]
    }
   ],
   "source": [
    "def add_sub(x,y):\n",
    "    c= x+y\n",
    "    d= x-y\n",
    "    return c,d\n",
    "\n",
    "result,result1 =add_sub(4,5)\n",
    "print(result)\n",
    "print(result1)\n",
    "print(type(result))"
   ]
  },
  {
   "cell_type": "code",
   "execution_count": 26,
   "id": "95e9b1fa-83ee-4c2b-ab13-b932e1e610f8",
   "metadata": {},
   "outputs": [
    {
     "data": {
      "text/plain": [
       "9"
      ]
     },
     "execution_count": 26,
     "metadata": {},
     "output_type": "execute_result"
    }
   ],
   "source": [
    "def add_sub(x,y):\n",
    "    c= x+y\n",
    "    d= x-y\n",
    "    return c,d\n",
    "\n",
    "add, sub=add_sub(4,5)\n",
    "add"
   ]
  },
  {
   "cell_type": "markdown",
   "id": "1b6cbebd-92d8-411f-b4f1-95679aeefac5",
   "metadata": {},
   "source": [
    "#### update"
   ]
  },
  {
   "cell_type": "code",
   "execution_count": 29,
   "id": "04649d5b-fbb1-4c9c-8262-d8e1cc0b0bd3",
   "metadata": {},
   "outputs": [
    {
     "name": "stdout",
     "output_type": "stream",
     "text": [
      "8\n"
     ]
    }
   ],
   "source": [
    "def update():\n",
    "    x= 8\n",
    "    print(x)\n",
    "update()"
   ]
  },
  {
   "cell_type": "code",
   "execution_count": 31,
   "id": "b2713c4f-1e2b-42e1-badb-633cac1db487",
   "metadata": {},
   "outputs": [
    {
     "ename": "TypeError",
     "evalue": "update() takes 0 positional arguments but 1 was given",
     "output_type": "error",
     "traceback": [
      "\u001b[1;31m---------------------------------------------------------------------------\u001b[0m",
      "\u001b[1;31mTypeError\u001b[0m                                 Traceback (most recent call last)",
      "Cell \u001b[1;32mIn[31], line 5\u001b[0m\n\u001b[0;32m      2\u001b[0m     x\u001b[38;5;241m=\u001b[39m\u001b[38;5;241m8\u001b[39m\n\u001b[0;32m      3\u001b[0m     \u001b[38;5;28mprint\u001b[39m(x)\n\u001b[1;32m----> 5\u001b[0m \u001b[43mupdate\u001b[49m\u001b[43m(\u001b[49m\u001b[38;5;241;43m8\u001b[39;49m\u001b[43m)\u001b[49m\n",
      "\u001b[1;31mTypeError\u001b[0m: update() takes 0 positional arguments but 1 was given"
     ]
    }
   ],
   "source": [
    "def update():\n",
    "    x=8\n",
    "    print(x)\n",
    "\n",
    "update(8)"
   ]
  },
  {
   "cell_type": "code",
   "execution_count": 32,
   "id": "1d591d47-3711-4660-8d2d-0a0b26392ef4",
   "metadata": {},
   "outputs": [
    {
     "data": {
      "text/plain": [
       "10"
      ]
     },
     "execution_count": 32,
     "metadata": {},
     "output_type": "execute_result"
    }
   ],
   "source": [
    "def update(x):\n",
    "    x=10\n",
    "    return x\n",
    "update(100)"
   ]
  },
  {
   "cell_type": "code",
   "execution_count": 33,
   "id": "521e9f82-00d8-42a6-8598-0ab1bb9ca04c",
   "metadata": {},
   "outputs": [
    {
     "name": "stdout",
     "output_type": "stream",
     "text": [
      "15\n"
     ]
    }
   ],
   "source": [
    "def update(x):\n",
    "    x=10\n",
    "    return x\n",
    "a=15\n",
    "update(a)\n",
    "print(a)"
   ]
  },
  {
   "cell_type": "markdown",
   "id": "165b586f-e1c3-4453-9c6a-f8149008b700",
   "metadata": {},
   "source": [
    "### 07/08/2025"
   ]
  },
  {
   "cell_type": "code",
   "execution_count": 18,
   "id": "eddbbf7f-b15f-4c97-9664-e24cdb4b81e2",
   "metadata": {},
   "outputs": [
    {
     "name": "stdout",
     "output_type": "stream",
     "text": [
      "22\n",
      "nit\n"
     ]
    }
   ],
   "source": [
    "def person(name, age):\n",
    "    print(name)\n",
    "    print(age)\n",
    "\n",
    "person(22,'nit')"
   ]
  },
  {
   "cell_type": "code",
   "execution_count": 19,
   "id": "0361abfe-044e-42c6-86b3-431883e2c1d0",
   "metadata": {},
   "outputs": [
    {
     "ename": "TypeError",
     "evalue": "person() missing 1 required positional argument: 'age'",
     "output_type": "error",
     "traceback": [
      "\u001b[31m---------------------------------------------------------------------------\u001b[39m",
      "\u001b[31mTypeError\u001b[39m                                 Traceback (most recent call last)",
      "\u001b[36mCell\u001b[39m\u001b[36m \u001b[39m\u001b[32mIn[19]\u001b[39m\u001b[32m, line 5\u001b[39m\n\u001b[32m      2\u001b[39m     \u001b[38;5;28mprint\u001b[39m(name)\n\u001b[32m      3\u001b[39m     \u001b[38;5;28mprint\u001b[39m(age)\n\u001b[32m----> \u001b[39m\u001b[32m5\u001b[39m \u001b[43mperson\u001b[49m\u001b[43m(\u001b[49m\u001b[33;43m'\u001b[39;49m\u001b[33;43mnit\u001b[39;49m\u001b[33;43m'\u001b[39;49m\u001b[43m)\u001b[49m\n",
      "\u001b[31mTypeError\u001b[39m: person() missing 1 required positional argument: 'age'"
     ]
    }
   ],
   "source": [
    "def person(name, age):\n",
    "    print(name)\n",
    "    print(age)\n",
    "\n",
    "person('nit')"
   ]
  },
  {
   "cell_type": "code",
   "execution_count": 20,
   "id": "7c923b18-23a3-43ec-bb2e-cd9ab3480992",
   "metadata": {},
   "outputs": [
    {
     "ename": "TypeError",
     "evalue": "person() missing 1 required positional argument: 'age'",
     "output_type": "error",
     "traceback": [
      "\u001b[31m---------------------------------------------------------------------------\u001b[39m",
      "\u001b[31mTypeError\u001b[39m                                 Traceback (most recent call last)",
      "\u001b[36mCell\u001b[39m\u001b[36m \u001b[39m\u001b[32mIn[20]\u001b[39m\u001b[32m, line 5\u001b[39m\n\u001b[32m      2\u001b[39m     \u001b[38;5;28mprint\u001b[39m(name)\n\u001b[32m      3\u001b[39m     \u001b[38;5;28mprint\u001b[39m(age)\n\u001b[32m----> \u001b[39m\u001b[32m5\u001b[39m \u001b[43mperson\u001b[49m\u001b[43m(\u001b[49m\u001b[32;43m22\u001b[39;49m\u001b[43m)\u001b[49m\n",
      "\u001b[31mTypeError\u001b[39m: person() missing 1 required positional argument: 'age'"
     ]
    }
   ],
   "source": [
    "def person(name, age):\n",
    "    print(name)\n",
    "    print(age)\n",
    "\n",
    "person(22)"
   ]
  },
  {
   "cell_type": "code",
   "execution_count": 21,
   "id": "ca1c5e43-cfb4-4a01-b132-75695bc18fb9",
   "metadata": {},
   "outputs": [
    {
     "ename": "TypeError",
     "evalue": "person() takes 2 positional arguments but 5 were given",
     "output_type": "error",
     "traceback": [
      "\u001b[31m---------------------------------------------------------------------------\u001b[39m",
      "\u001b[31mTypeError\u001b[39m                                 Traceback (most recent call last)",
      "\u001b[36mCell\u001b[39m\u001b[36m \u001b[39m\u001b[32mIn[21]\u001b[39m\u001b[32m, line 5\u001b[39m\n\u001b[32m      2\u001b[39m     \u001b[38;5;28mprint\u001b[39m(name)\n\u001b[32m      3\u001b[39m     \u001b[38;5;28mprint\u001b[39m(age)\n\u001b[32m----> \u001b[39m\u001b[32m5\u001b[39m \u001b[43mperson\u001b[49m\u001b[43m(\u001b[49m\u001b[33;43m'\u001b[39;49m\u001b[33;43mnit\u001b[39;49m\u001b[33;43m'\u001b[39;49m\u001b[43m,\u001b[49m\u001b[32;43m23\u001b[39;49m\u001b[43m,\u001b[49m\u001b[32;43m43\u001b[39;49m\u001b[43m,\u001b[49m\u001b[32;43m12\u001b[39;49m\u001b[43m,\u001b[49m\u001b[32;43m45\u001b[39;49m\u001b[43m)\u001b[49m\n",
      "\u001b[31mTypeError\u001b[39m: person() takes 2 positional arguments but 5 were given"
     ]
    }
   ],
   "source": [
    "def person(name, age):\n",
    "    print(name)\n",
    "    print(age)\n",
    "\n",
    "person('nit',23,43,12,45)"
   ]
  },
  {
   "cell_type": "code",
   "execution_count": 22,
   "id": "43774730-c3f1-4723-aa29-8cbd705812fd",
   "metadata": {},
   "outputs": [
    {
     "name": "stdout",
     "output_type": "stream",
     "text": [
      "22\n",
      "nit\n"
     ]
    }
   ],
   "source": [
    "def person(name, age):\n",
    "    print(name)\n",
    "    print(age)\n",
    "\n",
    "person(22,'nit')"
   ]
  },
  {
   "cell_type": "code",
   "execution_count": 23,
   "id": "dabd22bf-7c0a-4c6c-b75a-7ba0eb6f9e8c",
   "metadata": {},
   "outputs": [
    {
     "name": "stdout",
     "output_type": "stream",
     "text": [
      "22\n"
     ]
    },
    {
     "ename": "TypeError",
     "evalue": "unsupported operand type(s) for -: 'str' and 'int'",
     "output_type": "error",
     "traceback": [
      "\u001b[31m---------------------------------------------------------------------------\u001b[39m",
      "\u001b[31mTypeError\u001b[39m                                 Traceback (most recent call last)",
      "\u001b[36mCell\u001b[39m\u001b[36m \u001b[39m\u001b[32mIn[23]\u001b[39m\u001b[32m, line 5\u001b[39m\n\u001b[32m      2\u001b[39m     \u001b[38;5;28mprint\u001b[39m(name)\n\u001b[32m      3\u001b[39m     \u001b[38;5;28mprint\u001b[39m(age-\u001b[32m1\u001b[39m)\n\u001b[32m----> \u001b[39m\u001b[32m5\u001b[39m \u001b[43mperson\u001b[49m\u001b[43m(\u001b[49m\u001b[32;43m22\u001b[39;49m\u001b[43m,\u001b[49m\u001b[33;43m'\u001b[39;49m\u001b[33;43mnit\u001b[39;49m\u001b[33;43m'\u001b[39;49m\u001b[43m)\u001b[49m\n",
      "\u001b[36mCell\u001b[39m\u001b[36m \u001b[39m\u001b[32mIn[23]\u001b[39m\u001b[32m, line 3\u001b[39m, in \u001b[36mperson\u001b[39m\u001b[34m(name, age)\u001b[39m\n\u001b[32m      1\u001b[39m \u001b[38;5;28;01mdef\u001b[39;00m\u001b[38;5;250m \u001b[39m\u001b[34mperson\u001b[39m(name, age):\n\u001b[32m      2\u001b[39m     \u001b[38;5;28mprint\u001b[39m(name)\n\u001b[32m----> \u001b[39m\u001b[32m3\u001b[39m     \u001b[38;5;28mprint\u001b[39m(\u001b[43mage\u001b[49m\u001b[43m-\u001b[49m\u001b[32;43m1\u001b[39;49m)\n",
      "\u001b[31mTypeError\u001b[39m: unsupported operand type(s) for -: 'str' and 'int'"
     ]
    }
   ],
   "source": [
    "def person(name, age):\n",
    "    print(name)\n",
    "    print(age-1)\n",
    "\n",
    "person(22,'nit')"
   ]
  },
  {
   "cell_type": "code",
   "execution_count": 24,
   "id": "a40d3bb4-7ab0-4a70-9d4d-9a39b391afa2",
   "metadata": {},
   "outputs": [
    {
     "name": "stdout",
     "output_type": "stream",
     "text": [
      "nit\n",
      "21\n"
     ]
    }
   ],
   "source": [
    "def person(name, age):\n",
    "    print(name)\n",
    "    print(age-1)\n",
    "\n",
    "person(age= 22,name= 'nit')"
   ]
  },
  {
   "cell_type": "markdown",
   "id": "051c71da-15a1-437a-af75-7c7febb29476",
   "metadata": {},
   "source": [
    "def person(name, age, new_age):\n",
    "    print(name)\n",
    "    print(age)\n",
    "\n",
    "person(age= 22,name= 'nit')"
   ]
  },
  {
   "cell_type": "code",
   "execution_count": 27,
   "id": "b1fec62c-9dd5-479b-a95d-a3cf36b91ed8",
   "metadata": {},
   "outputs": [
    {
     "name": "stdout",
     "output_type": "stream",
     "text": [
      "nit\n",
      "22\n",
      "25\n"
     ]
    }
   ],
   "source": [
    "def person(name, age, new_age):\n",
    "    print(name)\n",
    "    print(age)\n",
    "    print(new_age)\n",
    "\n",
    "person(age= 22,name= 'nit', new_age= 25)"
   ]
  },
  {
   "cell_type": "markdown",
   "id": "9621b636-52c8-42aa-ab53-a584e8b644a1",
   "metadata": {},
   "source": [
    "### default argument"
   ]
  },
  {
   "cell_type": "code",
   "execution_count": 28,
   "id": "373a70a9-0711-43e0-8aad-f34e54f4850d",
   "metadata": {},
   "outputs": [
    {
     "name": "stdout",
     "output_type": "stream",
     "text": [
      "nit\n",
      "18\n"
     ]
    }
   ],
   "source": [
    "def person(name, age=18): #assiging some default value while declaring the argument\n",
    "    print(name)\n",
    "    print(age)\n",
    "\n",
    "person('nit')"
   ]
  },
  {
   "cell_type": "code",
   "execution_count": 29,
   "id": "57b8da03-9063-4b83-b30c-23b348e637cb",
   "metadata": {},
   "outputs": [
    {
     "name": "stdout",
     "output_type": "stream",
     "text": [
      "nit\n",
      "24\n"
     ]
    }
   ],
   "source": [
    "def person(name, age=18):\n",
    "    print(name)\n",
    "    print(age)\n",
    "\n",
    "person('nit',24)"
   ]
  },
  {
   "cell_type": "markdown",
   "id": "5a77cfcd-cc4c-40ea-98f3-ad7b555582dc",
   "metadata": {},
   "source": [
    "### variable length argument(*)"
   ]
  },
  {
   "cell_type": "code",
   "execution_count": 31,
   "id": "6be290c5-7208-4335-8035-64f1607af726",
   "metadata": {},
   "outputs": [
    {
     "ename": "TypeError",
     "evalue": "person() takes 2 positional arguments but 4 were given",
     "output_type": "error",
     "traceback": [
      "\u001b[31m---------------------------------------------------------------------------\u001b[39m",
      "\u001b[31mTypeError\u001b[39m                                 Traceback (most recent call last)",
      "\u001b[36mCell\u001b[39m\u001b[36m \u001b[39m\u001b[32mIn[31]\u001b[39m\u001b[32m, line 5\u001b[39m\n\u001b[32m      2\u001b[39m     \u001b[38;5;28mprint\u001b[39m(name)\n\u001b[32m      3\u001b[39m     \u001b[38;5;28mprint\u001b[39m(age)\n\u001b[32m----> \u001b[39m\u001b[32m5\u001b[39m \u001b[43mperson\u001b[49m\u001b[43m(\u001b[49m\u001b[33;43m'\u001b[39;49m\u001b[33;43mnit\u001b[39;49m\u001b[33;43m'\u001b[39;49m\u001b[43m,\u001b[49m\u001b[32;43m2425\u001b[39;49m\u001b[43m,\u001b[49m\u001b[32;43m32\u001b[39;49m\u001b[43m,\u001b[49m\u001b[32;43m12\u001b[39;49m\u001b[43m)\u001b[49m\n",
      "\u001b[31mTypeError\u001b[39m: person() takes 2 positional arguments but 4 were given"
     ]
    }
   ],
   "source": [
    "def person(name, age):\n",
    "    print(name)\n",
    "    print(age)\n",
    "\n",
    "person('nit',24,25,32,12)"
   ]
  },
  {
   "cell_type": "code",
   "execution_count": 32,
   "id": "168e9d48-f74c-4d68-96cb-c0eae1c432b2",
   "metadata": {},
   "outputs": [
    {
     "name": "stdout",
     "output_type": "stream",
     "text": [
      "Bharat\n",
      "(24, 25, 32, 12)\n"
     ]
    }
   ],
   "source": [
    "def person(name, *age):\n",
    "    print(name)\n",
    "    print(age)\n",
    "\n",
    "person('Bharat',24,25,32,12)"
   ]
  },
  {
   "cell_type": "code",
   "execution_count": 33,
   "id": "1c559784-c613-4538-b006-9236efc0a9e3",
   "metadata": {},
   "outputs": [
    {
     "ename": "TypeError",
     "evalue": "unsupported operand type(s) for +: 'int' and 'tuple'",
     "output_type": "error",
     "traceback": [
      "\u001b[31m---------------------------------------------------------------------------\u001b[39m",
      "\u001b[31mTypeError\u001b[39m                                 Traceback (most recent call last)",
      "\u001b[36mCell\u001b[39m\u001b[36m \u001b[39m\u001b[32mIn[33]\u001b[39m\u001b[32m, line 5\u001b[39m\n\u001b[32m      2\u001b[39m     c=a+b\n\u001b[32m      3\u001b[39m     \u001b[38;5;28mprint\u001b[39m(c)\n\u001b[32m----> \u001b[39m\u001b[32m5\u001b[39m \u001b[38;5;28;43msum\u001b[39;49m\u001b[43m(\u001b[49m\u001b[32;43m5\u001b[39;49m\u001b[43m,\u001b[49m\u001b[32;43m6\u001b[39;49m\u001b[43m,\u001b[49m\u001b[32;43m7\u001b[39;49m\u001b[43m,\u001b[49m\u001b[32;43m8\u001b[39;49m\u001b[43m)\u001b[49m\n",
      "\u001b[36mCell\u001b[39m\u001b[36m \u001b[39m\u001b[32mIn[33]\u001b[39m\u001b[32m, line 2\u001b[39m, in \u001b[36msum\u001b[39m\u001b[34m(a, *b)\u001b[39m\n\u001b[32m      1\u001b[39m \u001b[38;5;28;01mdef\u001b[39;00m\u001b[38;5;250m \u001b[39m\u001b[34msum\u001b[39m (a, *b):\n\u001b[32m----> \u001b[39m\u001b[32m2\u001b[39m     c=\u001b[43ma\u001b[49m\u001b[43m+\u001b[49m\u001b[43mb\u001b[49m\n\u001b[32m      3\u001b[39m     \u001b[38;5;28mprint\u001b[39m(c)\n",
      "\u001b[31mTypeError\u001b[39m: unsupported operand type(s) for +: 'int' and 'tuple'"
     ]
    }
   ],
   "source": [
    "def sum (a, *b):\n",
    "    c=a+b\n",
    "    print(c)\n",
    "\n",
    "sum(5,6,7,8)"
   ]
  },
  {
   "cell_type": "code",
   "execution_count": 34,
   "id": "ed5d97e6-b68f-4177-8f7c-85f33464d106",
   "metadata": {},
   "outputs": [
    {
     "name": "stdout",
     "output_type": "stream",
     "text": [
      "5\n",
      "(6, 7, 8)\n"
     ]
    }
   ],
   "source": [
    "def sum (a, *b):\n",
    "    #c=a+b\n",
    "    print(a)\n",
    "    print(b)\n",
    "\n",
    "sum(5,6,7,8)"
   ]
  },
  {
   "cell_type": "code",
   "execution_count": 35,
   "id": "c9746d88-e2c1-4758-a251-27b5cda2031c",
   "metadata": {},
   "outputs": [
    {
     "name": "stdout",
     "output_type": "stream",
     "text": [
      "<class 'int'>\n",
      "<class 'tuple'>\n"
     ]
    }
   ],
   "source": [
    "def sum (a, *b):\n",
    "    #c=a+b\n",
    "    print(type(a))\n",
    "    print(type(b))\n",
    "\n",
    "sum(5,6,7,8)"
   ]
  },
  {
   "cell_type": "code",
   "execution_count": 37,
   "id": "d14666ca-140f-480f-b632-e4c5f34374be",
   "metadata": {},
   "outputs": [
    {
     "name": "stdout",
     "output_type": "stream",
     "text": [
      "26\n"
     ]
    }
   ],
   "source": [
    "def sum (a, *b):\n",
    "    c= a\n",
    "    for i in b:\n",
    "        c=c+i\n",
    "    print(c)\n",
    "\n",
    "sum(5,6,7,8)"
   ]
  },
  {
   "cell_type": "code",
   "execution_count": 38,
   "id": "466d3d6a-9805-4895-b929-854cf3bd7a24",
   "metadata": {},
   "outputs": [
    {
     "name": "stdout",
     "output_type": "stream",
     "text": [
      "21\n"
     ]
    }
   ],
   "source": [
    "def sum (a, *b):\n",
    "    c= 0\n",
    "    for i in b:\n",
    "        c=c+i\n",
    "    print(c)\n",
    "\n",
    "sum(5,6,7,8)"
   ]
  },
  {
   "cell_type": "markdown",
   "id": "7125705a-c951-4e65-80a4-f668e91395c2",
   "metadata": {},
   "source": [
    "### Kwargs"
   ]
  },
  {
   "cell_type": "code",
   "execution_count": 39,
   "id": "85046dbc-2484-441d-b584-9d4de4284a9b",
   "metadata": {},
   "outputs": [],
   "source": [
    "def person():\n",
    "    person('Alex',36,'John',45)"
   ]
  },
  {
   "cell_type": "code",
   "execution_count": 40,
   "id": "09c564c2-21ae-4d05-a07c-f1a6dcbaed6c",
   "metadata": {},
   "outputs": [
    {
     "name": "stdout",
     "output_type": "stream",
     "text": [
      "Alex\n",
      "(36, 'John', 45)\n"
     ]
    }
   ],
   "source": [
    "def person(name, *data):\n",
    "    print(name)\n",
    "    print(data)\n",
    "\n",
    "person('Alex',36,'John',45)"
   ]
  },
  {
   "cell_type": "code",
   "execution_count": 41,
   "id": "57af3d4c-04ce-44e2-aa46-cab752455f4d",
   "metadata": {},
   "outputs": [
    {
     "name": "stdout",
     "output_type": "stream",
     "text": [
      "Sai\n",
      "{'age': 36, 'city': 'hyd', 'mobileno': 1514115}\n"
     ]
    }
   ],
   "source": [
    "def person(name, **data):\n",
    "    print(name)\n",
    "    print(data)\n",
    "\n",
    "person('Sai',age=36,city='hyd',mobileno =1514115)"
   ]
  },
  {
   "cell_type": "code",
   "execution_count": 42,
   "id": "917f4c44-eeb1-4991-9bba-b6b1f6ce0024",
   "metadata": {},
   "outputs": [
    {
     "name": "stdout",
     "output_type": "stream",
     "text": [
      "Sai\n",
      "{'age': 36, 'city': 'hyd', 'mobileno': 1514115, 'salary': 51000}\n"
     ]
    }
   ],
   "source": [
    "def person(name, **data):\n",
    "    print(name)\n",
    "    print(data)\n",
    "\n",
    "person('Sai',age=36,city='hyd',mobileno =1514115,salary=51000)"
   ]
  },
  {
   "cell_type": "markdown",
   "id": "c29475e2-2749-4994-a17f-bbb3a910216c",
   "metadata": {},
   "source": [
    "### global variable & local Variable"
   ]
  },
  {
   "cell_type": "code",
   "execution_count": 44,
   "id": "1ccb69cd-1112-4173-924c-0cc4b804ee02",
   "metadata": {},
   "outputs": [],
   "source": [
    "a= 21 #global variable\n",
    "def something():\n",
    "    b=15 # local varible"
   ]
  },
  {
   "cell_type": "code",
   "execution_count": 45,
   "id": "03f5551c-b195-440f-aed2-ad743885cd1f",
   "metadata": {},
   "outputs": [],
   "source": [
    "a= 21 #global variable\n",
    "def something():\n",
    "    b=15 # local varible\n",
    "\n",
    "    print('in funt',b)\n",
    "    print('out funt',a)"
   ]
  },
  {
   "cell_type": "code",
   "execution_count": 46,
   "id": "1e808789-009b-43bc-9189-ddbba1dcd146",
   "metadata": {},
   "outputs": [
    {
     "name": "stdout",
     "output_type": "stream",
     "text": [
      "out funt 21\n"
     ]
    }
   ],
   "source": [
    "a= 21 #global variable\n",
    "def something():\n",
    "    b=15 # local varible\n",
    "\n",
    "    print('in funt',b)\n",
    "print('out funt',a)"
   ]
  },
  {
   "cell_type": "code",
   "execution_count": 48,
   "id": "18bf906d-f902-4555-ab09-41418139786a",
   "metadata": {},
   "outputs": [
    {
     "name": "stdout",
     "output_type": "stream",
     "text": [
      "in funt 21\n",
      "out funt 21\n"
     ]
    }
   ],
   "source": [
    "a= 21 #global variable\n",
    "def something():\n",
    "    a=15 # local varible\n",
    "\n",
    "print('in funt',a)\n",
    "print('out funt',a)"
   ]
  },
  {
   "cell_type": "code",
   "execution_count": 49,
   "id": "0fc4c936-1937-4540-81c5-817678ad053b",
   "metadata": {},
   "outputs": [
    {
     "name": "stdout",
     "output_type": "stream",
     "text": [
      "in funt 15\n",
      "out funt 21\n"
     ]
    }
   ],
   "source": [
    "a= 21 #global variable\n",
    "def something():\n",
    "    b=15 # local varible\n",
    "    print('in funt',b)\n",
    "something()\n",
    "\n",
    "print('out funt',a)"
   ]
  },
  {
   "cell_type": "code",
   "execution_count": 51,
   "id": "4fc20e94-4e05-4e9a-998b-5c5cce670e79",
   "metadata": {},
   "outputs": [
    {
     "name": "stdout",
     "output_type": "stream",
     "text": [
      "in funt 17\n",
      "out funt 17\n"
     ]
    }
   ],
   "source": [
    "a= 17 #global variable\n",
    "def something():\n",
    "    print('in funt',a)\n",
    "something()\n",
    "\n",
    "print('out funt',a)"
   ]
  },
  {
   "cell_type": "code",
   "execution_count": 55,
   "id": "720ed369-3095-4fa6-8ee9-9f6cd0f6de94",
   "metadata": {},
   "outputs": [
    {
     "name": "stdout",
     "output_type": "stream",
     "text": [
      "in funtion 19\n",
      "gloabl variable 15\n",
      "out function 15\n"
     ]
    }
   ],
   "source": [
    "a= 15\n",
    "def some():\n",
    "    global a\n",
    "    b= 19\n",
    "    print('in funtion',b)\n",
    "    print('gloabl variable',a)\n",
    "\n",
    "some()\n",
    "\n",
    "print('out function',a)"
   ]
  },
  {
   "cell_type": "code",
   "execution_count": 58,
   "id": "07080f96-943d-4475-b705-5048ca060e41",
   "metadata": {},
   "outputs": [
    {
     "name": "stdout",
     "output_type": "stream",
     "text": [
      "in funtion 20\n",
      "out funtion 20\n"
     ]
    }
   ],
   "source": [
    "n= 40\n",
    "def some():\n",
    "    global n\n",
    "    n=20\n",
    "    print('in funtion',n)\n",
    "\n",
    "    n=20\n",
    "\n",
    "some()\n",
    "print('out funtion',n)"
   ]
  },
  {
   "cell_type": "code",
   "execution_count": 62,
   "id": "07aa9df9-069f-4341-b062-9987ef64de8a",
   "metadata": {},
   "outputs": [
    {
     "name": "stdout",
     "output_type": "stream",
     "text": [
      "in funtion 20\n",
      "40\n"
     ]
    }
   ],
   "source": [
    "n= 30\n",
    "def some():\n",
    "    global n\n",
    "    n=20\n",
    "    print('in funtion',n)\n",
    "\n",
    "    n+=20\n",
    "some()\n",
    "print(n)"
   ]
  },
  {
   "cell_type": "code",
   "execution_count": 65,
   "id": "4579200a-d624-4ff2-9cee-9cbe289750b3",
   "metadata": {},
   "outputs": [
    {
     "name": "stdout",
     "output_type": "stream",
     "text": [
      "25\n"
     ]
    }
   ],
   "source": [
    "x=20\n",
    "def update_x():\n",
    "    global x\n",
    "    x+=5\n",
    "\n",
    "update_x()\n",
    "print(x)"
   ]
  },
  {
   "cell_type": "code",
   "execution_count": 67,
   "id": "87ff2d8d-45f3-4f7b-a08c-f33f404f9ac1",
   "metadata": {},
   "outputs": [
    {
     "name": "stdout",
     "output_type": "stream",
     "text": [
      "35\n"
     ]
    }
   ],
   "source": [
    "x= 30\n",
    "\n",
    "def update_x():\n",
    "    globals()['x']+=5 #globals()- \n",
    "update_x()\n",
    "print(x)"
   ]
  },
  {
   "cell_type": "code",
   "execution_count": null,
   "id": "f204f103-ff3f-418b-8f7e-ce6130aac94a",
   "metadata": {},
   "outputs": [],
   "source": []
  }
 ],
 "metadata": {
  "kernelspec": {
   "display_name": "Python 3 (ipykernel)",
   "language": "python",
   "name": "python3"
  },
  "language_info": {
   "codemirror_mode": {
    "name": "ipython",
    "version": 3
   },
   "file_extension": ".py",
   "mimetype": "text/x-python",
   "name": "python",
   "nbconvert_exporter": "python",
   "pygments_lexer": "ipython3",
   "version": "3.13.5"
  }
 },
 "nbformat": 4,
 "nbformat_minor": 5
}
