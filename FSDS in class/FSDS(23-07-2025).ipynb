{
 "cells": [
  {
   "cell_type": "markdown",
   "id": "ff56cab1",
   "metadata": {},
   "source": [
    "### Function"
   ]
  },
  {
   "cell_type": "code",
   "execution_count": null,
   "id": "1ab4cba1",
   "metadata": {},
   "outputs": [],
   "source": []
  }
 ],
 "metadata": {
  "language_info": {
   "name": "python"
  }
 },
 "nbformat": 4,
 "nbformat_minor": 5
}
