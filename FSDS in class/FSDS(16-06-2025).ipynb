{
 "cells": [
  {
   "cell_type": "code",
   "execution_count": 1,
   "id": "78af465e-4402-4ae1-8f50-20a5d75e9b83",
   "metadata": {},
   "outputs": [
    {
     "data": {
      "text/plain": [
       "3"
      ]
     },
     "execution_count": 1,
     "metadata": {},
     "output_type": "execute_result"
    }
   ],
   "source": [
    "3 #numirecal variable"
   ]
  },
  {
   "cell_type": "code",
   "execution_count": 3,
   "id": "f45e8d73-8d07-4fd8-90fc-4b2fccbb8f9c",
   "metadata": {},
   "outputs": [
    {
     "data": {
      "text/plain": [
       "5"
      ]
     },
     "execution_count": 3,
     "metadata": {},
     "output_type": "execute_result"
    }
   ],
   "source": [
    "3+2 # addtion of numerical variable"
   ]
  },
  {
   "cell_type": "code",
   "execution_count": 4,
   "id": "aa9d2ff2-0bd4-4b28-9200-2b9997b7ccd0",
   "metadata": {},
   "outputs": [
    {
     "data": {
      "text/plain": [
       "2"
      ]
     },
     "execution_count": 4,
     "metadata": {},
     "output_type": "execute_result"
    }
   ],
   "source": [
    "3-1 #substraction of numerical variable"
   ]
  },
  {
   "cell_type": "code",
   "execution_count": 5,
   "id": "31697f86-0758-4e41-886a-982535e14669",
   "metadata": {},
   "outputs": [
    {
     "data": {
      "text/plain": [
       "9"
      ]
     },
     "execution_count": 5,
     "metadata": {},
     "output_type": "execute_result"
    }
   ],
   "source": [
    "3*3 #multplicatin of numerical value"
   ]
  },
  {
   "cell_type": "code",
   "execution_count": 6,
   "id": "dc829e6c-1bf6-4ee3-9bcd-7ec77d4cd624",
   "metadata": {},
   "outputs": [
    {
     "data": {
      "text/plain": [
       "4.0"
      ]
     },
     "execution_count": 6,
     "metadata": {},
     "output_type": "execute_result"
    }
   ],
   "source": [
    "8/2 #float division of numerical value"
   ]
  },
  {
   "cell_type": "code",
   "execution_count": 7,
   "id": "cc86441a-190e-463e-85aa-36c61a739fb6",
   "metadata": {},
   "outputs": [
    {
     "data": {
      "text/plain": [
       "4"
      ]
     },
     "execution_count": 7,
     "metadata": {},
     "output_type": "execute_result"
    }
   ],
   "source": [
    "8//2 #integer division of numerical value"
   ]
  },
  {
   "cell_type": "code",
   "execution_count": 9,
   "id": "843629cc-8364-4fb7-a037-2bdfefb94f89",
   "metadata": {},
   "outputs": [
    {
     "data": {
      "text/plain": [
       "16"
      ]
     },
     "execution_count": 9,
     "metadata": {},
     "output_type": "execute_result"
    }
   ],
   "source": [
    "4**2 #square oof numerical variable"
   ]
  },
  {
   "cell_type": "code",
   "execution_count": 16,
   "id": "93145e99-7a26-452c-9761-f7cec0e11770",
   "metadata": {},
   "outputs": [
    {
     "data": {
      "text/plain": [
       "64"
      ]
     },
     "execution_count": 16,
     "metadata": {},
     "output_type": "execute_result"
    }
   ],
   "source": [
    "4**3 #cube of numerical variable"
   ]
  },
  {
   "cell_type": "code",
   "execution_count": 17,
   "id": "19017ed0-e373-4b61-b137-5d4f6e997d66",
   "metadata": {},
   "outputs": [
    {
     "data": {
      "text/plain": [
       "64"
      ]
     },
     "execution_count": 17,
     "metadata": {},
     "output_type": "execute_result"
    }
   ],
   "source": [
    "_ #represents the previous stored variable"
   ]
  },
  {
   "cell_type": "code",
   "execution_count": 18,
   "id": "b9679405-3ab0-4ee1-9b76-a90dbfa37449",
   "metadata": {},
   "outputs": [
    {
     "data": {
      "text/plain": [
       "68"
      ]
     },
     "execution_count": 18,
     "metadata": {},
     "output_type": "execute_result"
    }
   ],
   "source": [
    "_+4 # addition with _"
   ]
  },
  {
   "cell_type": "code",
   "execution_count": 19,
   "id": "7ad603d2-14f0-49b4-bb34-41091d127a6b",
   "metadata": {},
   "outputs": [
    {
     "data": {
      "text/plain": [
       "65"
      ]
     },
     "execution_count": 19,
     "metadata": {},
     "output_type": "execute_result"
    }
   ],
   "source": [
    "_-3 #substraction with _"
   ]
  },
  {
   "cell_type": "code",
   "execution_count": 21,
   "id": "a52061f3-d0b1-4368-91cc-08d0dd246327",
   "metadata": {},
   "outputs": [
    {
     "data": {
      "text/plain": [
       "8"
      ]
     },
     "execution_count": 21,
     "metadata": {},
     "output_type": "execute_result"
    }
   ],
   "source": [
    "2+3*4-5-1"
   ]
  },
  {
   "cell_type": "code",
   "execution_count": 22,
   "id": "5bb6f6f4-1b8a-4ea6-b6a0-bdb32ffaa136",
   "metadata": {},
   "outputs": [
    {
     "data": {
      "text/plain": [
       "10"
      ]
     },
     "execution_count": 22,
     "metadata": {},
     "output_type": "execute_result"
    }
   ],
   "source": [
    "2+3*4-(5-1)"
   ]
  },
  {
   "cell_type": "code",
   "execution_count": 24,
   "id": "29c43093-64b3-4887-8478-45bf7b0eead5",
   "metadata": {},
   "outputs": [
    {
     "data": {
      "text/plain": [
       "3.141592653589793"
      ]
     },
     "execution_count": 24,
     "metadata": {},
     "output_type": "execute_result"
    }
   ],
   "source": [
    "import math\n",
    "math.pi"
   ]
  },
  {
   "cell_type": "code",
   "execution_count": 25,
   "id": "9f98c384-5963-40f2-8bcd-4f901db7ed20",
   "metadata": {},
   "outputs": [
    {
     "data": {
      "text/plain": [
       "16"
      ]
     },
     "execution_count": 25,
     "metadata": {},
     "output_type": "execute_result"
    }
   ],
   "source": [
    "math.ceil(15.62)"
   ]
  },
  {
   "cell_type": "code",
   "execution_count": 26,
   "id": "bcc6c3e8-4f57-4299-bbfc-79a1c2d9d41e",
   "metadata": {},
   "outputs": [
    {
     "data": {
      "text/plain": [
       "15"
      ]
     },
     "execution_count": 26,
     "metadata": {},
     "output_type": "execute_result"
    }
   ],
   "source": [
    "math.floor(15.62)"
   ]
  },
  {
   "cell_type": "code",
   "execution_count": 27,
   "id": "386f30b6-7946-4c27-a39b-e5e215e086db",
   "metadata": {},
   "outputs": [
    {
     "ename": "SyntaxError",
     "evalue": "invalid syntax (2951663929.py, line 1)",
     "output_type": "error",
     "traceback": [
      "\u001b[1;36m  Cell \u001b[1;32mIn[27], line 1\u001b[1;36m\u001b[0m\n\u001b[1;33m    Welcome to Hyderabad\u001b[0m\n\u001b[1;37m            ^\u001b[0m\n\u001b[1;31mSyntaxError\u001b[0m\u001b[1;31m:\u001b[0m invalid syntax\n"
     ]
    }
   ],
   "source": [
    "Welcome to Hyderabad"
   ]
  },
  {
   "cell_type": "code",
   "execution_count": 29,
   "id": "5e530b8e-2518-421f-b1b4-b5adb33f1c13",
   "metadata": {},
   "outputs": [
    {
     "data": {
      "text/plain": [
       "'Welcome to Hyderabad'"
      ]
     },
     "execution_count": 29,
     "metadata": {},
     "output_type": "execute_result"
    }
   ],
   "source": [
    "'Welcome to Hyderabad' # string variable should be in single/double/triple quates"
   ]
  },
  {
   "cell_type": "code",
   "execution_count": 30,
   "id": "0267f759-b498-4830-bc6e-41e9e636112a",
   "metadata": {},
   "outputs": [
    {
     "data": {
      "text/plain": [
       "'Welcome to Hyderabad'"
      ]
     },
     "execution_count": 30,
     "metadata": {},
     "output_type": "execute_result"
    }
   ],
   "source": [
    "\"Welcome to Hyderabad\""
   ]
  },
  {
   "cell_type": "code",
   "execution_count": 31,
   "id": "13b00193-72f9-40af-8e01-5196241219ca",
   "metadata": {},
   "outputs": [
    {
     "data": {
      "text/plain": [
       "'Welcome to Hyderabad'"
      ]
     },
     "execution_count": 31,
     "metadata": {},
     "output_type": "execute_result"
    }
   ],
   "source": [
    "'''Welcome to Hyderabad'''"
   ]
  },
  {
   "cell_type": "code",
   "execution_count": 32,
   "id": "457f0595-3e94-4f33-9891-50b8666fbe55",
   "metadata": {},
   "outputs": [
    {
     "ename": "SyntaxError",
     "evalue": "unterminated string literal (detected at line 1) (3332023329.py, line 1)",
     "output_type": "error",
     "traceback": [
      "\u001b[1;36m  Cell \u001b[1;32mIn[32], line 1\u001b[1;36m\u001b[0m\n\u001b[1;33m    'Welcome to\u001b[0m\n\u001b[1;37m    ^\u001b[0m\n\u001b[1;31mSyntaxError\u001b[0m\u001b[1;31m:\u001b[0m unterminated string literal (detected at line 1)\n"
     ]
    }
   ],
   "source": [
    "'Welcome to \n",
    "Hyderabad'"
   ]
  },
  {
   "cell_type": "code",
   "execution_count": 34,
   "id": "a6feb69f-4bd5-4912-a8d7-9d4d18391752",
   "metadata": {},
   "outputs": [
    {
     "ename": "SyntaxError",
     "evalue": "unterminated string literal (detected at line 1) (3309525312.py, line 1)",
     "output_type": "error",
     "traceback": [
      "\u001b[1;36m  Cell \u001b[1;32mIn[34], line 1\u001b[1;36m\u001b[0m\n\u001b[1;33m    \"Welcome to\u001b[0m\n\u001b[1;37m    ^\u001b[0m\n\u001b[1;31mSyntaxError\u001b[0m\u001b[1;31m:\u001b[0m unterminated string literal (detected at line 1)\n"
     ]
    }
   ],
   "source": [
    "\"Welcome to \n",
    "Hyderabad\""
   ]
  },
  {
   "cell_type": "code",
   "execution_count": 35,
   "id": "3dcea865-f67a-469b-9dd5-6182237213b0",
   "metadata": {},
   "outputs": [
    {
     "data": {
      "text/plain": [
       "'Welcome to \\nHyderabad'"
      ]
     },
     "execution_count": 35,
     "metadata": {},
     "output_type": "execute_result"
    }
   ],
   "source": [
    "'''Welcome to \n",
    "Hyderabad'''"
   ]
  },
  {
   "cell_type": "code",
   "execution_count": 36,
   "id": "1e5dac9e-129b-4279-a178-765d26d5f335",
   "metadata": {},
   "outputs": [
    {
     "data": {
      "text/plain": [
       "'Welcome to \\nHyderabad'"
      ]
     },
     "execution_count": 36,
     "metadata": {},
     "output_type": "execute_result"
    }
   ],
   "source": [
    "_"
   ]
  },
  {
   "cell_type": "code",
   "execution_count": null,
   "id": "e489433b-b90f-44bd-b51e-6c11a0b9960f",
   "metadata": {},
   "outputs": [],
   "source": []
  },
  {
   "cell_type": "code",
   "execution_count": null,
   "id": "b2983e60-6352-4a1e-ae66-0ec37d2e3739",
   "metadata": {},
   "outputs": [],
   "source": []
  }
 ],
 "metadata": {
  "kernelspec": {
   "display_name": "Python 3 (ipykernel)",
   "language": "python",
   "name": "python3"
  },
  "language_info": {
   "codemirror_mode": {
    "name": "ipython",
    "version": 3
   },
   "file_extension": ".py",
   "mimetype": "text/x-python",
   "name": "python",
   "nbconvert_exporter": "python",
   "pygments_lexer": "ipython3",
   "version": "3.10.9"
  }
 },
 "nbformat": 4,
 "nbformat_minor": 5
}
