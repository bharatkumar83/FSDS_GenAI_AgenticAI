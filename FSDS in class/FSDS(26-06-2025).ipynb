{
 "cells": [
  {
   "cell_type": "code",
   "execution_count": 1,
   "id": "b1621a79-fc7b-4684-b6e1-109a8f618526",
   "metadata": {},
   "outputs": [],
   "source": [
    "s={}"
   ]
  },
  {
   "cell_type": "code",
   "execution_count": 2,
   "id": "931a61eb-4d35-4db0-9dea-187a59c675e0",
   "metadata": {},
   "outputs": [
    {
     "data": {
      "text/plain": [
       "{}"
      ]
     },
     "execution_count": 2,
     "metadata": {},
     "output_type": "execute_result"
    }
   ],
   "source": [
    "s"
   ]
  },
  {
   "cell_type": "code",
   "execution_count": 3,
   "id": "387e9bf2-c4b2-48d4-959b-53f0c43260f3",
   "metadata": {},
   "outputs": [
    {
     "data": {
      "text/plain": [
       "dict"
      ]
     },
     "execution_count": 3,
     "metadata": {},
     "output_type": "execute_result"
    }
   ],
   "source": [
    "type(s)"
   ]
  },
  {
   "cell_type": "code",
   "execution_count": 4,
   "id": "f73b03a7-4199-468b-a963-d7d088e5a0c6",
   "metadata": {},
   "outputs": [
    {
     "data": {
      "text/plain": [
       "set()"
      ]
     },
     "execution_count": 4,
     "metadata": {},
     "output_type": "execute_result"
    }
   ],
   "source": [
    "s1= set()\n",
    "s1"
   ]
  },
  {
   "cell_type": "code",
   "execution_count": 5,
   "id": "425ade8d-d88f-4865-ae13-b8d70e522b06",
   "metadata": {},
   "outputs": [
    {
     "data": {
      "text/plain": [
       "set"
      ]
     },
     "execution_count": 5,
     "metadata": {},
     "output_type": "execute_result"
    }
   ],
   "source": [
    "type(s1)"
   ]
  },
  {
   "cell_type": "code",
   "execution_count": 6,
   "id": "8ff6cd5a-372d-407e-9d0d-51a93efe6a34",
   "metadata": {},
   "outputs": [],
   "source": [
    "s1.add(21)"
   ]
  },
  {
   "cell_type": "code",
   "execution_count": 7,
   "id": "9283dca1-6792-423b-969c-d91f39b6b1e3",
   "metadata": {},
   "outputs": [
    {
     "data": {
      "text/plain": [
       "{21}"
      ]
     },
     "execution_count": 7,
     "metadata": {},
     "output_type": "execute_result"
    }
   ],
   "source": [
    "s1"
   ]
  },
  {
   "cell_type": "code",
   "execution_count": 8,
   "id": "55813cb9-542d-4c3e-bcca-608eb08cf277",
   "metadata": {},
   "outputs": [
    {
     "ename": "TypeError",
     "evalue": "'set' object is not callable",
     "output_type": "error",
     "traceback": [
      "\u001b[1;31m---------------------------------------------------------------------------\u001b[0m",
      "\u001b[1;31mTypeError\u001b[0m                                 Traceback (most recent call last)",
      "Cell \u001b[1;32mIn[8], line 1\u001b[0m\n\u001b[1;32m----> 1\u001b[0m \u001b[43ms1\u001b[49m\u001b[43m(\u001b[49m\u001b[38;5;241;43m22\u001b[39;49m\u001b[43m,\u001b[49m\u001b[38;5;241;43m23\u001b[39;49m\u001b[43m)\u001b[49m\n",
      "\u001b[1;31mTypeError\u001b[0m: 'set' object is not callable"
     ]
    }
   ],
   "source": [
    "s1(22,23)"
   ]
  },
  {
   "cell_type": "code",
   "execution_count": 9,
   "id": "978d199f-cacf-4c38-adbd-f9bec57a36fb",
   "metadata": {},
   "outputs": [],
   "source": [
    "s1.add(10)\n",
    "s1.add(34)\n",
    "s1.add(90)"
   ]
  },
  {
   "cell_type": "code",
   "execution_count": 10,
   "id": "321b22b6-7cfe-40d9-b55e-0ab4a8d6b250",
   "metadata": {},
   "outputs": [
    {
     "data": {
      "text/plain": [
       "{10, 21, 34, 90}"
      ]
     },
     "execution_count": 10,
     "metadata": {},
     "output_type": "execute_result"
    }
   ],
   "source": [
    "s1"
   ]
  },
  {
   "cell_type": "code",
   "execution_count": 11,
   "id": "46ea46d7-0484-4058-9059-aa03336b6150",
   "metadata": {},
   "outputs": [],
   "source": [
    "s1.add(10)"
   ]
  },
  {
   "cell_type": "code",
   "execution_count": 12,
   "id": "432f1bba-a4b1-4ebf-a8a6-e3ce057b3214",
   "metadata": {},
   "outputs": [
    {
     "data": {
      "text/plain": [
       "{10, 21, 34, 90}"
      ]
     },
     "execution_count": 12,
     "metadata": {},
     "output_type": "execute_result"
    }
   ],
   "source": [
    "s1"
   ]
  },
  {
   "cell_type": "code",
   "execution_count": 13,
   "id": "479eda0b-a010-4fa1-a392-f1d164987ea3",
   "metadata": {},
   "outputs": [
    {
     "ename": "TypeError",
     "evalue": "'set' object is not subscriptable",
     "output_type": "error",
     "traceback": [
      "\u001b[1;31m---------------------------------------------------------------------------\u001b[0m",
      "\u001b[1;31mTypeError\u001b[0m                                 Traceback (most recent call last)",
      "Cell \u001b[1;32mIn[13], line 1\u001b[0m\n\u001b[1;32m----> 1\u001b[0m \u001b[43ms1\u001b[49m\u001b[43m[\u001b[49m\u001b[38;5;241;43m0\u001b[39;49m\u001b[43m]\u001b[49m\n",
      "\u001b[1;31mTypeError\u001b[0m: 'set' object is not subscriptable"
     ]
    }
   ],
   "source": [
    "s1[0]"
   ]
  },
  {
   "cell_type": "code",
   "execution_count": 14,
   "id": "1b11e633-3402-4c0a-844a-6cd649d9babc",
   "metadata": {},
   "outputs": [
    {
     "ename": "TypeError",
     "evalue": "'set' object is not subscriptable",
     "output_type": "error",
     "traceback": [
      "\u001b[1;31m---------------------------------------------------------------------------\u001b[0m",
      "\u001b[1;31mTypeError\u001b[0m                                 Traceback (most recent call last)",
      "Cell \u001b[1;32mIn[14], line 1\u001b[0m\n\u001b[1;32m----> 1\u001b[0m \u001b[43ms1\u001b[49m\u001b[43m[\u001b[49m\u001b[43m:\u001b[49m\u001b[43m]\u001b[49m\n",
      "\u001b[1;31mTypeError\u001b[0m: 'set' object is not subscriptable"
     ]
    }
   ],
   "source": [
    "s1[:]"
   ]
  },
  {
   "cell_type": "code",
   "execution_count": 21,
   "id": "208a15e8-e60a-4dab-8a4c-c8f66edb4342",
   "metadata": {},
   "outputs": [
    {
     "data": {
      "text/plain": [
       "set()"
      ]
     },
     "execution_count": 21,
     "metadata": {},
     "output_type": "execute_result"
    }
   ],
   "source": [
    "s2=set()\n",
    "s2"
   ]
  },
  {
   "cell_type": "code",
   "execution_count": 22,
   "id": "1255c11a-b629-48d0-9337-97003a44905b",
   "metadata": {},
   "outputs": [],
   "source": [
    "s2.add(12)\n",
    "s2.add(1.3)\n",
    "s2.add(1+2j)\n",
    "s2.add(True)\n",
    "s2.add('Bharat')"
   ]
  },
  {
   "cell_type": "code",
   "execution_count": 23,
   "id": "f649aba8-2455-4402-ab8e-291d61f4f334",
   "metadata": {},
   "outputs": [
    {
     "data": {
      "text/plain": [
       "{(1+2j), 1.3, 12, 'Bharat', True}"
      ]
     },
     "execution_count": 23,
     "metadata": {},
     "output_type": "execute_result"
    }
   ],
   "source": [
    "s2"
   ]
  },
  {
   "cell_type": "code",
   "execution_count": 24,
   "id": "37aece6e-7d64-4f2a-ba48-060919896a1e",
   "metadata": {},
   "outputs": [
    {
     "name": "stdout",
     "output_type": "stream",
     "text": [
      "{10, 90, 34, 21}\n",
      "{1.3, True, (1+2j), 12, 'Bharat'}\n"
     ]
    }
   ],
   "source": [
    "print(s1)\n",
    "print(s2)"
   ]
  },
  {
   "cell_type": "code",
   "execution_count": 25,
   "id": "ae35176f-73f2-4022-8aef-8c77dd910620",
   "metadata": {},
   "outputs": [
    {
     "data": {
      "text/plain": [
       "False"
      ]
     },
     "execution_count": 25,
     "metadata": {},
     "output_type": "execute_result"
    }
   ],
   "source": [
    "id(s1)==id(s2)"
   ]
  },
  {
   "cell_type": "code",
   "execution_count": 26,
   "id": "5c3266fb-07e2-4627-940e-d2e160b33e48",
   "metadata": {},
   "outputs": [
    {
     "data": {
      "text/plain": [
       "{(1+2j), 1.3, 12, 'Bharat', True}"
      ]
     },
     "execution_count": 26,
     "metadata": {},
     "output_type": "execute_result"
    }
   ],
   "source": [
    "s3= s2.copy()\n",
    "s3"
   ]
  },
  {
   "cell_type": "code",
   "execution_count": 27,
   "id": "4c5cf184-8b0e-46d5-b16e-dfdc795cc267",
   "metadata": {},
   "outputs": [
    {
     "data": {
      "text/plain": [
       "True"
      ]
     },
     "execution_count": 27,
     "metadata": {},
     "output_type": "execute_result"
    }
   ],
   "source": [
    "s3==s2"
   ]
  },
  {
   "cell_type": "code",
   "execution_count": 28,
   "id": "e06bed8a-98d4-4083-8751-611bfd7b1d13",
   "metadata": {},
   "outputs": [
    {
     "name": "stdout",
     "output_type": "stream",
     "text": [
      "{10, 90, 34, 21}\n",
      "{1.3, True, (1+2j), 12, 'Bharat'}\n",
      "{1.3, True, (1+2j), 12, 'Bharat'}\n"
     ]
    }
   ],
   "source": [
    "print(s1)\n",
    "print(s2)\n",
    "print(s3)"
   ]
  },
  {
   "cell_type": "code",
   "execution_count": 29,
   "id": "77ad2a10-b533-490a-bb8d-8560d886deb0",
   "metadata": {},
   "outputs": [
    {
     "data": {
      "text/plain": [
       "1.3"
      ]
     },
     "execution_count": 29,
     "metadata": {},
     "output_type": "execute_result"
    }
   ],
   "source": [
    "s2.pop()"
   ]
  },
  {
   "cell_type": "code",
   "execution_count": 30,
   "id": "e6c4dcb4-6cc7-4e52-9ed7-ccdf253a50aa",
   "metadata": {},
   "outputs": [],
   "source": [
    "s2.remove(1+2j)"
   ]
  },
  {
   "cell_type": "code",
   "execution_count": 31,
   "id": "9221479e-19a7-4d23-b6aa-05bdb78ad848",
   "metadata": {},
   "outputs": [
    {
     "data": {
      "text/plain": [
       "{12, 'Bharat', True}"
      ]
     },
     "execution_count": 31,
     "metadata": {},
     "output_type": "execute_result"
    }
   ],
   "source": [
    "s2"
   ]
  },
  {
   "cell_type": "code",
   "execution_count": 32,
   "id": "b66382e3-1699-4563-92df-e04af3f115d5",
   "metadata": {},
   "outputs": [
    {
     "ename": "KeyError",
     "evalue": "1000",
     "output_type": "error",
     "traceback": [
      "\u001b[1;31m---------------------------------------------------------------------------\u001b[0m",
      "\u001b[1;31mKeyError\u001b[0m                                  Traceback (most recent call last)",
      "Cell \u001b[1;32mIn[32], line 1\u001b[0m\n\u001b[1;32m----> 1\u001b[0m \u001b[43ms2\u001b[49m\u001b[38;5;241;43m.\u001b[39;49m\u001b[43mremove\u001b[49m\u001b[43m(\u001b[49m\u001b[38;5;241;43m1000\u001b[39;49m\u001b[43m)\u001b[49m\n",
      "\u001b[1;31mKeyError\u001b[0m: 1000"
     ]
    }
   ],
   "source": [
    "s2.remove(1000)"
   ]
  },
  {
   "cell_type": "code",
   "execution_count": 33,
   "id": "8a8aaa05-3eb6-4094-bdfa-bda4fe17fa9d",
   "metadata": {},
   "outputs": [],
   "source": [
    "s2.discard(1000)"
   ]
  },
  {
   "cell_type": "code",
   "execution_count": 34,
   "id": "d461793d-31af-4324-acf2-f8c67c351f09",
   "metadata": {},
   "outputs": [
    {
     "name": "stdout",
     "output_type": "stream",
     "text": [
      "10\n",
      "90\n",
      "34\n",
      "21\n"
     ]
    }
   ],
   "source": [
    "for i in s1:\n",
    "    print(i)"
   ]
  },
  {
   "cell_type": "code",
   "execution_count": 35,
   "id": "da4b9c92-a78a-4796-9184-0bc7364a438b",
   "metadata": {},
   "outputs": [
    {
     "name": "stdout",
     "output_type": "stream",
     "text": [
      "(0, 10)\n",
      "(1, 90)\n",
      "(2, 34)\n",
      "(3, 21)\n"
     ]
    }
   ],
   "source": [
    "for i in enumerate(s1):\n",
    "    print(i)"
   ]
  },
  {
   "cell_type": "markdown",
   "id": "ec18e79c-ec3c-4f5e-a8b3-20310b55d5e1",
   "metadata": {},
   "source": [
    "## set operations"
   ]
  },
  {
   "cell_type": "code",
   "execution_count": 36,
   "id": "df6e4ee6-0f6e-4196-909d-301c01f437fc",
   "metadata": {},
   "outputs": [],
   "source": [
    "a={23,24,25,26,27}\n",
    "b={25,26,28,29}\n",
    "c={29,30,31,32,33}"
   ]
  },
  {
   "cell_type": "code",
   "execution_count": 37,
   "id": "65659e27-0a41-4b50-9d97-211500d454e8",
   "metadata": {},
   "outputs": [
    {
     "data": {
      "text/plain": [
       "{23, 24, 25, 26, 27, 28, 29}"
      ]
     },
     "execution_count": 37,
     "metadata": {},
     "output_type": "execute_result"
    }
   ],
   "source": [
    "a.union(b)"
   ]
  },
  {
   "cell_type": "code",
   "execution_count": 38,
   "id": "25cbd4e6-063a-44d9-9fad-135efb7bb8ef",
   "metadata": {},
   "outputs": [
    {
     "data": {
      "text/plain": [
       "{23, 24, 25, 26, 27, 29, 30, 31, 32, 33}"
      ]
     },
     "execution_count": 38,
     "metadata": {},
     "output_type": "execute_result"
    }
   ],
   "source": [
    "a | c"
   ]
  },
  {
   "cell_type": "code",
   "execution_count": 39,
   "id": "ae4a5539-1fff-4653-a8bc-f7a3b0557ea6",
   "metadata": {},
   "outputs": [
    {
     "data": {
      "text/plain": [
       "{23, 24, 25, 26, 27, 28, 29, 30, 31, 32, 33}"
      ]
     },
     "execution_count": 39,
     "metadata": {},
     "output_type": "execute_result"
    }
   ],
   "source": [
    "a|b|c"
   ]
  },
  {
   "cell_type": "code",
   "execution_count": 40,
   "id": "8c105d0e-2f3d-463b-84e5-6a8f0b5b3834",
   "metadata": {},
   "outputs": [
    {
     "name": "stdout",
     "output_type": "stream",
     "text": [
      "{23, 24, 25, 26, 27}\n",
      "{25, 26, 28, 29}\n",
      "{32, 33, 29, 30, 31}\n"
     ]
    }
   ],
   "source": [
    "print(a)\n",
    "print(b)\n",
    "print(c)"
   ]
  },
  {
   "cell_type": "code",
   "execution_count": 41,
   "id": "2c7838cc-0213-48a5-a487-a44a4d296c0b",
   "metadata": {},
   "outputs": [
    {
     "data": {
      "text/plain": [
       "{23, 24, 27}"
      ]
     },
     "execution_count": 41,
     "metadata": {},
     "output_type": "execute_result"
    }
   ],
   "source": [
    "a.difference(b)"
   ]
  },
  {
   "cell_type": "code",
   "execution_count": 42,
   "id": "e85b663e-23de-4149-8356-421c0ae0cf5d",
   "metadata": {},
   "outputs": [
    {
     "data": {
      "text/plain": [
       "{30, 31, 32, 33}"
      ]
     },
     "execution_count": 42,
     "metadata": {},
     "output_type": "execute_result"
    }
   ],
   "source": [
    "c.difference(b)"
   ]
  },
  {
   "cell_type": "code",
   "execution_count": 43,
   "id": "a130b1f1-96f7-458b-8eba-bfb53b2385da",
   "metadata": {},
   "outputs": [
    {
     "data": {
      "text/plain": [
       "{29, 30, 31, 32, 33}"
      ]
     },
     "execution_count": 43,
     "metadata": {},
     "output_type": "execute_result"
    }
   ],
   "source": [
    "c-a"
   ]
  },
  {
   "cell_type": "code",
   "execution_count": 44,
   "id": "73a552df-7c0f-475b-a698-4fa75fdfcd43",
   "metadata": {},
   "outputs": [
    {
     "data": {
      "text/plain": [
       "{23, 24, 27, 28, 29}"
      ]
     },
     "execution_count": 44,
     "metadata": {},
     "output_type": "execute_result"
    }
   ],
   "source": [
    "a.symmetric_difference(b)"
   ]
  },
  {
   "cell_type": "code",
   "execution_count": 45,
   "id": "714a0f89-cb73-43a7-9a0c-a061302cef6d",
   "metadata": {},
   "outputs": [
    {
     "data": {
      "text/plain": [
       "{23, 24, 27, 28, 29}"
      ]
     },
     "execution_count": 45,
     "metadata": {},
     "output_type": "execute_result"
    }
   ],
   "source": [
    "a^b"
   ]
  },
  {
   "cell_type": "code",
   "execution_count": 46,
   "id": "ccc6055e-c0b4-4ebf-ae6a-cb46d44b4926",
   "metadata": {},
   "outputs": [
    {
     "data": {
      "text/plain": [
       "{23, 24, 25, 26, 27, 29, 30, 31, 32, 33}"
      ]
     },
     "execution_count": 46,
     "metadata": {},
     "output_type": "execute_result"
    }
   ],
   "source": [
    "c^a"
   ]
  },
  {
   "cell_type": "code",
   "execution_count": 47,
   "id": "f390c21b-e292-4e22-976c-2ac03867a6a4",
   "metadata": {},
   "outputs": [
    {
     "name": "stdout",
     "output_type": "stream",
     "text": [
      "{23, 24, 25, 26, 27}\n",
      "{25, 26, 28, 29}\n",
      "{32, 33, 29, 30, 31}\n"
     ]
    }
   ],
   "source": [
    "print(a)\n",
    "print(b)\n",
    "print(c)"
   ]
  },
  {
   "cell_type": "code",
   "execution_count": 48,
   "id": "74c7f05f-612f-4c78-b961-c4412cf964a2",
   "metadata": {},
   "outputs": [],
   "source": [
    "a.symmetric_difference_update(b)"
   ]
  },
  {
   "cell_type": "code",
   "execution_count": 49,
   "id": "dfd53063-6717-4f82-a8d2-4f6039fcdba7",
   "metadata": {},
   "outputs": [
    {
     "name": "stdout",
     "output_type": "stream",
     "text": [
      "{23, 24, 27, 28, 29}\n",
      "{25, 26, 28, 29}\n",
      "{32, 33, 29, 30, 31}\n"
     ]
    }
   ],
   "source": [
    "print(a)\n",
    "print(b)\n",
    "print(c)"
   ]
  },
  {
   "cell_type": "code",
   "execution_count": 50,
   "id": "3a1350fb-e48a-4bd3-b963-ca85d5670546",
   "metadata": {},
   "outputs": [
    {
     "data": {
      "text/plain": [
       "{28, 29}"
      ]
     },
     "execution_count": 50,
     "metadata": {},
     "output_type": "execute_result"
    }
   ],
   "source": [
    "a.intersection(b)"
   ]
  },
  {
   "cell_type": "code",
   "execution_count": 51,
   "id": "9785e34d-e2e5-42b4-af08-8d56b9760753",
   "metadata": {},
   "outputs": [
    {
     "data": {
      "text/plain": [
       "{28, 29}"
      ]
     },
     "execution_count": 51,
     "metadata": {},
     "output_type": "execute_result"
    }
   ],
   "source": [
    "a&b"
   ]
  },
  {
   "cell_type": "code",
   "execution_count": 52,
   "id": "8c5ec019-3c8f-4777-8bab-7650ac6dac1e",
   "metadata": {},
   "outputs": [
    {
     "data": {
      "text/plain": [
       "{29}"
      ]
     },
     "execution_count": 52,
     "metadata": {},
     "output_type": "execute_result"
    }
   ],
   "source": [
    "a & b & c"
   ]
  },
  {
   "cell_type": "code",
   "execution_count": 53,
   "id": "b81eb883-9bcd-4811-8b71-ba4ad87477de",
   "metadata": {},
   "outputs": [],
   "source": [
    "c.intersection_update(b)"
   ]
  },
  {
   "cell_type": "markdown",
   "id": "99b0c3e8-3606-443e-a312-599ea885f757",
   "metadata": {},
   "source": [
    "## dictonary"
   ]
  },
  {
   "cell_type": "code",
   "execution_count": 54,
   "id": "a9d66811-94cc-4524-b8a2-574089eec083",
   "metadata": {},
   "outputs": [],
   "source": [
    "d={}"
   ]
  },
  {
   "cell_type": "code",
   "execution_count": 55,
   "id": "bbee2e0e-d4ab-4015-9966-818d7231e354",
   "metadata": {},
   "outputs": [
    {
     "data": {
      "text/plain": [
       "{}"
      ]
     },
     "execution_count": 55,
     "metadata": {},
     "output_type": "execute_result"
    }
   ],
   "source": [
    "d"
   ]
  },
  {
   "cell_type": "code",
   "execution_count": 56,
   "id": "116d3be0-f32c-41c3-8d45-ba537c687fd2",
   "metadata": {},
   "outputs": [
    {
     "data": {
      "text/plain": [
       "dict"
      ]
     },
     "execution_count": 56,
     "metadata": {},
     "output_type": "execute_result"
    }
   ],
   "source": [
    "type(d)"
   ]
  },
  {
   "cell_type": "code",
   "execution_count": 57,
   "id": "20f7f338-e10f-4901-8fb6-b593e448fde0",
   "metadata": {},
   "outputs": [],
   "source": [
    "d1={1: 'One',2 :'Two',3:'Three'}"
   ]
  },
  {
   "cell_type": "code",
   "execution_count": 58,
   "id": "2011729d-5f69-41cc-954a-b85d97bd05aa",
   "metadata": {},
   "outputs": [
    {
     "data": {
      "text/plain": [
       "{1: 'One', 2: 'Two', 3: 'Three'}"
      ]
     },
     "execution_count": 58,
     "metadata": {},
     "output_type": "execute_result"
    }
   ],
   "source": [
    "d1"
   ]
  },
  {
   "cell_type": "code",
   "execution_count": 59,
   "id": "4e6e8474-a1f9-4256-bbd2-8e9af3f8d55a",
   "metadata": {},
   "outputs": [],
   "source": [
    "d2={'One':1,'Two':2,'Three':3}"
   ]
  },
  {
   "cell_type": "code",
   "execution_count": 60,
   "id": "532a4e6a-dfb6-408c-b77d-4fe52a9da76e",
   "metadata": {},
   "outputs": [
    {
     "data": {
      "text/plain": [
       "{'One': 1, 'Two': 2, 'Three': 3}"
      ]
     },
     "execution_count": 60,
     "metadata": {},
     "output_type": "execute_result"
    }
   ],
   "source": [
    "d2"
   ]
  },
  {
   "cell_type": "code",
   "execution_count": null,
   "id": "261df963-a36e-49e1-925e-e07e78ca1b65",
   "metadata": {},
   "outputs": [],
   "source": [
    "d2."
   ]
  },
  {
   "cell_type": "code",
   "execution_count": null,
   "id": "79cb56d2-c293-4b41-b5f8-6597f33378fe",
   "metadata": {},
   "outputs": [],
   "source": []
  }
 ],
 "metadata": {
  "kernelspec": {
   "display_name": "Python 3 (ipykernel)",
   "language": "python",
   "name": "python3"
  },
  "language_info": {
   "codemirror_mode": {
    "name": "ipython",
    "version": 3
   },
   "file_extension": ".py",
   "mimetype": "text/x-python",
   "name": "python",
   "nbconvert_exporter": "python",
   "pygments_lexer": "ipython3",
   "version": "3.10.9"
  }
 },
 "nbformat": 4,
 "nbformat_minor": 5
}
