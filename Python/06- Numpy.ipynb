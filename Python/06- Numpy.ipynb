{
 "cells": [
  {
   "cell_type": "code",
   "execution_count": 1,
   "id": "a65e8ec7-54d9-4c7d-9418-b55a473748ab",
   "metadata": {},
   "outputs": [],
   "source": [
    " import numpy as np"
   ]
  },
  {
   "cell_type": "code",
   "execution_count": 2,
   "id": "1dd44835-5da6-4ed6-9be8-47779777440b",
   "metadata": {},
   "outputs": [
    {
     "data": {
      "text/plain": [
       "'1.24.2'"
      ]
     },
     "execution_count": 2,
     "metadata": {},
     "output_type": "execute_result"
    }
   ],
   "source": [
    "np.__version__"
   ]
  },
  {
   "cell_type": "markdown",
   "id": "2b1d1663-e8b7-45ea-b027-498b6f9ab9c9",
   "metadata": {},
   "source": [
    "### Creating an array"
   ]
  },
  {
   "cell_type": "code",
   "execution_count": 3,
   "id": "a2206f94-1681-4c40-aaa2-8781f40fcf52",
   "metadata": {},
   "outputs": [
    {
     "data": {
      "text/plain": [
       "array([1, 2, 3, 4, 5, 6, 7, 8, 9])"
      ]
     },
     "execution_count": 3,
     "metadata": {},
     "output_type": "execute_result"
    }
   ],
   "source": [
    "a1= np.array([1,2,3,4,5,6,7,8,9]) # 1D array \n",
    "a1"
   ]
  },
  {
   "cell_type": "code",
   "execution_count": 4,
   "id": "cfcd2add-12f4-45ed-871c-e511afe43589",
   "metadata": {},
   "outputs": [
    {
     "data": {
      "text/plain": [
       "array([[1, 2, 3],\n",
       "       [4, 5, 6]])"
      ]
     },
     "execution_count": 4,
     "metadata": {},
     "output_type": "execute_result"
    }
   ],
   "source": [
    "a2= np.array([[1,2,3],[4,5,6]]) #2D array\n",
    "a3= np.array([[[1,2,3],[4,5,6]],[[7,8,9],[10,11,12]]]) #3D array\n",
    "a2"
   ]
  },
  {
   "cell_type": "code",
   "execution_count": 5,
   "id": "f407e71f-e8a5-4896-862e-6b4a7bc8078e",
   "metadata": {},
   "outputs": [
    {
     "data": {
      "text/plain": [
       "array([[[ 1,  2,  3],\n",
       "        [ 4,  5,  6]],\n",
       "\n",
       "       [[ 7,  8,  9],\n",
       "        [10, 11, 12]]])"
      ]
     },
     "execution_count": 5,
     "metadata": {},
     "output_type": "execute_result"
    }
   ],
   "source": [
    "a3"
   ]
  },
  {
   "cell_type": "markdown",
   "id": "f74f4cbb-6c97-4a84-a5e5-f46aa9561b91",
   "metadata": {},
   "source": [
    "### Data Type"
   ]
  },
  {
   "cell_type": "code",
   "execution_count": 6,
   "id": "5414305d-4985-4e9d-ba89-1cc20182262b",
   "metadata": {},
   "outputs": [
    {
     "data": {
      "text/plain": [
       "array([1., 2., 3.])"
      ]
     },
     "execution_count": 6,
     "metadata": {},
     "output_type": "execute_result"
    }
   ],
   "source": [
    "np.array([1,2,3], dtype= float) # float dtype"
   ]
  },
  {
   "cell_type": "code",
   "execution_count": 7,
   "id": "c5c4443b-292e-40a9-b0c9-92b42284eb78",
   "metadata": {},
   "outputs": [
    {
     "data": {
      "text/plain": [
       "array([ True,  True,  True])"
      ]
     },
     "execution_count": 7,
     "metadata": {},
     "output_type": "execute_result"
    }
   ],
   "source": [
    "np.array([2,3,4], dtype= bool) # boolean atype"
   ]
  },
  {
   "cell_type": "code",
   "execution_count": 8,
   "id": "737fc85a-2e7c-4e30-bf34-58e44054d9ab",
   "metadata": {},
   "outputs": [
    {
     "data": {
      "text/plain": [
       "array([2.+0.j, 3.+0.j, 4.+0.j])"
      ]
     },
     "execution_count": 8,
     "metadata": {},
     "output_type": "execute_result"
    }
   ],
   "source": [
    "np.array([2,3,4], dtype= complex) # complex dtype"
   ]
  },
  {
   "cell_type": "code",
   "execution_count": 9,
   "id": "b3bfed21-4d42-4f7c-9a46-929fbe5fc11f",
   "metadata": {},
   "outputs": [
    {
     "data": {
      "text/plain": [
       "array([1, 2, 3, 4, 5, 6, 7, 8, 9])"
      ]
     },
     "execution_count": 9,
     "metadata": {},
     "output_type": "execute_result"
    }
   ],
   "source": [
    "# arange() - returns array values from 1 to 10\n",
    "np.arange(1,10)"
   ]
  },
  {
   "cell_type": "code",
   "execution_count": 10,
   "id": "b55f5ebd-ee75-4a22-83cc-893889e53a15",
   "metadata": {},
   "outputs": [
    {
     "data": {
      "text/plain": [
       "array([1, 3, 5, 7, 9])"
      ]
     },
     "execution_count": 10,
     "metadata": {},
     "output_type": "execute_result"
    }
   ],
   "source": [
    "np.arange(1,10,2) # return alternate numbers upto 9"
   ]
  },
  {
   "cell_type": "code",
   "execution_count": 11,
   "id": "2a2dd590-4781-4821-b270-8484ba39dbbd",
   "metadata": {},
   "outputs": [
    {
     "data": {
      "text/plain": [
       "array([[ 0,  1,  2,  3],\n",
       "       [ 4,  5,  6,  7],\n",
       "       [ 8,  9, 10, 11]])"
      ]
     },
     "execution_count": 11,
     "metadata": {},
     "output_type": "execute_result"
    }
   ],
   "source": [
    "# reshape() - use to reshape the array\n",
    "\n",
    "np.arange(0,12).reshape(3,4)"
   ]
  },
  {
   "cell_type": "code",
   "execution_count": 12,
   "id": "3d933538-5f30-4700-9749-5f34127e005d",
   "metadata": {},
   "outputs": [
    {
     "data": {
      "text/plain": [
       "array([0., 0., 0.])"
      ]
     },
     "execution_count": 12,
     "metadata": {},
     "output_type": "execute_result"
    }
   ],
   "source": [
    "# zeros()- create an array with zeros\n",
    "np.zeros(3)"
   ]
  },
  {
   "cell_type": "code",
   "execution_count": 13,
   "id": "a8d2683e-036a-4667-a20c-08b0ba7b945e",
   "metadata": {},
   "outputs": [
    {
     "data": {
      "text/plain": [
       "array([[0., 0.],\n",
       "       [0., 0.]])"
      ]
     },
     "execution_count": 13,
     "metadata": {},
     "output_type": "execute_result"
    }
   ],
   "source": [
    "np.zeros((2,2))"
   ]
  },
  {
   "cell_type": "code",
   "execution_count": 14,
   "id": "69d3b824-c1ad-4e18-8dbb-ef034e1a448b",
   "metadata": {},
   "outputs": [
    {
     "data": {
      "text/plain": [
       "array([[1., 1., 1.],\n",
       "       [1., 1., 1.]])"
      ]
     },
     "execution_count": 14,
     "metadata": {},
     "output_type": "execute_result"
    }
   ],
   "source": [
    "# ones()- create an array with ones\n",
    "np.ones((2,3))"
   ]
  },
  {
   "cell_type": "code",
   "execution_count": 15,
   "id": "481ad59e-0e9c-4a60-96c8-db44d8ac5c0a",
   "metadata": {},
   "outputs": [
    {
     "data": {
      "text/plain": [
       "array([[0.19517342, 0.69459678, 0.41261395],\n",
       "       [0.00097452, 0.22299923, 0.38829329]])"
      ]
     },
     "execution_count": 15,
     "metadata": {},
     "output_type": "execute_result"
    }
   ],
   "source": [
    "# random() - creates an array with random values\n",
    "\n",
    "np.random.random((2,3))"
   ]
  },
  {
   "cell_type": "code",
   "execution_count": 16,
   "id": "ffada1bd-5681-465b-b6e4-aa7f2cb1b26d",
   "metadata": {},
   "outputs": [
    {
     "data": {
      "text/plain": [
       "array([[3, 8],\n",
       "       [2, 0],\n",
       "       [2, 2]])"
      ]
     },
     "execution_count": 16,
     "metadata": {},
     "output_type": "execute_result"
    }
   ],
   "source": [
    "np.random.randint(0,10,(3,2))"
   ]
  },
  {
   "cell_type": "code",
   "execution_count": 17,
   "id": "764d14ee-47f7-402a-a1b1-609924243892",
   "metadata": {},
   "outputs": [
    {
     "data": {
      "text/plain": [
       "array([ 0.,  5., 10., 15., 20.])"
      ]
     },
     "execution_count": 17,
     "metadata": {},
     "output_type": "execute_result"
    }
   ],
   "source": [
    "# linespace()- create an array with linear or equal distances b/w the values\n",
    "\n",
    "np.linspace(0,20,5)"
   ]
  },
  {
   "cell_type": "code",
   "execution_count": 18,
   "id": "ba97bf07-8e3a-4b39-aea8-6eecd1272048",
   "metadata": {},
   "outputs": [
    {
     "data": {
      "text/plain": [
       "array([[1., 0., 0.],\n",
       "       [0., 1., 0.],\n",
       "       [0., 0., 1.]])"
      ]
     },
     "execution_count": 18,
     "metadata": {},
     "output_type": "execute_result"
    }
   ],
   "source": [
    "# identity()/eye() - creates an identity matrix or array\n",
    "\n",
    "np.identity(3)"
   ]
  },
  {
   "cell_type": "code",
   "execution_count": 19,
   "id": "07a053a4-3c03-45ec-9d2b-faad4fd18548",
   "metadata": {},
   "outputs": [
    {
     "data": {
      "text/plain": [
       "array([[1, 0, 0, 0],\n",
       "       [0, 1, 0, 0],\n",
       "       [0, 0, 1, 0],\n",
       "       [0, 0, 0, 1]])"
      ]
     },
     "execution_count": 19,
     "metadata": {},
     "output_type": "execute_result"
    }
   ],
   "source": [
    "np.eye(4,dtype= int)"
   ]
  },
  {
   "cell_type": "code",
   "execution_count": 20,
   "id": "6c26df1f-237b-433c-b628-552536619a5d",
   "metadata": {},
   "outputs": [
    {
     "data": {
      "text/plain": [
       "1"
      ]
     },
     "execution_count": 20,
     "metadata": {},
     "output_type": "execute_result"
    }
   ],
   "source": [
    "# ndim - gives the dimention of the array\n",
    "\n",
    "a1.ndim"
   ]
  },
  {
   "cell_type": "code",
   "execution_count": 21,
   "id": "01e78eee-7a8a-4e27-9206-c03bd5633d42",
   "metadata": {},
   "outputs": [
    {
     "data": {
      "text/plain": [
       "2"
      ]
     },
     "execution_count": 21,
     "metadata": {},
     "output_type": "execute_result"
    }
   ],
   "source": [
    "a2.ndim"
   ]
  },
  {
   "cell_type": "code",
   "execution_count": 22,
   "id": "af7d8317-146e-4d11-a286-338efe244858",
   "metadata": {},
   "outputs": [
    {
     "data": {
      "text/plain": [
       "3"
      ]
     },
     "execution_count": 22,
     "metadata": {},
     "output_type": "execute_result"
    }
   ],
   "source": [
    "a3.ndim"
   ]
  },
  {
   "cell_type": "code",
   "execution_count": 23,
   "id": "a7b884bc-c2bc-45ce-98c9-6c7826ddfffa",
   "metadata": {},
   "outputs": [
    {
     "data": {
      "text/plain": [
       "(2, 2, 3)"
      ]
     },
     "execution_count": 23,
     "metadata": {},
     "output_type": "execute_result"
    }
   ],
   "source": [
    "# shape - gives the shppe of the array\n",
    "\n",
    "a3.shape"
   ]
  },
  {
   "cell_type": "code",
   "execution_count": 24,
   "id": "acf02add-419e-49fe-b41b-007dfaa589f4",
   "metadata": {},
   "outputs": [
    {
     "data": {
      "text/plain": [
       "(2, 3)"
      ]
     },
     "execution_count": 24,
     "metadata": {},
     "output_type": "execute_result"
    }
   ],
   "source": [
    "a2.shape"
   ]
  },
  {
   "cell_type": "code",
   "execution_count": 25,
   "id": "7b774c4d-fe41-4f54-8f63-010e8f4cfd4a",
   "metadata": {},
   "outputs": [
    {
     "data": {
      "text/plain": [
       "(9,)"
      ]
     },
     "execution_count": 25,
     "metadata": {},
     "output_type": "execute_result"
    }
   ],
   "source": [
    "a1.shape"
   ]
  },
  {
   "cell_type": "code",
   "execution_count": 26,
   "id": "5562a10e-1ca7-4c4f-8bc0-687094873f91",
   "metadata": {},
   "outputs": [
    {
     "data": {
      "text/plain": [
       "12"
      ]
     },
     "execution_count": 26,
     "metadata": {},
     "output_type": "execute_result"
    }
   ],
   "source": [
    "#size - returns total no.of elements in array\n",
    "\n",
    "a3.size"
   ]
  },
  {
   "cell_type": "code",
   "execution_count": 27,
   "id": "ea85c35f-109b-4609-9e9a-5876a4db3d8e",
   "metadata": {},
   "outputs": [
    {
     "data": {
      "text/plain": [
       "6"
      ]
     },
     "execution_count": 27,
     "metadata": {},
     "output_type": "execute_result"
    }
   ],
   "source": [
    "a2.size"
   ]
  },
  {
   "cell_type": "code",
   "execution_count": 28,
   "id": "17cb4fbf-f7d5-4820-a2d3-e85428d71ab6",
   "metadata": {},
   "outputs": [
    {
     "data": {
      "text/plain": [
       "4"
      ]
     },
     "execution_count": 28,
     "metadata": {},
     "output_type": "execute_result"
    }
   ],
   "source": [
    "# itemsize - returns the memory occupiedby array\n",
    "\n",
    "a3.itemsize"
   ]
  },
  {
   "cell_type": "code",
   "execution_count": 29,
   "id": "8ab16ed6-7820-4dfd-8a08-b04694704614",
   "metadata": {},
   "outputs": [
    {
     "data": {
      "text/plain": [
       "4"
      ]
     },
     "execution_count": 29,
     "metadata": {},
     "output_type": "execute_result"
    }
   ],
   "source": [
    "a2.itemsize"
   ]
  },
  {
   "cell_type": "code",
   "execution_count": 30,
   "id": "91c49a0a-1dcd-4079-8815-3424dd5b2f57",
   "metadata": {},
   "outputs": [
    {
     "data": {
      "text/plain": [
       "4"
      ]
     },
     "execution_count": 30,
     "metadata": {},
     "output_type": "execute_result"
    }
   ],
   "source": [
    "a1.itemsize"
   ]
  },
  {
   "cell_type": "code",
   "execution_count": 31,
   "id": "58e93406-2344-4f73-8590-45a3e9864853",
   "metadata": {},
   "outputs": [
    {
     "data": {
      "text/plain": [
       "array([1. , 2. , 3.6])"
      ]
     },
     "execution_count": 31,
     "metadata": {},
     "output_type": "execute_result"
    }
   ],
   "source": [
    "# astype() - to change the type of the array\n",
    "\n",
    "a= np.array([1.,2,3.6])\n",
    "a"
   ]
  },
  {
   "cell_type": "code",
   "execution_count": 32,
   "id": "7d549f8f-f129-4c9b-b4ba-8c3583187748",
   "metadata": {},
   "outputs": [
    {
     "data": {
      "text/plain": [
       "array([1, 2, 3])"
      ]
     },
     "execution_count": 32,
     "metadata": {},
     "output_type": "execute_result"
    }
   ],
   "source": [
    "a.astype(int)"
   ]
  },
  {
   "cell_type": "markdown",
   "id": "2e382d22-c332-4089-9817-38fff7b2b4c1",
   "metadata": {},
   "source": [
    "### Array operations"
   ]
  },
  {
   "cell_type": "code",
   "execution_count": 33,
   "id": "e7289b98-c496-4170-91d9-e9857738b303",
   "metadata": {},
   "outputs": [
    {
     "data": {
      "text/plain": [
       "array([[1, 2, 3],\n",
       "       [4, 5, 6]])"
      ]
     },
     "execution_count": 33,
     "metadata": {},
     "output_type": "execute_result"
    }
   ],
   "source": [
    "a2"
   ]
  },
  {
   "cell_type": "code",
   "execution_count": 34,
   "id": "c62f889d-eefd-4d7a-9833-b0d3475e72b0",
   "metadata": {},
   "outputs": [
    {
     "data": {
      "text/plain": [
       "array([[4, 5, 6],\n",
       "       [7, 8, 9]])"
      ]
     },
     "execution_count": 34,
     "metadata": {},
     "output_type": "execute_result"
    }
   ],
   "source": [
    "a2+3"
   ]
  },
  {
   "cell_type": "code",
   "execution_count": 35,
   "id": "acedd34a-fd2b-485d-8c2d-ef15bdf7b527",
   "metadata": {},
   "outputs": [
    {
     "data": {
      "text/plain": [
       "array([[0, 1, 2],\n",
       "       [3, 4, 5]])"
      ]
     },
     "execution_count": 35,
     "metadata": {},
     "output_type": "execute_result"
    }
   ],
   "source": [
    "a2-1"
   ]
  },
  {
   "cell_type": "code",
   "execution_count": 36,
   "id": "79d97251-e19d-4825-9611-b8c19cfe9634",
   "metadata": {},
   "outputs": [
    {
     "data": {
      "text/plain": [
       "array([[ 3,  6,  9],\n",
       "       [12, 15, 18]])"
      ]
     },
     "execution_count": 36,
     "metadata": {},
     "output_type": "execute_result"
    }
   ],
   "source": [
    "a2*3"
   ]
  },
  {
   "cell_type": "code",
   "execution_count": 37,
   "id": "59860871-71fc-47af-ae8a-c8039b7aa1bc",
   "metadata": {},
   "outputs": [
    {
     "data": {
      "text/plain": [
       "array([[0.5, 1. , 1.5],\n",
       "       [2. , 2.5, 3. ]])"
      ]
     },
     "execution_count": 37,
     "metadata": {},
     "output_type": "execute_result"
    }
   ],
   "source": [
    "a2/2"
   ]
  },
  {
   "cell_type": "code",
   "execution_count": 38,
   "id": "ea0ffba6-bd84-4c97-9f16-cf2d82fca862",
   "metadata": {},
   "outputs": [
    {
     "data": {
      "text/plain": [
       "array([[ 1,  4,  9],\n",
       "       [16, 25, 36]])"
      ]
     },
     "execution_count": 38,
     "metadata": {},
     "output_type": "execute_result"
    }
   ],
   "source": [
    "a2**2"
   ]
  },
  {
   "cell_type": "code",
   "execution_count": 39,
   "id": "01bc6052-27a9-4439-870a-7f7e2ece7690",
   "metadata": {},
   "outputs": [
    {
     "data": {
      "text/plain": [
       "array([[1, 2, 3],\n",
       "       [4, 5, 6]])"
      ]
     },
     "execution_count": 39,
     "metadata": {},
     "output_type": "execute_result"
    }
   ],
   "source": [
    "# relation operators\n",
    "\n",
    "a2"
   ]
  },
  {
   "cell_type": "code",
   "execution_count": 40,
   "id": "aef63455-19b0-4dc3-8255-6a85ac47a7a7",
   "metadata": {},
   "outputs": [
    {
     "data": {
      "text/plain": [
       "array([[False, False, False],\n",
       "       [ True,  True,  True]])"
      ]
     },
     "execution_count": 40,
     "metadata": {},
     "output_type": "execute_result"
    }
   ],
   "source": [
    "a2 > 3"
   ]
  },
  {
   "cell_type": "code",
   "execution_count": 41,
   "id": "3d0379af-7368-4915-81ef-d3bc98f64547",
   "metadata": {},
   "outputs": [
    {
     "data": {
      "text/plain": [
       "array([[ True,  True, False],\n",
       "       [False, False, False]])"
      ]
     },
     "execution_count": 41,
     "metadata": {},
     "output_type": "execute_result"
    }
   ],
   "source": [
    "a2 < 3"
   ]
  },
  {
   "cell_type": "code",
   "execution_count": 42,
   "id": "b3c118af-6b2c-4c0a-ba6c-bed1940fdd50",
   "metadata": {},
   "outputs": [
    {
     "data": {
      "text/plain": [
       "array([[ True,  True,  True],\n",
       "       [False, False, False]])"
      ]
     },
     "execution_count": 42,
     "metadata": {},
     "output_type": "execute_result"
    }
   ],
   "source": [
    "a2 <= 3"
   ]
  },
  {
   "cell_type": "code",
   "execution_count": 43,
   "id": "b5399b7e-b943-4df6-86f7-201ba16fe12b",
   "metadata": {},
   "outputs": [
    {
     "data": {
      "text/plain": [
       "array([[1, 2, 3],\n",
       "       [4, 5, 6]])"
      ]
     },
     "execution_count": 43,
     "metadata": {},
     "output_type": "execute_result"
    }
   ],
   "source": [
    "# Vector operations\n",
    "\n",
    "a2"
   ]
  },
  {
   "cell_type": "code",
   "execution_count": 44,
   "id": "9ecbd059-01f2-4a25-babe-aac8349d749d",
   "metadata": {},
   "outputs": [
    {
     "data": {
      "text/plain": [
       "array([[ 7,  8,  9],\n",
       "       [10, 11, 12]])"
      ]
     },
     "execution_count": 44,
     "metadata": {},
     "output_type": "execute_result"
    }
   ],
   "source": [
    "a4=np.array([[7,8,9],[10,11,12]])\n",
    "a4"
   ]
  },
  {
   "cell_type": "code",
   "execution_count": 45,
   "id": "5eb2d398-aeaf-4a12-bd0e-323bffd69ece",
   "metadata": {},
   "outputs": [
    {
     "data": {
      "text/plain": [
       "array([[ 8, 10, 12],\n",
       "       [14, 16, 18]])"
      ]
     },
     "execution_count": 45,
     "metadata": {},
     "output_type": "execute_result"
    }
   ],
   "source": [
    "a2+a4"
   ]
  },
  {
   "cell_type": "code",
   "execution_count": 46,
   "id": "588b6bfb-9a9c-4fb9-8daa-bd89e8336a8e",
   "metadata": {},
   "outputs": [
    {
     "data": {
      "text/plain": [
       "array([[-6, -6, -6],\n",
       "       [-6, -6, -6]])"
      ]
     },
     "execution_count": 46,
     "metadata": {},
     "output_type": "execute_result"
    }
   ],
   "source": [
    "a2-a4"
   ]
  },
  {
   "cell_type": "code",
   "execution_count": 47,
   "id": "20f785d6-ae0d-4cda-8541-80366d3ef31c",
   "metadata": {},
   "outputs": [
    {
     "data": {
      "text/plain": [
       "array([[ 7, 16, 27],\n",
       "       [40, 55, 72]])"
      ]
     },
     "execution_count": 47,
     "metadata": {},
     "output_type": "execute_result"
    }
   ],
   "source": [
    "a2* a4"
   ]
  },
  {
   "cell_type": "code",
   "execution_count": 48,
   "id": "c735d8a0-93ae-4d12-a5b2-7507fc6e126a",
   "metadata": {},
   "outputs": [
    {
     "data": {
      "text/plain": [
       "6"
      ]
     },
     "execution_count": 48,
     "metadata": {},
     "output_type": "execute_result"
    }
   ],
   "source": [
    "# array functions\n",
    "\n",
    "np.max(a2)"
   ]
  },
  {
   "cell_type": "code",
   "execution_count": 49,
   "id": "ca74c508-9cc9-406c-bdd1-2738dcfc3402",
   "metadata": {},
   "outputs": [
    {
     "data": {
      "text/plain": [
       "1"
      ]
     },
     "execution_count": 49,
     "metadata": {},
     "output_type": "execute_result"
    }
   ],
   "source": [
    "np.min(a2)"
   ]
  },
  {
   "cell_type": "code",
   "execution_count": 50,
   "id": "c8f362d3-a4f2-4856-9062-5ec10af0cc12",
   "metadata": {},
   "outputs": [
    {
     "data": {
      "text/plain": [
       "12"
      ]
     },
     "execution_count": 50,
     "metadata": {},
     "output_type": "execute_result"
    }
   ],
   "source": [
    "np.max(a4)"
   ]
  },
  {
   "cell_type": "code",
   "execution_count": 51,
   "id": "28ff144e-1d42-4660-add3-0becca0aca24",
   "metadata": {},
   "outputs": [
    {
     "data": {
      "text/plain": [
       "21"
      ]
     },
     "execution_count": 51,
     "metadata": {},
     "output_type": "execute_result"
    }
   ],
   "source": [
    "np.sum(a2)"
   ]
  },
  {
   "cell_type": "code",
   "execution_count": 52,
   "id": "aa505d73-6528-452d-a692-a3b22128043e",
   "metadata": {},
   "outputs": [
    {
     "data": {
      "text/plain": [
       "720"
      ]
     },
     "execution_count": 52,
     "metadata": {},
     "output_type": "execute_result"
    }
   ],
   "source": [
    "np.prod(a2)"
   ]
  },
  {
   "cell_type": "code",
   "execution_count": 53,
   "id": "0debfe5f-deb1-48ec-a5b4-45ce3501d355",
   "metadata": {},
   "outputs": [
    {
     "data": {
      "text/plain": [
       "array([ 9, 12])"
      ]
     },
     "execution_count": 53,
     "metadata": {},
     "output_type": "execute_result"
    }
   ],
   "source": [
    "np.max(a4,axis =1) # maximum value in each row(axis-0 represents column and axis-1 represents row)"
   ]
  },
  {
   "cell_type": "code",
   "execution_count": 54,
   "id": "87a621e5-c5c2-467e-a98d-4fbc826baeb1",
   "metadata": {},
   "outputs": [
    {
     "data": {
      "text/plain": [
       "array([  6, 120])"
      ]
     },
     "execution_count": 54,
     "metadata": {},
     "output_type": "execute_result"
    }
   ],
   "source": [
    "np.prod(a2,axis=1) # product of each row"
   ]
  },
  {
   "cell_type": "code",
   "execution_count": 55,
   "id": "0fae6540-9594-4122-af9a-d1d77e4284a1",
   "metadata": {},
   "outputs": [
    {
     "data": {
      "text/plain": [
       "array([ 6, 15])"
      ]
     },
     "execution_count": 55,
     "metadata": {},
     "output_type": "execute_result"
    }
   ],
   "source": [
    "np.sum(a2,axis = 1) # sum of each row"
   ]
  },
  {
   "cell_type": "code",
   "execution_count": 56,
   "id": "b81bef53-91aa-4a5e-911d-20a555e8c6f1",
   "metadata": {},
   "outputs": [
    {
     "data": {
      "text/plain": [
       "array([5, 7, 9])"
      ]
     },
     "execution_count": 56,
     "metadata": {},
     "output_type": "execute_result"
    }
   ],
   "source": [
    "np.sum(a2,axis=0) # sum of each column"
   ]
  },
  {
   "cell_type": "code",
   "execution_count": 57,
   "id": "00ef702f-a2bb-4388-88a7-1b1cd8a73e50",
   "metadata": {},
   "outputs": [
    {
     "data": {
      "text/plain": [
       "array([[1, 2, 3],\n",
       "       [4, 5, 6]])"
      ]
     },
     "execution_count": 57,
     "metadata": {},
     "output_type": "execute_result"
    }
   ],
   "source": [
    "# Statistical related functions(mean,median,sd,etcc)\n",
    "\n",
    "a2"
   ]
  },
  {
   "cell_type": "code",
   "execution_count": 58,
   "id": "1300c6af-27ca-4845-8a89-dbcc93526b81",
   "metadata": {},
   "outputs": [
    {
     "data": {
      "text/plain": [
       "array([[ 7,  8,  9],\n",
       "       [10, 11, 12]])"
      ]
     },
     "execution_count": 58,
     "metadata": {},
     "output_type": "execute_result"
    }
   ],
   "source": [
    "a4"
   ]
  },
  {
   "cell_type": "code",
   "execution_count": 59,
   "id": "1f532ef8-806c-4e85-85ac-e99450ea05bd",
   "metadata": {},
   "outputs": [
    {
     "data": {
      "text/plain": [
       "9.5"
      ]
     },
     "execution_count": 59,
     "metadata": {},
     "output_type": "execute_result"
    }
   ],
   "source": [
    "np.mean(a4)"
   ]
  },
  {
   "cell_type": "code",
   "execution_count": 60,
   "id": "9a889857-c601-4e13-af96-69d3929ea106",
   "metadata": {},
   "outputs": [
    {
     "data": {
      "text/plain": [
       "array([ 8, 11])"
      ]
     },
     "execution_count": 60,
     "metadata": {},
     "output_type": "execute_result"
    }
   ],
   "source": [
    "np.mean(a4, dtype= int,axis=1) # mean of each row"
   ]
  },
  {
   "cell_type": "code",
   "execution_count": 61,
   "id": "0e99a8ca-e948-4271-a148-52d3f012b42b",
   "metadata": {},
   "outputs": [
    {
     "data": {
      "text/plain": [
       "1.707825127659933"
      ]
     },
     "execution_count": 61,
     "metadata": {},
     "output_type": "execute_result"
    }
   ],
   "source": [
    "np.std(a4)"
   ]
  },
  {
   "cell_type": "code",
   "execution_count": 62,
   "id": "1822aa18-2cf3-4571-9cdc-cb84490bc024",
   "metadata": {},
   "outputs": [
    {
     "data": {
      "text/plain": [
       "array([1.5, 1.5, 1.5])"
      ]
     },
     "execution_count": 62,
     "metadata": {},
     "output_type": "execute_result"
    }
   ],
   "source": [
    "np.std(a4, axis= 0) # standard deviation of each column"
   ]
  },
  {
   "cell_type": "code",
   "execution_count": 63,
   "id": "d5a83588-c12a-4f90-bdc8-14c073034313",
   "metadata": {},
   "outputs": [
    {
     "data": {
      "text/plain": [
       "array([[ 2,  5,  7,  8],\n",
       "       [ 3,  5,  1,  9],\n",
       "       [11,  9, 12,  7]])"
      ]
     },
     "execution_count": 63,
     "metadata": {},
     "output_type": "execute_result"
    }
   ],
   "source": [
    "s1= np.array([[2,5,7,8],[3,5,1,9],[11,9,12,7]])\n",
    "s1"
   ]
  },
  {
   "cell_type": "code",
   "execution_count": 64,
   "id": "383d2546-d236-4122-8b10-fd0543719730",
   "metadata": {},
   "outputs": [
    {
     "data": {
      "text/plain": [
       "array([4.02768199, 1.88561808, 4.49691252, 0.81649658])"
      ]
     },
     "execution_count": 64,
     "metadata": {},
     "output_type": "execute_result"
    }
   ],
   "source": [
    "np.std(s1, axis= 0) # standard deviation of each column"
   ]
  },
  {
   "cell_type": "code",
   "execution_count": 65,
   "id": "e2ef7c1f-66ec-491f-8dcc-09423f18a2ee",
   "metadata": {},
   "outputs": [
    {
     "data": {
      "text/plain": [
       "11.076388888888888"
      ]
     },
     "execution_count": 65,
     "metadata": {},
     "output_type": "execute_result"
    }
   ],
   "source": [
    " np.var(s1)"
   ]
  },
  {
   "cell_type": "code",
   "execution_count": 66,
   "id": "1714ac87-5cbd-4414-ab46-0102980b818d",
   "metadata": {},
   "outputs": [
    {
     "data": {
      "text/plain": [
       "array([5.25  , 8.75  , 3.6875])"
      ]
     },
     "execution_count": 66,
     "metadata": {},
     "output_type": "execute_result"
    }
   ],
   "source": [
    "np.var(s1,axis=1 ) # variance of each row"
   ]
  },
  {
   "cell_type": "code",
   "execution_count": 67,
   "id": "ced66b68-c3c8-4a50-bc3c-890066736e82",
   "metadata": {},
   "outputs": [
    {
     "data": {
      "text/plain": [
       "array([[ 1,  4,  9],\n",
       "       [16, 25, 36]])"
      ]
     },
     "execution_count": 67,
     "metadata": {},
     "output_type": "execute_result"
    }
   ],
   "source": [
    "a2*a2"
   ]
  },
  {
   "cell_type": "code",
   "execution_count": 68,
   "id": "3ed9847e-7e01-4ecf-a70a-3aeddcfa5f1d",
   "metadata": {},
   "outputs": [
    {
     "data": {
      "text/plain": [
       "array([[ 1,  4,  9],\n",
       "       [16, 25, 36]])"
      ]
     },
     "execution_count": 68,
     "metadata": {},
     "output_type": "execute_result"
    }
   ],
   "source": [
    "a2**2"
   ]
  },
  {
   "cell_type": "code",
   "execution_count": 69,
   "id": "4ee19890-2ca8-4b1b-8101-527f8399f0bc",
   "metadata": {},
   "outputs": [],
   "source": [
    "s2= np.arange(9,18).reshape((3,3))\n",
    "s3= np.arange(9).reshape((3,3))"
   ]
  },
  {
   "cell_type": "code",
   "execution_count": 70,
   "id": "bc6e8a3d-6e3b-474a-8f66-8361610038cc",
   "metadata": {},
   "outputs": [
    {
     "data": {
      "text/plain": [
       "array([[ 9, 10, 11],\n",
       "       [12, 13, 14],\n",
       "       [15, 16, 17]])"
      ]
     },
     "execution_count": 70,
     "metadata": {},
     "output_type": "execute_result"
    }
   ],
   "source": [
    "s2"
   ]
  },
  {
   "cell_type": "code",
   "execution_count": 71,
   "id": "335c6db8-3a47-4bf2-bf13-af09346a99aa",
   "metadata": {},
   "outputs": [
    {
     "data": {
      "text/plain": [
       "array([[0, 1, 2],\n",
       "       [3, 4, 5],\n",
       "       [6, 7, 8]])"
      ]
     },
     "execution_count": 71,
     "metadata": {},
     "output_type": "execute_result"
    }
   ],
   "source": [
    "s3"
   ]
  },
  {
   "cell_type": "code",
   "execution_count": 72,
   "id": "f46781b4-75c1-4a10-8d2f-416b47aee8da",
   "metadata": {},
   "outputs": [
    {
     "data": {
      "text/plain": [
       "array([[  0,  10,  22],\n",
       "       [ 36,  52,  70],\n",
       "       [ 90, 112, 136]])"
      ]
     },
     "execution_count": 72,
     "metadata": {},
     "output_type": "execute_result"
    }
   ],
   "source": [
    "s2*s3"
   ]
  },
  {
   "cell_type": "code",
   "execution_count": 73,
   "id": "9493a7b2-c4e3-4fbe-af57-0bd904a4375a",
   "metadata": {},
   "outputs": [
    {
     "data": {
      "text/plain": [
       "array([[ 96, 126, 156],\n",
       "       [123, 162, 201],\n",
       "       [150, 198, 246]])"
      ]
     },
     "execution_count": 73,
     "metadata": {},
     "output_type": "execute_result"
    }
   ],
   "source": [
    "np.dot(s2,s3) # dot product of s2, s3(matrix multiplication)"
   ]
  },
  {
   "cell_type": "code",
   "execution_count": 74,
   "id": "d8b0498e-5cdc-42e4-a980-315aef0d0467",
   "metadata": {},
   "outputs": [
    {
     "data": {
      "text/plain": [
       "array([[8.10308393e+03, 2.20264658e+04, 5.98741417e+04],\n",
       "       [1.62754791e+05, 4.42413392e+05, 1.20260428e+06],\n",
       "       [3.26901737e+06, 8.88611052e+06, 2.41549528e+07]])"
      ]
     },
     "execution_count": 74,
     "metadata": {},
     "output_type": "execute_result"
    }
   ],
   "source": [
    "np.exp(s2)"
   ]
  },
  {
   "cell_type": "code",
   "execution_count": 75,
   "id": "835d6682-c194-4a35-9ae6-08305da8d342",
   "metadata": {},
   "outputs": [],
   "source": [
    "s4= np.random.randint(0,10,(3,3))"
   ]
  },
  {
   "cell_type": "code",
   "execution_count": 76,
   "id": "2a9f84b1-cdb5-4733-8379-07874cb5f2e9",
   "metadata": {},
   "outputs": [
    {
     "data": {
      "text/plain": [
       "array([[3, 3, 4],\n",
       "       [5, 1, 9],\n",
       "       [8, 4, 3]])"
      ]
     },
     "execution_count": 76,
     "metadata": {},
     "output_type": "execute_result"
    }
   ],
   "source": [
    "s4"
   ]
  },
  {
   "cell_type": "code",
   "execution_count": 77,
   "id": "1b6aa019-015a-4d1c-9705-6373a7c1273f",
   "metadata": {},
   "outputs": [
    {
     "name": "stdout",
     "output_type": "stream",
     "text": [
      "without round() =[1.2 1.3 2.4 4.5]\n",
      "with round() = [1. 1. 2. 4.]\n"
     ]
    }
   ],
   "source": [
    "# round() - gives the round of value\n",
    "\n",
    "s5= np.array([1.2,1.3,2.4,4.5])\n",
    "round_arr= np.round(s5)\n",
    "print(f'without round() ={s5}')\n",
    "print(f'with round() = {round_arr}')"
   ]
  },
  {
   "cell_type": "code",
   "execution_count": 78,
   "id": "6ca8fdd9-bb60-44b3-958c-700bc8e180a4",
   "metadata": {},
   "outputs": [
    {
     "name": "stdout",
     "output_type": "stream",
     "text": [
      "using floor() = [1. 1. 2. 4.]\n"
     ]
    }
   ],
   "source": [
    "# floor() - gives the floor value \n",
    "\n",
    "floor_ar=np.floor(s5)\n",
    "print(f'using floor() = {floor_ar}')"
   ]
  },
  {
   "cell_type": "code",
   "execution_count": 79,
   "id": "c2f5b752-591c-4880-a585-da5b936c357e",
   "metadata": {},
   "outputs": [
    {
     "name": "stdout",
     "output_type": "stream",
     "text": [
      "uing ceil() = [2. 2. 3. 5.]\n"
     ]
    }
   ],
   "source": [
    "# ceil() - gives the ceiling value\n",
    "\n",
    "ceil_arr = np.ceil(s5)\n",
    "print(f'uing ceil() = {ceil_arr}')"
   ]
  },
  {
   "cell_type": "code",
   "execution_count": 80,
   "id": "0b1f0517-87c9-48c1-a70b-ad043d90ead5",
   "metadata": {},
   "outputs": [
    {
     "data": {
      "text/plain": [
       "array([[ 8., 85., 91.],\n",
       "       [60., 10., 75.],\n",
       "       [91., 34., 77.]])"
      ]
     },
     "execution_count": 80,
     "metadata": {},
     "output_type": "execute_result"
    }
   ],
   "source": [
    "np.ceil(np.random.random((3,3))*100)"
   ]
  },
  {
   "cell_type": "markdown",
   "id": "380955e5-8038-4bec-81f2-02d72e72d7bc",
   "metadata": {},
   "source": [
    "###  Indexing and slicing in numpy"
   ]
  },
  {
   "cell_type": "code",
   "execution_count": 81,
   "id": "97aa4763-ac1b-4b66-8ba0-672382bd8173",
   "metadata": {},
   "outputs": [
    {
     "data": {
      "text/plain": [
       "array([ 5, 10,  3,  1,  2,  2])"
      ]
     },
     "execution_count": 81,
     "metadata": {},
     "output_type": "execute_result"
    }
   ],
   "source": [
    "# indexing a 1D array\n",
    "\n",
    "m1= np.random.randint(0,11,6)\n",
    "m1"
   ]
  },
  {
   "cell_type": "code",
   "execution_count": 82,
   "id": "b211a6d3-1b2c-49a2-bb87-09a9d4d436a3",
   "metadata": {},
   "outputs": [
    {
     "data": {
      "text/plain": [
       "10"
      ]
     },
     "execution_count": 82,
     "metadata": {},
     "output_type": "execute_result"
    }
   ],
   "source": [
    "# indexing\n",
    "\n",
    "m1[1]"
   ]
  },
  {
   "cell_type": "code",
   "execution_count": 83,
   "id": "0e86f312-56fe-474b-bbda-364f1d48bf78",
   "metadata": {},
   "outputs": [
    {
     "data": {
      "text/plain": [
       "2"
      ]
     },
     "execution_count": 83,
     "metadata": {},
     "output_type": "execute_result"
    }
   ],
   "source": [
    "m1[-2]"
   ]
  },
  {
   "cell_type": "code",
   "execution_count": 84,
   "id": "66ca2f87-069d-4a10-8d57-3d7b5b1515bb",
   "metadata": {},
   "outputs": [
    {
     "data": {
      "text/plain": [
       "array([ 5, 10,  3,  1,  2,  2])"
      ]
     },
     "execution_count": 84,
     "metadata": {},
     "output_type": "execute_result"
    }
   ],
   "source": [
    "# slicing \n",
    "\n",
    "m1[:]"
   ]
  },
  {
   "cell_type": "code",
   "execution_count": 85,
   "id": "364829dc-ef5d-4f57-8c6a-efd3f6bd2583",
   "metadata": {},
   "outputs": [
    {
     "data": {
      "text/plain": [
       "array([ 5, 10])"
      ]
     },
     "execution_count": 85,
     "metadata": {},
     "output_type": "execute_result"
    }
   ],
   "source": [
    "m1[:2]"
   ]
  },
  {
   "cell_type": "code",
   "execution_count": 86,
   "id": "f175a9e7-1d27-467a-9fbb-e2c25585bd88",
   "metadata": {},
   "outputs": [
    {
     "data": {
      "text/plain": [
       "array([3, 1, 2])"
      ]
     },
     "execution_count": 86,
     "metadata": {},
     "output_type": "execute_result"
    }
   ],
   "source": [
    "m1[2:5]"
   ]
  },
  {
   "cell_type": "code",
   "execution_count": 87,
   "id": "a114e05a-313c-44ab-8798-827dc4ddc69d",
   "metadata": {},
   "outputs": [
    {
     "data": {
      "text/plain": [
       "array([ 2,  2,  1,  3, 10,  5])"
      ]
     },
     "execution_count": 87,
     "metadata": {},
     "output_type": "execute_result"
    }
   ],
   "source": [
    "m1[::-1]"
   ]
  },
  {
   "cell_type": "code",
   "execution_count": 88,
   "id": "d6994135-883d-469b-b61f-fb0e04425ab6",
   "metadata": {},
   "outputs": [
    {
     "data": {
      "text/plain": [
       "array([[ 3,  1, 10],\n",
       "       [ 6, 10,  8]])"
      ]
     },
     "execution_count": 88,
     "metadata": {},
     "output_type": "execute_result"
    }
   ],
   "source": [
    "# indexing a 2D array\n",
    "\n",
    "m2= np.random.randint(0,11,(2,3))\n",
    "m2"
   ]
  },
  {
   "cell_type": "code",
   "execution_count": 89,
   "id": "bb6e607c-18e3-4438-849b-9b26c4f63726",
   "metadata": {},
   "outputs": [
    {
     "data": {
      "text/plain": [
       "2"
      ]
     },
     "execution_count": 89,
     "metadata": {},
     "output_type": "execute_result"
    }
   ],
   "source": [
    "m2.ndim"
   ]
  },
  {
   "cell_type": "code",
   "execution_count": 90,
   "id": "e3926493-1be0-4b0e-a703-e1223d35220f",
   "metadata": {},
   "outputs": [
    {
     "data": {
      "text/plain": [
       "10"
      ]
     },
     "execution_count": 90,
     "metadata": {},
     "output_type": "execute_result"
    }
   ],
   "source": [
    "# indexing\n",
    "\n",
    "m2[1,1]"
   ]
  },
  {
   "cell_type": "code",
   "execution_count": 91,
   "id": "36829044-ad52-4086-873f-5195946dfd35",
   "metadata": {},
   "outputs": [
    {
     "data": {
      "text/plain": [
       "3"
      ]
     },
     "execution_count": 91,
     "metadata": {},
     "output_type": "execute_result"
    }
   ],
   "source": [
    "m2[0,0]"
   ]
  },
  {
   "cell_type": "code",
   "execution_count": 92,
   "id": "cba798ff-685a-4d58-af08-1d7c16371cb5",
   "metadata": {},
   "outputs": [
    {
     "data": {
      "text/plain": [
       "array([ 6, 10,  8])"
      ]
     },
     "execution_count": 92,
     "metadata": {},
     "output_type": "execute_result"
    }
   ],
   "source": [
    "m2[1,]"
   ]
  },
  {
   "cell_type": "code",
   "execution_count": 93,
   "id": "d6b06445-b2e3-4fd9-8796-b209f5c3f75e",
   "metadata": {},
   "outputs": [
    {
     "data": {
      "text/plain": [
       "array([[ 3,  1, 10],\n",
       "       [ 6, 10,  8]])"
      ]
     },
     "execution_count": 93,
     "metadata": {},
     "output_type": "execute_result"
    }
   ],
   "source": [
    "# Sclicing \n",
    "\n",
    "m2[:]"
   ]
  },
  {
   "cell_type": "code",
   "execution_count": 94,
   "id": "73a47db4-0425-447d-9f57-de112212a7d2",
   "metadata": {},
   "outputs": [
    {
     "data": {
      "text/plain": [
       "array([ 3,  1, 10])"
      ]
     },
     "execution_count": 94,
     "metadata": {},
     "output_type": "execute_result"
    }
   ],
   "source": [
    "m2[0,:]"
   ]
  },
  {
   "cell_type": "code",
   "execution_count": 95,
   "id": "8f405201-b79f-4ebf-8ec3-93a8fa89524c",
   "metadata": {},
   "outputs": [
    {
     "data": {
      "text/plain": [
       "array([ 1, 10])"
      ]
     },
     "execution_count": 95,
     "metadata": {},
     "output_type": "execute_result"
    }
   ],
   "source": [
    "m2[:,1] # prints the 2nd coloum values "
   ]
  },
  {
   "cell_type": "code",
   "execution_count": 96,
   "id": "98789a8f-2711-4972-86b9-cfe24004508c",
   "metadata": {},
   "outputs": [
    {
     "data": {
      "text/plain": [
       "array([[ 3,  1, 10],\n",
       "       [ 6, 10,  8]])"
      ]
     },
     "execution_count": 96,
     "metadata": {},
     "output_type": "execute_result"
    }
   ],
   "source": [
    "m2[0:2] # to print the rows"
   ]
  },
  {
   "cell_type": "code",
   "execution_count": 97,
   "id": "42c88da6-b321-422e-ba91-1c61d3d15416",
   "metadata": {},
   "outputs": [
    {
     "data": {
      "text/plain": [
       "array([[ 1, 10],\n",
       "       [10,  8]])"
      ]
     },
     "execution_count": 97,
     "metadata": {},
     "output_type": "execute_result"
    }
   ],
   "source": [
    "m2[0:2,1:]  # to print the columns"
   ]
  },
  {
   "cell_type": "code",
   "execution_count": 98,
   "id": "384a6ed7-7dd9-45cf-b93e-dd228ec60c0f",
   "metadata": {},
   "outputs": [
    {
     "data": {
      "text/plain": [
       "8"
      ]
     },
     "execution_count": 98,
     "metadata": {},
     "output_type": "execute_result"
    }
   ],
   "source": [
    "m2[1,2]"
   ]
  },
  {
   "cell_type": "code",
   "execution_count": 99,
   "id": "7b8f8ff6-dd16-4749-acf2-86e6c9bc4aee",
   "metadata": {},
   "outputs": [],
   "source": [
    "m3= np.random.randint(0,16,(3,3))"
   ]
  },
  {
   "cell_type": "code",
   "execution_count": 100,
   "id": "c723549d-26ca-47c7-9d4d-80b34716cc64",
   "metadata": {},
   "outputs": [
    {
     "data": {
      "text/plain": [
       "array([[ 5,  3,  4],\n",
       "       [ 8,  1, 10],\n",
       "       [13, 14,  0]])"
      ]
     },
     "execution_count": 100,
     "metadata": {},
     "output_type": "execute_result"
    }
   ],
   "source": [
    "m3"
   ]
  },
  {
   "cell_type": "code",
   "execution_count": 101,
   "id": "9170163a-4bbd-40c9-97cb-6a984039fb70",
   "metadata": {},
   "outputs": [
    {
     "data": {
      "text/plain": [
       "14"
      ]
     },
     "execution_count": 101,
     "metadata": {},
     "output_type": "execute_result"
    }
   ],
   "source": [
    "m3[2,1]"
   ]
  },
  {
   "cell_type": "code",
   "execution_count": 102,
   "id": "57208f0e-af30-4d2d-bd82-fdce2c331a02",
   "metadata": {},
   "outputs": [
    {
     "data": {
      "text/plain": [
       "array([[13, 14,  0],\n",
       "       [ 8,  1, 10],\n",
       "       [ 5,  3,  4]])"
      ]
     },
     "execution_count": 102,
     "metadata": {},
     "output_type": "execute_result"
    }
   ],
   "source": [
    "m3[::-1] # to print the reverse of the array"
   ]
  },
  {
   "cell_type": "code",
   "execution_count": 103,
   "id": "2ef96a68-7dfd-4ced-b187-e23a9073c981",
   "metadata": {},
   "outputs": [
    {
     "data": {
      "text/plain": [
       "array([[ 5,  3,  4],\n",
       "       [13, 14,  0]])"
      ]
     },
     "execution_count": 103,
     "metadata": {},
     "output_type": "execute_result"
    }
   ],
   "source": [
    "m3[::2] # to print the every 2nd row of the array"
   ]
  },
  {
   "cell_type": "code",
   "execution_count": 104,
   "id": "ef5bf06c-87c2-4091-8c8d-87f18b19f596",
   "metadata": {},
   "outputs": [
    {
     "data": {
      "text/plain": [
       "array([[ 5,  4],\n",
       "       [ 8, 10],\n",
       "       [13,  0]])"
      ]
     },
     "execution_count": 104,
     "metadata": {},
     "output_type": "execute_result"
    }
   ],
   "source": [
    "m3[:,::2] # to print the every 2nd coloum of the array"
   ]
  },
  {
   "cell_type": "code",
   "execution_count": 105,
   "id": "a4b5ce08-a6c2-451c-9f42-206224a4a599",
   "metadata": {},
   "outputs": [
    {
     "data": {
      "text/plain": [
       "array([[[ 4, 15],\n",
       "        [ 3,  2]],\n",
       "\n",
       "       [[10,  9],\n",
       "        [ 8,  4]]])"
      ]
     },
     "execution_count": 105,
     "metadata": {},
     "output_type": "execute_result"
    }
   ],
   "source": [
    "# indexing and sclicing in 3D\n",
    "\n",
    "m4= np.random.randint(0,16,(2,2,2))\n",
    "m4"
   ]
  },
  {
   "cell_type": "code",
   "execution_count": 106,
   "id": "2fbe3af2-3372-4bed-8803-4eb85a6b1da8",
   "metadata": {},
   "outputs": [
    {
     "data": {
      "text/plain": [
       "4"
      ]
     },
     "execution_count": 106,
     "metadata": {},
     "output_type": "execute_result"
    }
   ],
   "source": [
    "# indexing in 3d array\n",
    "\n",
    "m4[1,1,1]"
   ]
  },
  {
   "cell_type": "code",
   "execution_count": 107,
   "id": "23f68c81-a470-49d3-b9f9-b73dbbec569d",
   "metadata": {},
   "outputs": [
    {
     "data": {
      "text/plain": [
       "array([3, 2])"
      ]
     },
     "execution_count": 107,
     "metadata": {},
     "output_type": "execute_result"
    }
   ],
   "source": [
    "m4[0,1,]"
   ]
  },
  {
   "cell_type": "code",
   "execution_count": 108,
   "id": "85796361-5c42-40be-98ba-90530e7023fa",
   "metadata": {},
   "outputs": [
    {
     "data": {
      "text/plain": [
       "array([10,  9])"
      ]
     },
     "execution_count": 108,
     "metadata": {},
     "output_type": "execute_result"
    }
   ],
   "source": [
    "m4[1,0,]"
   ]
  },
  {
   "cell_type": "code",
   "execution_count": 109,
   "id": "da6d19f9-425a-4339-85fa-26cd0d2510ff",
   "metadata": {},
   "outputs": [
    {
     "data": {
      "text/plain": [
       "array([[[11,  3,  8],\n",
       "        [ 6,  9, 14],\n",
       "        [ 7, 11,  5]],\n",
       "\n",
       "       [[13, 11,  2],\n",
       "        [ 7,  5,  8],\n",
       "        [13, 13,  7]],\n",
       "\n",
       "       [[ 6,  9,  8],\n",
       "        [15,  0, 15],\n",
       "        [14, 14, 10]]])"
      ]
     },
     "execution_count": 109,
     "metadata": {},
     "output_type": "execute_result"
    }
   ],
   "source": [
    "# Sclicing in 3d\n",
    "\n",
    "m5= np.random.randint(0,16,(3,3,3))\n",
    "m5"
   ]
  },
  {
   "cell_type": "code",
   "execution_count": 110,
   "id": "68f1714d-db89-4e3d-a0d6-f97e5e862f12",
   "metadata": {},
   "outputs": [
    {
     "data": {
      "text/plain": [
       "array([[11,  3,  8],\n",
       "       [ 6,  9, 14],\n",
       "       [ 7, 11,  5]])"
      ]
     },
     "execution_count": 110,
     "metadata": {},
     "output_type": "execute_result"
    }
   ],
   "source": [
    "m5[0]"
   ]
  },
  {
   "cell_type": "code",
   "execution_count": 111,
   "id": "37dd012e-7a7f-4c11-8b29-be98ff6d6677",
   "metadata": {},
   "outputs": [
    {
     "data": {
      "text/plain": [
       "array([[13, 11,  2],\n",
       "       [ 7,  5,  8],\n",
       "       [13, 13,  7]])"
      ]
     },
     "execution_count": 111,
     "metadata": {},
     "output_type": "execute_result"
    }
   ],
   "source": [
    "m5[1]"
   ]
  },
  {
   "cell_type": "code",
   "execution_count": 112,
   "id": "baa2c5fd-6df1-4fe0-a10e-1bdc844e1fee",
   "metadata": {},
   "outputs": [
    {
     "data": {
      "text/plain": [
       "array([[ 6,  9,  8],\n",
       "       [15,  0, 15],\n",
       "       [14, 14, 10]])"
      ]
     },
     "execution_count": 112,
     "metadata": {},
     "output_type": "execute_result"
    }
   ],
   "source": [
    "m5[2]"
   ]
  },
  {
   "cell_type": "code",
   "execution_count": 113,
   "id": "293b9251-75c1-49a1-83ee-9c89295f4ed3",
   "metadata": {},
   "outputs": [
    {
     "data": {
      "text/plain": [
       "array([[[13, 11,  2],\n",
       "        [ 7,  5,  8],\n",
       "        [13, 13,  7]],\n",
       "\n",
       "       [[ 6,  9,  8],\n",
       "        [15,  0, 15],\n",
       "        [14, 14, 10]]])"
      ]
     },
     "execution_count": 113,
     "metadata": {},
     "output_type": "execute_result"
    }
   ],
   "source": [
    "m5[1:]"
   ]
  },
  {
   "cell_type": "code",
   "execution_count": 114,
   "id": "9dcabf1c-32d4-454c-8617-08efb93c68fe",
   "metadata": {},
   "outputs": [
    {
     "data": {
      "text/plain": [
       "array([[[11,  3,  8],\n",
       "        [ 6,  9, 14],\n",
       "        [ 7, 11,  5]],\n",
       "\n",
       "       [[13, 11,  2],\n",
       "        [ 7,  5,  8],\n",
       "        [13, 13,  7]]])"
      ]
     },
     "execution_count": 114,
     "metadata": {},
     "output_type": "execute_result"
    }
   ],
   "source": [
    "m5[:2]"
   ]
  },
  {
   "cell_type": "code",
   "execution_count": 115,
   "id": "666cebc5-2cfb-41ee-967a-0e65202480e2",
   "metadata": {},
   "outputs": [
    {
     "data": {
      "text/plain": [
       "array([[[11,  3,  8],\n",
       "        [ 6,  9, 14],\n",
       "        [ 7, 11,  5]],\n",
       "\n",
       "       [[ 6,  9,  8],\n",
       "        [15,  0, 15],\n",
       "        [14, 14, 10]]])"
      ]
     },
     "execution_count": 115,
     "metadata": {},
     "output_type": "execute_result"
    }
   ],
   "source": [
    "m5[::2] # Along the first axis, (::2) selects every second element. This means it will select the subarrays at indices 0 and 2 "
   ]
  },
  {
   "cell_type": "code",
   "execution_count": 116,
   "id": "77f7bb11-8869-4edc-826a-61c60834da40",
   "metadata": {},
   "outputs": [
    {
     "data": {
      "text/plain": [
       "array([15,  0, 15])"
      ]
     },
     "execution_count": 116,
     "metadata": {},
     "output_type": "execute_result"
    }
   ],
   "source": [
    "m5[2,1,:] "
   ]
  },
  {
   "cell_type": "code",
   "execution_count": 117,
   "id": "3c397d18-dc81-471f-9d1d-baf2bf165d96",
   "metadata": {},
   "outputs": [
    {
     "data": {
      "text/plain": [
       "array([ 9,  0, 14])"
      ]
     },
     "execution_count": 117,
     "metadata": {},
     "output_type": "execute_result"
    }
   ],
   "source": [
    "m5[2,:,1]"
   ]
  },
  {
   "cell_type": "code",
   "execution_count": 118,
   "id": "2b26bc83-0302-4562-9fed-a86070e3a6fe",
   "metadata": {},
   "outputs": [
    {
     "data": {
      "text/plain": [
       "array([14,  8, 15])"
      ]
     },
     "execution_count": 118,
     "metadata": {},
     "output_type": "execute_result"
    }
   ],
   "source": [
    "m5[:,1,2]"
   ]
  },
  {
   "cell_type": "code",
   "execution_count": 119,
   "id": "9abca387-5cc5-4269-9643-51b8b2f5cc78",
   "metadata": {},
   "outputs": [
    {
     "data": {
      "text/plain": [
       "array([[11,  8],\n",
       "       [ 6,  8]])"
      ]
     },
     "execution_count": 119,
     "metadata": {},
     "output_type": "execute_result"
    }
   ],
   "source": [
    "m5[::2,0,::2]"
   ]
  },
  {
   "cell_type": "code",
   "execution_count": 120,
   "id": "8b9211de-cf92-478b-8e37-5a0a8469fbf7",
   "metadata": {},
   "outputs": [
    {
     "data": {
      "text/plain": [
       "array([[[11,  3,  8],\n",
       "        [ 6,  9, 14],\n",
       "        [ 7, 11,  5]],\n",
       "\n",
       "       [[13, 11,  2],\n",
       "        [ 7,  5,  8],\n",
       "        [13, 13,  7]],\n",
       "\n",
       "       [[ 6,  9,  8],\n",
       "        [15,  0, 15],\n",
       "        [14, 14, 10]]])"
      ]
     },
     "execution_count": 120,
     "metadata": {},
     "output_type": "execute_result"
    }
   ],
   "source": [
    "m5 # m5[1,1,1]- first row , first coloum, first attribute"
   ]
  },
  {
   "cell_type": "code",
   "execution_count": 121,
   "id": "c67d0266-aadc-4842-95c5-25a24f53f78b",
   "metadata": {},
   "outputs": [
    {
     "data": {
      "text/plain": [
       "array([[[11,  3,  8],\n",
       "        [ 7, 11,  5]],\n",
       "\n",
       "       [[13, 11,  2],\n",
       "        [13, 13,  7]],\n",
       "\n",
       "       [[ 6,  9,  8],\n",
       "        [14, 14, 10]]])"
      ]
     },
     "execution_count": 121,
     "metadata": {},
     "output_type": "execute_result"
    }
   ],
   "source": [
    "m5[:,::2,:]"
   ]
  },
  {
   "cell_type": "markdown",
   "id": "b75edfa2-a283-4171-a919-7946022a2360",
   "metadata": {},
   "source": [
    "### Iterating or loops"
   ]
  },
  {
   "cell_type": "code",
   "execution_count": 122,
   "id": "1a66d7ca-c549-4cf4-b35e-2a3dd7d96fc3",
   "metadata": {},
   "outputs": [
    {
     "data": {
      "text/plain": [
       "array([1, 2, 3, 4, 5, 6, 7, 8, 9])"
      ]
     },
     "execution_count": 122,
     "metadata": {},
     "output_type": "execute_result"
    }
   ],
   "source": [
    "a1"
   ]
  },
  {
   "cell_type": "code",
   "execution_count": 123,
   "id": "7b4b43cb-8f20-45b7-a748-3453799234d0",
   "metadata": {},
   "outputs": [
    {
     "data": {
      "text/plain": [
       "array([[1, 2, 3],\n",
       "       [4, 5, 6]])"
      ]
     },
     "execution_count": 123,
     "metadata": {},
     "output_type": "execute_result"
    }
   ],
   "source": [
    "a2"
   ]
  },
  {
   "cell_type": "code",
   "execution_count": 124,
   "id": "53f2bd64-6699-4cac-aeaa-c476b21ca0af",
   "metadata": {},
   "outputs": [
    {
     "data": {
      "text/plain": [
       "array([[[ 4, 15],\n",
       "        [ 3,  2]],\n",
       "\n",
       "       [[10,  9],\n",
       "        [ 8,  4]]])"
      ]
     },
     "execution_count": 124,
     "metadata": {},
     "output_type": "execute_result"
    }
   ],
   "source": [
    "m4"
   ]
  },
  {
   "cell_type": "code",
   "execution_count": 125,
   "id": "b7934055-9cb7-4825-a37b-2cf548ce9073",
   "metadata": {},
   "outputs": [
    {
     "name": "stdout",
     "output_type": "stream",
     "text": [
      "1\n",
      "2\n",
      "3\n",
      "4\n",
      "5\n",
      "6\n",
      "7\n",
      "8\n",
      "9\n"
     ]
    }
   ],
   "source": [
    "for i in a1:\n",
    "    print(i)"
   ]
  },
  {
   "cell_type": "code",
   "execution_count": 126,
   "id": "ad6a98ab-06ac-4f8b-8557-c2010a2abba2",
   "metadata": {
    "tags": []
   },
   "outputs": [
    {
     "name": "stdout",
     "output_type": "stream",
     "text": [
      "[1 2 3]\n",
      "[4 5 6]\n"
     ]
    }
   ],
   "source": [
    "for i in a2:\n",
    "    print(i)"
   ]
  },
  {
   "cell_type": "code",
   "execution_count": 127,
   "id": "ca3edcb8-8e91-4ef0-8c9c-7b4fc1e869e6",
   "metadata": {},
   "outputs": [
    {
     "name": "stdout",
     "output_type": "stream",
     "text": [
      "[[1 2 3]\n",
      " [4 5 6]]\n",
      "[[ 7  8  9]\n",
      " [10 11 12]]\n"
     ]
    }
   ],
   "source": [
    "for i in a3:\n",
    "    print(i)"
   ]
  },
  {
   "cell_type": "code",
   "execution_count": 128,
   "id": "b2412fdf-a7ca-4aeb-971f-e805e6561db6",
   "metadata": {},
   "outputs": [
    {
     "name": "stdout",
     "output_type": "stream",
     "text": [
      "1\n",
      "2\n",
      "3\n",
      "4\n",
      "5\n",
      "6\n",
      "7\n",
      "8\n",
      "9\n",
      "10\n",
      "11\n",
      "12\n"
     ]
    }
   ],
   "source": [
    "for i in np.nditer(a3):\n",
    "    print(i)"
   ]
  },
  {
   "cell_type": "markdown",
   "id": "3ba9a841-0306-4e41-b473-a59692b1c5d5",
   "metadata": {},
   "source": [
    "### Reshaping"
   ]
  },
  {
   "cell_type": "code",
   "execution_count": 129,
   "id": "52135866-2501-4038-8e5d-90096cc36202",
   "metadata": {},
   "outputs": [
    {
     "data": {
      "text/plain": [
       "array([[ 5,  3,  4],\n",
       "       [ 8,  1, 10],\n",
       "       [13, 14,  0]])"
      ]
     },
     "execution_count": 129,
     "metadata": {},
     "output_type": "execute_result"
    }
   ],
   "source": [
    "m3"
   ]
  },
  {
   "cell_type": "code",
   "execution_count": 130,
   "id": "75426b8a-c62a-4cd5-9f3c-26cdf0fe2eb2",
   "metadata": {},
   "outputs": [
    {
     "data": {
      "text/plain": [
       "array([[ 5,  8, 13],\n",
       "       [ 3,  1, 14],\n",
       "       [ 4, 10,  0]])"
      ]
     },
     "execution_count": 130,
     "metadata": {},
     "output_type": "execute_result"
    }
   ],
   "source": [
    "# Transpose- use np.transpose() or .T\n",
    "\n",
    "np.transpose(m3)"
   ]
  },
  {
   "cell_type": "code",
   "execution_count": 131,
   "id": "43b6a0d3-27ea-485d-8e57-6e19c8972b92",
   "metadata": {},
   "outputs": [
    {
     "data": {
      "text/plain": [
       "array([[ 5,  8, 13],\n",
       "       [ 3,  1, 14],\n",
       "       [ 4, 10,  0]])"
      ]
     },
     "execution_count": 131,
     "metadata": {},
     "output_type": "execute_result"
    }
   ],
   "source": [
    "m3.T"
   ]
  },
  {
   "cell_type": "code",
   "execution_count": 132,
   "id": "9738cfd4-4983-4ac6-ba61-a94f725256a5",
   "metadata": {},
   "outputs": [
    {
     "data": {
      "text/plain": [
       "array([ 5,  3,  4,  8,  1, 10, 13, 14,  0])"
      ]
     },
     "execution_count": 132,
     "metadata": {},
     "output_type": "execute_result"
    }
   ],
   "source": [
    "# ravel - used to convert nD array into 1D array\n",
    "\n",
    "m3.ravel()"
   ]
  },
  {
   "cell_type": "code",
   "execution_count": 133,
   "id": "6bca2079-a55c-4fd5-b64b-829219a2bd3c",
   "metadata": {},
   "outputs": [
    {
     "data": {
      "text/plain": [
       "array([[[ 4, 15],\n",
       "        [ 3,  2]],\n",
       "\n",
       "       [[10,  9],\n",
       "        [ 8,  4]]])"
      ]
     },
     "execution_count": 133,
     "metadata": {},
     "output_type": "execute_result"
    }
   ],
   "source": [
    "m4"
   ]
  },
  {
   "cell_type": "code",
   "execution_count": 134,
   "id": "84384c2e-0065-46cd-9a37-58882b9eddb7",
   "metadata": {},
   "outputs": [
    {
     "data": {
      "text/plain": [
       "array([ 4, 15,  3,  2, 10,  9,  8,  4])"
      ]
     },
     "execution_count": 134,
     "metadata": {},
     "output_type": "execute_result"
    }
   ],
   "source": [
    "m4.ravel()"
   ]
  },
  {
   "cell_type": "code",
   "execution_count": 135,
   "id": "571ca985-5394-4f4c-8788-d2452faf255c",
   "metadata": {},
   "outputs": [],
   "source": [
    "# stacking\n",
    "\n",
    "x1= np.random.randint(0,16,(4,3))\n",
    "x2= np.random.randint(0,16,(4,3))"
   ]
  },
  {
   "cell_type": "code",
   "execution_count": 136,
   "id": "d681f29a-d0f7-4d8c-8c2c-686f0449c8b3",
   "metadata": {},
   "outputs": [
    {
     "data": {
      "text/plain": [
       "array([[13,  3,  4],\n",
       "       [ 7, 11,  6],\n",
       "       [ 0,  7,  7],\n",
       "       [ 2,  6,  6]])"
      ]
     },
     "execution_count": 136,
     "metadata": {},
     "output_type": "execute_result"
    }
   ],
   "source": [
    "x1"
   ]
  },
  {
   "cell_type": "code",
   "execution_count": 137,
   "id": "5d6d0a23-a342-46be-9f67-abfe609ae971",
   "metadata": {},
   "outputs": [
    {
     "data": {
      "text/plain": [
       "array([[ 5,  9, 11],\n",
       "       [ 0,  0, 15],\n",
       "       [13, 13, 11],\n",
       "       [ 4,  4,  3]])"
      ]
     },
     "execution_count": 137,
     "metadata": {},
     "output_type": "execute_result"
    }
   ],
   "source": [
    "x2"
   ]
  },
  {
   "cell_type": "code",
   "execution_count": 138,
   "id": "47d853b2-294c-4e6b-89c2-7f6036217203",
   "metadata": {},
   "outputs": [
    {
     "data": {
      "text/plain": [
       "array([[13,  3,  4,  5,  9, 11],\n",
       "       [ 7, 11,  6,  0,  0, 15],\n",
       "       [ 0,  7,  7, 13, 13, 11],\n",
       "       [ 2,  6,  6,  4,  4,  3]])"
      ]
     },
     "execution_count": 138,
     "metadata": {},
     "output_type": "execute_result"
    }
   ],
   "source": [
    "np.hstack((x1,x2)) # use to stack two arrays horizontally"
   ]
  },
  {
   "cell_type": "code",
   "execution_count": 139,
   "id": "a1e3886a-064b-443a-aa83-ddc05bd2375e",
   "metadata": {},
   "outputs": [
    {
     "data": {
      "text/plain": [
       "array([[ 5,  9, 11, 13,  3,  4],\n",
       "       [ 0,  0, 15,  7, 11,  6],\n",
       "       [13, 13, 11,  0,  7,  7],\n",
       "       [ 4,  4,  3,  2,  6,  6]])"
      ]
     },
     "execution_count": 139,
     "metadata": {},
     "output_type": "execute_result"
    }
   ],
   "source": [
    "np.hstack((x2,x1))"
   ]
  },
  {
   "cell_type": "code",
   "execution_count": 140,
   "id": "c63a5d7e-ccca-48ae-9996-6ed5b7b95a88",
   "metadata": {},
   "outputs": [
    {
     "data": {
      "text/plain": [
       "array([[13,  3,  4],\n",
       "       [ 7, 11,  6],\n",
       "       [ 0,  7,  7],\n",
       "       [ 2,  6,  6],\n",
       "       [ 5,  9, 11],\n",
       "       [ 0,  0, 15],\n",
       "       [13, 13, 11],\n",
       "       [ 4,  4,  3]])"
      ]
     },
     "execution_count": 140,
     "metadata": {},
     "output_type": "execute_result"
    }
   ],
   "source": [
    "np.vstack((x1,x2)) # used to stack two arrays vertically"
   ]
  },
  {
   "cell_type": "code",
   "execution_count": 141,
   "id": "a1f7362f-4ee6-4d4f-8829-0f95179138f8",
   "metadata": {},
   "outputs": [
    {
     "data": {
      "text/plain": [
       "array([[ 5,  9, 11],\n",
       "       [ 0,  0, 15],\n",
       "       [13, 13, 11],\n",
       "       [ 4,  4,  3],\n",
       "       [13,  3,  4],\n",
       "       [ 7, 11,  6],\n",
       "       [ 0,  7,  7],\n",
       "       [ 2,  6,  6]])"
      ]
     },
     "execution_count": 141,
     "metadata": {},
     "output_type": "execute_result"
    }
   ],
   "source": [
    "np.vstack((x2,x1))"
   ]
  },
  {
   "cell_type": "code",
   "execution_count": 142,
   "id": "02393d50-be98-444e-b8b4-aa3d3cee0b49",
   "metadata": {},
   "outputs": [],
   "source": [
    "# splitting\n",
    "\n",
    "x3= np.random.randint(0,16,(3,4))"
   ]
  },
  {
   "cell_type": "code",
   "execution_count": 143,
   "id": "0efdee3b-99e2-4a7a-bd78-8efb939c3bce",
   "metadata": {},
   "outputs": [
    {
     "data": {
      "text/plain": [
       "array([[ 7, 13,  4, 10],\n",
       "       [ 4,  3,  0,  3],\n",
       "       [ 8,  3,  8,  9]])"
      ]
     },
     "execution_count": 143,
     "metadata": {},
     "output_type": "execute_result"
    }
   ],
   "source": [
    "x3"
   ]
  },
  {
   "cell_type": "code",
   "execution_count": 144,
   "id": "8886eca0-34cc-4d6f-8d00-734d32e79bf1",
   "metadata": {},
   "outputs": [
    {
     "data": {
      "text/plain": [
       "[array([[ 7, 13],\n",
       "        [ 4,  3],\n",
       "        [ 8,  3]]),\n",
       " array([[ 4, 10],\n",
       "        [ 0,  3],\n",
       "        [ 8,  9]])]"
      ]
     },
     "execution_count": 144,
     "metadata": {},
     "output_type": "execute_result"
    }
   ],
   "source": [
    "np.hsplit(x3,2) # use hsplit the split the values horizontally"
   ]
  },
  {
   "cell_type": "code",
   "execution_count": 145,
   "id": "826de63d-2636-4e3a-aaf7-5bdaa839e0c8",
   "metadata": {},
   "outputs": [
    {
     "data": {
      "text/plain": [
       "[array([[7],\n",
       "        [4],\n",
       "        [8]]),\n",
       " array([[13],\n",
       "        [ 3],\n",
       "        [ 3]]),\n",
       " array([[4],\n",
       "        [0],\n",
       "        [8]]),\n",
       " array([[10],\n",
       "        [ 3],\n",
       "        [ 9]])]"
      ]
     },
     "execution_count": 145,
     "metadata": {},
     "output_type": "execute_result"
    }
   ],
   "source": [
    "np.hsplit(x3,4)"
   ]
  },
  {
   "cell_type": "code",
   "execution_count": 146,
   "id": "20fc5584-494a-42e6-bf12-279727252d2d",
   "metadata": {},
   "outputs": [
    {
     "data": {
      "text/plain": [
       "[array([[ 7, 13,  4, 10]]), array([[4, 3, 0, 3]]), array([[8, 3, 8, 9]])]"
      ]
     },
     "execution_count": 146,
     "metadata": {},
     "output_type": "execute_result"
    }
   ],
   "source": [
    "np.vsplit(x3,3) # spliting the value vertically"
   ]
  },
  {
   "cell_type": "code",
   "execution_count": 147,
   "id": "642e4aa1-4e2f-4015-bf4c-0785263aed63",
   "metadata": {},
   "outputs": [],
   "source": [
    "x3= np.expand_dims(x3,axis =1)\n"
   ]
  },
  {
   "cell_type": "code",
   "execution_count": 148,
   "id": "d45b6cbe-93d5-4cc6-99e3-95c446688eec",
   "metadata": {},
   "outputs": [
    {
     "data": {
      "text/plain": [
       "array([[[ 7, 13,  4, 10]],\n",
       "\n",
       "       [[ 4,  3,  0,  3]],\n",
       "\n",
       "       [[ 8,  3,  8,  9]]])"
      ]
     },
     "execution_count": 148,
     "metadata": {},
     "output_type": "execute_result"
    }
   ],
   "source": [
    "x3"
   ]
  },
  {
   "cell_type": "code",
   "execution_count": 149,
   "id": "42c0aa34-d68a-4cba-a618-4a0c5dc01ab8",
   "metadata": {},
   "outputs": [
    {
     "data": {
      "text/plain": [
       "3"
      ]
     },
     "execution_count": 149,
     "metadata": {},
     "output_type": "execute_result"
    }
   ],
   "source": [
    "x3.ndim"
   ]
  },
  {
   "cell_type": "code",
   "execution_count": 150,
   "id": "bbc01a7a-39c3-4769-a133-fb5c72b1275f",
   "metadata": {},
   "outputs": [
    {
     "data": {
      "text/plain": [
       "array([[ 5,  3,  4],\n",
       "       [ 8,  1, 10],\n",
       "       [13, 14,  0]])"
      ]
     },
     "execution_count": 150,
     "metadata": {},
     "output_type": "execute_result"
    }
   ],
   "source": [
    "m3"
   ]
  },
  {
   "cell_type": "code",
   "execution_count": 151,
   "id": "134477fa-00ff-4469-821a-8b615bfe7196",
   "metadata": {},
   "outputs": [
    {
     "data": {
      "text/plain": [
       "array([ 3, 14])"
      ]
     },
     "execution_count": 151,
     "metadata": {},
     "output_type": "execute_result"
    }
   ],
   "source": [
    "m3[[0,2],1]"
   ]
  },
  {
   "cell_type": "code",
   "execution_count": 152,
   "id": "72ad2fd4-1a84-410c-9148-47848f372eb1",
   "metadata": {},
   "outputs": [
    {
     "data": {
      "text/plain": [
       "array([[[ 4, 15],\n",
       "        [ 3,  2]],\n",
       "\n",
       "       [[10,  9],\n",
       "        [ 8,  4]]])"
      ]
     },
     "execution_count": 152,
     "metadata": {},
     "output_type": "execute_result"
    }
   ],
   "source": [
    "m4"
   ]
  },
  {
   "cell_type": "code",
   "execution_count": 153,
   "id": "4d70125e-9b82-4092-82ef-e0280a67b2b1",
   "metadata": {},
   "outputs": [
    {
     "data": {
      "text/plain": [
       "array([9, 4])"
      ]
     },
     "execution_count": 153,
     "metadata": {},
     "output_type": "execute_result"
    }
   ],
   "source": [
    "m4[1,[0,1],1]"
   ]
  },
  {
   "cell_type": "code",
   "execution_count": 154,
   "id": "91c20ec1-09bc-4697-a560-6a150aa5c196",
   "metadata": {},
   "outputs": [
    {
     "data": {
      "text/plain": [
       "array([[ True, False, False],\n",
       "       [ True, False,  True],\n",
       "       [ True,  True, False]])"
      ]
     },
     "execution_count": 154,
     "metadata": {},
     "output_type": "execute_result"
    }
   ],
   "source": [
    "# boolen indexing\n",
    "\n",
    "m3 > 4"
   ]
  },
  {
   "cell_type": "code",
   "execution_count": 155,
   "id": "d85d05ab-afbe-4d79-8025-091e84f10f3d",
   "metadata": {},
   "outputs": [
    {
     "data": {
      "text/plain": [
       "array([ 5,  8, 10, 13, 14])"
      ]
     },
     "execution_count": 155,
     "metadata": {},
     "output_type": "execute_result"
    }
   ],
   "source": [
    "# to get the element greater than 4 use flitering\n",
    "\n",
    "m3[m3>4]"
   ]
  },
  {
   "cell_type": "code",
   "execution_count": 156,
   "id": "de8b28a8-9b06-4376-baea-34dfa0d21928",
   "metadata": {},
   "outputs": [
    {
     "data": {
      "text/plain": [
       "array([ 0, 37, 32, 34,  1,  2, 37, 15,  1, 24,  6,  6, 37, 19, 31])"
      ]
     },
     "execution_count": 156,
     "metadata": {},
     "output_type": "execute_result"
    }
   ],
   "source": [
    "# sorting \n",
    "\n",
    "a= np.random.randint(0,50,15)\n",
    "a"
   ]
  },
  {
   "cell_type": "code",
   "execution_count": 157,
   "id": "172615c8-b058-4e47-89e0-1f661d932a3a",
   "metadata": {},
   "outputs": [
    {
     "data": {
      "text/plain": [
       "array([[40,  6,  3, 13],\n",
       "       [40, 13,  2, 47],\n",
       "       [12, 37, 18, 29],\n",
       "       [ 2,  8,  2, 49]])"
      ]
     },
     "execution_count": 157,
     "metadata": {},
     "output_type": "execute_result"
    }
   ],
   "source": [
    "b= np.random.randint(0,50,16).reshape(4,4)\n",
    "b"
   ]
  },
  {
   "cell_type": "code",
   "execution_count": 158,
   "id": "98a01458-0fde-4a43-aa24-cff854fa0ecb",
   "metadata": {},
   "outputs": [
    {
     "data": {
      "text/plain": [
       "array([ 0,  1,  1,  2,  6,  6, 15, 19, 24, 31, 32, 34, 37, 37, 37])"
      ]
     },
     "execution_count": 158,
     "metadata": {},
     "output_type": "execute_result"
    }
   ],
   "source": [
    "np.sort(a)"
   ]
  },
  {
   "cell_type": "code",
   "execution_count": 159,
   "id": "4e743454-4501-4615-a4d1-b98488d70fd7",
   "metadata": {},
   "outputs": [
    {
     "data": {
      "text/plain": [
       "array([[ 3,  6, 13, 40],\n",
       "       [ 2, 13, 40, 47],\n",
       "       [12, 18, 29, 37],\n",
       "       [ 2,  2,  8, 49]])"
      ]
     },
     "execution_count": 159,
     "metadata": {},
     "output_type": "execute_result"
    }
   ],
   "source": [
    "np.sort(b) # sort by rows"
   ]
  },
  {
   "cell_type": "code",
   "execution_count": 160,
   "id": "1fc181cc-8035-4bec-a811-5dbb501c062b",
   "metadata": {},
   "outputs": [
    {
     "data": {
      "text/plain": [
       "array([ 0, 37, 32, 34,  1,  2, 37, 15,  1, 24,  6,  6, 37, 19, 31, 50])"
      ]
     },
     "execution_count": 160,
     "metadata": {},
     "output_type": "execute_result"
    }
   ],
   "source": [
    "# append\n",
    "\n",
    "np.append(a,50)"
   ]
  },
  {
   "cell_type": "code",
   "execution_count": 161,
   "id": "4b5203e7-4360-4472-add9-4ea87ac5066b",
   "metadata": {},
   "outputs": [
    {
     "data": {
      "text/plain": [
       "array([[ 0, 16,  0, 12],\n",
       "       [ 9,  4,  4, 14],\n",
       "       [ 6, 16, 17,  9],\n",
       "       [14,  8,  6,  5]])"
      ]
     },
     "execution_count": 161,
     "metadata": {},
     "output_type": "execute_result"
    }
   ],
   "source": [
    "c=np.random.randint(0,20,16).reshape(4,4)\n",
    "c"
   ]
  },
  {
   "cell_type": "code",
   "execution_count": 162,
   "id": "1430faf8-3f6f-4220-a4fd-18af9f23eb1f",
   "metadata": {},
   "outputs": [
    {
     "data": {
      "text/plain": [
       "array([[40,  6,  3, 13],\n",
       "       [40, 13,  2, 47],\n",
       "       [12, 37, 18, 29],\n",
       "       [ 2,  8,  2, 49],\n",
       "       [ 0, 16,  0, 12],\n",
       "       [ 9,  4,  4, 14],\n",
       "       [ 6, 16, 17,  9],\n",
       "       [14,  8,  6,  5]])"
      ]
     },
     "execution_count": 162,
     "metadata": {},
     "output_type": "execute_result"
    }
   ],
   "source": [
    "np.concatenate((b,c),axis=0)"
   ]
  },
  {
   "cell_type": "code",
   "execution_count": 163,
   "id": "be25e534-a3af-4f1e-8392-afbc448f4331",
   "metadata": {},
   "outputs": [
    {
     "data": {
      "text/plain": [
       "array([[40,  6,  3, 13,  0, 16,  0, 12],\n",
       "       [40, 13,  2, 47,  9,  4,  4, 14],\n",
       "       [12, 37, 18, 29,  6, 16, 17,  9],\n",
       "       [ 2,  8,  2, 49, 14,  8,  6,  5]])"
      ]
     },
     "execution_count": 163,
     "metadata": {},
     "output_type": "execute_result"
    }
   ],
   "source": [
    "np.concatenate((b,c),axis=1)"
   ]
  },
  {
   "cell_type": "code",
   "execution_count": 164,
   "id": "3ae38e23-6d79-4a3b-9b08-668c66dfdb16",
   "metadata": {},
   "outputs": [
    {
     "data": {
      "text/plain": [
       "array([ 0,  1,  2,  6, 15, 19, 24, 31, 32, 34, 37])"
      ]
     },
     "execution_count": 164,
     "metadata": {},
     "output_type": "execute_result"
    }
   ],
   "source": [
    "\n",
    "np.unique(a)"
   ]
  },
  {
   "cell_type": "code",
   "execution_count": 165,
   "id": "8ecb0ffb-372f-4df9-9605-0e9dc07e74e4",
   "metadata": {},
   "outputs": [
    {
     "data": {
      "text/plain": [
       "array([ 0,  4,  5,  6,  8,  9, 12, 14, 16, 17])"
      ]
     },
     "execution_count": 165,
     "metadata": {},
     "output_type": "execute_result"
    }
   ],
   "source": [
    "np.unique(c)"
   ]
  },
  {
   "cell_type": "code",
   "execution_count": 166,
   "id": "33f09fde-afce-48d3-8df5-ae4851f8a306",
   "metadata": {},
   "outputs": [
    {
     "data": {
      "text/plain": [
       "array([ 0, 37, 32, 34,  0,  0, 37, 15,  0, 24,  0,  0, 37, 19, 31])"
      ]
     },
     "execution_count": 166,
     "metadata": {},
     "output_type": "execute_result"
    }
   ],
   "source": [
    "# where()\n",
    "\n",
    "np.where(a>12,a,0)"
   ]
  },
  {
   "cell_type": "code",
   "execution_count": 167,
   "id": "410ae0b9-e47b-4469-9262-c89aea038b37",
   "metadata": {},
   "outputs": [
    {
     "data": {
      "text/plain": [
       "array([ 0, 37, 32, 34,  1,  2, 37, 15,  1, 24,  6,  6, 37, 19, 31])"
      ]
     },
     "execution_count": 167,
     "metadata": {},
     "output_type": "execute_result"
    }
   ],
   "source": [
    "a"
   ]
  },
  {
   "cell_type": "code",
   "execution_count": 168,
   "id": "5f851a63-17e9-401d-a4eb-621df177c9b1",
   "metadata": {},
   "outputs": [
    {
     "data": {
      "text/plain": [
       "array([1, 0, 0, 0, 1, 1, 0, 0, 1, 0, 1, 1, 0, 0, 0])"
      ]
     },
     "execution_count": 168,
     "metadata": {},
     "output_type": "execute_result"
    }
   ],
   "source": [
    "np.where(a>12,0,1)"
   ]
  },
  {
   "cell_type": "code",
   "execution_count": 169,
   "id": "be60e7da-5fb3-4c5c-8114-f68a820e46a7",
   "metadata": {},
   "outputs": [],
   "source": [
    "# np.argmax - is used to written the incx no. of the maximum element in the array\n",
    "\n",
    "a = np.random.randint(0,50,12)"
   ]
  },
  {
   "cell_type": "code",
   "execution_count": 170,
   "id": "f4c68419-9c9a-46ce-9759-b5119f66d243",
   "metadata": {},
   "outputs": [
    {
     "data": {
      "text/plain": [
       "array([ 1, 31, 34,  8, 29, 17, 35, 18, 16, 43, 26, 17])"
      ]
     },
     "execution_count": 170,
     "metadata": {},
     "output_type": "execute_result"
    }
   ],
   "source": [
    "a"
   ]
  },
  {
   "cell_type": "code",
   "execution_count": 171,
   "id": "441ceb33-3a90-4bba-9193-c65462fa109b",
   "metadata": {},
   "outputs": [
    {
     "data": {
      "text/plain": [
       "9"
      ]
     },
     "execution_count": 171,
     "metadata": {},
     "output_type": "execute_result"
    }
   ],
   "source": [
    "np.argmax(a)"
   ]
  },
  {
   "cell_type": "code",
   "execution_count": 172,
   "id": "1edf51b6-8197-4ace-8b7b-e3cf9f62ed9a",
   "metadata": {},
   "outputs": [
    {
     "data": {
      "text/plain": [
       "18"
      ]
     },
     "execution_count": 172,
     "metadata": {},
     "output_type": "execute_result"
    }
   ],
   "source": [
    "a[7]"
   ]
  },
  {
   "cell_type": "code",
   "execution_count": 173,
   "id": "295263db-6a1d-455c-b59f-2a7ce0159da1",
   "metadata": {},
   "outputs": [
    {
     "data": {
      "text/plain": [
       "array([  1,  32,  66,  74, 103, 120, 155, 173, 189, 232, 258, 275])"
      ]
     },
     "execution_count": 173,
     "metadata": {},
     "output_type": "execute_result"
    }
   ],
   "source": [
    "# cumsum \n",
    "\n",
    "np.cumsum(a)"
   ]
  },
  {
   "cell_type": "code",
   "execution_count": 174,
   "id": "6a47a4c9-790f-4047-818b-2f96c3403810",
   "metadata": {},
   "outputs": [
    {
     "data": {
      "text/plain": [
       "array([[19,  4, 22, 19],\n",
       "       [ 8,  7,  5, 20],\n",
       "       [ 7, 23, 20,  7],\n",
       "       [10, 13, 13,  8]])"
      ]
     },
     "execution_count": 174,
     "metadata": {},
     "output_type": "execute_result"
    }
   ],
   "source": [
    "b= np.random.randint(0,25,16).reshape(4,4)\n",
    "b"
   ]
  },
  {
   "cell_type": "code",
   "execution_count": 175,
   "id": "ff190a45-4cad-4c26-88d6-18357735ece0",
   "metadata": {},
   "outputs": [
    {
     "data": {
      "text/plain": [
       "array([ 19,  23,  45,  64,  72,  79,  84, 104, 111, 134, 154, 161, 171,\n",
       "       184, 197, 205])"
      ]
     },
     "execution_count": 175,
     "metadata": {},
     "output_type": "execute_result"
    }
   ],
   "source": [
    "np.cumsum(b)"
   ]
  },
  {
   "cell_type": "code",
   "execution_count": 176,
   "id": "52dff76d-1532-4b64-b615-4b18429f1f80",
   "metadata": {},
   "outputs": [
    {
     "data": {
      "text/plain": [
       "array([[19, 23, 45, 64],\n",
       "       [ 8, 15, 20, 40],\n",
       "       [ 7, 30, 50, 57],\n",
       "       [10, 23, 36, 44]])"
      ]
     },
     "execution_count": 176,
     "metadata": {},
     "output_type": "execute_result"
    }
   ],
   "source": [
    "np.cumsum(b,axis=1)"
   ]
  },
  {
   "cell_type": "code",
   "execution_count": 177,
   "id": "9a640171-bc1d-48b0-ba42-1726bbb63fa4",
   "metadata": {},
   "outputs": [
    {
     "data": {
      "text/plain": [
       "array([[19,  4, 22, 19],\n",
       "       [27, 11, 27, 39],\n",
       "       [34, 34, 47, 46],\n",
       "       [44, 47, 60, 54]])"
      ]
     },
     "execution_count": 177,
     "metadata": {},
     "output_type": "execute_result"
    }
   ],
   "source": [
    "np.cumsum(b,axis=0)"
   ]
  },
  {
   "cell_type": "code",
   "execution_count": 178,
   "id": "b2f81aed-9431-4f44-b9bb-409e7710ff3d",
   "metadata": {},
   "outputs": [
    {
     "data": {
      "text/plain": [
       "array([          1,          31,        1054,        8432,      244528,\n",
       "           4156976,   145494160, -1676072416, -1047354880, -2086586880,\n",
       "        1583315968,  1146567680])"
      ]
     },
     "execution_count": 178,
     "metadata": {},
     "output_type": "execute_result"
    }
   ],
   "source": [
    "np.cumprod(a)"
   ]
  },
  {
   "cell_type": "code",
   "execution_count": 179,
   "id": "a904c9af-d758-4f63-a594-b5f41ea42184",
   "metadata": {},
   "outputs": [
    {
     "data": {
      "text/plain": [
       "array([[   19,     4,    22,    19],\n",
       "       [  152,    28,   110,   380],\n",
       "       [ 1064,   644,  2200,  2660],\n",
       "       [10640,  8372, 28600, 21280]])"
      ]
     },
     "execution_count": 179,
     "metadata": {},
     "output_type": "execute_result"
    }
   ],
   "source": [
    "np.cumprod(b,axis=0)"
   ]
  },
  {
   "cell_type": "code",
   "execution_count": 180,
   "id": "0f9ac43a-5f28-4b1d-8cb8-e2e8d3bce523",
   "metadata": {},
   "outputs": [
    {
     "data": {
      "text/plain": [
       "array([[   19,    76,  1672, 31768],\n",
       "       [    8,    56,   280,  5600],\n",
       "       [    7,   161,  3220, 22540],\n",
       "       [   10,   130,  1690, 13520]])"
      ]
     },
     "execution_count": 180,
     "metadata": {},
     "output_type": "execute_result"
    }
   ],
   "source": [
    "np.cumprod(b,axis=1)"
   ]
  },
  {
   "cell_type": "code",
   "execution_count": 181,
   "id": "c488ce68-008b-4110-bf8e-23965bbf7041",
   "metadata": {},
   "outputs": [
    {
     "data": {
      "text/plain": [
       "(array([2, 4, 2, 3, 1], dtype=int64), array([ 0, 10, 20, 30, 40, 50]))"
      ]
     },
     "execution_count": 181,
     "metadata": {},
     "output_type": "execute_result"
    }
   ],
   "source": [
    "# np.histogram - used to represent the frequency of data distribution \n",
    "\n",
    "np.histogram(a, bins= [0,10,20,30,40,50])"
   ]
  },
  {
   "cell_type": "code",
   "execution_count": 182,
   "id": "6224ff36-389c-4e30-abf8-f287ba8e91d4",
   "metadata": {},
   "outputs": [],
   "source": [
    "# np.corrcoef - checks how two variables are corelated to each other\n",
    "\n",
    "height =np.array([151,161,165,157,173,167])\n",
    "weight = np.array([51,56,57,52,65,56])"
   ]
  },
  {
   "cell_type": "code",
   "execution_count": 183,
   "id": "660c5a8e-bd34-4127-8866-40af832f2bdc",
   "metadata": {},
   "outputs": [
    {
     "data": {
      "text/plain": [
       "array([[1.        , 0.91827531],\n",
       "       [0.91827531, 1.        ]])"
      ]
     },
     "execution_count": 183,
     "metadata": {},
     "output_type": "execute_result"
    }
   ],
   "source": [
    "np.corrcoef(height,weight)"
   ]
  },
  {
   "cell_type": "code",
   "execution_count": 184,
   "id": "a8b2f035-6528-4e00-9c52-9a112dc9416c",
   "metadata": {},
   "outputs": [
    {
     "data": {
      "text/plain": [
       "array([ 1, 31, 34,  8, 29, 17, 35, 18, 16, 43, 26, 17])"
      ]
     },
     "execution_count": 184,
     "metadata": {},
     "output_type": "execute_result"
    }
   ],
   "source": [
    "a"
   ]
  },
  {
   "cell_type": "code",
   "execution_count": 185,
   "id": "eb1c833e-7f3d-492d-9515-c54f38c4116b",
   "metadata": {},
   "outputs": [],
   "source": [
    "f= np.random.randint(0,50,12)"
   ]
  },
  {
   "cell_type": "code",
   "execution_count": 186,
   "id": "574e274a-9a56-4924-83e3-4b2bfa897c5b",
   "metadata": {},
   "outputs": [
    {
     "data": {
      "text/plain": [
       "array([ True, False, False, False,  True, False, False, False, False,\n",
       "       False, False, False])"
      ]
     },
     "execution_count": 186,
     "metadata": {},
     "output_type": "execute_result"
    }
   ],
   "source": [
    "# np.isin - use to check different elements in two variables\n",
    "\n",
    "np.isin(a,f)"
   ]
  },
  {
   "cell_type": "code",
   "execution_count": 187,
   "id": "b5d8f4e6-2e93-4318-a3e1-dbe1d742e177",
   "metadata": {},
   "outputs": [
    {
     "data": {
      "text/plain": [
       "array([False, False, False, False, False,  True, False, False, False,\n",
       "       False, False,  True])"
      ]
     },
     "execution_count": 187,
     "metadata": {},
     "output_type": "execute_result"
    }
   ],
   "source": [
    "np.isin(f,a)"
   ]
  },
  {
   "cell_type": "code",
   "execution_count": 188,
   "id": "34f66f13-0ce6-415b-a01c-70a7ae6cf100",
   "metadata": {},
   "outputs": [
    {
     "data": {
      "text/plain": [
       "array([ 1, 29])"
      ]
     },
     "execution_count": 188,
     "metadata": {},
     "output_type": "execute_result"
    }
   ],
   "source": [
    "a[np.isin(a,f)]"
   ]
  },
  {
   "cell_type": "code",
   "execution_count": 189,
   "id": "3025a4d0-121f-4233-9ad1-d3dc283aa347",
   "metadata": {},
   "outputs": [
    {
     "data": {
      "text/plain": [
       "array([ 1, 31, 34,  8, 29, 17, 35, 18, 16, 43, 26, 17])"
      ]
     },
     "execution_count": 189,
     "metadata": {},
     "output_type": "execute_result"
    }
   ],
   "source": [
    "a"
   ]
  },
  {
   "cell_type": "code",
   "execution_count": 190,
   "id": "76c33965-36f9-49f9-8bb9-a7605b471d56",
   "metadata": {},
   "outputs": [
    {
     "data": {
      "text/plain": [
       "array([17, 26, 43, 16, 18, 35, 17, 29,  8, 34, 31,  1])"
      ]
     },
     "execution_count": 190,
     "metadata": {},
     "output_type": "execute_result"
    }
   ],
   "source": [
    "# np.flip()- used to reverses the array \n",
    "np.flip(a)"
   ]
  },
  {
   "cell_type": "code",
   "execution_count": 191,
   "id": "aeee3029-04e0-4f02-a40f-a86e25c1314a",
   "metadata": {},
   "outputs": [
    {
     "name": "stdout",
     "output_type": "stream",
     "text": [
      "[[19  4 22 19]\n",
      " [ 8  7  5 20]\n",
      " [ 7 23 20  7]\n",
      " [10 13 13  8]]\n",
      "reverse of b is \n",
      " [[ 8 13 13 10]\n",
      " [ 7 20 23  7]\n",
      " [20  5  7  8]\n",
      " [19 22  4 19]]\n"
     ]
    }
   ],
   "source": [
    "print(b)\n",
    "print('reverse of b is \\n',np.flip(b))"
   ]
  },
  {
   "cell_type": "code",
   "execution_count": 192,
   "id": "6e5d7841-f322-48b3-b4c6-d38dd15771a8",
   "metadata": {},
   "outputs": [
    {
     "data": {
      "text/plain": [
       "array([ 1, 10, 20,  8, 29, 17, 35, 18, 16, 43, 26, 17])"
      ]
     },
     "execution_count": 192,
     "metadata": {},
     "output_type": "execute_result"
    }
   ],
   "source": [
    "# np.put() - is used to repalce an array element with give values\n",
    "\n",
    "np.put(a,[1,2],[10,20])\n",
    "a"
   ]
  },
  {
   "cell_type": "code",
   "execution_count": 193,
   "id": "9d198d75-56fb-4aba-83f6-b552465c9cd0",
   "metadata": {},
   "outputs": [
    {
     "data": {
      "text/plain": [
       "array([10, 20,  8, 29, 17, 35, 18, 16, 43, 26, 17])"
      ]
     },
     "execution_count": 193,
     "metadata": {},
     "output_type": "execute_result"
    }
   ],
   "source": [
    "# np.delete() - used to delete a value from the array by index\n",
    "\n",
    "np.delete(a,0)"
   ]
  },
  {
   "cell_type": "code",
   "execution_count": 194,
   "id": "4b741f23-8826-4430-987d-301e054e5cf4",
   "metadata": {},
   "outputs": [
    {
     "data": {
      "text/plain": [
       "array([ 1, 10, 20,  8, 29, 17, 35, 18, 16, 43, 26, 17])"
      ]
     },
     "execution_count": 194,
     "metadata": {},
     "output_type": "execute_result"
    }
   ],
   "source": [
    "a"
   ]
  },
  {
   "cell_type": "code",
   "execution_count": 195,
   "id": "d113673f-0bdd-40f3-8d25-9fbf31f6a3e3",
   "metadata": {},
   "outputs": [
    {
     "data": {
      "text/plain": [
       "array([ 5, 10, 20,  8, 29, 17, 35, 18, 16, 43, 26, 17])"
      ]
     },
     "execution_count": 195,
     "metadata": {},
     "output_type": "execute_result"
    }
   ],
   "source": [
    "#np.clip()- use to limits the values in the array \n",
    "\n",
    "np.clip(a,a_min=5,a_max=45)"
   ]
  },
  {
   "cell_type": "code",
   "execution_count": 196,
   "id": "8d0edd3a-4b48-4d2e-9d9e-3d40d3a423a6",
   "metadata": {},
   "outputs": [
    {
     "data": {
      "text/plain": [
       "array([[12,  8,  7],\n",
       "       [ 7,  7,  5]])"
      ]
     },
     "execution_count": 196,
     "metadata": {},
     "output_type": "execute_result"
    }
   ],
   "source": [
    "# np.swapaxes - is used to inter change the axes  in the array\n",
    "\n",
    "d= np.random.randint(0,15,6).reshape(2,3)\n",
    "d"
   ]
  },
  {
   "cell_type": "code",
   "execution_count": 197,
   "id": "56d82e6b-e0ef-4f25-ac48-7c0204806936",
   "metadata": {},
   "outputs": [
    {
     "data": {
      "text/plain": [
       "array([[12,  7],\n",
       "       [ 8,  7],\n",
       "       [ 7,  5]])"
      ]
     },
     "execution_count": 197,
     "metadata": {},
     "output_type": "execute_result"
    }
   ],
   "source": [
    "np.swapaxes(d,0,1)"
   ]
  },
  {
   "cell_type": "code",
   "execution_count": null,
   "id": "560529d5-ea15-46ea-ad6e-5cdace236cf6",
   "metadata": {},
   "outputs": [],
   "source": []
  }
 ],
 "metadata": {
  "kernelspec": {
   "display_name": "Python 3 (ipykernel)",
   "language": "python",
   "name": "python3"
  },
  "language_info": {
   "codemirror_mode": {
    "name": "ipython",
    "version": 3
   },
   "file_extension": ".py",
   "mimetype": "text/x-python",
   "name": "python",
   "nbconvert_exporter": "python",
   "pygments_lexer": "ipython3",
   "version": "3.10.9"
  }
 },
 "nbformat": 4,
 "nbformat_minor": 5
}
