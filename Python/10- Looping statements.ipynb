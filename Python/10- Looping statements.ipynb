{
 "cells": [
  {
   "cell_type": "markdown",
   "id": "f291e7b3-b186-42a5-872d-0f95b84b5f5b",
   "metadata": {},
   "source": [
    "### Loops"
   ]
  },
  {
   "cell_type": "code",
   "execution_count": 1,
   "id": "c8c68410-c22f-47ba-bd49-4bd9f4720ea9",
   "metadata": {},
   "outputs": [
    {
     "name": "stdout",
     "output_type": "stream",
     "text": [
      "Value is  1\n",
      "Value is  2\n",
      "Value is  3\n",
      "Value is  4\n",
      "Value is  5\n"
     ]
    }
   ],
   "source": [
    "# while loop- it is an iterative statement used for print the value untill the conditional is true \n",
    "    \n",
    "\n",
    "i =1\n",
    "while i<=5:\n",
    "    print('Value is ', i)\n",
    "    \n",
    "    \n",
    "    i=i+1"
   ]
  },
  {
   "cell_type": "code",
   "execution_count": 2,
   "id": "3c72af30-04a7-47f6-8b81-129142a604d7",
   "metadata": {},
   "outputs": [
    {
     "name": "stdout",
     "output_type": "stream",
     "text": [
      "Welcome to Hyderabad\n",
      "Welcome to Hyderabad\n",
      "Welcome to Hyderabad\n"
     ]
    }
   ],
   "source": [
    "i=2\n",
    "while i<= 4:\n",
    "    print('Welcome to Hyderabad')\n",
    "    \n",
    "    i+=1"
   ]
  },
  {
   "cell_type": "code",
   "execution_count": 3,
   "id": "995479ef-1974-4e8d-a989-8b3b6aee573d",
   "metadata": {},
   "outputs": [
    {
     "name": "stdout",
     "output_type": "stream",
     "text": [
      "Welcome to Hyderabad Welcome to Hyderabad Welcome to Hyderabad Welcome to Hyderabad "
     ]
    }
   ],
   "source": [
    "i=1\n",
    "while i<= 4:\n",
    "    print('Welcome to Hyderabad', end=' ')\n",
    "    \n",
    "    i+=1"
   ]
  },
  {
   "cell_type": "code",
   "execution_count": 5,
   "id": "dc8b9e87-f423-4a47-90b9-8d519e2aad04",
   "metadata": {},
   "outputs": [
    {
     "name": "stdout",
     "output_type": "stream",
     "text": [
      "count 1\n",
      "count 2\n",
      "count 3\n",
      "count 4\n",
      "Count ended\n"
     ]
    }
   ],
   "source": [
    "# while else \n",
    "count= 1\n",
    "\n",
    "while count<=4:\n",
    "    print('count',count)\n",
    "    \n",
    "    count+=1\n",
    "    \n",
    "else:\n",
    "    print('Count ended') # after exiting the loop it prints the else stmt"
   ]
  },
  {
   "cell_type": "code",
   "execution_count": 8,
   "id": "19b0d0da-fbfa-4ad1-ab46-bcb73b4c4aae",
   "metadata": {},
   "outputs": [
    {
     "name": "stdout",
     "output_type": "stream",
     "text": [
      "2*1= 2\n",
      "2*2= 4\n",
      "2*3= 6\n",
      "2*4= 8\n",
      "2*5= 10\n",
      "2*6= 12\n",
      "2*7= 14\n",
      "2*8= 16\n",
      "2*9= 18\n",
      "2*10= 20\n",
      " \n",
      "3*1= 3\n",
      "3*2= 6\n",
      "3*3= 9\n",
      "3*4= 12\n",
      "3*5= 15\n",
      "3*6= 18\n",
      "3*7= 21\n",
      "3*8= 24\n",
      "3*9= 27\n",
      "3*10= 30\n",
      " \n"
     ]
    }
   ],
   "source": [
    "# nested while loop- while inside a while \n",
    "# printing the 2 and 3 tables\n",
    "i=2\n",
    "\n",
    "while i<=3:\n",
    "    j=1\n",
    "    \n",
    "    while j<=10:\n",
    "        print(f'{i}*{j}=',i*j)\n",
    "        j+=1\n",
    "    print(' ')\n",
    "    \n",
    "    i+=1"
   ]
  },
  {
   "cell_type": "code",
   "execution_count": 9,
   "id": "d8a4027d-f661-4b48-b083-0d5f4f9fbda5",
   "metadata": {},
   "outputs": [
    {
     "name": "stdout",
     "output_type": "stream",
     "text": [
      "Hello\n",
      "Welcome to Hyderabad\n",
      "Welcome to Hyderabad\n",
      "Hello\n",
      "Welcome to Hyderabad\n",
      "Welcome to Hyderabad\n",
      "Hello\n",
      "Welcome to Hyderabad\n",
      "Welcome to Hyderabad\n"
     ]
    }
   ],
   "source": [
    "i=1\n",
    "\n",
    "while i<=3:\n",
    "    print('Hello')\n",
    "    \n",
    "    j=1\n",
    "    while j<=2:\n",
    "        print('Welcome to Hyderabad')\n",
    "        j+=1\n",
    "    i+=1"
   ]
  },
  {
   "cell_type": "code",
   "execution_count": 19,
   "id": "81b65e7a-0bac-4af0-9d87-922e7f09c652",
   "metadata": {},
   "outputs": [
    {
     "name": "stdout",
     "output_type": "stream",
     "text": [
      "Hello,Welcome to Hyderabad.Welcome to Hyderabad.\n",
      "Hello,Welcome to Hyderabad.Welcome to Hyderabad.\n",
      "Hello,Welcome to Hyderabad.Welcome to Hyderabad.\n"
     ]
    }
   ],
   "source": [
    "i=1\n",
    "\n",
    "while i<=3:\n",
    "    print('Hello',end=\",\")\n",
    "    \n",
    "    j=1\n",
    "    while j<=2:\n",
    "        print('Welcome to Hyderabad',end='.')\n",
    "        j+=1\n",
    "        \n",
    "    print( )\n",
    "    i+=1"
   ]
  },
  {
   "cell_type": "markdown",
   "id": "0628144d-5e4c-458b-b4bb-50b17abc9fdb",
   "metadata": {},
   "source": [
    "#### For loop"
   ]
  },
  {
   "cell_type": "code",
   "execution_count": 24,
   "id": "aa6875ab-537e-4914-bdfe-9e58747b11cb",
   "metadata": {},
   "outputs": [
    {
     "name": "stdout",
     "output_type": "stream",
     "text": [
      "0\n",
      "1\n",
      "2\n"
     ]
    }
   ],
   "source": [
    "n= 3\n",
    "for i in range(0,n):\n",
    "    print(i)"
   ]
  },
  {
   "cell_type": "code",
   "execution_count": 25,
   "id": "820f8539-b616-4ac1-b5d0-9ea6809da4f1",
   "metadata": {},
   "outputs": [
    {
     "name": "stdout",
     "output_type": "stream",
     "text": [
      "0 1 2 "
     ]
    }
   ],
   "source": [
    "n= 3\n",
    "for i in range(0,n):\n",
    "    print(i,end=' ')"
   ]
  },
  {
   "cell_type": "code",
   "execution_count": 28,
   "id": "82dafc81-e9f4-411f-8b9e-3d84f356ce21",
   "metadata": {},
   "outputs": [
    {
     "name": "stdout",
     "output_type": "stream",
     "text": [
      "B\n",
      "H\n",
      "A\n",
      "R\n",
      "A\n",
      "T\n"
     ]
    }
   ],
   "source": [
    "# for loop in string\n",
    "x='BHARAT'\n",
    "\n",
    "for i in x:\n",
    "    print(i)"
   ]
  },
  {
   "cell_type": "code",
   "execution_count": 26,
   "id": "59f8fd12-a32b-4a88-9fd8-2c260c59512f",
   "metadata": {},
   "outputs": [
    {
     "name": "stdout",
     "output_type": "stream",
     "text": [
      "Bharat\n",
      "Sivaji\n",
      "Pradhyun\n",
      "karthik\n"
     ]
    }
   ],
   "source": [
    "# for loop in list\n",
    "\n",
    "li=['Bharat','Sivaji','Pradhyun','karthik']\n",
    "\n",
    "for i in li:\n",
    "    print(i)"
   ]
  },
  {
   "cell_type": "code",
   "execution_count": 27,
   "id": "1e580256-c427-4af1-a03d-b50151f820cf",
   "metadata": {},
   "outputs": [
    {
     "name": "stdout",
     "output_type": "stream",
     "text": [
      "Bharat\n",
      "Sivaji\n",
      "Pradhyun\n",
      "karthik\n"
     ]
    }
   ],
   "source": [
    "# for loop in tuple\n",
    "li=('Bharat','Sivaji','Pradhyun','karthik')\n",
    "\n",
    "for i in li:\n",
    "    print(i)"
   ]
  },
  {
   "cell_type": "code",
   "execution_count": 29,
   "id": "2ad145ce-ddc3-4ab9-b0d2-27e4d4e34e98",
   "metadata": {},
   "outputs": [
    {
     "name": "stdout",
     "output_type": "stream",
     "text": [
      "1\n",
      "2\n",
      "3\n",
      "4\n",
      "5\n",
      "6\n",
      "7\n"
     ]
    }
   ],
   "source": [
    "# for loop in set\n",
    "\n",
    "se={1,2,3,4,4,5,6,7}\n",
    "\n",
    "for i in se:\n",
    "    print(i)"
   ]
  },
  {
   "cell_type": "code",
   "execution_count": 38,
   "id": "0273db1e-1fe3-4e4f-83c2-c2560c786c57",
   "metadata": {},
   "outputs": [
    {
     "name": "stdout",
     "output_type": "stream",
     "text": [
      "a 1\n",
      "b 2\n",
      "c 3\n",
      "d 4\n"
     ]
    }
   ],
   "source": [
    "# for loop in Dict\n",
    "\n",
    "Dit= dict({'a':1,'b':2,'c':3,'d':4})\n",
    "\n",
    "for i in Dit:\n",
    "    print(i,Dit[i])"
   ]
  },
  {
   "cell_type": "code",
   "execution_count": 40,
   "id": "a67791cc-2c91-44fb-88da-ef0f75b3888d",
   "metadata": {},
   "outputs": [
    {
     "name": "stdout",
     "output_type": "stream",
     "text": [
      "a : 1\n",
      "b : 2\n",
      "c : 3\n",
      "d : 4\n"
     ]
    }
   ],
   "source": [
    "Dit= dict({'a':1,'b':2,'c':3,'d':4})\n",
    "\n",
    "for i in Dit:\n",
    "    print(f'{i} : {Dit[i]}')"
   ]
  },
  {
   "cell_type": "code",
   "execution_count": 41,
   "id": "571739b0-ca90-4a1f-89e2-38bf9f6eb8b8",
   "metadata": {},
   "outputs": [
    {
     "name": "stdout",
     "output_type": "stream",
     "text": [
      "Hello\n",
      "Welcome\n",
      "Students\n"
     ]
    }
   ],
   "source": [
    "# iterating by index\n",
    "\n",
    "l1= ['Hello','Welcome','Students']\n",
    "\n",
    "for i in range(len(l1)):\n",
    "    print(l1[i])"
   ]
  },
  {
   "cell_type": "code",
   "execution_count": 47,
   "id": "8cc50918-de81-4aff-8de2-b4169010628f",
   "metadata": {},
   "outputs": [
    {
     "name": "stdout",
     "output_type": "stream",
     "text": [
      "Hello\n",
      "Welcome\n",
      "All\n",
      "Bye all\n"
     ]
    }
   ],
   "source": [
    "# for else loop\n",
    "\n",
    "le=[\"Hello\",\"Welcome\",\"All\"]\n",
    "\n",
    "for index in range(len(le)):\n",
    "    print(le[index])\n",
    "else:\n",
    "    print(\"Bye all\")"
   ]
  },
  {
   "cell_type": "code",
   "execution_count": 58,
   "id": "a245a152-0db6-4ff4-9470-9e569407d726",
   "metadata": {},
   "outputs": [
    {
     "name": "stdout",
     "output_type": "stream",
     "text": [
      "1 \n",
      "2 2 \n",
      "3 3 3 \n",
      "4 4 4 4 \n",
      "5 5 5 5 5 \n"
     ]
    }
   ],
   "source": [
    "#nested for loop\n",
    "\n",
    "for i in range(1,6):\n",
    "    for j in range(i):\n",
    "        print(i,end=\" \")\n",
    "    print()"
   ]
  },
  {
   "cell_type": "markdown",
   "id": "de82d718-8319-484d-ad4d-f2a4cbe18144",
   "metadata": {},
   "source": [
    "#### Break, continue & pass in loops"
   ]
  },
  {
   "cell_type": "code",
   "execution_count": 63,
   "id": "b65b2d18-d08c-46fb-a4ae-0738b276fd45",
   "metadata": {},
   "outputs": [
    {
     "name": "stdout",
     "output_type": "stream",
     "text": [
      "0\n",
      "5\n",
      "10\n",
      "15\n",
      "20\n",
      "25\n",
      "30\n",
      "35\n",
      "40\n",
      "45\n"
     ]
    }
   ],
   "source": [
    "# break\n",
    "\n",
    "for i in range(0,100,5):\n",
    "    if i==50:\n",
    "        break\n",
    "        \n",
    "    print(i)"
   ]
  },
  {
   "cell_type": "code",
   "execution_count": 82,
   "id": "89d47053-cbd7-4f36-a8cc-b3965c0c6d8a",
   "metadata": {},
   "outputs": [
    {
     "name": "stdin",
     "output_type": "stream",
     "text": [
      "How many chocolate you want? 4\n"
     ]
    },
    {
     "name": "stdout",
     "output_type": "stream",
     "text": [
      "Chocolates available\n",
      "bye for now\n"
     ]
    }
   ],
   "source": [
    "ava= 6\n",
    "\n",
    "x=int(input('How many chocolate you want?'))\n",
    "\n",
    "i=1\n",
    "\n",
    "while i<=x:\n",
    "    if x<=ava:\n",
    "        print('Chocolates available')\n",
    "        break\n",
    "    else:\n",
    "        print('out of stock')\n",
    "        break\n",
    "        \n",
    "    i+=1\n",
    "\n",
    "print('bye for now')"
   ]
  },
  {
   "cell_type": "code",
   "execution_count": 83,
   "id": "cafb5b73-8b55-4c99-a29d-8be499b085b8",
   "metadata": {},
   "outputs": [
    {
     "name": "stdin",
     "output_type": "stream",
     "text": [
      "How many chocolate you want? 7\n"
     ]
    },
    {
     "name": "stdout",
     "output_type": "stream",
     "text": [
      "out of stock\n",
      "bye for now\n"
     ]
    }
   ],
   "source": [
    "ava= 6\n",
    "\n",
    "x=int(input('How many chocolate you want?'))\n",
    "\n",
    "i=1\n",
    "\n",
    "while i<=x:\n",
    "    if x<=ava:\n",
    "        print('Chocolates available')\n",
    "        break\n",
    "    else:\n",
    "        print('out of stock')\n",
    "        break\n",
    "        \n",
    "    i+=1\n",
    "\n",
    "print('bye for now')"
   ]
  },
  {
   "cell_type": "code",
   "execution_count": 65,
   "id": "743138cd-56af-4c39-9fdc-b2ba595f5602",
   "metadata": {},
   "outputs": [
    {
     "name": "stdout",
     "output_type": "stream",
     "text": [
      "d\n",
      "e\n",
      "s\n",
      "r\n",
      "o\n",
      "y\n"
     ]
    }
   ],
   "source": [
    "# continue\n",
    "\n",
    "for x in 'destroy':\n",
    "    if x=='t':\n",
    "        continue\n",
    "    print(x)"
   ]
  },
  {
   "cell_type": "code",
   "execution_count": 69,
   "id": "7a9711c9-ca5c-4426-8b9d-f88ddf647824",
   "metadata": {},
   "outputs": [
    {
     "name": "stdout",
     "output_type": "stream",
     "text": [
      "0\n",
      "2\n",
      "6\n",
      "8\n",
      "10\n",
      "12\n",
      "16\n",
      "18\n"
     ]
    }
   ],
   "source": [
    "for x in range(0,20,2):\n",
    "    if x==4 or x==14:\n",
    "        continue\n",
    "    print(x)"
   ]
  },
  {
   "cell_type": "code",
   "execution_count": 70,
   "id": "50fc8f0b-6d4c-4ee3-ab00-4afa5fc965c3",
   "metadata": {},
   "outputs": [
    {
     "name": "stdout",
     "output_type": "stream",
     "text": [
      "e\n"
     ]
    }
   ],
   "source": [
    "# pass \n",
    "for i in 'google':\n",
    "    pass\n",
    "print(i)"
   ]
  },
  {
   "cell_type": "code",
   "execution_count": 73,
   "id": "85fe1e2e-061d-45ed-b811-4b05a4bde54c",
   "metadata": {},
   "outputs": [
    {
     "name": "stdout",
     "output_type": "stream",
     "text": [
      "3\n",
      "6\n",
      "9\n",
      "12\n",
      "15\n",
      "18\n",
      "21\n",
      "24\n",
      "27\n",
      "30\n",
      "iteration completed\n"
     ]
    }
   ],
   "source": [
    "# for else\n",
    "\n",
    "for i in range(1,31):\n",
    "    if i%3==0:\n",
    "        print(i)\n",
    "else:\n",
    "    print('iteration completed')"
   ]
  },
  {
   "cell_type": "code",
   "execution_count": 74,
   "id": "274b81da-d658-438b-a5ee-9ac6d10ea9d1",
   "metadata": {},
   "outputs": [
    {
     "name": "stdout",
     "output_type": "stream",
     "text": [
      "a\n",
      "b\n",
      "c\n",
      "d\n"
     ]
    }
   ],
   "source": [
    "names=['a','b','c','d']\n",
    "\n",
    "for i in names:\n",
    "    print(i)"
   ]
  },
  {
   "cell_type": "code",
   "execution_count": 81,
   "id": "627cbef3-cae9-4f1c-8b5b-99470e524fe4",
   "metadata": {},
   "outputs": [
    {
     "name": "stdout",
     "output_type": "stream",
     "text": [
      "a\n",
      "b\n",
      "c\n",
      "d\n"
     ]
    }
   ],
   "source": [
    "names=['a','b','c','d']\n",
    "iter_obj=iter(names)\n",
    "\n",
    "while True:\n",
    "    try:\n",
    "        name=next(iter_obj)\n",
    "        print(name)\n",
    "    except StopIteration:\n",
    "        break"
   ]
  },
  {
   "cell_type": "code",
   "execution_count": null,
   "id": "d50591f7-8c8b-4d5a-9ac9-84b423147da8",
   "metadata": {},
   "outputs": [],
   "source": []
  }
 ],
 "metadata": {
  "kernelspec": {
   "display_name": "Python 3 (ipykernel)",
   "language": "python",
   "name": "python3"
  },
  "language_info": {
   "codemirror_mode": {
    "name": "ipython",
    "version": 3
   },
   "file_extension": ".py",
   "mimetype": "text/x-python",
   "name": "python",
   "nbconvert_exporter": "python",
   "pygments_lexer": "ipython3",
   "version": "3.10.9"
  }
 },
 "nbformat": 4,
 "nbformat_minor": 5
}
