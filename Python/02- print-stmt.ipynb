{
 "cells": [
  {
   "cell_type": "markdown",
   "id": "e594035a-8900-4b36-ab88-ae1f506cde87",
   "metadata": {},
   "source": [
    "### print statement"
   ]
  },
  {
   "cell_type": "code",
   "execution_count": 4,
   "id": "5b326765-3739-4ab0-805e-59cb5fcf2513",
   "metadata": {},
   "outputs": [],
   "source": [
    "a= 12\n",
    "b=32"
   ]
  },
  {
   "cell_type": "code",
   "execution_count": 5,
   "id": "20de3d69-745c-4a1c-a477-b0d04e207eb9",
   "metadata": {},
   "outputs": [
    {
     "data": {
      "text/plain": [
       "32"
      ]
     },
     "execution_count": 5,
     "metadata": {},
     "output_type": "execute_result"
    }
   ],
   "source": [
    "a\n",
    "b"
   ]
  },
  {
   "cell_type": "code",
   "execution_count": 7,
   "id": "ac7e2f5c-f285-4883-8afa-390f22f0359a",
   "metadata": {},
   "outputs": [
    {
     "name": "stdout",
     "output_type": "stream",
     "text": [
      "12\n",
      "32\n"
     ]
    }
   ],
   "source": [
    "print(a)\n",
    "print(b)"
   ]
  },
  {
   "cell_type": "code",
   "execution_count": 9,
   "id": "da9d2539-f5e9-44ad-8ef5-ae5e21f51473",
   "metadata": {},
   "outputs": [
    {
     "name": "stdout",
     "output_type": "stream",
     "text": [
      "age\n",
      "12\n",
      "rol no.\n",
      "32\n"
     ]
    }
   ],
   "source": [
    "print('age')\n",
    "print(a)\n",
    "print('rol no.')\n",
    "print(b)"
   ]
  },
  {
   "cell_type": "code",
   "execution_count": 10,
   "id": "834f7927-e0b0-4bac-9d59-58527f2a83e9",
   "metadata": {},
   "outputs": [],
   "source": [
    "x= 94\n",
    "y= 6"
   ]
  },
  {
   "cell_type": "code",
   "execution_count": 11,
   "id": "008cd013-b438-48b6-9e02-09f3b0d1d933",
   "metadata": {},
   "outputs": [],
   "source": [
    "sum= x+y"
   ]
  },
  {
   "cell_type": "code",
   "execution_count": 13,
   "id": "e0fa8024-ccff-45c0-9085-ab850285804d",
   "metadata": {},
   "outputs": [
    {
     "name": "stdout",
     "output_type": "stream",
     "text": [
      "100\n"
     ]
    }
   ],
   "source": [
    "print(sum)"
   ]
  },
  {
   "cell_type": "markdown",
   "id": "e3023d24-e0bf-4dce-b8ed-28fe5da73af7",
   "metadata": {},
   "source": [
    "### print result using string"
   ]
  },
  {
   "cell_type": "code",
   "execution_count": 17,
   "id": "ac01308b-e13e-48fb-82a8-c7788ec34773",
   "metadata": {},
   "outputs": [
    {
     "name": "stdout",
     "output_type": "stream",
     "text": [
      "the sum of  94  and  56  is 150\n"
     ]
    }
   ],
   "source": [
    "x= 94\n",
    "y= 56\n",
    "z= x+y\n",
    "print('the sum of ',x,' and ',y,' is', z)"
   ]
  },
  {
   "cell_type": "code",
   "execution_count": 19,
   "id": "129c7031-a71d-403e-912c-4f5132398a80",
   "metadata": {},
   "outputs": [
    {
     "name": "stdout",
     "output_type": "stream",
     "text": [
      "I am  Bharat coming from Srikakulam and my age is 22\n"
     ]
    }
   ],
   "source": [
    "Name= 'Bharat'\n",
    "Age = '22'\n",
    "city ='Srikakulam'\n",
    "print('I am ',Name,'coming from',city,'and my age is',Age,)"
   ]
  },
  {
   "cell_type": "code",
   "execution_count": 21,
   "id": "d8e2bd62-1135-4c25-a02f-081f1a179068",
   "metadata": {},
   "outputs": [
    {
     "name": "stdout",
     "output_type": "stream",
     "text": [
      "The sum of 94 and 56 is 150\n",
      "I am Bharat coming from Srikakulam and i'm 22 year old\n"
     ]
    }
   ],
   "source": [
    "# print by using format()\n",
    "print('The sum of {} and {} is {}'.format(x,y,z))\n",
    "print('I am {} coming from {} and i\\'m {} year old'.format(Name,city,Age))"
   ]
  },
  {
   "cell_type": "code",
   "execution_count": 22,
   "id": "c828eb27-393a-48bb-817c-307379f9278f",
   "metadata": {},
   "outputs": [],
   "source": [
    "num1=234\n",
    "num2=123\n",
    "num3=112\n",
    "avg= (num1+num2+num3)/3\n",
    "avg1=round((num1+num2+num3)/3,3)"
   ]
  },
  {
   "cell_type": "code",
   "execution_count": 26,
   "id": "4df85f28-0b6a-47b3-b7ba-b21627e96c3a",
   "metadata": {},
   "outputs": [
    {
     "name": "stdout",
     "output_type": "stream",
     "text": [
      "The average of 234,123 and112 is= 156.33333333333334 or 156.333\n"
     ]
    }
   ],
   "source": [
    "print('The average of {},{} and{} is= {} or {}'.format(num1,num2,num3,avg,avg1)) # format 1"
   ]
  },
  {
   "cell_type": "code",
   "execution_count": 25,
   "id": "44a06588-c677-486a-8d4d-5b762d306a09",
   "metadata": {},
   "outputs": [
    {
     "data": {
      "text/plain": [
       "156.33"
      ]
     },
     "execution_count": 25,
     "metadata": {},
     "output_type": "execute_result"
    }
   ],
   "source": [
    "round(avg,2)"
   ]
  },
  {
   "cell_type": "code",
   "execution_count": 27,
   "id": "4e9cdda5-5c62-4bfe-b669-324304f40fb3",
   "metadata": {},
   "outputs": [
    {
     "name": "stdout",
     "output_type": "stream",
     "text": [
      "The average of 234,123 and112 is= 156.33333333333334 or 156.333\n"
     ]
    }
   ],
   "source": [
    "print(f'The average of {num1},{num2} and{num3} is= {avg} or {avg1}')"
   ]
  },
  {
   "cell_type": "code",
   "execution_count": 35,
   "id": "cdc9dcd6-0c90-479b-ae9e-07ca0c0dff87",
   "metadata": {},
   "outputs": [],
   "source": [
    "x= 94\n",
    "y= 62\n",
    "z=52\n",
    "avg=round((x+y+z)/3,2)"
   ]
  },
  {
   "cell_type": "code",
   "execution_count": 36,
   "id": "27d2a728-f3c1-4942-8cf1-58469c7d34b3",
   "metadata": {},
   "outputs": [
    {
     "name": "stdout",
     "output_type": "stream",
     "text": [
      "The avg 94, 62 and 52 is 69.33\n"
     ]
    }
   ],
   "source": [
    "print(f'The avg {x}, {y} and {z} is {avg}')\n"
   ]
  },
  {
   "cell_type": "code",
   "execution_count": 43,
   "id": "bfe1d72a-7728-49af-9568-e4b905d277ce",
   "metadata": {},
   "outputs": [
    {
     "name": "stdout",
     "output_type": "stream",
     "text": [
      "The avg of  94 , 62  and  52  is 69.33\n",
      "The avg of 94,62 and 52 is 69.33\n",
      "The avg of 94, 62 and 52 is 69.33\n"
     ]
    }
   ],
   "source": [
    "print('The avg of ',x,',',y,' and ',z,' is', avg)\n",
    "print('The avg of {},{} and {} is {}'.format(x,y,z,avg))\n",
    "print(f'The avg of {x}, {y} and {z} is {avg}')"
   ]
  },
  {
   "cell_type": "markdown",
   "id": "ff0808a9-0c5e-4dc0-93a5-5beea1e2e38f",
   "metadata": {},
   "source": [
    "### end statement"
   ]
  },
  {
   "cell_type": "code",
   "execution_count": 44,
   "id": "36a9e739-bd25-4f68-b7c4-baa428b5a187",
   "metadata": {},
   "outputs": [
    {
     "name": "stdout",
     "output_type": "stream",
     "text": [
      "Good Morning\n",
      "Welcome to Hyderabad\n"
     ]
    }
   ],
   "source": [
    "print('Good Morning')\n",
    "print('Welcome to Hyderabad')"
   ]
  },
  {
   "cell_type": "code",
   "execution_count": 45,
   "id": "46e08917-3277-4714-abcb-68b6dbfcac14",
   "metadata": {},
   "outputs": [
    {
     "name": "stdout",
     "output_type": "stream",
     "text": [
      "Good Morning Welcome to Hyderabad\n"
     ]
    }
   ],
   "source": [
    "print('Good Morning', end=' ')\n",
    "print('Welcome to Hyderabad')"
   ]
  },
  {
   "cell_type": "code",
   "execution_count": 46,
   "id": "684708f4-5c4d-42b1-825a-62ac1d146143",
   "metadata": {},
   "outputs": [
    {
     "name": "stdout",
     "output_type": "stream",
     "text": [
      "Good Morning,Welcome to Hyderabad\n"
     ]
    }
   ],
   "source": [
    "print('Good Morning', end=',')\n",
    "print('Welcome to Hyderabad')"
   ]
  },
  {
   "cell_type": "markdown",
   "id": "cc7c3280-c84b-452a-ae98-0e9f50f05f2c",
   "metadata": {},
   "source": [
    "### Seprator"
   ]
  },
  {
   "cell_type": "code",
   "execution_count": 47,
   "id": "1575b32b-80ad-433e-95ba-d1bc2f62e42f",
   "metadata": {},
   "outputs": [
    {
     "name": "stdout",
     "output_type": "stream",
     "text": [
      "Hello Good Morning Welocome to Naresh it\n"
     ]
    }
   ],
   "source": [
    "print('Hello','Good Morning','Welocome to Naresh it')"
   ]
  },
  {
   "cell_type": "code",
   "execution_count": 48,
   "id": "c2176466-ba38-447c-86e8-ff853cc7874c",
   "metadata": {},
   "outputs": [
    {
     "name": "stdout",
     "output_type": "stream",
     "text": [
      "Hello,Good Morning,Welocome to Naresh it\n"
     ]
    }
   ],
   "source": [
    "print('Hello','Good Morning','Welocome to Naresh it',sep=',') "
   ]
  },
  {
   "cell_type": "code",
   "execution_count": 50,
   "id": "c0a6455c-5e7f-4089-8f6e-ad28917d06b7",
   "metadata": {},
   "outputs": [
    {
     "name": "stdout",
     "output_type": "stream",
     "text": [
      "Hello---Good Morning---Welocome to Naresh it\n"
     ]
    }
   ],
   "source": [
    "print('Hello','Good Morning','Welocome to Naresh it',sep='---')"
   ]
  },
  {
   "cell_type": "code",
   "execution_count": 53,
   "id": "a849ac50-57ef-4400-b0fe-197b6f67e32e",
   "metadata": {},
   "outputs": [
    {
     "name": "stdout",
     "output_type": "stream",
     "text": [
      "Hello,Good Morning,Welocome to Naresh it.\n"
     ]
    }
   ],
   "source": [
    "print('Hello',end= ',')\n",
    "print('Good Morning','Welocome to Naresh it.',sep=',')"
   ]
  }
 ],
 "metadata": {
  "kernelspec": {
   "display_name": "Python 3 (ipykernel)",
   "language": "python",
   "name": "python3"
  },
  "language_info": {
   "codemirror_mode": {
    "name": "ipython",
    "version": 3
   },
   "file_extension": ".py",
   "mimetype": "text/x-python",
   "name": "python",
   "nbconvert_exporter": "python",
   "pygments_lexer": "ipython3",
   "version": "3.10.9"
  }
 },
 "nbformat": 4,
 "nbformat_minor": 5
}
