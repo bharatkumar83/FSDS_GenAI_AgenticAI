{
 "cells": [
  {
   "cell_type": "markdown",
   "id": "1fa7730a-a921-45d6-b095-2814919e8fbd",
   "metadata": {},
   "source": [
    "## Python Tutorial"
   ]
  },
  {
   "cell_type": "code",
   "execution_count": 4,
   "id": "0eda4c09-63ca-494c-96d0-d411938bff35",
   "metadata": {},
   "outputs": [],
   "source": [
    "import sys\n",
    "import keyword\n",
    "import operator\n",
    "from datetime import datetime \n",
    "import os"
   ]
  },
  {
   "cell_type": "markdown",
   "id": "d42afba1-fc53-4b92-8f01-7fd838c3a843",
   "metadata": {},
   "source": [
    "## Keywords"
   ]
  },
  {
   "cell_type": "code",
   "execution_count": 5,
   "id": "e557e019-148a-48f9-b672-1cb442629b4f",
   "metadata": {},
   "outputs": [
    {
     "name": "stdout",
     "output_type": "stream",
     "text": [
      "['False', 'None', 'True', 'and', 'as', 'assert', 'async', 'await', 'break', 'class', 'continue', 'def', 'del', 'elif', 'else', 'except', 'finally', 'for', 'from', 'global', 'if', 'import', 'in', 'is', 'lambda', 'nonlocal', 'not', 'or', 'pass', 'raise', 'return', 'try', 'while', 'with', 'yield']\n"
     ]
    }
   ],
   "source": [
    "print(keyword.kwlist)"
   ]
  },
  {
   "cell_type": "code",
   "execution_count": 6,
   "id": "7f72e9c2-33c3-47ae-abe2-65def48e5b63",
   "metadata": {},
   "outputs": [
    {
     "data": {
      "text/plain": [
       "35"
      ]
     },
     "execution_count": 6,
     "metadata": {},
     "output_type": "execute_result"
    }
   ],
   "source": [
    "len(keyword.kwlist)"
   ]
  },
  {
   "cell_type": "markdown",
   "id": "9f41d954-e3b4-48ee-a49f-5e2716ac869e",
   "metadata": {},
   "source": [
    "### Identifiers"
   ]
  },
  {
   "cell_type": "code",
   "execution_count": 8,
   "id": "bb1a1f64-4dbd-4ac8-a222-459750afc26f",
   "metadata": {},
   "outputs": [
    {
     "ename": "SyntaxError",
     "evalue": "invalid decimal literal (2473114117.py, line 3)",
     "output_type": "error",
     "traceback": [
      "\u001b[1;36m  Cell \u001b[1;32mIn[8], line 3\u001b[1;36m\u001b[0m\n\u001b[1;33m    2num= 2\u001b[0m\n\u001b[1;37m    ^\u001b[0m\n\u001b[1;31mSyntaxError\u001b[0m\u001b[1;31m:\u001b[0m invalid decimal literal\n"
     ]
    }
   ],
   "source": [
    " # identifiers cannot start with numbers\n",
    " # identifiers cannot contain special symbol(except'_') and the keywords\n",
    "2num@= 2\n"
   ]
  },
  {
   "cell_type": "code",
   "execution_count": 9,
   "id": "337de6c3-f057-4701-b3d5-815b50f34641",
   "metadata": {},
   "outputs": [
    {
     "ename": "SyntaxError",
     "evalue": "cannot assign to expression here. Maybe you meant '==' instead of '='? (2063167591.py, line 1)",
     "output_type": "error",
     "traceback": [
      "\u001b[1;36m  Cell \u001b[1;32mIn[9], line 1\u001b[1;36m\u001b[0m\n\u001b[1;33m    num@3= 3\u001b[0m\n\u001b[1;37m    ^\u001b[0m\n\u001b[1;31mSyntaxError\u001b[0m\u001b[1;31m:\u001b[0m cannot assign to expression here. Maybe you meant '==' instead of '='?\n"
     ]
    }
   ],
   "source": [
    "num@3= 3"
   ]
  },
  {
   "cell_type": "code",
   "execution_count": 10,
   "id": "13e8484b-bf75-46dc-92a4-c61b110c78c6",
   "metadata": {},
   "outputs": [
    {
     "ename": "SyntaxError",
     "evalue": "invalid syntax (3717096179.py, line 1)",
     "output_type": "error",
     "traceback": [
      "\u001b[1;36m  Cell \u001b[1;32mIn[10], line 1\u001b[1;36m\u001b[0m\n\u001b[1;33m    for =1\u001b[0m\n\u001b[1;37m        ^\u001b[0m\n\u001b[1;31mSyntaxError\u001b[0m\u001b[1;31m:\u001b[0m invalid syntax\n"
     ]
    }
   ],
   "source": [
    "for =1"
   ]
  },
  {
   "cell_type": "code",
   "execution_count": 12,
   "id": "86189bd6-dc4a-42a0-8d57-e2570d1520e6",
   "metadata": {},
   "outputs": [
    {
     "data": {
      "text/plain": [
       "1"
      ]
     },
     "execution_count": 12,
     "metadata": {},
     "output_type": "execute_result"
    }
   ],
   "source": [
    "# correct way to define a identifer is by starting the identifier with string\n",
    "num= 1\n",
    "num"
   ]
  },
  {
   "cell_type": "code",
   "execution_count": 13,
   "id": "1f5af87d-a2f9-4afd-97e2-05f712517abe",
   "metadata": {},
   "outputs": [
    {
     "data": {
      "text/plain": [
       "3"
      ]
     },
     "execution_count": 13,
     "metadata": {},
     "output_type": "execute_result"
    }
   ],
   "source": [
    "num1=3\n",
    "num1"
   ]
  },
  {
   "cell_type": "code",
   "execution_count": 14,
   "id": "883b57db-85c9-452b-aec5-44a4a59191e7",
   "metadata": {},
   "outputs": [
    {
     "data": {
      "text/plain": [
       "2"
      ]
     },
     "execution_count": 14,
     "metadata": {},
     "output_type": "execute_result"
    }
   ],
   "source": [
    "num_=2\n",
    "num_"
   ]
  },
  {
   "cell_type": "markdown",
   "id": "9615caf5-7cdb-4e88-949d-66405b6163ca",
   "metadata": {},
   "source": [
    "### Comments"
   ]
  },
  {
   "cell_type": "code",
   "execution_count": 18,
   "id": "8071f2d2-037c-46de-80f8-9650bc4124f6",
   "metadata": {},
   "outputs": [],
   "source": [
    "# we define a single comment by'#'\n",
    "# for multi line comment we use either '''...''' or \"\"\"...\"\"\" or by defining \"#\" in every comment line.\n",
    "num3=32"
   ]
  },
  {
   "cell_type": "markdown",
   "id": "30a2524d-b13d-4c62-ab83-2095c72a09cf",
   "metadata": {},
   "source": [
    "### statements"
   ]
  },
  {
   "cell_type": "code",
   "execution_count": 19,
   "id": "a732d3e0-3e0c-4e8c-b9fd-340d07f2e330",
   "metadata": {},
   "outputs": [],
   "source": [
    "p= 12\n",
    "q= 12\n",
    "r=q"
   ]
  },
  {
   "cell_type": "code",
   "execution_count": 22,
   "id": "10ec6302-68db-4dd8-8f87-7e4994b39261",
   "metadata": {},
   "outputs": [
    {
     "data": {
      "text/plain": [
       "(12, int, '0x1db05a00250')"
      ]
     },
     "execution_count": 22,
     "metadata": {},
     "output_type": "execute_result"
    }
   ],
   "source": [
    "p ,type(p), hex(id(p))"
   ]
  },
  {
   "cell_type": "code",
   "execution_count": 23,
   "id": "458e0bc0-4d85-4fc5-b039-f5e0ccca29e5",
   "metadata": {},
   "outputs": [
    {
     "data": {
      "text/plain": [
       "(12, int, '0x1db05a00250')"
      ]
     },
     "execution_count": 23,
     "metadata": {},
     "output_type": "execute_result"
    }
   ],
   "source": [
    "q ,type(q), hex(id(q))"
   ]
  },
  {
   "cell_type": "code",
   "execution_count": 25,
   "id": "f8c3f43c-bde0-45ff-8d2f-52161cbd9e37",
   "metadata": {},
   "outputs": [
    {
     "data": {
      "text/plain": [
       "(12, int, '0x1db05a00250')"
      ]
     },
     "execution_count": 25,
     "metadata": {},
     "output_type": "execute_result"
    }
   ],
   "source": [
    "r ,type(r), hex(id(r)) # the id of the three variables p, q, r are same"
   ]
  },
  {
   "cell_type": "code",
   "execution_count": 26,
   "id": "af40226c-ed78-4048-8852-5767f6590129",
   "metadata": {},
   "outputs": [
    {
     "data": {
      "text/plain": [
       "35"
      ]
     },
     "execution_count": 26,
     "metadata": {},
     "output_type": "execute_result"
    }
   ],
   "source": [
    "k=23\n",
    "k= k+12\n",
    "k"
   ]
  },
  {
   "cell_type": "markdown",
   "id": "3522c43e-4f6b-4599-af71-0a772b217850",
   "metadata": {},
   "source": [
    "### Variable assignment"
   ]
  },
  {
   "cell_type": "code",
   "execution_count": 27,
   "id": "cbded316-5602-462d-aeb1-7e979dfb390e",
   "metadata": {},
   "outputs": [],
   "source": [
    "intvar =10 # integer varible\n",
    "fltvar =2.12 # float variable\n",
    "strvar = 'Bharat' #string variable"
   ]
  },
  {
   "cell_type": "code",
   "execution_count": 28,
   "id": "5376ff53-af82-4398-98cc-11f9d28e344d",
   "metadata": {},
   "outputs": [
    {
     "name": "stdout",
     "output_type": "stream",
     "text": [
      "10\n",
      "2.12\n",
      "Bharat\n"
     ]
    }
   ],
   "source": [
    "print(intvar)\n",
    "print(fltvar)\n",
    "print(strvar)"
   ]
  },
  {
   "cell_type": "code",
   "execution_count": 29,
   "id": "19d8fcaf-3d79-4eec-9bff-a0d5a50005d3",
   "metadata": {},
   "outputs": [
    {
     "name": "stdout",
     "output_type": "stream",
     "text": [
      "10 2.3 Bharat\n",
      "10\n",
      "2.3\n",
      "Bharat\n"
     ]
    }
   ],
   "source": [
    "# Assinging multiple variables in one line\n",
    "varint, varflt ,varstr = 10, 2.3 ,'Bharat'\n",
    "print(varint, varflt ,varstr)\n",
    "print(varint)\n",
    "print(varflt)\n",
    "print(varstr)"
   ]
  },
  {
   "cell_type": "code",
   "execution_count": 30,
   "id": "028d9d09-555b-4794-a05d-1262f58055d6",
   "metadata": {},
   "outputs": [
    {
     "name": "stdout",
     "output_type": "stream",
     "text": [
      "25 25 25\n"
     ]
    }
   ],
   "source": [
    "x=y=z=25\n",
    "print(x,y,z)"
   ]
  },
  {
   "cell_type": "code",
   "execution_count": 32,
   "id": "4ac8617c-b53c-4dd0-a85f-cf2944af50e3",
   "metadata": {},
   "outputs": [
    {
     "name": "stdout",
     "output_type": "stream",
     "text": [
      "2040203838448\n",
      "2040203838448\n",
      "2040203838448\n"
     ]
    }
   ],
   "source": [
    "print(id(x))\n",
    "print(id(y))\n",
    "print(id(z))"
   ]
  },
  {
   "cell_type": "markdown",
   "id": "447d96da-ce93-4512-82d5-01bf3d7ff89b",
   "metadata": {},
   "source": [
    "## Data Types"
   ]
  },
  {
   "cell_type": "markdown",
   "id": "3e3cdb11-92d3-4d98-83a3-0cf3ffa68bc8",
   "metadata": {},
   "source": [
    "### 1.Numeric"
   ]
  },
  {
   "cell_type": "code",
   "execution_count": 35,
   "id": "e1f95e81-c2fe-4860-b552-0851d444f4ec",
   "metadata": {},
   "outputs": [
    {
     "name": "stdout",
     "output_type": "stream",
     "text": [
      "23\n",
      "<class 'int'>\n",
      "28\n",
      "23 is a Integer ? True\n"
     ]
    }
   ],
   "source": [
    "# integer data type(int)\n",
    "num1=23\n",
    "print(num1) # prints 23\n",
    "print(type(num1)) # print type in num1\n",
    "print(sys.getsizeof(num1)) # prints size of num1 in bytes\n",
    "print(num1, \"is a Integer ?\",isinstance(num1,int))# checks that the num1 is int or not."
   ]
  },
  {
   "cell_type": "code",
   "execution_count": 37,
   "id": "650ae00d-9fc4-40fb-8c54-74323afc8bb5",
   "metadata": {},
   "outputs": [
    {
     "name": "stdout",
     "output_type": "stream",
     "text": [
      "34.79\n",
      "<class 'float'>\n",
      "24\n",
      "34.79 is a Float ? True\n"
     ]
    }
   ],
   "source": [
    "# Float data type(float)\n",
    "num2= 34.79\n",
    "print(num2)# prints 34.79\n",
    "print(type(num2)) # print type in num2\n",
    "print(sys.getsizeof(num2)) # prints size of num2 in bytes\n",
    "print(num2, \"is a Float ?\",isinstance(num2,float))# checks that the num2 is float or not."
   ]
  },
  {
   "cell_type": "code",
   "execution_count": 39,
   "id": "9a8b80d3-1308-4439-9fa3-cda04a4f1897",
   "metadata": {},
   "outputs": [
    {
     "name": "stdout",
     "output_type": "stream",
     "text": [
      "(4+5j)\n",
      "<class 'complex'>\n",
      "32\n",
      "(4+5j) is a Complex ? False\n"
     ]
    }
   ],
   "source": [
    "# Complex data type\n",
    "num3= 4+5j\n",
    "print(num3)\n",
    "print(type(num3)) # print type in num1\n",
    "print(sys.getsizeof(num3)) # prints size of num1 in bytes\n",
    "print(num3, \"is a Complex ?\",isinstance(num3,int))# checks that the num3 is complex or not."
   ]
  },
  {
   "cell_type": "code",
   "execution_count": 40,
   "id": "c52be09b-a5c3-4d30-8492-dbd1e7336652",
   "metadata": {},
   "outputs": [
    {
     "name": "stdout",
     "output_type": "stream",
     "text": [
      "24\n",
      "24\n",
      "32\n"
     ]
    }
   ],
   "source": [
    "print(sys.getsizeof(int()))\n",
    "print(sys.getsizeof(float()))\n",
    "print(sys.getsizeof(complex()))"
   ]
  },
  {
   "cell_type": "markdown",
   "id": "701c8e7b-f876-420e-be45-13eb54a98327",
   "metadata": {},
   "source": [
    "### 2.Boolen"
   ]
  },
  {
   "cell_type": "code",
   "execution_count": 41,
   "id": "932c09c3-8713-452f-bf52-4587ae1d0f7f",
   "metadata": {},
   "outputs": [],
   "source": [
    "bool1=True"
   ]
  },
  {
   "cell_type": "code",
   "execution_count": 42,
   "id": "5bec4d28-a5b9-4150-8ca1-7a8ecb786d1c",
   "metadata": {},
   "outputs": [],
   "source": [
    "bool2=False"
   ]
  },
  {
   "cell_type": "code",
   "execution_count": 43,
   "id": "cf46a74f-2d32-43b0-8bda-087d7beb8557",
   "metadata": {},
   "outputs": [
    {
     "name": "stdout",
     "output_type": "stream",
     "text": [
      "<class 'bool'>\n",
      "<class 'bool'>\n"
     ]
    }
   ],
   "source": [
    "print(type(bool1))\n",
    "print(type(bool2))"
   ]
  },
  {
   "cell_type": "code",
   "execution_count": 44,
   "id": "0d77d89f-9939-4d9b-aa2c-1051a4f7b9c4",
   "metadata": {},
   "outputs": [
    {
     "data": {
      "text/plain": [
       "True"
      ]
     },
     "execution_count": 44,
     "metadata": {},
     "output_type": "execute_result"
    }
   ],
   "source": [
    "isinstance(bool1,bool)"
   ]
  },
  {
   "cell_type": "code",
   "execution_count": 46,
   "id": "c4192d3f-4fbe-4220-8f43-a5d66d3a66ce",
   "metadata": {},
   "outputs": [
    {
     "data": {
      "text/plain": [
       "False"
      ]
     },
     "execution_count": 46,
     "metadata": {},
     "output_type": "execute_result"
    }
   ],
   "source": [
    "bool(0)"
   ]
  },
  {
   "cell_type": "code",
   "execution_count": 47,
   "id": "f6e93b3d-13e5-473b-a591-11e531c0f4dc",
   "metadata": {},
   "outputs": [
    {
     "data": {
      "text/plain": [
       "True"
      ]
     },
     "execution_count": 47,
     "metadata": {},
     "output_type": "execute_result"
    }
   ],
   "source": [
    "bool(1)"
   ]
  },
  {
   "cell_type": "code",
   "execution_count": 48,
   "id": "4993521a-2ed5-4e6f-8c36-fe05fbbaa2a1",
   "metadata": {},
   "outputs": [
    {
     "data": {
      "text/plain": [
       "False"
      ]
     },
     "execution_count": 48,
     "metadata": {},
     "output_type": "execute_result"
    }
   ],
   "source": [
    "bool(None)"
   ]
  },
  {
   "cell_type": "code",
   "execution_count": 50,
   "id": "2ba1a57f-1e95-4ad8-8be9-a146b0e4b731",
   "metadata": {},
   "outputs": [
    {
     "data": {
      "text/plain": [
       "False"
      ]
     },
     "execution_count": 50,
     "metadata": {},
     "output_type": "execute_result"
    }
   ],
   "source": [
    "bool(False) # False/None/0 "
   ]
  },
  {
   "cell_type": "markdown",
   "id": "f2357686-045d-43ab-bdb9-a8b143058c6b",
   "metadata": {},
   "source": [
    "### 3.String"
   ]
  },
  {
   "cell_type": "code",
   "execution_count": 54,
   "id": "2144c4d0-5934-4934-bc38-57a05a9b8a88",
   "metadata": {},
   "outputs": [
    {
     "name": "stdout",
     "output_type": "stream",
     "text": [
      "Hello\n",
      "Hello\n"
     ]
    }
   ],
   "source": [
    "str1='Hello' # we can create a string by '.' or \".\"\n",
    "str2=\"Hello\"\n",
    "print(str1)\n",
    "print(str2)"
   ]
  },
  {
   "cell_type": "code",
   "execution_count": 59,
   "id": "10d8393b-9e94-42be-9016-dbf53685b55b",
   "metadata": {},
   "outputs": [
    {
     "name": "stdout",
     "output_type": "stream",
     "text": [
      "Hello \n",
      "Good Morning\n",
      "Hello \n",
      "Good Morning \n",
      "to all\n"
     ]
    }
   ],
   "source": [
    "str3='''Hello \n",
    "Good Morning'''\n",
    "str4=\"\"\"Hello \n",
    "Good Morning \n",
    "to all\"\"\"\n",
    "print(str3)\n",
    "\n",
    "print(str4)"
   ]
  },
  {
   "cell_type": "code",
   "execution_count": 63,
   "id": "3fc4795e-9365-4ef4-8cb0-e7891f724937",
   "metadata": {},
   "outputs": [
    {
     "name": "stdout",
     "output_type": "stream",
     "text": [
      " good morning to all\n"
     ]
    }
   ],
   "source": [
    "mrstr=(' good '\n",
    "      'morning '\n",
    "      \"to all\")\n",
    "print(mrstr)"
   ]
  },
  {
   "cell_type": "code",
   "execution_count": 64,
   "id": "71442dae-95a9-4082-8ff7-1ca7eaa9594b",
   "metadata": {},
   "outputs": [
    {
     "name": "stdout",
     "output_type": "stream",
     "text": [
      " good morning to all good morning to all good morning to all\n"
     ]
    }
   ],
   "source": [
    "mrstr=mrstr*3\n",
    "print(mrstr)"
   ]
  },
  {
   "cell_type": "markdown",
   "id": "77b13530-3427-4b61-9b2c-033f8d683456",
   "metadata": {},
   "source": [
    "#### string indexing"
   ]
  },
  {
   "cell_type": "code",
   "execution_count": 65,
   "id": "ada741c8-6bbd-4068-8799-f2957583f194",
   "metadata": {},
   "outputs": [
    {
     "data": {
      "text/plain": [
       "'Hello'"
      ]
     },
     "execution_count": 65,
     "metadata": {},
     "output_type": "execute_result"
    }
   ],
   "source": [
    "str1"
   ]
  },
  {
   "cell_type": "code",
   "execution_count": 67,
   "id": "87156ad4-0bce-45e6-a630-17de1c9f4227",
   "metadata": {},
   "outputs": [
    {
     "data": {
      "text/plain": [
       "'H'"
      ]
     },
     "execution_count": 67,
     "metadata": {},
     "output_type": "execute_result"
    }
   ],
   "source": [
    "str1[0]"
   ]
  },
  {
   "cell_type": "code",
   "execution_count": 68,
   "id": "547c2b70-619f-4a6e-ae68-a62a3b5c1756",
   "metadata": {},
   "outputs": [
    {
     "data": {
      "text/plain": [
       "'o'"
      ]
     },
     "execution_count": 68,
     "metadata": {},
     "output_type": "execute_result"
    }
   ],
   "source": [
    " str1[len(str1)-1] # Last character in string using len function"
   ]
  },
  {
   "cell_type": "code",
   "execution_count": 71,
   "id": "fc74d01a-dbfe-4596-adcb-280c3a1b1a19",
   "metadata": {},
   "outputs": [
    {
     "data": {
      "text/plain": [
       "'o'"
      ]
     },
     "execution_count": 71,
     "metadata": {},
     "output_type": "execute_result"
    }
   ],
   "source": [
    "str1[-1]"
   ]
  },
  {
   "cell_type": "code",
   "execution_count": 73,
   "id": "af21b32e-0e0c-480d-b832-288df9f98562",
   "metadata": {},
   "outputs": [
    {
     "data": {
      "text/plain": [
       "'l'"
      ]
     },
     "execution_count": 73,
     "metadata": {},
     "output_type": "execute_result"
    }
   ],
   "source": [
    "str1[3]"
   ]
  },
  {
   "cell_type": "markdown",
   "id": "712f9479-fc0d-41a7-8725-8c9b2aec1970",
   "metadata": {},
   "source": [
    "#### string Slicing"
   ]
  },
  {
   "cell_type": "code",
   "execution_count": 84,
   "id": "236863e5-f312-4f02-9bbb-9397669bc53d",
   "metadata": {},
   "outputs": [
    {
     "data": {
      "text/plain": [
       "'Hello'"
      ]
     },
     "execution_count": 84,
     "metadata": {},
     "output_type": "execute_result"
    }
   ],
   "source": [
    "str1[:]"
   ]
  },
  {
   "cell_type": "code",
   "execution_count": 74,
   "id": "2561cb68-7f66-4fa8-a64a-43c90a0cdc69",
   "metadata": {},
   "outputs": [
    {
     "data": {
      "text/plain": [
       "'Hell'"
      ]
     },
     "execution_count": 74,
     "metadata": {},
     "output_type": "execute_result"
    }
   ],
   "source": [
    "str1[0:4]"
   ]
  },
  {
   "cell_type": "code",
   "execution_count": 75,
   "id": "70379bb9-3cc7-446d-b055-cb1d25c58cd3",
   "metadata": {},
   "outputs": [
    {
     "data": {
      "text/plain": [
       "'ll'"
      ]
     },
     "execution_count": 75,
     "metadata": {},
     "output_type": "execute_result"
    }
   ],
   "source": [
    "str1[2:4]"
   ]
  },
  {
   "cell_type": "code",
   "execution_count": 79,
   "id": "747da552-ad87-4f6b-bd73-4ac9a5adedd6",
   "metadata": {},
   "outputs": [
    {
     "data": {
      "text/plain": [
       "'llo'"
      ]
     },
     "execution_count": 79,
     "metadata": {},
     "output_type": "execute_result"
    }
   ],
   "source": [
    "str1[-3:]"
   ]
  },
  {
   "cell_type": "code",
   "execution_count": 82,
   "id": "30770c74-1009-4d8d-8912-fe3669cf2d66",
   "metadata": {},
   "outputs": [
    {
     "data": {
      "text/plain": [
       "'Hello'"
      ]
     },
     "execution_count": 82,
     "metadata": {},
     "output_type": "execute_result"
    }
   ],
   "source": [
    "str1[-5:]"
   ]
  },
  {
   "cell_type": "code",
   "execution_count": 85,
   "id": "31620b1b-1ee6-49c7-b5bd-9b1b797b1aa5",
   "metadata": {},
   "outputs": [
    {
     "data": {
      "text/plain": [
       "'Hel'"
      ]
     },
     "execution_count": 85,
     "metadata": {},
     "output_type": "execute_result"
    }
   ],
   "source": [
    "str1[:3]"
   ]
  },
  {
   "cell_type": "code",
   "execution_count": 87,
   "id": "7059141e-57ed-479f-ad1e-95c9158f5e86",
   "metadata": {},
   "outputs": [
    {
     "data": {
      "text/plain": [
       "'lo'"
      ]
     },
     "execution_count": 87,
     "metadata": {},
     "output_type": "execute_result"
    }
   ],
   "source": [
    "str1[3:]"
   ]
  },
  {
   "cell_type": "markdown",
   "id": "efd3f5b5-8167-41ac-98ba-98d2c07068d5",
   "metadata": {},
   "source": [
    "#### Update and delete string"
   ]
  },
  {
   "cell_type": "code",
   "execution_count": 89,
   "id": "0cc15a21-7060-4bd1-812a-aefafb7647f3",
   "metadata": {},
   "outputs": [
    {
     "data": {
      "text/plain": [
       "'Hello'"
      ]
     },
     "execution_count": 89,
     "metadata": {},
     "output_type": "execute_result"
    }
   ],
   "source": [
    "str1"
   ]
  },
  {
   "cell_type": "code",
   "execution_count": 90,
   "id": "9d0b1842-9ac5-4989-b3ef-93eab2bd56f6",
   "metadata": {},
   "outputs": [
    {
     "ename": "TypeError",
     "evalue": "'str' object does not support item assignment",
     "output_type": "error",
     "traceback": [
      "\u001b[1;31m---------------------------------------------------------------------------\u001b[0m",
      "\u001b[1;31mTypeError\u001b[0m                                 Traceback (most recent call last)",
      "Cell \u001b[1;32mIn[90], line 1\u001b[0m\n\u001b[1;32m----> 1\u001b[0m str1[\u001b[38;5;241m0\u001b[39m:\u001b[38;5;241m4\u001b[39m]\u001b[38;5;241m=\u001b[39m\u001b[38;5;124m'\u001b[39m\u001b[38;5;124mHaii\u001b[39m\u001b[38;5;124m'\u001b[39m\n",
      "\u001b[1;31mTypeError\u001b[0m: 'str' object does not support item assignment"
     ]
    }
   ],
   "source": [
    "str1[0:4]='Haii' #Strings are immutable which means elements of a string cannot be changed once they assigned"
   ]
  },
  {
   "cell_type": "code",
   "execution_count": 91,
   "id": "6dfaa1f0-8ad4-4be6-a1f0-d070c81fe4fc",
   "metadata": {},
   "outputs": [
    {
     "ename": "NameError",
     "evalue": "name 'str1' is not defined",
     "output_type": "error",
     "traceback": [
      "\u001b[1;31m---------------------------------------------------------------------------\u001b[0m",
      "\u001b[1;31mNameError\u001b[0m                                 Traceback (most recent call last)",
      "Cell \u001b[1;32mIn[91], line 2\u001b[0m\n\u001b[0;32m      1\u001b[0m \u001b[38;5;28;01mdel\u001b[39;00m(str1)\n\u001b[1;32m----> 2\u001b[0m \u001b[43mstr1\u001b[49m\n",
      "\u001b[1;31mNameError\u001b[0m: name 'str1' is not defined"
     ]
    }
   ],
   "source": [
    "del(str1)\n",
    "str1"
   ]
  },
  {
   "cell_type": "code",
   "execution_count": 94,
   "id": "c47ed7a9-605c-4f6e-8c58-40c1a6c12eea",
   "metadata": {},
   "outputs": [
    {
     "name": "stdout",
     "output_type": "stream",
     "text": [
      "Hello Good Morning\n"
     ]
    }
   ],
   "source": [
    "str1= 'Hello '\n",
    "str5='Good '\n",
    "str6='Morning'\n",
    "strn=str1+str5+str6\n",
    "print(strn)"
   ]
  },
  {
   "cell_type": "code",
   "execution_count": null,
   "id": "df01f639-2f4e-4df3-81a5-af44734f7968",
   "metadata": {},
   "outputs": [],
   "source": []
  }
 ],
 "metadata": {
  "kernelspec": {
   "display_name": "Python 3 (ipykernel)",
   "language": "python",
   "name": "python3"
  },
  "language_info": {
   "codemirror_mode": {
    "name": "ipython",
    "version": 3
   },
   "file_extension": ".py",
   "mimetype": "text/x-python",
   "name": "python",
   "nbconvert_exporter": "python",
   "pygments_lexer": "ipython3",
   "version": "3.10.9"
  }
 },
 "nbformat": 4,
 "nbformat_minor": 5
}
