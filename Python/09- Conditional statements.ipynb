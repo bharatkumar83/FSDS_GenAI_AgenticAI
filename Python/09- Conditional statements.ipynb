{
 "cells": [
  {
   "cell_type": "markdown",
   "id": "4fb98488-1f29-4257-8e6b-d635a6f14b0e",
   "metadata": {},
   "source": [
    "### Conditional Statements"
   ]
  },
  {
   "cell_type": "markdown",
   "id": "14183aa5-100b-4e5b-950a-ed8358b9a7e2",
   "metadata": {},
   "source": [
    "#### if statement"
   ]
  },
  {
   "cell_type": "code",
   "execution_count": 1,
   "id": "ff7f8c23-afb2-4f33-95e0-71396c04c64a",
   "metadata": {},
   "outputs": [
    {
     "name": "stdout",
     "output_type": "stream",
     "text": [
      "True value\n"
     ]
    }
   ],
   "source": [
    "# prints statement if the condition is true\n",
    "\n",
    "if True:\n",
    "    print('True value')"
   ]
  },
  {
   "cell_type": "code",
   "execution_count": 2,
   "id": "dad595b1-2485-42cd-8651-6b3d2aef6611",
   "metadata": {},
   "outputs": [],
   "source": [
    "# doesn't write any statement because the statement is false\n",
    "\n",
    "if False:\n",
    "    print('True value') "
   ]
  },
  {
   "cell_type": "code",
   "execution_count": 5,
   "id": "d5af9646-7440-4be4-b486-681233f71fbf",
   "metadata": {},
   "outputs": [
    {
     "name": "stdout",
     "output_type": "stream",
     "text": [
      "Elgible for voting.\n"
     ]
    }
   ],
   "source": [
    "age = 22\n",
    "if age >=18:\n",
    "        print('Elgible for voting.')"
   ]
  },
  {
   "cell_type": "code",
   "execution_count": 6,
   "id": "8c658b26-cd57-414c-943f-03137e1f73ca",
   "metadata": {},
   "outputs": [
    {
     "name": "stdout",
     "output_type": "stream",
     "text": [
      "Elgible for vote.\n"
     ]
    }
   ],
   "source": [
    "# short hand if \n",
    "\n",
    "age= 22\n",
    "if age>=18: print('Elgible for vote.')"
   ]
  },
  {
   "cell_type": "markdown",
   "id": "e96c9447-c90b-42e5-be67-d8121be691a2",
   "metadata": {},
   "source": [
    "#### if else statement"
   ]
  },
  {
   "cell_type": "code",
   "execution_count": 7,
   "id": "c092a8a2-a75b-4871-94b0-04211493d4d0",
   "metadata": {},
   "outputs": [
    {
     "name": "stdout",
     "output_type": "stream",
     "text": [
      "True value\n"
     ]
    }
   ],
   "source": [
    "# prints statement if the condition is true otherwise else statement\n",
    "\n",
    "if True:\n",
    "    print('True value')\n",
    "else:\n",
    "    print('False value')"
   ]
  },
  {
   "cell_type": "code",
   "execution_count": 8,
   "id": "41a83a44-2a3f-4d29-be93-be37bf9645eb",
   "metadata": {},
   "outputs": [
    {
     "name": "stdout",
     "output_type": "stream",
     "text": [
      "False value\n"
     ]
    }
   ],
   "source": [
    "if False:\n",
    "    print('True value')\n",
    "else:\n",
    "    print('False value')"
   ]
  },
  {
   "cell_type": "code",
   "execution_count": 9,
   "id": "f0d39da7-895a-49c5-bef4-43e4045ef2c2",
   "metadata": {},
   "outputs": [
    {
     "name": "stdout",
     "output_type": "stream",
     "text": [
      "enjoy the ride\n"
     ]
    }
   ],
   "source": [
    "weight =45\n",
    "\n",
    "if weight <= 50:\n",
    "    print('enjoy the ride')\n",
    "else:\n",
    "    print('not elgible for ride')"
   ]
  },
  {
   "cell_type": "code",
   "execution_count": 10,
   "id": "c7a997ae-e462-46fb-b17b-836c8fe35b77",
   "metadata": {},
   "outputs": [
    {
     "name": "stdout",
     "output_type": "stream",
     "text": [
      "not elgible for ride\n"
     ]
    }
   ],
   "source": [
    "weight =60\n",
    "\n",
    "if weight <= 50:\n",
    "    print('enjoy the ride')\n",
    "else:\n",
    "    print('not elgible for ride')"
   ]
  },
  {
   "cell_type": "code",
   "execution_count": 11,
   "id": "f6879af6-26bc-47f3-aaec-bdedea7ddf59",
   "metadata": {},
   "outputs": [
    {
     "name": "stdout",
     "output_type": "stream",
     "text": [
      "Fever is high\n"
     ]
    }
   ],
   "source": [
    "# short hand if else\n",
    "\n",
    "temp = 98\n",
    "\n",
    "if temp <= 99: print('Fever is high')\n",
    "else: print('No Fever')"
   ]
  },
  {
   "cell_type": "code",
   "execution_count": 15,
   "id": "ac45d595-283b-4481-8c4e-bbe72c58da3d",
   "metadata": {},
   "outputs": [
    {
     "name": "stdout",
     "output_type": "stream",
     "text": [
      "Result: Pass\n"
     ]
    }
   ],
   "source": [
    "mark =51\n",
    "res='Pass' if mark>=35  else 'Fail'\n",
    "\n",
    "print(f'Result: {res}')"
   ]
  },
  {
   "cell_type": "code",
   "execution_count": 23,
   "id": "174624c0-029c-4339-95db-912e281376be",
   "metadata": {},
   "outputs": [
    {
     "name": "stdout",
     "output_type": "stream",
     "text": [
      "Elgible for Ride\n"
     ]
    }
   ],
   "source": [
    "# logical Operator in if else\n",
    "\n",
    "age= 22\n",
    "height= 178\n",
    "if age >= 18 and height >=160:\n",
    "    print('Elgible for Ride')\n",
    "else:\n",
    "    print('Not elgible for ride')"
   ]
  },
  {
   "cell_type": "markdown",
   "id": "48302d36-7389-4a3b-adf2-6f3711eee26d",
   "metadata": {},
   "source": [
    "#### elif statements"
   ]
  },
  {
   "cell_type": "code",
   "execution_count": 16,
   "id": "08d0679b-c3cd-48d2-ae6c-cdc0abea54ff",
   "metadata": {},
   "outputs": [
    {
     "name": "stdout",
     "output_type": "stream",
     "text": [
      "Young adult\n"
     ]
    }
   ],
   "source": [
    "age= 22\n",
    "if age<=12:\n",
    "    print('Child')\n",
    "elif age<= 19:\n",
    "    print('Teenager')\n",
    "elif age<=35:\n",
    "    print('Young adult')\n",
    "\n",
    "else:\n",
    "    print('Adult')"
   ]
  },
  {
   "cell_type": "markdown",
   "id": "b8f6d508-e123-4a55-aa6f-a6bf56f978bb",
   "metadata": {},
   "source": [
    "#### Nested if else statement"
   ]
  },
  {
   "cell_type": "code",
   "execution_count": 18,
   "id": "96a27dca-a120-45f4-a08c-27034ab6e0f9",
   "metadata": {},
   "outputs": [
    {
     "name": "stdout",
     "output_type": "stream",
     "text": [
      "Even Number\n",
      "Greater Number\n"
     ]
    }
   ],
   "source": [
    "x= 6\n",
    "\n",
    "r=x%2\n",
    "\n",
    "if r==0:\n",
    "    print('Even Number')\n",
    "    if x>5:\n",
    "        print('Greater Number')\n",
    "    else:\n",
    "        print('Smaller Number')\n",
    "\n",
    "else:\n",
    "    print('odd Number')"
   ]
  },
  {
   "cell_type": "code",
   "execution_count": 19,
   "id": "b0911f30-429f-4d2a-8282-86110d4f6dae",
   "metadata": {},
   "outputs": [
    {
     "name": "stdout",
     "output_type": "stream",
     "text": [
      "30% senior discount\n"
     ]
    }
   ],
   "source": [
    "age= 73\n",
    "is_member = True\n",
    "\n",
    "if age >= 60:\n",
    "    if is_member:\n",
    "        print('30% senior discount')\n",
    "    else:\n",
    "        print('20% senior discount')\n",
    "else:\n",
    "    print('Not eligible for senior discount')"
   ]
  },
  {
   "cell_type": "markdown",
   "id": "2c555b35-3716-488c-830d-5678f52d0d20",
   "metadata": {},
   "source": [
    "#### Ternary Conditional statement"
   ]
  },
  {
   "cell_type": "code",
   "execution_count": 20,
   "id": "8fa26497-90e9-480d-a7a9-fb6993d797e1",
   "metadata": {},
   "outputs": [
    {
     "name": "stdout",
     "output_type": "stream",
     "text": [
      "adult\n"
     ]
    }
   ],
   "source": [
    "age= 22\n",
    "s='adult' if age>=18 else 'Minor'\n",
    "\n",
    "print(s)"
   ]
  },
  {
   "cell_type": "markdown",
   "id": "057d8133-b524-4096-a393-db6451876bb6",
   "metadata": {},
   "source": [
    "#### Match case statement"
   ]
  },
  {
   "cell_type": "code",
   "execution_count": 21,
   "id": "b79b6b88-be3d-4012-9302-ba8b14c20b1c",
   "metadata": {},
   "outputs": [
    {
     "name": "stdout",
     "output_type": "stream",
     "text": [
      "other number\n"
     ]
    }
   ],
   "source": [
    "number = 4\n",
    "\n",
    "match number:\n",
    "    case 1:\n",
    "        print('One')\n",
    "    case 2|3:\n",
    "        print('Two or Three')\n",
    "    case _:\n",
    "        print('other number')"
   ]
  },
  {
   "cell_type": "code",
   "execution_count": 22,
   "id": "e79b03bd-8c99-426d-a9db-53b634e5c266",
   "metadata": {},
   "outputs": [
    {
     "name": "stdout",
     "output_type": "stream",
     "text": [
      "Two or Three\n"
     ]
    }
   ],
   "source": [
    "number = 3\n",
    "\n",
    "match number:\n",
    "    case 1:\n",
    "        print('One')\n",
    "    case 2|3:\n",
    "        print('Two or Three')\n",
    "    case _:\n",
    "        print('other number')"
   ]
  },
  {
   "cell_type": "code",
   "execution_count": null,
   "id": "28f2d46f-100c-4675-9962-f81b6ad636e3",
   "metadata": {},
   "outputs": [],
   "source": []
  }
 ],
 "metadata": {
  "kernelspec": {
   "display_name": "Python 3 (ipykernel)",
   "language": "python",
   "name": "python3"
  },
  "language_info": {
   "codemirror_mode": {
    "name": "ipython",
    "version": 3
   },
   "file_extension": ".py",
   "mimetype": "text/x-python",
   "name": "python",
   "nbconvert_exporter": "python",
   "pygments_lexer": "ipython3",
   "version": "3.10.9"
  }
 },
 "nbformat": 4,
 "nbformat_minor": 5
}
