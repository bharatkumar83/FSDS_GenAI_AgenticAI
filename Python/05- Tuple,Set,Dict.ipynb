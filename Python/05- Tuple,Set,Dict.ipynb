{
 "cells": [
  {
   "cell_type": "markdown",
   "id": "ee716282-7001-4f76-ace3-6343cc6740f5",
   "metadata": {},
   "source": [
    "### Tuple Creation"
   ]
  },
  {
   "cell_type": "code",
   "execution_count": 1,
   "id": "3190f262-0d98-43bd-a47b-01b459bda615",
   "metadata": {},
   "outputs": [],
   "source": [
    "tup1=() #gives the tuple data set"
   ]
  },
  {
   "cell_type": "code",
   "execution_count": 2,
   "id": "99198277-d313-425d-8986-1f1793a253ae",
   "metadata": {},
   "outputs": [
    {
     "data": {
      "text/plain": [
       "()"
      ]
     },
     "execution_count": 2,
     "metadata": {},
     "output_type": "execute_result"
    }
   ],
   "source": [
    "tup1"
   ]
  },
  {
   "cell_type": "code",
   "execution_count": 3,
   "id": "95a4ed32-b777-416f-962a-6a5629e74420",
   "metadata": {},
   "outputs": [
    {
     "data": {
      "text/plain": [
       "tuple"
      ]
     },
     "execution_count": 3,
     "metadata": {},
     "output_type": "execute_result"
    }
   ],
   "source": [
    "type(tup1)"
   ]
  },
  {
   "cell_type": "code",
   "execution_count": 4,
   "id": "ff8ef111-d470-410b-86f4-bef9b79b9230",
   "metadata": {},
   "outputs": [],
   "source": [
    "tup2=(1,2,3,4,5,6) #int tuple "
   ]
  },
  {
   "cell_type": "code",
   "execution_count": 5,
   "id": "b42897e1-3827-4c41-9ff6-47494f616cd4",
   "metadata": {},
   "outputs": [],
   "source": [
    "tup3=(1.23,3.4,5.5,6.3) # float tuple"
   ]
  },
  {
   "cell_type": "code",
   "execution_count": 6,
   "id": "5b1f8fa3-8c82-488d-a1a1-b1d1aa1d4166",
   "metadata": {},
   "outputs": [],
   "source": [
    "tup4=('Hi','gud','Morning') # str tuple"
   ]
  },
  {
   "cell_type": "code",
   "execution_count": 7,
   "id": "3c1c5a8c-049c-4414-832c-7dbba70ea92d",
   "metadata": {},
   "outputs": [],
   "source": [
    "tup5=(4+3j ,5+2j, 1+7j) # complex tuple"
   ]
  },
  {
   "cell_type": "code",
   "execution_count": 8,
   "id": "b9c3650e-de52-43d0-955c-f87065621c1a",
   "metadata": {},
   "outputs": [
    {
     "name": "stdout",
     "output_type": "stream",
     "text": [
      "(1, 2, 3, 4, 5, 6)\n",
      "(1.23, 3.4, 5.5, 6.3)\n",
      "('Hi', 'gud', 'Morning')\n",
      "((4+3j), (5+2j), (1+7j))\n",
      "<class 'tuple'>\n",
      "<class 'tuple'>\n",
      "<class 'tuple'>\n",
      "<class 'tuple'>\n"
     ]
    }
   ],
   "source": [
    "print(tup2)\n",
    "print(tup3)\n",
    "print(tup4)\n",
    "print(tup5)\n",
    "print(type(tup2))\n",
    "print(type(tup3))\n",
    "print(type(tup4))\n",
    "print(type(tup5))"
   ]
  },
  {
   "cell_type": "code",
   "execution_count": 9,
   "id": "954144b1-ad6b-4e05-ace5-35372932a1f3",
   "metadata": {},
   "outputs": [
    {
     "data": {
      "text/plain": [
       "(2, 3, 4, 5, 1, 5, 6, 7, 9)"
      ]
     },
     "execution_count": 9,
     "metadata": {},
     "output_type": "execute_result"
    }
   ],
   "source": [
    "tupl2=(2,3,4,5,1,5,6,7,9)\n",
    "tupl2"
   ]
  },
  {
   "cell_type": "code",
   "execution_count": 10,
   "id": "75b218bf-896b-4248-bf3a-9ea0bca4c1b8",
   "metadata": {},
   "outputs": [],
   "source": [
    "tupl3=(2,3,4.56,'Bharat',(1,2),(2.3,4.2),('nit','get')) # Nested tuple"
   ]
  },
  {
   "cell_type": "markdown",
   "id": "53517f6a-d1b8-41a5-86bb-dd5f6ff2cb20",
   "metadata": {},
   "source": [
    "### indexing & slicing"
   ]
  },
  {
   "cell_type": "code",
   "execution_count": 11,
   "id": "6c62c65d-1b53-4846-acdf-62a98efc25ec",
   "metadata": {},
   "outputs": [
    {
     "data": {
      "text/plain": [
       "2"
      ]
     },
     "execution_count": 11,
     "metadata": {},
     "output_type": "execute_result"
    }
   ],
   "source": [
    "tupl2[0] # forward indexing"
   ]
  },
  {
   "cell_type": "code",
   "execution_count": 12,
   "id": "17278e07-e0bd-4011-8f5f-2fa880571e5a",
   "metadata": {},
   "outputs": [
    {
     "data": {
      "text/plain": [
       "7"
      ]
     },
     "execution_count": 12,
     "metadata": {},
     "output_type": "execute_result"
    }
   ],
   "source": [
    "tupl2[-2] #  backward  indexing"
   ]
  },
  {
   "cell_type": "code",
   "execution_count": 13,
   "id": "e3f77617-9548-44d3-aa3c-251eb90bcf1b",
   "metadata": {},
   "outputs": [
    {
     "data": {
      "text/plain": [
       "'Bharat'"
      ]
     },
     "execution_count": 13,
     "metadata": {},
     "output_type": "execute_result"
    }
   ],
   "source": [
    "tupl3[3]"
   ]
  },
  {
   "cell_type": "code",
   "execution_count": 14,
   "id": "2b469cf2-9504-480a-aac5-586069062f5a",
   "metadata": {},
   "outputs": [
    {
     "data": {
      "text/plain": [
       "(2.3, 4.2)"
      ]
     },
     "execution_count": 14,
     "metadata": {},
     "output_type": "execute_result"
    }
   ],
   "source": [
    "tupl3[5]"
   ]
  },
  {
   "cell_type": "code",
   "execution_count": 15,
   "id": "0bf4add9-7249-4325-8aed-b45ad027cbe9",
   "metadata": {},
   "outputs": [
    {
     "data": {
      "text/plain": [
       "'get'"
      ]
     },
     "execution_count": 15,
     "metadata": {},
     "output_type": "execute_result"
    }
   ],
   "source": [
    "tupl3[6][-1] #nested indexing"
   ]
  },
  {
   "cell_type": "code",
   "execution_count": 16,
   "id": "0e2bdfcf-27a5-4453-aecb-f10b0d506ddf",
   "metadata": {},
   "outputs": [
    {
     "data": {
      "text/plain": [
       "'nit'"
      ]
     },
     "execution_count": 16,
     "metadata": {},
     "output_type": "execute_result"
    }
   ],
   "source": [
    "tupl3[6][0]"
   ]
  },
  {
   "cell_type": "code",
   "execution_count": 17,
   "id": "71b73852-9423-49ec-8013-327bbc72a4f4",
   "metadata": {},
   "outputs": [
    {
     "data": {
      "text/plain": [
       "(2, 3, 4, 5, 1, 5, 6, 7, 9)"
      ]
     },
     "execution_count": 17,
     "metadata": {},
     "output_type": "execute_result"
    }
   ],
   "source": [
    "tupl2[:] # total slicing "
   ]
  },
  {
   "cell_type": "code",
   "execution_count": 18,
   "id": "7843f340-cc5e-44fe-a131-e9e905c5b0f7",
   "metadata": {},
   "outputs": [
    {
     "data": {
      "text/plain": [
       "(4, 5, 1)"
      ]
     },
     "execution_count": 18,
     "metadata": {},
     "output_type": "execute_result"
    }
   ],
   "source": [
    "tupl2[2:5] # forward slicing"
   ]
  },
  {
   "cell_type": "code",
   "execution_count": 19,
   "id": "8696f018-8211-4aac-b51f-ae0f6de548c5",
   "metadata": {},
   "outputs": [
    {
     "data": {
      "text/plain": [
       "(6, 7)"
      ]
     },
     "execution_count": 19,
     "metadata": {},
     "output_type": "execute_result"
    }
   ],
   "source": [
    "tupl2[-3:-1] #backward slicing"
   ]
  },
  {
   "cell_type": "code",
   "execution_count": 20,
   "id": "d73d7a3a-2adb-4d55-90af-466b5d5c21c2",
   "metadata": {},
   "outputs": [
    {
     "data": {
      "text/plain": [
       "(4, 5, 1, 5, 6, 7, 9)"
      ]
     },
     "execution_count": 20,
     "metadata": {},
     "output_type": "execute_result"
    }
   ],
   "source": [
    "tupl2[2:]"
   ]
  },
  {
   "cell_type": "code",
   "execution_count": 21,
   "id": "bdecd0bd-d400-4adf-b389-673731912cef",
   "metadata": {},
   "outputs": [
    {
     "data": {
      "text/plain": [
       "(2, 3, 4)"
      ]
     },
     "execution_count": 21,
     "metadata": {},
     "output_type": "execute_result"
    }
   ],
   "source": [
    "tupl2[:3]"
   ]
  },
  {
   "cell_type": "code",
   "execution_count": 22,
   "id": "14aba714-bba1-4e3b-97ae-7cad197e1dd5",
   "metadata": {},
   "outputs": [
    {
     "data": {
      "text/plain": [
       "(5, 6, 7, 9)"
      ]
     },
     "execution_count": 22,
     "metadata": {},
     "output_type": "execute_result"
    }
   ],
   "source": [
    "tupl2[-4:]"
   ]
  },
  {
   "cell_type": "code",
   "execution_count": 23,
   "id": "546edd30-938e-4b2d-a9ba-e69e7694487f",
   "metadata": {},
   "outputs": [
    {
     "data": {
      "text/plain": [
       "(2, 3, 4.56, 'Bharat', (1, 2))"
      ]
     },
     "execution_count": 23,
     "metadata": {},
     "output_type": "execute_result"
    }
   ],
   "source": [
    "tupl3[:-2]"
   ]
  },
  {
   "cell_type": "code",
   "execution_count": 24,
   "id": "f810cb96-5da3-4e09-bef9-0757217afe63",
   "metadata": {},
   "outputs": [
    {
     "data": {
      "text/plain": [
       "('nit', 'get')"
      ]
     },
     "execution_count": 24,
     "metadata": {},
     "output_type": "execute_result"
    }
   ],
   "source": [
    "tupl3[-2:][-1]"
   ]
  },
  {
   "cell_type": "markdown",
   "id": "7b9aa43d-a57e-4503-9a1c-76e01fe125c7",
   "metadata": {},
   "source": [
    "### Tuple Loops & membership"
   ]
  },
  {
   "cell_type": "code",
   "execution_count": 25,
   "id": "3b6377d2-7edd-450b-8fb0-7105d19163db",
   "metadata": {},
   "outputs": [
    {
     "data": {
      "text/plain": [
       "('one', 'two', 'three', 'four', 'five', 'six')"
      ]
     },
     "execution_count": 25,
     "metadata": {},
     "output_type": "execute_result"
    }
   ],
   "source": [
    "tupl4=('one','two','three','four','five','six')\n",
    "tupl4"
   ]
  },
  {
   "cell_type": "code",
   "execution_count": 26,
   "id": "ccbb1ea6-73f4-4255-880d-cbd7c50ed924",
   "metadata": {},
   "outputs": [
    {
     "name": "stdout",
     "output_type": "stream",
     "text": [
      "one\n",
      "two\n",
      "three\n",
      "four\n",
      "five\n",
      "six\n"
     ]
    }
   ],
   "source": [
    "for i in tupl4:\n",
    "    print(i)"
   ]
  },
  {
   "cell_type": "code",
   "execution_count": 27,
   "id": "4b016d79-3b35-4c5c-884b-58039ebb4b8d",
   "metadata": {},
   "outputs": [
    {
     "name": "stdout",
     "output_type": "stream",
     "text": [
      "(0, 'one')\n",
      "(1, 'two')\n",
      "(2, 'three')\n",
      "(3, 'four')\n",
      "(4, 'five')\n",
      "(5, 'six')\n"
     ]
    }
   ],
   "source": [
    "for i in enumerate(tupl4):\n",
    "    print(i)"
   ]
  },
  {
   "cell_type": "code",
   "execution_count": 28,
   "id": "a5237873-ba07-4948-8758-fa2bd64f07a5",
   "metadata": {},
   "outputs": [
    {
     "name": "stdout",
     "output_type": "stream",
     "text": [
      "One is in the data\n"
     ]
    }
   ],
   "source": [
    "if 'one' in tupl4:\n",
    "    print(\"One is in the data\")\n",
    "else:\n",
    "    print(\"One is not in the data\")"
   ]
  },
  {
   "cell_type": "code",
   "execution_count": 29,
   "id": "7aa3d865-e8de-487a-8670-696a593f1474",
   "metadata": {},
   "outputs": [
    {
     "name": "stdout",
     "output_type": "stream",
     "text": [
      "Naresh IT\n"
     ]
    }
   ],
   "source": [
    "if ('nit','get') in tupl3:\n",
    "    print('Naresh IT')\n",
    "else :\n",
    "    print('no nit')"
   ]
  },
  {
   "cell_type": "code",
   "execution_count": 30,
   "id": "6f977db4-9374-4fe1-8163-d7a7d9b3e675",
   "metadata": {},
   "outputs": [
    {
     "name": "stdout",
     "output_type": "stream",
     "text": [
      "No Seven\n"
     ]
    }
   ],
   "source": [
    "if 'seven' in tupl3:\n",
    "    print('Seven')\n",
    "else:\n",
    "    print(\"No Seven\")"
   ]
  },
  {
   "cell_type": "code",
   "execution_count": 31,
   "id": "79e8f793-2cff-4e11-9906-16b861f93bd7",
   "metadata": {},
   "outputs": [
    {
     "data": {
      "text/plain": [
       "True"
      ]
     },
     "execution_count": 31,
     "metadata": {},
     "output_type": "execute_result"
    }
   ],
   "source": [
    "\"one\" in tupl4"
   ]
  },
  {
   "cell_type": "markdown",
   "id": "23e63ac2-adbf-455e-a419-f58cb48be1c5",
   "metadata": {},
   "source": [
    "### Removing & Change "
   ]
  },
  {
   "cell_type": "code",
   "execution_count": null,
   "id": "008d9d5b-91cf-4d13-951c-736491f5b6ef",
   "metadata": {},
   "outputs": [],
   "source": [
    "# In tuple deleting the entire tuple is possible but deleting one value in tuple is not possible.\n",
    "del tupl2[-1]"
   ]
  },
  {
   "cell_type": "code",
   "execution_count": null,
   "id": "60875dc8-977c-46eb-b6c4-77505c77c99d",
   "metadata": {},
   "outputs": [],
   "source": [
    "tupl2[-1]=2"
   ]
  },
  {
   "cell_type": "code",
   "execution_count": 32,
   "id": "4724233e-fcc1-4c7c-9abf-0132c295abbc",
   "metadata": {},
   "outputs": [],
   "source": [
    "del tup1"
   ]
  },
  {
   "cell_type": "markdown",
   "id": "34a5719e-5017-4e0c-8b6e-e0c941b88221",
   "metadata": {},
   "source": [
    "### sort, index & count "
   ]
  },
  {
   "cell_type": "code",
   "execution_count": 33,
   "id": "79228563-e1cb-4d1e-809f-159d37e950f3",
   "metadata": {},
   "outputs": [
    {
     "data": {
      "text/plain": [
       "(2, 3, 4.56, 'Bharat', (1, 2), (2.3, 4.2), ('nit', 'get'))"
      ]
     },
     "execution_count": 33,
     "metadata": {},
     "output_type": "execute_result"
    }
   ],
   "source": [
    "tupl3"
   ]
  },
  {
   "cell_type": "code",
   "execution_count": 34,
   "id": "3d229ec2-2d89-4347-b2ec-7ecae636ebcf",
   "metadata": {},
   "outputs": [
    {
     "data": {
      "text/plain": [
       "(2, 3, 4, 5, 1, 5, 6, 7, 9)"
      ]
     },
     "execution_count": 34,
     "metadata": {},
     "output_type": "execute_result"
    }
   ],
   "source": [
    "tupl2"
   ]
  },
  {
   "cell_type": "code",
   "execution_count": 35,
   "id": "dda6e1a1-45ec-4828-8d00-74d72558c71a",
   "metadata": {},
   "outputs": [
    {
     "data": {
      "text/plain": [
       "(1, 2, 3, 4, 5, 6)"
      ]
     },
     "execution_count": 35,
     "metadata": {},
     "output_type": "execute_result"
    }
   ],
   "source": [
    "tup2"
   ]
  },
  {
   "cell_type": "code",
   "execution_count": 36,
   "id": "31243236-21dc-4bd7-bc4e-ee6503666c1b",
   "metadata": {},
   "outputs": [],
   "source": [
    "tup=(1,2,2,4,5,7,4,1,3)"
   ]
  },
  {
   "cell_type": "code",
   "execution_count": 37,
   "id": "2a2e888b-efc9-47cf-9b7c-f7aa7b41cfc0",
   "metadata": {},
   "outputs": [
    {
     "name": "stdout",
     "output_type": "stream",
     "text": [
      "count of 2 is  2\n",
      "count of 1 is  2\n",
      "count of 5 is  1\n"
     ]
    }
   ],
   "source": [
    "print('count of 2 is ',tup.count(2))\n",
    "print('count of 1 is ',tup.count(1))\n",
    "print('count of 5 is ',tup.count(5))"
   ]
  },
  {
   "cell_type": "code",
   "execution_count": 38,
   "id": "b5cc5742-92af-494b-b0b2-86e0ce287528",
   "metadata": {},
   "outputs": [
    {
     "data": {
      "text/plain": [
       "2"
      ]
     },
     "execution_count": 38,
     "metadata": {},
     "output_type": "execute_result"
    }
   ],
   "source": [
    "tupl3.index(4.56)"
   ]
  },
  {
   "cell_type": "code",
   "execution_count": 39,
   "id": "51f48514-8deb-46c5-a18c-12c85c34f08e",
   "metadata": {},
   "outputs": [
    {
     "data": {
      "text/plain": [
       "3"
      ]
     },
     "execution_count": 39,
     "metadata": {},
     "output_type": "execute_result"
    }
   ],
   "source": [
    "tupl2.index(5)"
   ]
  },
  {
   "cell_type": "code",
   "execution_count": 40,
   "id": "1fdcbf73-1780-43fb-b829-7bdfa8f63c92",
   "metadata": {},
   "outputs": [
    {
     "data": {
      "text/plain": [
       "8"
      ]
     },
     "execution_count": 40,
     "metadata": {},
     "output_type": "execute_result"
    }
   ],
   "source": [
    "tupl2.index(9)"
   ]
  },
  {
   "cell_type": "code",
   "execution_count": 41,
   "id": "449f987c-10bc-49fc-ab02-4283955baa2b",
   "metadata": {},
   "outputs": [
    {
     "data": {
      "text/plain": [
       "[1, 2, 3, 4, 5, 5, 6, 7, 9]"
      ]
     },
     "execution_count": 41,
     "metadata": {},
     "output_type": "execute_result"
    }
   ],
   "source": [
    "sorted(tupl2)"
   ]
  },
  {
   "cell_type": "code",
   "execution_count": 42,
   "id": "2fae955b-b5c6-44b7-be93-74cb83703961",
   "metadata": {},
   "outputs": [
    {
     "data": {
      "text/plain": [
       "[1, 1, 2, 2, 3, 4, 4, 5, 7]"
      ]
     },
     "execution_count": 42,
     "metadata": {},
     "output_type": "execute_result"
    }
   ],
   "source": [
    "sorted(tup)"
   ]
  },
  {
   "cell_type": "markdown",
   "id": "d33aa6e7-1927-4aa2-a6c3-362d2fa073fd",
   "metadata": {},
   "source": [
    "## Set Creation"
   ]
  },
  {
   "cell_type": "code",
   "execution_count": 43,
   "id": "6b6f10e2-b98e-4cd3-aa5a-8ca072445ec7",
   "metadata": {},
   "outputs": [
    {
     "data": {
      "text/plain": [
       "{}"
      ]
     },
     "execution_count": 43,
     "metadata": {},
     "output_type": "execute_result"
    }
   ],
   "source": [
    "set1={} # set is created by {}\n",
    "set1"
   ]
  },
  {
   "cell_type": "code",
   "execution_count": 44,
   "id": "d667ddc5-4e84-4977-9239-0a4b4ca5352e",
   "metadata": {},
   "outputs": [
    {
     "data": {
      "text/plain": [
       "dict"
      ]
     },
     "execution_count": 44,
     "metadata": {},
     "output_type": "execute_result"
    }
   ],
   "source": [
    "type(set1)"
   ]
  },
  {
   "cell_type": "code",
   "execution_count": 45,
   "id": "fc33921e-e357-426c-8dbb-cded54b35544",
   "metadata": {},
   "outputs": [
    {
     "data": {
      "text/plain": [
       "{1, 2, 3, 4, 5, 6, 7}"
      ]
     },
     "execution_count": 45,
     "metadata": {},
     "output_type": "execute_result"
    }
   ],
   "source": [
    "set2={1,2,4,3,5,6,7}\n",
    "set2"
   ]
  },
  {
   "cell_type": "code",
   "execution_count": 46,
   "id": "1fa1aebc-c0a3-4f93-86d3-9c121c2b14c3",
   "metadata": {},
   "outputs": [
    {
     "data": {
      "text/plain": [
       "set"
      ]
     },
     "execution_count": 46,
     "metadata": {},
     "output_type": "execute_result"
    }
   ],
   "source": [
    "type(set2)"
   ]
  },
  {
   "cell_type": "code",
   "execution_count": 47,
   "id": "5f2c0695-5040-496d-92b9-74c02dd587bd",
   "metadata": {},
   "outputs": [
    {
     "data": {
      "text/plain": [
       "{1, 2, 3, 4, 5, 6, 7, 8, 9}"
      ]
     },
     "execution_count": 47,
     "metadata": {},
     "output_type": "execute_result"
    }
   ],
   "source": [
    "set3={1,1,2,2,3,4,5,6,6,9,8,7} # set doesnot allow duplicate values and it is ordered \n",
    "set3"
   ]
  },
  {
   "cell_type": "code",
   "execution_count": 48,
   "id": "a5e0c860-0098-4620-9de2-d5afac854bce",
   "metadata": {},
   "outputs": [
    {
     "name": "stdout",
     "output_type": "stream",
     "text": [
      "<class 'set'>\n"
     ]
    }
   ],
   "source": [
    "print(type(set3))"
   ]
  },
  {
   "cell_type": "code",
   "execution_count": 49,
   "id": "5dc2e5d6-c923-4fcb-9417-ecd40512b1fe",
   "metadata": {},
   "outputs": [
    {
     "data": {
      "text/plain": [
       "{(0, 4, 5), 1, 12.87, 2, 3.4, 'Bharat', 'ok'}"
      ]
     },
     "execution_count": 49,
     "metadata": {},
     "output_type": "execute_result"
    }
   ],
   "source": [
    "set4={1,2,3.4,12.87,'Bharat','ok',(0,4,5)} #mixed set and does not allow mutable items like list.\n",
    "set4"
   ]
  },
  {
   "cell_type": "markdown",
   "id": "2c74b206-6fd6-4e85-b4ec-a0ef698b8784",
   "metadata": {},
   "source": [
    "### loops & membership "
   ]
  },
  {
   "cell_type": "code",
   "execution_count": 50,
   "id": "24d6820b-d206-4456-93d8-ec5bc85f19c6",
   "metadata": {},
   "outputs": [
    {
     "data": {
      "text/plain": [
       "{1, 2, 3, 4, 5, 6, 7, 8, 9}"
      ]
     },
     "execution_count": 50,
     "metadata": {},
     "output_type": "execute_result"
    }
   ],
   "source": [
    "set3"
   ]
  },
  {
   "cell_type": "code",
   "execution_count": 51,
   "id": "2983a9e1-321a-4756-bc94-74fe98dd131e",
   "metadata": {},
   "outputs": [
    {
     "name": "stdout",
     "output_type": "stream",
     "text": [
      "1\n",
      "2\n",
      "3\n",
      "4\n",
      "5\n",
      "6\n",
      "7\n",
      "8\n",
      "9\n"
     ]
    }
   ],
   "source": [
    "for i in set3:\n",
    "    print(i)"
   ]
  },
  {
   "cell_type": "code",
   "execution_count": 52,
   "id": "9636eb90-f960-4fbe-8e1b-fca922783871",
   "metadata": {},
   "outputs": [
    {
     "name": "stdout",
     "output_type": "stream",
     "text": [
      "(0, 1)\n",
      "(1, 2)\n",
      "(2, 3.4)\n",
      "(3, 'Bharat')\n",
      "(4, 'ok')\n",
      "(5, 12.87)\n",
      "(6, (0, 4, 5))\n"
     ]
    }
   ],
   "source": [
    "for i in enumerate(set4):\n",
    "    print(i)"
   ]
  },
  {
   "cell_type": "code",
   "execution_count": 53,
   "id": "093dd652-edcf-4332-9029-9b82a52fbe73",
   "metadata": {},
   "outputs": [
    {
     "data": {
      "text/plain": [
       "True"
      ]
     },
     "execution_count": 53,
     "metadata": {},
     "output_type": "execute_result"
    }
   ],
   "source": [
    "1 in set3"
   ]
  },
  {
   "cell_type": "code",
   "execution_count": 54,
   "id": "9d12636a-0d68-4714-836a-0166f7458bf3",
   "metadata": {},
   "outputs": [
    {
     "data": {
      "text/plain": [
       "False"
      ]
     },
     "execution_count": 54,
     "metadata": {},
     "output_type": "execute_result"
    }
   ],
   "source": [
    "3.4 in set3"
   ]
  },
  {
   "cell_type": "code",
   "execution_count": 55,
   "id": "2d467d70-678e-4783-a795-a416c5068a71",
   "metadata": {},
   "outputs": [
    {
     "data": {
      "text/plain": [
       "True"
      ]
     },
     "execution_count": 55,
     "metadata": {},
     "output_type": "execute_result"
    }
   ],
   "source": [
    "'Bharat' in set4"
   ]
  },
  {
   "cell_type": "code",
   "execution_count": 56,
   "id": "39942541-7c7f-4a76-80f0-7997919842a0",
   "metadata": {},
   "outputs": [
    {
     "name": "stdout",
     "output_type": "stream",
     "text": [
      "Bharat Kumar is in the set.\n"
     ]
    }
   ],
   "source": [
    "if 'Bharat' in set4:\n",
    "    print(\"Bharat Kumar is in the set.\")\n",
    "else:\n",
    "    print('No data found')"
   ]
  },
  {
   "cell_type": "code",
   "execution_count": 57,
   "id": "2dd6cb5c-fba1-46a4-a04e-6ee71bf9966e",
   "metadata": {},
   "outputs": [
    {
     "name": "stdout",
     "output_type": "stream",
     "text": [
      "No data found\n"
     ]
    }
   ],
   "source": [
    "if 'Nit' in set4:\n",
    "    print(\"Naresh IT\")\n",
    "else:\n",
    "    print(\"No data found\")"
   ]
  },
  {
   "cell_type": "markdown",
   "id": "56e16596-c87a-4e0d-adb1-8c9fecd995ed",
   "metadata": {},
   "source": [
    "### Add, Removing & Copying"
   ]
  },
  {
   "cell_type": "code",
   "execution_count": 58,
   "id": "29257683-3feb-46d2-8599-7e267aeb6f97",
   "metadata": {},
   "outputs": [
    {
     "data": {
      "text/plain": [
       "{'five', 'four', 'one', 'six', 'three', 'two'}"
      ]
     },
     "execution_count": 58,
     "metadata": {},
     "output_type": "execute_result"
    }
   ],
   "source": [
    "myset={'one','two','three','four','five','six'}\n",
    "myset"
   ]
  },
  {
   "cell_type": "code",
   "execution_count": 59,
   "id": "5fe0bc79-fd52-423e-b3fd-465dbfa987ee",
   "metadata": {},
   "outputs": [
    {
     "data": {
      "text/plain": [
       "{'five', 'four', 'one', 'seven', 'six', 'three', 'two'}"
      ]
     },
     "execution_count": 59,
     "metadata": {},
     "output_type": "execute_result"
    }
   ],
   "source": [
    "myset.add('seven') #add() to add single value to the set\n",
    "myset"
   ]
  },
  {
   "cell_type": "code",
   "execution_count": 60,
   "id": "d6d59a39-aa43-404f-9871-dde6ac89ca8d",
   "metadata": {},
   "outputs": [
    {
     "data": {
      "text/plain": [
       "{'eight', 'five', 'four', 'nine', 'one', 'seven', 'six', 'ten', 'three', 'two'}"
      ]
     },
     "execution_count": 60,
     "metadata": {},
     "output_type": "execute_result"
    }
   ],
   "source": [
    "myset.update(['eight','nine','ten']) # update() is use to add multiple values to the set\n",
    "myset"
   ]
  },
  {
   "cell_type": "code",
   "execution_count": 61,
   "id": "570099ec-e31f-4c7d-857e-a5eac57b571b",
   "metadata": {},
   "outputs": [],
   "source": [
    "myset.remove('ten') #we use  remove & discard to delete a value fro the set"
   ]
  },
  {
   "cell_type": "code",
   "execution_count": 62,
   "id": "97fecf7e-579f-42ca-b99d-13efbe0414b2",
   "metadata": {},
   "outputs": [
    {
     "data": {
      "text/plain": [
       "{'eight', 'five', 'four', 'nine', 'one', 'seven', 'six', 'three', 'two'}"
      ]
     },
     "execution_count": 62,
     "metadata": {},
     "output_type": "execute_result"
    }
   ],
   "source": [
    "myset"
   ]
  },
  {
   "cell_type": "code",
   "execution_count": 63,
   "id": "94e15b37-cc71-4940-9a68-9c7f55e9eeb8",
   "metadata": {},
   "outputs": [
    {
     "data": {
      "text/plain": [
       "{'eight', 'five', 'four', 'one', 'seven', 'six', 'three', 'two'}"
      ]
     },
     "execution_count": 63,
     "metadata": {},
     "output_type": "execute_result"
    }
   ],
   "source": [
    "myset.discard('nine') \n",
    "myset"
   ]
  },
  {
   "cell_type": "code",
   "execution_count": 64,
   "id": "88ee152c-3def-468e-a0a3-655402afddd1",
   "metadata": {},
   "outputs": [
    {
     "ename": "KeyError",
     "evalue": "'nine'",
     "output_type": "error",
     "traceback": [
      "\u001b[1;31m---------------------------------------------------------------------------\u001b[0m",
      "\u001b[1;31mKeyError\u001b[0m                                  Traceback (most recent call last)",
      "Cell \u001b[1;32mIn[64], line 1\u001b[0m\n\u001b[1;32m----> 1\u001b[0m \u001b[43mmyset\u001b[49m\u001b[38;5;241;43m.\u001b[39;49m\u001b[43mremove\u001b[49m\u001b[43m(\u001b[49m\u001b[38;5;124;43m'\u001b[39;49m\u001b[38;5;124;43mnine\u001b[39;49m\u001b[38;5;124;43m'\u001b[39;49m\u001b[43m)\u001b[49m\n",
      "\u001b[1;31mKeyError\u001b[0m: 'nine'"
     ]
    }
   ],
   "source": [
    "myset.remove('nine')"
   ]
  },
  {
   "cell_type": "code",
   "execution_count": 65,
   "id": "d87314c0-e8a9-4c8a-9335-8a277237ee4d",
   "metadata": {},
   "outputs": [],
   "source": [
    "myset.discard('nine') # diff b/w remove & discard is if a value is not presnt in the set the discard will not genarate error but remove will show error"
   ]
  },
  {
   "cell_type": "code",
   "execution_count": 66,
   "id": "411a840c-6c5b-499d-aa0d-906278a61531",
   "metadata": {},
   "outputs": [
    {
     "data": {
      "text/plain": [
       "set()"
      ]
     },
     "execution_count": 66,
     "metadata": {},
     "output_type": "execute_result"
    }
   ],
   "source": [
    "myset.clear() #used for clear all value in the set\n",
    "myset"
   ]
  },
  {
   "cell_type": "code",
   "execution_count": 67,
   "id": "ccdd44ab-fdf1-49e9-bf4e-739b4ea9b9d5",
   "metadata": {},
   "outputs": [],
   "source": [
    "del myset # used to del the set"
   ]
  },
  {
   "cell_type": "code",
   "execution_count": 68,
   "id": "5822a363-5e5a-4dcc-a27b-1148397839a9",
   "metadata": {},
   "outputs": [
    {
     "ename": "NameError",
     "evalue": "name 'myset' is not defined",
     "output_type": "error",
     "traceback": [
      "\u001b[1;31m---------------------------------------------------------------------------\u001b[0m",
      "\u001b[1;31mNameError\u001b[0m                                 Traceback (most recent call last)",
      "Cell \u001b[1;32mIn[68], line 1\u001b[0m\n\u001b[1;32m----> 1\u001b[0m \u001b[43mmyset\u001b[49m\n",
      "\u001b[1;31mNameError\u001b[0m: name 'myset' is not defined"
     ]
    }
   ],
   "source": [
    "myset"
   ]
  },
  {
   "cell_type": "code",
   "execution_count": 69,
   "id": "01197926-5855-4bfa-a7f3-d00a69861caf",
   "metadata": {},
   "outputs": [
    {
     "data": {
      "text/plain": [
       "{'five', 'four', 'one', 'six', 'three', 'two'}"
      ]
     },
     "execution_count": 69,
     "metadata": {},
     "output_type": "execute_result"
    }
   ],
   "source": [
    "myset={'one','two','three','four','five','six'}\n",
    "myset"
   ]
  },
  {
   "cell_type": "code",
   "execution_count": 70,
   "id": "5e0000da-3311-4f87-aeaf-ff0f6bc15a96",
   "metadata": {},
   "outputs": [],
   "source": [
    "myset1=myset"
   ]
  },
  {
   "cell_type": "code",
   "execution_count": 71,
   "id": "7697ebb4-95bb-4f80-bb0b-45709c6bc539",
   "metadata": {},
   "outputs": [
    {
     "data": {
      "text/plain": [
       "(1884139648640, 1884139648640)"
      ]
     },
     "execution_count": 71,
     "metadata": {},
     "output_type": "execute_result"
    }
   ],
   "source": [
    "id(myset), id(myset1) # by equalating the set to each other they have same address so change in one set effect the other."
   ]
  },
  {
   "cell_type": "code",
   "execution_count": 72,
   "id": "53a15409-a91e-47f9-ac5d-6880702120ba",
   "metadata": {},
   "outputs": [
    {
     "data": {
      "text/plain": [
       "{'five', 'four', 'one', 'six', 'three', 'two'}"
      ]
     },
     "execution_count": 72,
     "metadata": {},
     "output_type": "execute_result"
    }
   ],
   "source": [
    "myset2=myset.copy()\n",
    "myset2"
   ]
  },
  {
   "cell_type": "code",
   "execution_count": 73,
   "id": "8930e791-91a8-4b48-93a0-f252b3d8c53e",
   "metadata": {},
   "outputs": [
    {
     "data": {
      "text/plain": [
       "(1884139648640, 1884139648864)"
      ]
     },
     "execution_count": 73,
     "metadata": {},
     "output_type": "execute_result"
    }
   ],
   "source": [
    "id(myset), id(myset2) # using copy() we have created a new set with diff address so changes in one set not effect the other"
   ]
  },
  {
   "cell_type": "code",
   "execution_count": 74,
   "id": "bbf82966-a836-4873-8197-cc9ec9a534cd",
   "metadata": {},
   "outputs": [
    {
     "data": {
      "text/plain": [
       "{'five', 'four', 'one', 'seven', 'six', 'three', 'two'}"
      ]
     },
     "execution_count": 74,
     "metadata": {},
     "output_type": "execute_result"
    }
   ],
   "source": [
    "myset.add('seven')\n",
    "myset"
   ]
  },
  {
   "cell_type": "code",
   "execution_count": 75,
   "id": "6b38ee85-e001-4f9d-9cea-1f054f24188d",
   "metadata": {},
   "outputs": [
    {
     "data": {
      "text/plain": [
       "{'five', 'four', 'one', 'seven', 'six', 'three', 'two'}"
      ]
     },
     "execution_count": 75,
     "metadata": {},
     "output_type": "execute_result"
    }
   ],
   "source": [
    "myset1 # change in myset effected it"
   ]
  },
  {
   "cell_type": "code",
   "execution_count": 76,
   "id": "fb2e67da-b6f1-4f9f-aaa7-a5487128dc33",
   "metadata": {},
   "outputs": [
    {
     "data": {
      "text/plain": [
       "{'five', 'four', 'one', 'six', 'three', 'two'}"
      ]
     },
     "execution_count": 76,
     "metadata": {},
     "output_type": "execute_result"
    }
   ],
   "source": [
    "myset2 # change in myset doesnt effect it"
   ]
  },
  {
   "cell_type": "markdown",
   "id": "41ad42ec-e747-4bba-820a-f3821c25b3fe",
   "metadata": {},
   "source": [
    "### Set Operation"
   ]
  },
  {
   "cell_type": "code",
   "execution_count": 77,
   "id": "b792a295-cefc-4293-bec0-877f3f996f67",
   "metadata": {},
   "outputs": [],
   "source": [
    "# intersections(&), difference, symetric difference , superset, sub set & disjoint, "
   ]
  },
  {
   "cell_type": "code",
   "execution_count": 78,
   "id": "feb7fcc8-3b4b-44f5-a74a-522fab708c41",
   "metadata": {},
   "outputs": [],
   "source": [
    "A={1,2,3,4,5,6}\n",
    "B={4,5,6,7,8}\n",
    "C={8,9,10,11,12,13}"
   ]
  },
  {
   "cell_type": "code",
   "execution_count": 79,
   "id": "64b3ebcf-48e9-40df-abb9-6b666ce31bb6",
   "metadata": {},
   "outputs": [
    {
     "data": {
      "text/plain": [
       "{4, 5, 6}"
      ]
     },
     "execution_count": 79,
     "metadata": {},
     "output_type": "execute_result"
    }
   ],
   "source": [
    "A.intersection(B) # prints the common elements in A & B"
   ]
  },
  {
   "cell_type": "code",
   "execution_count": 80,
   "id": "e76a4451-3845-4ffb-93a3-c682bdb7d1ca",
   "metadata": {},
   "outputs": [
    {
     "data": {
      "text/plain": [
       "({4, 5, 6}, {4, 5, 6})"
      ]
     },
     "execution_count": 80,
     "metadata": {},
     "output_type": "execute_result"
    }
   ],
   "source": [
    "A&B , B&A"
   ]
  },
  {
   "cell_type": "code",
   "execution_count": 81,
   "id": "76e1dc18-0d54-46c8-97d8-71ed8d8345cf",
   "metadata": {},
   "outputs": [
    {
     "data": {
      "text/plain": [
       "set()"
      ]
     },
     "execution_count": 81,
     "metadata": {},
     "output_type": "execute_result"
    }
   ],
   "source": [
    "A & C"
   ]
  },
  {
   "cell_type": "code",
   "execution_count": 82,
   "id": "3e917fdd-a35c-4fa7-8280-859cdb63fb81",
   "metadata": {},
   "outputs": [
    {
     "data": {
      "text/plain": [
       "{4, 5, 6}"
      ]
     },
     "execution_count": 82,
     "metadata": {},
     "output_type": "execute_result"
    }
   ],
   "source": [
    "A.intersection_update(B) # changes the A values to A&B values\n",
    "A"
   ]
  },
  {
   "cell_type": "markdown",
   "id": "bd07d524-97f4-49c4-991d-bdf072bd787f",
   "metadata": {},
   "source": [
    "#### Difference(-)"
   ]
  },
  {
   "cell_type": "code",
   "execution_count": 83,
   "id": "0ef0763d-10df-4288-b857-0abf19a03b71",
   "metadata": {},
   "outputs": [],
   "source": [
    "A={1,2,3,4,5,6}\n",
    "B={4,5,6,7,8}\n",
    "C={8,9,10,11,12,13}"
   ]
  },
  {
   "cell_type": "code",
   "execution_count": 84,
   "id": "5f6abe86-eedb-4255-9578-d65f4cc0d880",
   "metadata": {},
   "outputs": [
    {
     "data": {
      "text/plain": [
       "{1, 2, 3}"
      ]
     },
     "execution_count": 84,
     "metadata": {},
     "output_type": "execute_result"
    }
   ],
   "source": [
    "A.difference(B) # prints the values of A that are not present in B"
   ]
  },
  {
   "cell_type": "code",
   "execution_count": 85,
   "id": "34b41d49-9904-4cb8-83aa-4cba884e2797",
   "metadata": {},
   "outputs": [
    {
     "data": {
      "text/plain": [
       "{1, 2, 3}"
      ]
     },
     "execution_count": 85,
     "metadata": {},
     "output_type": "execute_result"
    }
   ],
   "source": [
    "A-B"
   ]
  },
  {
   "cell_type": "code",
   "execution_count": 86,
   "id": "e2c2d540-ddf3-4af3-9e78-2b7db7fa4570",
   "metadata": {},
   "outputs": [
    {
     "data": {
      "text/plain": [
       "{7, 8}"
      ]
     },
     "execution_count": 86,
     "metadata": {},
     "output_type": "execute_result"
    }
   ],
   "source": [
    "B-A"
   ]
  },
  {
   "cell_type": "code",
   "execution_count": 87,
   "id": "17750703-2c58-4dbb-a0cb-44b01b2c1bde",
   "metadata": {},
   "outputs": [
    {
     "data": {
      "text/plain": [
       "({1, 2, 3}, {7, 8})"
      ]
     },
     "execution_count": 87,
     "metadata": {},
     "output_type": "execute_result"
    }
   ],
   "source": [
    "A-B, B-A"
   ]
  },
  {
   "cell_type": "code",
   "execution_count": 88,
   "id": "962d17f3-26be-48a9-b7ec-609604660b51",
   "metadata": {},
   "outputs": [
    {
     "data": {
      "text/plain": [
       "({1, 2, 3, 4, 5, 6}, {8, 9, 10, 11, 12, 13})"
      ]
     },
     "execution_count": 88,
     "metadata": {},
     "output_type": "execute_result"
    }
   ],
   "source": [
    "A-C, C-A"
   ]
  },
  {
   "cell_type": "code",
   "execution_count": 89,
   "id": "cb004cd5-a862-49a5-85b8-bf28ac95fd7c",
   "metadata": {},
   "outputs": [
    {
     "data": {
      "text/plain": [
       "{1, 2, 3}"
      ]
     },
     "execution_count": 89,
     "metadata": {},
     "output_type": "execute_result"
    }
   ],
   "source": [
    "A.difference_update(B)\n",
    "A"
   ]
  },
  {
   "cell_type": "code",
   "execution_count": 90,
   "id": "61856603-fc69-48d8-99b3-766161ea3b4e",
   "metadata": {},
   "outputs": [
    {
     "data": {
      "text/plain": [
       "{4, 5, 6, 7, 8}"
      ]
     },
     "execution_count": 90,
     "metadata": {},
     "output_type": "execute_result"
    }
   ],
   "source": [
    "B"
   ]
  },
  {
   "cell_type": "code",
   "execution_count": 91,
   "id": "a2900e10-b7b2-4684-9350-e714e5a61666",
   "metadata": {},
   "outputs": [
    {
     "data": {
      "text/plain": [
       "{9, 10, 11, 12, 13}"
      ]
     },
     "execution_count": 91,
     "metadata": {},
     "output_type": "execute_result"
    }
   ],
   "source": [
    "C.difference_update(B)\n",
    "C"
   ]
  },
  {
   "cell_type": "markdown",
   "id": "644129bc-a8c5-4eed-9b6c-de912d15356b",
   "metadata": {},
   "source": [
    "#### Symmetric Difference(^)"
   ]
  },
  {
   "cell_type": "code",
   "execution_count": 92,
   "id": "9c67efed-a69e-4c36-8bcd-d79878d20c26",
   "metadata": {},
   "outputs": [],
   "source": [
    "A={1,2,3,4,5,6}\n",
    "B={4,5,6,7,8}\n",
    "C={8,9,10,11,12,13}"
   ]
  },
  {
   "cell_type": "code",
   "execution_count": 93,
   "id": "3b22f4b7-063d-4e8a-ae6a-16ebd2f3d0cd",
   "metadata": {},
   "outputs": [
    {
     "data": {
      "text/plain": [
       "{1, 2, 3, 7, 8}"
      ]
     },
     "execution_count": 93,
     "metadata": {},
     "output_type": "execute_result"
    }
   ],
   "source": [
    "A.symmetric_difference(B) # prints the values that are differ in both sets "
   ]
  },
  {
   "cell_type": "code",
   "execution_count": 94,
   "id": "283a1159-bf90-42ab-b3ac-1fbfefaaab54",
   "metadata": {},
   "outputs": [
    {
     "data": {
      "text/plain": [
       "{1, 2, 3, 7, 8}"
      ]
     },
     "execution_count": 94,
     "metadata": {},
     "output_type": "execute_result"
    }
   ],
   "source": [
    "A^B"
   ]
  },
  {
   "cell_type": "code",
   "execution_count": 95,
   "id": "a76e010d-e26f-4f4b-8d6e-8cc84720c8e8",
   "metadata": {},
   "outputs": [
    {
     "data": {
      "text/plain": [
       "{1, 2, 3, 4, 5, 6, 8, 9, 10, 11, 12, 13}"
      ]
     },
     "execution_count": 95,
     "metadata": {},
     "output_type": "execute_result"
    }
   ],
   "source": [
    "C^A"
   ]
  },
  {
   "cell_type": "code",
   "execution_count": 96,
   "id": "cadf5015-e51d-4fd6-ba18-6b576e7ca42e",
   "metadata": {},
   "outputs": [
    {
     "data": {
      "text/plain": [
       "{1, 2, 3, 4, 5, 6}"
      ]
     },
     "execution_count": 96,
     "metadata": {},
     "output_type": "execute_result"
    }
   ],
   "source": [
    "A"
   ]
  },
  {
   "cell_type": "code",
   "execution_count": 97,
   "id": "319e8598-5246-4e6f-ad1e-510dade75aeb",
   "metadata": {},
   "outputs": [
    {
     "data": {
      "text/plain": [
       "{1, 2, 3, 7, 8}"
      ]
     },
     "execution_count": 97,
     "metadata": {},
     "output_type": "execute_result"
    }
   ],
   "source": [
    "A.symmetric_difference_update(B) #update the A values to A^B values\n",
    "A"
   ]
  },
  {
   "cell_type": "markdown",
   "id": "52a45c04-0f33-4785-87ce-b338a5fc6e85",
   "metadata": {},
   "source": [
    "#### Superset, Subset & Disjoint"
   ]
  },
  {
   "cell_type": "code",
   "execution_count": 98,
   "id": "fe219f1f-0bd2-43ba-8692-87b3334a43a1",
   "metadata": {},
   "outputs": [],
   "source": [
    "A={1,2,3,4,5,6,7}\n",
    "B={4,5,6,7}\n",
    "C={8,9,10,11,12,13}"
   ]
  },
  {
   "cell_type": "code",
   "execution_count": 99,
   "id": "7287ae9e-bb00-4d5b-87cf-d3aa549c9227",
   "metadata": {},
   "outputs": [
    {
     "data": {
      "text/plain": [
       "True"
      ]
     },
     "execution_count": 99,
     "metadata": {},
     "output_type": "execute_result"
    }
   ],
   "source": [
    "A.issuperset(B) # superset if the A contain all values of B"
   ]
  },
  {
   "cell_type": "code",
   "execution_count": 100,
   "id": "a34ba246-b846-4531-a405-bb74d7b41724",
   "metadata": {},
   "outputs": [
    {
     "data": {
      "text/plain": [
       "False"
      ]
     },
     "execution_count": 100,
     "metadata": {},
     "output_type": "execute_result"
    }
   ],
   "source": [
    "A.issubset(B) "
   ]
  },
  {
   "cell_type": "code",
   "execution_count": 101,
   "id": "6833f26e-7a81-4c45-b1f2-36e7216e19de",
   "metadata": {},
   "outputs": [
    {
     "data": {
      "text/plain": [
       "True"
      ]
     },
     "execution_count": 101,
     "metadata": {},
     "output_type": "execute_result"
    }
   ],
   "source": [
    "B.issubset(A) # if the all value of B are in A then B is subset "
   ]
  },
  {
   "cell_type": "code",
   "execution_count": 102,
   "id": "eb383e5f-2d77-45b4-803d-c80476b64b5e",
   "metadata": {},
   "outputs": [
    {
     "data": {
      "text/plain": [
       "True"
      ]
     },
     "execution_count": 102,
     "metadata": {},
     "output_type": "execute_result"
    }
   ],
   "source": [
    "A.isdisjoint(C) # if A and C doesnt have any common values"
   ]
  },
  {
   "cell_type": "markdown",
   "id": "747687c0-4f64-4520-bdf4-5b09d6740a4e",
   "metadata": {},
   "source": [
    "#### Other built in funtions"
   ]
  },
  {
   "cell_type": "code",
   "execution_count": 103,
   "id": "2b048a88-88a0-4905-b85b-ae5a040d8a08",
   "metadata": {},
   "outputs": [],
   "source": [
    "A={1,2,3,4,5,6,7}"
   ]
  },
  {
   "cell_type": "code",
   "execution_count": 104,
   "id": "22be8f34-127d-4e6d-bf07-bf4a80fea8d1",
   "metadata": {},
   "outputs": [
    {
     "data": {
      "text/plain": [
       "28"
      ]
     },
     "execution_count": 104,
     "metadata": {},
     "output_type": "execute_result"
    }
   ],
   "source": [
    "sum(A)"
   ]
  },
  {
   "cell_type": "code",
   "execution_count": 105,
   "id": "b434a2bf-c0cb-48fc-804b-01c39aac664f",
   "metadata": {},
   "outputs": [
    {
     "data": {
      "text/plain": [
       "7"
      ]
     },
     "execution_count": 105,
     "metadata": {},
     "output_type": "execute_result"
    }
   ],
   "source": [
    "max(A)"
   ]
  },
  {
   "cell_type": "code",
   "execution_count": 106,
   "id": "17ef43df-225f-41fc-806e-bd09ac50619e",
   "metadata": {},
   "outputs": [
    {
     "data": {
      "text/plain": [
       "1"
      ]
     },
     "execution_count": 106,
     "metadata": {},
     "output_type": "execute_result"
    }
   ],
   "source": [
    "min(A)"
   ]
  },
  {
   "cell_type": "code",
   "execution_count": 107,
   "id": "3d8d0711-8755-42fc-b37d-4cdaa49f3bf3",
   "metadata": {},
   "outputs": [
    {
     "data": {
      "text/plain": [
       "7"
      ]
     },
     "execution_count": 107,
     "metadata": {},
     "output_type": "execute_result"
    }
   ],
   "source": [
    "len(A)"
   ]
  },
  {
   "cell_type": "code",
   "execution_count": 108,
   "id": "8178a302-3f14-4254-84c6-a6701f133438",
   "metadata": {},
   "outputs": [
    {
     "data": {
      "text/plain": [
       "[(0, 1), (1, 2), (2, 3), (3, 4), (4, 5), (5, 6), (6, 7)]"
      ]
     },
     "execution_count": 108,
     "metadata": {},
     "output_type": "execute_result"
    }
   ],
   "source": [
    "list(enumerate(A))"
   ]
  },
  {
   "cell_type": "code",
   "execution_count": 109,
   "id": "5d27a3fe-1ac9-4db0-a569-cfbd232da07f",
   "metadata": {},
   "outputs": [],
   "source": [
    "D=sorted(A,reverse= True)"
   ]
  },
  {
   "cell_type": "code",
   "execution_count": 110,
   "id": "441ae073-068e-45bd-b607-467489c4d175",
   "metadata": {},
   "outputs": [
    {
     "data": {
      "text/plain": [
       "[7, 6, 5, 4, 3, 2, 1]"
      ]
     },
     "execution_count": 110,
     "metadata": {},
     "output_type": "execute_result"
    }
   ],
   "source": [
    "D"
   ]
  },
  {
   "cell_type": "code",
   "execution_count": 111,
   "id": "18b8cef9-fe25-414d-aecb-49c06de7ef9f",
   "metadata": {},
   "outputs": [
    {
     "data": {
      "text/plain": [
       "[1, 2, 3, 4, 5, 6, 7]"
      ]
     },
     "execution_count": 111,
     "metadata": {},
     "output_type": "execute_result"
    }
   ],
   "source": [
    "sorted(D)"
   ]
  },
  {
   "cell_type": "markdown",
   "id": "6c3a4aaf-2642-4094-92fe-cd66352defb1",
   "metadata": {},
   "source": [
    "### Dictionary"
   ]
  },
  {
   "cell_type": "code",
   "execution_count": 112,
   "id": "8538ba7c-e24f-47e7-b747-64669aa550c0",
   "metadata": {},
   "outputs": [
    {
     "data": {
      "text/plain": [
       "{}"
      ]
     },
     "execution_count": 112,
     "metadata": {},
     "output_type": "execute_result"
    }
   ],
   "source": [
    "mydict =dict()\n",
    "mydict"
   ]
  },
  {
   "cell_type": "code",
   "execution_count": 113,
   "id": "476ebf5f-1663-43f0-9a50-30c16f1c87b9",
   "metadata": {},
   "outputs": [
    {
     "data": {
      "text/plain": [
       "{}"
      ]
     },
     "execution_count": 113,
     "metadata": {},
     "output_type": "execute_result"
    }
   ],
   "source": [
    "mydict={}\n",
    "mydict"
   ]
  },
  {
   "cell_type": "code",
   "execution_count": 114,
   "id": "ad3a3a1c-7e0c-405c-a4a7-903dead5c0f9",
   "metadata": {},
   "outputs": [
    {
     "data": {
      "text/plain": [
       "{1: 'One', 2: 'Two', 3: 'Three', 4: 'Four'}"
      ]
     },
     "execution_count": 114,
     "metadata": {},
     "output_type": "execute_result"
    }
   ],
   "source": [
    "mydict={1:'One', 2:'Two', 3:'Three',4:'Four'}\n",
    "mydict"
   ]
  },
  {
   "cell_type": "code",
   "execution_count": 115,
   "id": "c36459c4-4909-46fb-a1ab-13b26658f514",
   "metadata": {},
   "outputs": [
    {
     "data": {
      "text/plain": [
       "{'A': 'Apple', 'B': 'Ball', 'C': 'Cat'}"
      ]
     },
     "execution_count": 115,
     "metadata": {},
     "output_type": "execute_result"
    }
   ],
   "source": [
    "mydict1=dict({'A':'Apple','B': 'Ball','C':'Cat'}) # creating dict with simmilar datatype\n",
    "mydict1"
   ]
  },
  {
   "cell_type": "code",
   "execution_count": 116,
   "id": "d9f83c03-a2d4-4ea5-84bf-6a4f5be7ba7d",
   "metadata": {},
   "outputs": [
    {
     "data": {
      "text/plain": [
       "{1: 'Aa', 'A': 'Bb', 3: 'Cc'}"
      ]
     },
     "execution_count": 116,
     "metadata": {},
     "output_type": "execute_result"
    }
   ],
   "source": [
    "mydict2={1:\"Aa\",'A':'Bb',3:'Cc'} # dict with differ data types\n",
    "mydict2"
   ]
  },
  {
   "cell_type": "code",
   "execution_count": 117,
   "id": "99c17176-3242-453c-af2a-2a3f18c0afb3",
   "metadata": {},
   "outputs": [
    {
     "data": {
      "text/plain": [
       "dict_keys([1, 2, 3, 4])"
      ]
     },
     "execution_count": 117,
     "metadata": {},
     "output_type": "execute_result"
    }
   ],
   "source": [
    "mydict.keys()"
   ]
  },
  {
   "cell_type": "code",
   "execution_count": 118,
   "id": "58acbf48-8ba2-4c2d-8cb1-e1dd557c9595",
   "metadata": {},
   "outputs": [
    {
     "data": {
      "text/plain": [
       "dict_values(['One', 'Two', 'Three', 'Four'])"
      ]
     },
     "execution_count": 118,
     "metadata": {},
     "output_type": "execute_result"
    }
   ],
   "source": [
    "mydict.values()"
   ]
  },
  {
   "cell_type": "code",
   "execution_count": 119,
   "id": "ffb974c9-ce25-4edd-b49c-23489dff047a",
   "metadata": {},
   "outputs": [
    {
     "data": {
      "text/plain": [
       "dict_items([(1, 'One'), (2, 'Two'), (3, 'Three'), (4, 'Four')])"
      ]
     },
     "execution_count": 119,
     "metadata": {},
     "output_type": "execute_result"
    }
   ],
   "source": [
    "mydict.items()"
   ]
  },
  {
   "cell_type": "code",
   "execution_count": 120,
   "id": "077a49d7-4426-4f4b-880e-78f4c2453b26",
   "metadata": {},
   "outputs": [
    {
     "data": {
      "text/plain": [
       "{1: 'One', 2: 'Two', 3: ['A', 'B', 'c']}"
      ]
     },
     "execution_count": 120,
     "metadata": {},
     "output_type": "execute_result"
    }
   ],
   "source": [
    "mydict3={1:'One', 2:'Two', 3:['A','B','c']}\n",
    "mydict3"
   ]
  },
  {
   "cell_type": "code",
   "execution_count": 121,
   "id": "3d42e2e9-f4fd-4284-bf5b-9582681e6c69",
   "metadata": {},
   "outputs": [
    {
     "data": {
      "text/plain": [
       "{1: 'One', 2: 'Two', 'A': ['App', 'Bat', 'car'], 'B': [23, 45, 67]}"
      ]
     },
     "execution_count": 121,
     "metadata": {},
     "output_type": "execute_result"
    }
   ],
   "source": [
    "mydict4={1:'One', 2:'Two', 'A':['App','Bat','car'],'B':[23,45,67]}\n",
    "mydict4"
   ]
  },
  {
   "cell_type": "code",
   "execution_count": 122,
   "id": "92b1b663-7235-48d8-884e-f2b171bebb36",
   "metadata": {},
   "outputs": [],
   "source": [
    "keys={'a','b','c'}"
   ]
  },
  {
   "cell_type": "code",
   "execution_count": 123,
   "id": "779dfd73-43ea-43a8-92fe-ecbf36408ec3",
   "metadata": {},
   "outputs": [
    {
     "data": {
      "text/plain": [
       "{'a': None, 'c': None, 'b': None}"
      ]
     },
     "execution_count": 123,
     "metadata": {},
     "output_type": "execute_result"
    }
   ],
   "source": [
    "mydict5=dict.fromkeys(keys)\n",
    "mydict5"
   ]
  },
  {
   "cell_type": "code",
   "execution_count": 124,
   "id": "c9a389f5-41fc-4b76-935e-3cc140b3fe92",
   "metadata": {},
   "outputs": [
    {
     "data": {
      "text/plain": [
       "{'a': 30, 'c': 30, 'b': 30}"
      ]
     },
     "execution_count": 124,
     "metadata": {},
     "output_type": "execute_result"
    }
   ],
   "source": [
    "values=30\n",
    "mydict5=dict.fromkeys(keys,values)\n",
    "mydict5"
   ]
  },
  {
   "cell_type": "code",
   "execution_count": 125,
   "id": "aa67e703-79fe-4f19-825c-9b237e20138d",
   "metadata": {},
   "outputs": [],
   "source": [
    "keys={'a','b','c'}\n",
    "values=[20,30,40]\n",
    "mydict6=dict.fromkeys(keys,values)"
   ]
  },
  {
   "cell_type": "code",
   "execution_count": 126,
   "id": "80025659-6461-4b53-b218-3eb5a1fe2608",
   "metadata": {},
   "outputs": [],
   "source": [
    "values.append(50)"
   ]
  },
  {
   "cell_type": "code",
   "execution_count": 127,
   "id": "dc4fcefe-2786-47dd-9de2-1ae5eb6f3f76",
   "metadata": {},
   "outputs": [
    {
     "data": {
      "text/plain": [
       "{'a': [20, 30, 40, 50], 'c': [20, 30, 40, 50], 'b': [20, 30, 40, 50]}"
      ]
     },
     "execution_count": 127,
     "metadata": {},
     "output_type": "execute_result"
    }
   ],
   "source": [
    "mydict6"
   ]
  },
  {
   "cell_type": "markdown",
   "id": "5a2c8496-9cf0-413b-9924-c55b3e7de343",
   "metadata": {},
   "source": [
    "### Accessing, Adding, Removing , chainging & Copying items"
   ]
  },
  {
   "cell_type": "code",
   "execution_count": 169,
   "id": "1f559778-888e-42e2-b38d-c0b9a87f4f71",
   "metadata": {},
   "outputs": [
    {
     "data": {
      "text/plain": [
       "{'Name': 'Bharat', 'Age': 22, 'Place': 'Srikakulam'}"
      ]
     },
     "execution_count": 169,
     "metadata": {},
     "output_type": "execute_result"
    }
   ],
   "source": [
    "# we can access an value by using the key and by using get() method\n",
    "mydict5={'Name': 'Bharat', 'Age' : 22, 'Place':'Srikakulam'}\n",
    "mydict5"
   ]
  },
  {
   "cell_type": "code",
   "execution_count": 170,
   "id": "520fd310-a054-495d-ade1-2a3ce3dc6ccc",
   "metadata": {},
   "outputs": [
    {
     "data": {
      "text/plain": [
       "{1: 'One', 2: 'Two', 3: 'Three', 4: 'Four'}"
      ]
     },
     "execution_count": 170,
     "metadata": {},
     "output_type": "execute_result"
    }
   ],
   "source": [
    "mydict"
   ]
  },
  {
   "cell_type": "code",
   "execution_count": 171,
   "id": "11003b61-53d3-43a4-8bdc-fe9167f583b4",
   "metadata": {},
   "outputs": [
    {
     "data": {
      "text/plain": [
       "'One'"
      ]
     },
     "execution_count": 171,
     "metadata": {},
     "output_type": "execute_result"
    }
   ],
   "source": [
    "mydict[1]"
   ]
  },
  {
   "cell_type": "code",
   "execution_count": 172,
   "id": "f7bc2309-0ab5-4d9c-9852-d6893647d90f",
   "metadata": {},
   "outputs": [
    {
     "data": {
      "text/plain": [
       "'One'"
      ]
     },
     "execution_count": 172,
     "metadata": {},
     "output_type": "execute_result"
    }
   ],
   "source": [
    "mydict.get(1)"
   ]
  },
  {
   "cell_type": "code",
   "execution_count": 173,
   "id": "db01205d-2261-4b75-9f4e-9f288643fdaf",
   "metadata": {},
   "outputs": [
    {
     "data": {
      "text/plain": [
       "'Bharat'"
      ]
     },
     "execution_count": 173,
     "metadata": {},
     "output_type": "execute_result"
    }
   ],
   "source": [
    "mydict5['Name']"
   ]
  },
  {
   "cell_type": "code",
   "execution_count": 174,
   "id": "4db7109f-b323-4ea3-ad13-c53d24d2e40e",
   "metadata": {},
   "outputs": [
    {
     "data": {
      "text/plain": [
       "'Srikakulam'"
      ]
     },
     "execution_count": 174,
     "metadata": {},
     "output_type": "execute_result"
    }
   ],
   "source": [
    "mydict5.get('Place')"
   ]
  },
  {
   "cell_type": "code",
   "execution_count": 175,
   "id": "11db02f3-f6bb-49f3-9090-79100f0dbd17",
   "metadata": {},
   "outputs": [
    {
     "data": {
      "text/plain": [
       "{'Name': 'Bharat', 'Age': 22, 'Place': 'Srikakulam', 'Height': 178}"
      ]
     },
     "execution_count": 175,
     "metadata": {},
     "output_type": "execute_result"
    }
   ],
   "source": [
    "# we can add items in dict as follows\n",
    "mydict5['Height']=178\n",
    "mydict5"
   ]
  },
  {
   "cell_type": "code",
   "execution_count": 176,
   "id": "18c74460-f596-4b38-80d4-433344b570bc",
   "metadata": {},
   "outputs": [
    {
     "data": {
      "text/plain": [
       "{'Name': 'T Bharat Kumar', 'Age': 22, 'Place': 'Gajapati dist', 'Height': 178}"
      ]
     },
     "execution_count": 176,
     "metadata": {},
     "output_type": "execute_result"
    }
   ],
   "source": [
    "# we can change items in dict by update() and as follows\n",
    "mydict5['Place']='Gajapati dist'\n",
    "mydict5['Name']='T Bharat Kumar'\n",
    "mydict5"
   ]
  },
  {
   "cell_type": "code",
   "execution_count": 177,
   "id": "1874bb7c-7aff-4f21-a667-b02fe4361850",
   "metadata": {},
   "outputs": [
    {
     "data": {
      "text/plain": [
       "{'Name': 'T Bharat Kumar', 'Age': 21, 'Place': 'Gajapati dist', 'Height': 178}"
      ]
     },
     "execution_count": 177,
     "metadata": {},
     "output_type": "execute_result"
    }
   ],
   "source": [
    "dict5={'Age': 21}\n",
    "mydict5.update(dict5)\n",
    "mydict5"
   ]
  },
  {
   "cell_type": "code",
   "execution_count": 178,
   "id": "54625671-101a-4b94-b301-4a1ba3b9c198",
   "metadata": {},
   "outputs": [
    {
     "data": {
      "text/plain": [
       "{'Name': 'T Bharat Kumar', 'Age': 21, 'Place': 'Gajapati dist'}"
      ]
     },
     "execution_count": 178,
     "metadata": {},
     "output_type": "execute_result"
    }
   ],
   "source": [
    "# we use pop() and popitem() to remove items from the dict\n",
    "mydict5.pop('Height')\n",
    "mydict5"
   ]
  },
  {
   "cell_type": "code",
   "execution_count": 179,
   "id": "0c93bcd5-096d-4f95-8488-5d24875d6e43",
   "metadata": {},
   "outputs": [
    {
     "data": {
      "text/plain": [
       "{'Name': 'T Bharat Kumar', 'Age': 21}"
      ]
     },
     "execution_count": 179,
     "metadata": {},
     "output_type": "execute_result"
    }
   ],
   "source": [
    "mydict5.popitem() # last item wil remove\n",
    "mydict5"
   ]
  },
  {
   "cell_type": "code",
   "execution_count": 180,
   "id": "c547053b-9111-4ff1-8081-19910037805e",
   "metadata": {},
   "outputs": [
    {
     "data": {
      "text/plain": [
       "{}"
      ]
     },
     "execution_count": 180,
     "metadata": {},
     "output_type": "execute_result"
    }
   ],
   "source": [
    "# we use clear() to remmove all items\n",
    "mydict5.clear()\n",
    "mydict5"
   ]
  },
  {
   "cell_type": "code",
   "execution_count": 181,
   "id": "920115bf-2873-439c-8a03-1f814896ce0b",
   "metadata": {},
   "outputs": [],
   "source": [
    "# We use del to delete the dictionary \n",
    "del mydict5"
   ]
  },
  {
   "cell_type": "code",
   "execution_count": 182,
   "id": "2adb07cf-d66e-4f5e-96b3-674810c92478",
   "metadata": {},
   "outputs": [
    {
     "data": {
      "text/plain": [
       "{'a': [20, 30, 40, 50], 'c': [20, 30, 40, 50], 'b': [20, 30, 40, 50]}"
      ]
     },
     "execution_count": 182,
     "metadata": {},
     "output_type": "execute_result"
    }
   ],
   "source": [
    "mydict6"
   ]
  },
  {
   "cell_type": "code",
   "execution_count": 183,
   "id": "40176c5a-c9a0-43cf-90ef-8a4840c9db1e",
   "metadata": {},
   "outputs": [
    {
     "data": {
      "text/plain": [
       "{'Name': 'Bharat', 'Age': 22, 'Place': 'Srikakulam'}"
      ]
     },
     "execution_count": 183,
     "metadata": {},
     "output_type": "execute_result"
    }
   ],
   "source": [
    "mydict={'Name': 'Bharat', 'Age' : 22, 'Place':'Srikakulam'}\n",
    "mydict"
   ]
  },
  {
   "cell_type": "code",
   "execution_count": 184,
   "id": "fdd8fd40-7345-435c-a7d0-6c16e748f52a",
   "metadata": {},
   "outputs": [],
   "source": [
    "mydicto1=mydict"
   ]
  },
  {
   "cell_type": "code",
   "execution_count": 185,
   "id": "7cd93afb-27ca-49d4-a217-f8356b19a578",
   "metadata": {},
   "outputs": [
    {
     "data": {
      "text/plain": [
       "(1884155349440, 1884155349440)"
      ]
     },
     "execution_count": 185,
     "metadata": {},
     "output_type": "execute_result"
    }
   ],
   "source": [
    "id(mydicto1) , id(mydict)"
   ]
  },
  {
   "cell_type": "code",
   "execution_count": 186,
   "id": "8622f09c-e4fe-40b7-b080-c54b1f0bb8e0",
   "metadata": {},
   "outputs": [],
   "source": [
    "mydicto2=mydict.copy()"
   ]
  },
  {
   "cell_type": "code",
   "execution_count": 187,
   "id": "3282a8da-e32e-486c-aef3-0ff227cc5f6d",
   "metadata": {},
   "outputs": [
    {
     "data": {
      "text/plain": [
       "1884155259584"
      ]
     },
     "execution_count": 187,
     "metadata": {},
     "output_type": "execute_result"
    }
   ],
   "source": [
    "id(mydicto2)"
   ]
  },
  {
   "cell_type": "code",
   "execution_count": 188,
   "id": "39505548-7249-4d47-8686-e9032056c3bf",
   "metadata": {},
   "outputs": [],
   "source": [
    "mydict['Place'] = 'Gajapathi dist'"
   ]
  },
  {
   "cell_type": "code",
   "execution_count": 190,
   "id": "351b5026-5bc1-4b22-bd30-3a8cd2d54798",
   "metadata": {},
   "outputs": [
    {
     "name": "stdout",
     "output_type": "stream",
     "text": [
      "{'Name': 'Bharat', 'Age': 22, 'Place': 'Gajapathi dist'}\n",
      "{'Name': 'Bharat', 'Age': 22, 'Place': 'Gajapathi dist'}\n",
      "{'Name': 'Bharat', 'Age': 22, 'Place': 'Srikakulam'}\n"
     ]
    }
   ],
   "source": [
    "print(mydict) # Change in mydict  effects mydicto1 but not mydicto2\n",
    "print(mydicto1)\n",
    "print(mydicto2)"
   ]
  },
  {
   "cell_type": "markdown",
   "id": "1ab7018e-d792-4fd0-beb8-fe405d7ec809",
   "metadata": {},
   "source": [
    "### Looping in dictionary"
   ]
  },
  {
   "cell_type": "code",
   "execution_count": 192,
   "id": "2e5eadfc-e2ed-4fbf-850c-e215bd1aee38",
   "metadata": {},
   "outputs": [
    {
     "data": {
      "text/plain": [
       "{'Name': 'Bharat', 'Age': 22, 'Place': 'Gajapathi dist'}"
      ]
     },
     "execution_count": 192,
     "metadata": {},
     "output_type": "execute_result"
    }
   ],
   "source": [
    "mydict"
   ]
  },
  {
   "cell_type": "code",
   "execution_count": 195,
   "id": "236330fd-4118-4242-b9a8-7c370cdc0c33",
   "metadata": {},
   "outputs": [
    {
     "name": "stdout",
     "output_type": "stream",
     "text": [
      "Name\n",
      "Age\n",
      "Place\n"
     ]
    }
   ],
   "source": [
    "for i in mydict:\n",
    "    print(i) # prints only keys"
   ]
  },
  {
   "cell_type": "code",
   "execution_count": 196,
   "id": "c2b78ebe-6244-4be2-a26b-efbcbbfe0cca",
   "metadata": {},
   "outputs": [
    {
     "name": "stdout",
     "output_type": "stream",
     "text": [
      "Name : Bharat\n",
      "Age : 22\n",
      "Place : Gajapathi dist\n"
     ]
    }
   ],
   "source": [
    "for i in mydict:\n",
    "    print(i,':',mydict[i]) # prints keys & Values"
   ]
  },
  {
   "cell_type": "code",
   "execution_count": 198,
   "id": "8db7535b-ad16-4b89-b313-d3adce270540",
   "metadata": {},
   "outputs": [
    {
     "name": "stdout",
     "output_type": "stream",
     "text": [
      "Bharat\n",
      "22\n",
      "Gajapathi dist\n"
     ]
    }
   ],
   "source": [
    "for i in mydict:\n",
    "    print(mydict[i]) #prints values in dict"
   ]
  },
  {
   "cell_type": "markdown",
   "id": "5b845d6d-1424-4ca5-9d76-f32a245ad01f",
   "metadata": {},
   "source": [
    "### Dictionary mebership"
   ]
  },
  {
   "cell_type": "code",
   "execution_count": 199,
   "id": "b1a3c222-66fe-4fbb-9b5e-5aa00533c59b",
   "metadata": {},
   "outputs": [
    {
     "data": {
      "text/plain": [
       "{'Name': 'Bharat', 'Age': 22, 'Place': 'Gajapathi dist'}"
      ]
     },
     "execution_count": 199,
     "metadata": {},
     "output_type": "execute_result"
    }
   ],
   "source": [
    "mydict"
   ]
  },
  {
   "cell_type": "code",
   "execution_count": 200,
   "id": "cbda762e-3960-4c60-bff7-b9ceb2a7870f",
   "metadata": {},
   "outputs": [
    {
     "data": {
      "text/plain": [
       "True"
      ]
     },
     "execution_count": 200,
     "metadata": {},
     "output_type": "execute_result"
    }
   ],
   "source": [
    "'Name' in mydict"
   ]
  },
  {
   "cell_type": "code",
   "execution_count": 202,
   "id": "79d332c9-fae9-436f-8797-46c8fde7d5da",
   "metadata": {},
   "outputs": [
    {
     "data": {
      "text/plain": [
       "False"
      ]
     },
     "execution_count": 202,
     "metadata": {},
     "output_type": "execute_result"
    }
   ],
   "source": [
    "'Bharat' in mydict # membership only works for the keys"
   ]
  },
  {
   "cell_type": "code",
   "execution_count": 203,
   "id": "b5a78527-f6f1-4972-b4ca-0f71459e2f8b",
   "metadata": {},
   "outputs": [
    {
     "data": {
      "text/plain": [
       "True"
      ]
     },
     "execution_count": 203,
     "metadata": {},
     "output_type": "execute_result"
    }
   ],
   "source": [
    "'Gajapathi dist' in mydict['Place']"
   ]
  },
  {
   "cell_type": "markdown",
   "id": "352f4c20-95e5-4320-8482-d018de72e6ec",
   "metadata": {},
   "source": [
    "### All/ Any in dictonory"
   ]
  },
  {
   "cell_type": "code",
   "execution_count": 208,
   "id": "77ca498a-d614-4970-90a0-60fbe7510949",
   "metadata": {},
   "outputs": [
    {
     "data": {
      "text/plain": [
       "{'Name': 'Bharat', 'Age': 22, 'Place': 'Gajapathi dist'}"
      ]
     },
     "execution_count": 208,
     "metadata": {},
     "output_type": "execute_result"
    }
   ],
   "source": [
    "mydict"
   ]
  },
  {
   "cell_type": "code",
   "execution_count": 209,
   "id": "71c94669-ee31-4a1f-a2f9-3a650583906c",
   "metadata": {},
   "outputs": [
    {
     "data": {
      "text/plain": [
       "True"
      ]
     },
     "execution_count": 209,
     "metadata": {},
     "output_type": "execute_result"
    }
   ],
   "source": [
    "all(mydict)"
   ]
  },
  {
   "cell_type": "code",
   "execution_count": 210,
   "id": "b6dbdc93-9755-4a7b-b0e2-52ea80a33bc9",
   "metadata": {},
   "outputs": [
    {
     "data": {
      "text/plain": [
       "True"
      ]
     },
     "execution_count": 210,
     "metadata": {},
     "output_type": "execute_result"
    }
   ],
   "source": [
    "any(mydict)"
   ]
  },
  {
   "cell_type": "code",
   "execution_count": null,
   "id": "0b979fd8-af94-4000-ae11-33ecaef9bf8e",
   "metadata": {},
   "outputs": [],
   "source": []
  }
 ],
 "metadata": {
  "kernelspec": {
   "display_name": "Python 3 (ipykernel)",
   "language": "python",
   "name": "python3"
  },
  "language_info": {
   "codemirror_mode": {
    "name": "ipython",
    "version": 3
   },
   "file_extension": ".py",
   "mimetype": "text/x-python",
   "name": "python",
   "nbconvert_exporter": "python",
   "pygments_lexer": "ipython3",
   "version": "3.10.9"
  }
 },
 "nbformat": 4,
 "nbformat_minor": 5
}
