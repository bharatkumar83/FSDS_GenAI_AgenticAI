{
 "cells": [
  {
   "cell_type": "markdown",
   "id": "34ee03c3-316f-4946-8b9d-61b220febda1",
   "metadata": {},
   "source": [
    "### List Creation "
   ]
  },
  {
   "cell_type": "code",
   "execution_count": 1,
   "id": "41203f78-e937-4617-b56e-adacdc8f3f97",
   "metadata": {},
   "outputs": [],
   "source": [
    "l1= [] #creating a empty list l1"
   ]
  },
  {
   "cell_type": "code",
   "execution_count": 2,
   "id": "4293d9ff-527e-4827-a50d-5ec4fa632580",
   "metadata": {},
   "outputs": [
    {
     "name": "stdout",
     "output_type": "stream",
     "text": [
      "<class 'list'>\n"
     ]
    }
   ],
   "source": [
    "print(type(l1))"
   ]
  },
  {
   "cell_type": "code",
   "execution_count": 3,
   "id": "e5378c4a-bb1b-4a29-a5b6-a98b278856cd",
   "metadata": {},
   "outputs": [],
   "source": [
    "l2=[1,2,3,4,5] #l2 is a list of intr values"
   ]
  },
  {
   "cell_type": "code",
   "execution_count": 4,
   "id": "0132c6c4-f0c1-46d3-a80d-0a28a7854eab",
   "metadata": {},
   "outputs": [],
   "source": [
    "l3=[1.2,2.3,3.4,4.5] # l3 is a list of float values"
   ]
  },
  {
   "cell_type": "code",
   "execution_count": 5,
   "id": "03f1450b-a48a-4039-ab50-5d26c300e3d5",
   "metadata": {},
   "outputs": [],
   "source": [
    "l4=['at','bat','cat','dot'] # l4 is a list of string values"
   ]
  },
  {
   "cell_type": "code",
   "execution_count": 6,
   "id": "810df6e1-9c33-41f8-9c6c-000964870a43",
   "metadata": {},
   "outputs": [],
   "source": [
    "l5=['Bharat',22,67.5] # l5 is a list of mixed data types"
   ]
  },
  {
   "cell_type": "code",
   "execution_count": 7,
   "id": "0418b159-3e50-4ab2-b7e2-9db766e33eae",
   "metadata": {},
   "outputs": [],
   "source": [
    "l6=['bharat',22,[178,68],[7.7,8.8]] # l6 is a nested list"
   ]
  },
  {
   "cell_type": "code",
   "execution_count": 8,
   "id": "45e9eec2-ab3f-4a7d-84d8-321d4f580d36",
   "metadata": {},
   "outputs": [],
   "source": [
    "l7=['bharat',22,[178,68],[7.7,8.8],{'cricket','travel'}]"
   ]
  },
  {
   "cell_type": "code",
   "execution_count": 9,
   "id": "bcbb46c8-62e8-4467-b3f3-48c2010a067f",
   "metadata": {},
   "outputs": [
    {
     "data": {
      "text/plain": [
       "5"
      ]
     },
     "execution_count": 9,
     "metadata": {},
     "output_type": "execute_result"
    }
   ],
   "source": [
    "len(l7)"
   ]
  },
  {
   "cell_type": "code",
   "execution_count": 10,
   "id": "f0a60e11-abf8-4554-a352-907f4940464a",
   "metadata": {},
   "outputs": [
    {
     "data": {
      "text/plain": [
       "4"
      ]
     },
     "execution_count": 10,
     "metadata": {},
     "output_type": "execute_result"
    }
   ],
   "source": [
    "len(l6)"
   ]
  },
  {
   "cell_type": "markdown",
   "id": "4d395711-8f4d-4644-8d4e-154df55f4287",
   "metadata": {},
   "source": [
    "### List Indexing & Slicing"
   ]
  },
  {
   "cell_type": "code",
   "execution_count": 12,
   "id": "4b43ccbf-d0f7-40c8-a81c-cb97b1b420d3",
   "metadata": {},
   "outputs": [
    {
     "data": {
      "text/plain": [
       "2"
      ]
     },
     "execution_count": 12,
     "metadata": {},
     "output_type": "execute_result"
    }
   ],
   "source": [
    "l2[1]"
   ]
  },
  {
   "cell_type": "code",
   "execution_count": 13,
   "id": "375f88a3-9268-46c3-ae97-2494df1afd12",
   "metadata": {},
   "outputs": [
    {
     "data": {
      "text/plain": [
       "4.5"
      ]
     },
     "execution_count": 13,
     "metadata": {},
     "output_type": "execute_result"
    }
   ],
   "source": [
    "l3[3]"
   ]
  },
  {
   "cell_type": "code",
   "execution_count": 14,
   "id": "981a5f27-37a7-4806-b0c2-702d779bb518",
   "metadata": {},
   "outputs": [
    {
     "data": {
      "text/plain": [
       "[178, 68]"
      ]
     },
     "execution_count": 14,
     "metadata": {},
     "output_type": "execute_result"
    }
   ],
   "source": [
    "l6[2]"
   ]
  },
  {
   "cell_type": "code",
   "execution_count": 16,
   "id": "74022b1f-ec0c-408b-bcb9-95711d7cb68c",
   "metadata": {},
   "outputs": [
    {
     "data": {
      "text/plain": [
       "{'cricket', 'travel'}"
      ]
     },
     "execution_count": 16,
     "metadata": {},
     "output_type": "execute_result"
    }
   ],
   "source": [
    "l7[-1] #backward indexing"
   ]
  },
  {
   "cell_type": "code",
   "execution_count": 18,
   "id": "9392224b-d83f-40e7-a9a6-46bef3846158",
   "metadata": {},
   "outputs": [
    {
     "data": {
      "text/plain": [
       "22"
      ]
     },
     "execution_count": 18,
     "metadata": {},
     "output_type": "execute_result"
    }
   ],
   "source": [
    "l5[-2]"
   ]
  },
  {
   "cell_type": "code",
   "execution_count": 19,
   "id": "376de575-8327-440d-9c57-bc653ea74c09",
   "metadata": {},
   "outputs": [
    {
     "data": {
      "text/plain": [
       "'bat'"
      ]
     },
     "execution_count": 19,
     "metadata": {},
     "output_type": "execute_result"
    }
   ],
   "source": [
    "l4[1]"
   ]
  },
  {
   "cell_type": "code",
   "execution_count": 21,
   "id": "cbe0e4a8-a8ca-4bfa-a077-777eec2cf60f",
   "metadata": {},
   "outputs": [
    {
     "data": {
      "text/plain": [
       "'b'"
      ]
     },
     "execution_count": 21,
     "metadata": {},
     "output_type": "execute_result"
    }
   ],
   "source": [
    "l4[1][0] #nested indexing"
   ]
  },
  {
   "cell_type": "code",
   "execution_count": 22,
   "id": "0f7f17ee-0d36-452c-9ce9-81898f87fc37",
   "metadata": {},
   "outputs": [
    {
     "data": {
      "text/plain": [
       "'a'"
      ]
     },
     "execution_count": 22,
     "metadata": {},
     "output_type": "execute_result"
    }
   ],
   "source": [
    "l4[1][-2]"
   ]
  },
  {
   "cell_type": "code",
   "execution_count": 23,
   "id": "b26db782-f676-4ad8-b58b-15ff9d8b5df5",
   "metadata": {},
   "outputs": [
    {
     "data": {
      "text/plain": [
       "'t'"
      ]
     },
     "execution_count": 23,
     "metadata": {},
     "output_type": "execute_result"
    }
   ],
   "source": [
    "l4[-2][2]"
   ]
  },
  {
   "cell_type": "code",
   "execution_count": 24,
   "id": "ee2f2369-d194-4342-82f3-aa86aa04f116",
   "metadata": {},
   "outputs": [
    {
     "data": {
      "text/plain": [
       "'a'"
      ]
     },
     "execution_count": 24,
     "metadata": {},
     "output_type": "execute_result"
    }
   ],
   "source": [
    "l4[-2][-2]"
   ]
  },
  {
   "cell_type": "code",
   "execution_count": 51,
   "id": "ccd615f4-72de-4c77-a71a-39732ad01d43",
   "metadata": {},
   "outputs": [],
   "source": [
    "mylist=['app','bot','cite','docs','excel','file','game']"
   ]
  },
  {
   "cell_type": "code",
   "execution_count": 26,
   "id": "06724967-29e0-4576-861c-74ca2acfc8bc",
   "metadata": {},
   "outputs": [
    {
     "data": {
      "text/plain": [
       "['app', 'bot']"
      ]
     },
     "execution_count": 26,
     "metadata": {},
     "output_type": "execute_result"
    }
   ],
   "source": [
    "mylist[0:2]"
   ]
  },
  {
   "cell_type": "code",
   "execution_count": 27,
   "id": "d9dc7635-1ecf-4c13-bc3d-40bd3c5a367a",
   "metadata": {},
   "outputs": [
    {
     "data": {
      "text/plain": [
       "['docs', 'excel', 'file']"
      ]
     },
     "execution_count": 27,
     "metadata": {},
     "output_type": "execute_result"
    }
   ],
   "source": [
    "mylist[3:6]"
   ]
  },
  {
   "cell_type": "code",
   "execution_count": 28,
   "id": "0d9f0ed9-c2c7-4684-935f-1788b625a06f",
   "metadata": {},
   "outputs": [
    {
     "data": {
      "text/plain": [
       "['excel', 'file', 'game']"
      ]
     },
     "execution_count": 28,
     "metadata": {},
     "output_type": "execute_result"
    }
   ],
   "source": [
    "mylist[4:]"
   ]
  },
  {
   "cell_type": "code",
   "execution_count": 29,
   "id": "2731e1e1-0665-4a14-9e31-98a9cfd0c89a",
   "metadata": {},
   "outputs": [
    {
     "data": {
      "text/plain": [
       "['app', 'bot', 'cite', 'docs']"
      ]
     },
     "execution_count": 29,
     "metadata": {},
     "output_type": "execute_result"
    }
   ],
   "source": [
    "mylist[:4]"
   ]
  },
  {
   "cell_type": "code",
   "execution_count": 31,
   "id": "a93f20cc-6e75-4d1f-8fad-08197db1c7fa",
   "metadata": {},
   "outputs": [
    {
     "data": {
      "text/plain": [
       "['game']"
      ]
     },
     "execution_count": 31,
     "metadata": {},
     "output_type": "execute_result"
    }
   ],
   "source": [
    "mylist[-1:]"
   ]
  },
  {
   "cell_type": "code",
   "execution_count": 34,
   "id": "6f8a4e13-7075-4f3e-8807-2ba9accd0f47",
   "metadata": {},
   "outputs": [
    {
     "data": {
      "text/plain": [
       "['app', 'bot', 'cite', 'docs', 'excel']"
      ]
     },
     "execution_count": 34,
     "metadata": {},
     "output_type": "execute_result"
    }
   ],
   "source": [
    "mylist[:-2]"
   ]
  },
  {
   "cell_type": "code",
   "execution_count": 37,
   "id": "561b782b-1b62-4250-838e-013cf9c4587c",
   "metadata": {},
   "outputs": [
    {
     "data": {
      "text/plain": [
       "['docs', 'excel']"
      ]
     },
     "execution_count": 37,
     "metadata": {},
     "output_type": "execute_result"
    }
   ],
   "source": [
    "mylist[-4:-2]"
   ]
  },
  {
   "cell_type": "code",
   "execution_count": 39,
   "id": "c5ec3cf2-3d11-47f9-b4a7-762ef8b83803",
   "metadata": {},
   "outputs": [
    {
     "data": {
      "text/plain": [
       "['app', 'bot', 'cite', 'docs', 'excel', 'file', 'game']"
      ]
     },
     "execution_count": 39,
     "metadata": {},
     "output_type": "execute_result"
    }
   ],
   "source": [
    "mylist[:]"
   ]
  },
  {
   "cell_type": "markdown",
   "id": "35155807-e4bc-40ec-9c4e-ab190b935f13",
   "metadata": {},
   "source": [
    "### add,remove and changing item in list"
   ]
  },
  {
   "cell_type": "code",
   "execution_count": 40,
   "id": "4c66e57d-0c9d-46fd-a470-8035703dcd14",
   "metadata": {},
   "outputs": [
    {
     "data": {
      "text/plain": [
       "['app', 'bot', 'cite', 'docs', 'excel', 'file', 'game']"
      ]
     },
     "execution_count": 40,
     "metadata": {},
     "output_type": "execute_result"
    }
   ],
   "source": [
    "mylist"
   ]
  },
  {
   "cell_type": "code",
   "execution_count": 52,
   "id": "52b2866b-49f7-493e-ba0a-57c0bf112d20",
   "metadata": {},
   "outputs": [],
   "source": [
    "mylist.append('hdd')"
   ]
  },
  {
   "cell_type": "code",
   "execution_count": 47,
   "id": "3b8388d2-be35-4b09-9e12-1afe6aba3624",
   "metadata": {},
   "outputs": [
    {
     "data": {
      "text/plain": [
       "['app', 'bot', 'cite', 'docs', 'excel', 'file', 'game', 'hdd']"
      ]
     },
     "execution_count": 47,
     "metadata": {},
     "output_type": "execute_result"
    }
   ],
   "source": [
    "mylist"
   ]
  },
  {
   "cell_type": "code",
   "execution_count": 53,
   "id": "2f6833f4-e95b-470c-bd94-4c41d51b34e9",
   "metadata": {},
   "outputs": [
    {
     "data": {
      "text/plain": [
       "['app', 'bot', 'cite', 'docs', 'excel', 'file', 'game', 'hdd', 'id']"
      ]
     },
     "execution_count": 53,
     "metadata": {},
     "output_type": "execute_result"
    }
   ],
   "source": [
    "mylist.append('id')\n",
    "mylist"
   ]
  },
  {
   "cell_type": "code",
   "execution_count": 54,
   "id": "50ff289d-9fd0-448c-ac87-2e5c5a0eb594",
   "metadata": {},
   "outputs": [
    {
     "data": {
      "text/plain": [
       "['app', 'bot', 'cite', 'docs', 'excel', 'file', 'game', 'hdd', 'id', 'jack']"
      ]
     },
     "execution_count": 54,
     "metadata": {},
     "output_type": "execute_result"
    }
   ],
   "source": [
    "mylist.insert(9,'jack')\n",
    "mylist"
   ]
  },
  {
   "cell_type": "code",
   "execution_count": 55,
   "id": "55247ca5-8c5f-4586-93a6-83cf8f92db10",
   "metadata": {},
   "outputs": [
    {
     "data": {
      "text/plain": [
       "['app',\n",
       " 'bot',\n",
       " 'cite',\n",
       " 'drive',\n",
       " 'docs',\n",
       " 'excel',\n",
       " 'file',\n",
       " 'game',\n",
       " 'hdd',\n",
       " 'id',\n",
       " 'jack']"
      ]
     },
     "execution_count": 55,
     "metadata": {},
     "output_type": "execute_result"
    }
   ],
   "source": [
    "mylist.insert(3,'drive')\n",
    "mylist"
   ]
  },
  {
   "cell_type": "code",
   "execution_count": 56,
   "id": "1bb0a7a8-9446-4a59-8303-69667c9fbe36",
   "metadata": {},
   "outputs": [
    {
     "data": {
      "text/plain": [
       "['app', 'bot', 'cite', 'drive', 'excel', 'file', 'game', 'hdd', 'id', 'jack']"
      ]
     },
     "execution_count": 56,
     "metadata": {},
     "output_type": "execute_result"
    }
   ],
   "source": [
    "mylist.remove('docs')\n",
    "mylist"
   ]
  },
  {
   "cell_type": "code",
   "execution_count": 57,
   "id": "c17f67a6-cb68-4b71-9eac-76ce11cc5f6b",
   "metadata": {},
   "outputs": [
    {
     "data": {
      "text/plain": [
       "'jack'"
      ]
     },
     "execution_count": 57,
     "metadata": {},
     "output_type": "execute_result"
    }
   ],
   "source": [
    "mylist.pop()"
   ]
  },
  {
   "cell_type": "code",
   "execution_count": 58,
   "id": "fadedb46-88a4-48f3-b380-ed63dc014583",
   "metadata": {},
   "outputs": [
    {
     "data": {
      "text/plain": [
       "['app', 'bot', 'cite', 'drive', 'excel', 'file', 'game', 'hdd', 'id']"
      ]
     },
     "execution_count": 58,
     "metadata": {},
     "output_type": "execute_result"
    }
   ],
   "source": [
    "mylist"
   ]
  },
  {
   "cell_type": "code",
   "execution_count": 59,
   "id": "298705dc-3df7-40ac-957c-9fee6c8fd81f",
   "metadata": {},
   "outputs": [
    {
     "data": {
      "text/plain": [
       "'hdd'"
      ]
     },
     "execution_count": 59,
     "metadata": {},
     "output_type": "execute_result"
    }
   ],
   "source": [
    "mylist.pop(7)"
   ]
  },
  {
   "cell_type": "code",
   "execution_count": 60,
   "id": "27d1b857-3d85-4b1c-b0fd-359cc06c611b",
   "metadata": {},
   "outputs": [
    {
     "data": {
      "text/plain": [
       "['app', 'bot', 'cite', 'drive', 'excel', 'file', 'game', 'id']"
      ]
     },
     "execution_count": 60,
     "metadata": {},
     "output_type": "execute_result"
    }
   ],
   "source": [
    "mylist"
   ]
  },
  {
   "cell_type": "code",
   "execution_count": 61,
   "id": "54455cb6-4949-4def-995d-cdcf5f0a893f",
   "metadata": {},
   "outputs": [],
   "source": [
    "del mylist[7]"
   ]
  },
  {
   "cell_type": "code",
   "execution_count": 62,
   "id": "862c6445-3fcf-46d8-bd52-2cd80f302894",
   "metadata": {},
   "outputs": [
    {
     "data": {
      "text/plain": [
       "['app', 'bot', 'cite', 'drive', 'excel', 'file', 'game']"
      ]
     },
     "execution_count": 62,
     "metadata": {},
     "output_type": "execute_result"
    }
   ],
   "source": [
    "mylist"
   ]
  },
  {
   "cell_type": "code",
   "execution_count": 63,
   "id": "7c873e44-ff4d-4481-b6c8-714cc9786b8c",
   "metadata": {},
   "outputs": [
    {
     "data": {
      "text/plain": [
       "[1, 2, 'cite', 'drive', 'excel', 'file', 'game']"
      ]
     },
     "execution_count": 63,
     "metadata": {},
     "output_type": "execute_result"
    }
   ],
   "source": [
    "mylist[0]=1\n",
    "mylist[1]=2\n",
    "mylist"
   ]
  },
  {
   "cell_type": "code",
   "execution_count": 65,
   "id": "e7be9319-c4ad-4c58-948a-7f7b75d5d473",
   "metadata": {},
   "outputs": [
    {
     "data": {
      "text/plain": [
       "[]"
      ]
     },
     "execution_count": 65,
     "metadata": {},
     "output_type": "execute_result"
    }
   ],
   "source": [
    "mylist.clear()\n",
    "mylist"
   ]
  },
  {
   "cell_type": "code",
   "execution_count": 66,
   "id": "4631f49e-a283-4c3b-a8c4-9787371d07da",
   "metadata": {},
   "outputs": [],
   "source": [
    "del mylist"
   ]
  },
  {
   "cell_type": "code",
   "execution_count": 68,
   "id": "0e3b3385-f487-422b-ac1f-f6b0b402ce76",
   "metadata": {},
   "outputs": [
    {
     "ename": "NameError",
     "evalue": "name 'mylist' is not defined",
     "output_type": "error",
     "traceback": [
      "\u001b[1;31m---------------------------------------------------------------------------\u001b[0m",
      "\u001b[1;31mNameError\u001b[0m                                 Traceback (most recent call last)",
      "Cell \u001b[1;32mIn[68], line 1\u001b[0m\n\u001b[1;32m----> 1\u001b[0m \u001b[43mmylist\u001b[49m\n",
      "\u001b[1;31mNameError\u001b[0m: name 'mylist' is not defined"
     ]
    }
   ],
   "source": [
    "mylist"
   ]
  },
  {
   "cell_type": "markdown",
   "id": "8f8f17cc-b6b3-49f8-bef2-abda182c4d1a",
   "metadata": {},
   "source": [
    "### Copy List"
   ]
  },
  {
   "cell_type": "code",
   "execution_count": 69,
   "id": "99492c55-1dcb-44d0-8dd6-e47be4d9451f",
   "metadata": {},
   "outputs": [],
   "source": [
    "mylist=['app','bot','cite','docs','excel','file','game']"
   ]
  },
  {
   "cell_type": "code",
   "execution_count": 70,
   "id": "41e975b0-d888-4845-ad5a-3529cd992d3c",
   "metadata": {},
   "outputs": [],
   "source": [
    "mylist1=mylist"
   ]
  },
  {
   "cell_type": "code",
   "execution_count": 71,
   "id": "5114aad0-dac4-41bb-b63f-640dd9903783",
   "metadata": {},
   "outputs": [
    {
     "data": {
      "text/plain": [
       "(1877354074048, 1877354074048)"
      ]
     },
     "execution_count": 71,
     "metadata": {},
     "output_type": "execute_result"
    }
   ],
   "source": [
    "id(mylist),id(mylist1)"
   ]
  },
  {
   "cell_type": "code",
   "execution_count": 72,
   "id": "089a2723-f1e6-4e8a-80b7-4e8cd5b3d351",
   "metadata": {},
   "outputs": [],
   "source": [
    "mylist2=mylist.copy()"
   ]
  },
  {
   "cell_type": "code",
   "execution_count": 73,
   "id": "459110fe-bae3-4377-b41e-11c421d942ac",
   "metadata": {},
   "outputs": [
    {
     "data": {
      "text/plain": [
       "1877353261056"
      ]
     },
     "execution_count": 73,
     "metadata": {},
     "output_type": "execute_result"
    }
   ],
   "source": [
    "id(mylist2)"
   ]
  },
  {
   "cell_type": "code",
   "execution_count": 74,
   "id": "c6f3eb19-8a38-43f7-93fe-6ebba9fe0df4",
   "metadata": {},
   "outputs": [],
   "source": [
    "mylist[0]='alt'"
   ]
  },
  {
   "cell_type": "code",
   "execution_count": 75,
   "id": "b0f84122-ea89-4fd6-8286-793874bf6c77",
   "metadata": {},
   "outputs": [
    {
     "data": {
      "text/plain": [
       "['alt', 'bot', 'cite', 'docs', 'excel', 'file', 'game']"
      ]
     },
     "execution_count": 75,
     "metadata": {},
     "output_type": "execute_result"
    }
   ],
   "source": [
    "mylist"
   ]
  },
  {
   "cell_type": "code",
   "execution_count": 76,
   "id": "3095358f-17f4-464d-8268-e18dcca45196",
   "metadata": {},
   "outputs": [
    {
     "data": {
      "text/plain": [
       "['alt', 'bot', 'cite', 'docs', 'excel', 'file', 'game']"
      ]
     },
     "execution_count": 76,
     "metadata": {},
     "output_type": "execute_result"
    }
   ],
   "source": [
    "\n",
    "mylist1"
   ]
  },
  {
   "cell_type": "code",
   "execution_count": 77,
   "id": "fe749a60-c6ae-4e91-ad7e-4f495ddf9c91",
   "metadata": {},
   "outputs": [
    {
     "data": {
      "text/plain": [
       "['app', 'bot', 'cite', 'docs', 'excel', 'file', 'game']"
      ]
     },
     "execution_count": 77,
     "metadata": {},
     "output_type": "execute_result"
    }
   ],
   "source": [
    "mylist2"
   ]
  },
  {
   "cell_type": "markdown",
   "id": "bb359ca5-4977-482b-9401-1a95bf5d511a",
   "metadata": {},
   "source": [
    "### joint lists"
   ]
  },
  {
   "cell_type": "code",
   "execution_count": 83,
   "id": "6baf65e6-de93-4ddf-8537-18167ce3a8df",
   "metadata": {},
   "outputs": [],
   "source": [
    "li1=[11,12,13,14,15,16]\n",
    "li2=[17,18,19,20]"
   ]
  },
  {
   "cell_type": "code",
   "execution_count": 84,
   "id": "244ac48b-b0f4-40a7-ad64-a0e75de3f0e7",
   "metadata": {},
   "outputs": [
    {
     "data": {
      "text/plain": [
       "[11, 12, 13, 14, 15, 16, 17, 18, 19, 20]"
      ]
     },
     "execution_count": 84,
     "metadata": {},
     "output_type": "execute_result"
    }
   ],
   "source": [
    "li3=li1+li2\n",
    "li3"
   ]
  },
  {
   "cell_type": "code",
   "execution_count": 85,
   "id": "e1602d37-8863-4596-a8c6-2be03132b3bb",
   "metadata": {},
   "outputs": [],
   "source": [
    "li1.extend(li2)"
   ]
  },
  {
   "cell_type": "code",
   "execution_count": 86,
   "id": "6363e648-61b5-4e09-8d9b-02dd8af5fbaa",
   "metadata": {},
   "outputs": [
    {
     "data": {
      "text/plain": [
       "[11, 12, 13, 14, 15, 16, 17, 18, 19, 20]"
      ]
     },
     "execution_count": 86,
     "metadata": {},
     "output_type": "execute_result"
    }
   ],
   "source": [
    "li1"
   ]
  },
  {
   "cell_type": "markdown",
   "id": "aa91ea22-2b11-405b-92be-72878fcd2e43",
   "metadata": {},
   "source": [
    "### List membership"
   ]
  },
  {
   "cell_type": "code",
   "execution_count": 89,
   "id": "81b963df-06db-45ab-a2f8-07d41cfd3bf4",
   "metadata": {},
   "outputs": [
    {
     "data": {
      "text/plain": [
       "[1, 2, 3, 4, 5]"
      ]
     },
     "execution_count": 89,
     "metadata": {},
     "output_type": "execute_result"
    }
   ],
   "source": [
    "l2"
   ]
  },
  {
   "cell_type": "code",
   "execution_count": 91,
   "id": "bfe45842-17e9-443c-8f5a-b87f4ea77c11",
   "metadata": {},
   "outputs": [
    {
     "data": {
      "text/plain": [
       "True"
      ]
     },
     "execution_count": 91,
     "metadata": {},
     "output_type": "execute_result"
    }
   ],
   "source": [
    "1 in l2"
   ]
  },
  {
   "cell_type": "code",
   "execution_count": 92,
   "id": "d95bf48d-6135-4682-922c-b48318cd3d85",
   "metadata": {},
   "outputs": [
    {
     "data": {
      "text/plain": [
       "True"
      ]
     },
     "execution_count": 92,
     "metadata": {},
     "output_type": "execute_result"
    }
   ],
   "source": [
    "5 in l2"
   ]
  },
  {
   "cell_type": "code",
   "execution_count": 93,
   "id": "9d984c64-071f-4d4e-a96c-0ca393490266",
   "metadata": {},
   "outputs": [
    {
     "data": {
      "text/plain": [
       "False"
      ]
     },
     "execution_count": 93,
     "metadata": {},
     "output_type": "execute_result"
    }
   ],
   "source": [
    "6 in l2"
   ]
  },
  {
   "cell_type": "code",
   "execution_count": 95,
   "id": "131ca530-6a42-4fad-994c-3e42fe396738",
   "metadata": {},
   "outputs": [
    {
     "name": "stdout",
     "output_type": "stream",
     "text": [
      "1 is in the list\n"
     ]
    }
   ],
   "source": [
    "if 1 in l2:\n",
    "    print('1 is in the list')\n",
    "else:\n",
    "    print('1 isnot in the list')"
   ]
  },
  {
   "cell_type": "code",
   "execution_count": 96,
   "id": "6413ad7a-fe34-43b6-8e57-9252d33e76de",
   "metadata": {},
   "outputs": [
    {
     "name": "stdout",
     "output_type": "stream",
     "text": [
      "8 isnot in the list\n"
     ]
    }
   ],
   "source": [
    "if 8 in l2:\n",
    "    print('8 is in the list')\n",
    "else:\n",
    "    print('8 isnot in the list')"
   ]
  },
  {
   "cell_type": "markdown",
   "id": "7db5d8ac-9b4d-4fb0-8685-01a176efd184",
   "metadata": {},
   "source": [
    "### Reverse & sort list"
   ]
  },
  {
   "cell_type": "code",
   "execution_count": 97,
   "id": "9027edf2-0bde-4575-9caa-dade22b079cc",
   "metadata": {},
   "outputs": [
    {
     "data": {
      "text/plain": [
       "['alt', 'bot', 'cite', 'docs', 'excel', 'file', 'game']"
      ]
     },
     "execution_count": 97,
     "metadata": {},
     "output_type": "execute_result"
    }
   ],
   "source": [
    "mylist"
   ]
  },
  {
   "cell_type": "code",
   "execution_count": 101,
   "id": "3348cbf1-a5fb-4a35-a8ba-c881657a144f",
   "metadata": {},
   "outputs": [
    {
     "data": {
      "text/plain": [
       "['game', 'file', 'excel', 'docs', 'cite', 'bot', 'alt']"
      ]
     },
     "execution_count": 101,
     "metadata": {},
     "output_type": "execute_result"
    }
   ],
   "source": [
    "mylist.reverse()\n",
    "mylist"
   ]
  },
  {
   "cell_type": "code",
   "execution_count": 102,
   "id": "9f69c64e-d60b-4b39-ad3c-e2727733ce71",
   "metadata": {},
   "outputs": [
    {
     "data": {
      "text/plain": [
       "['alt', 'bot', 'cite', 'docs', 'excel', 'file', 'game']"
      ]
     },
     "execution_count": 102,
     "metadata": {},
     "output_type": "execute_result"
    }
   ],
   "source": [
    "mylisti=mylist[::-1]\n",
    "mylisti"
   ]
  },
  {
   "cell_type": "code",
   "execution_count": 103,
   "id": "63de3e4b-e542-41f3-833d-39d6a10bb716",
   "metadata": {},
   "outputs": [],
   "source": [
    "list1=[23,12,13,56,32,16,84]"
   ]
  },
  {
   "cell_type": "code",
   "execution_count": 106,
   "id": "23784ed9-0a18-4d14-bf23-2245f8d3a156",
   "metadata": {},
   "outputs": [
    {
     "data": {
      "text/plain": [
       "[12, 13, 16, 23, 32, 56, 84]"
      ]
     },
     "execution_count": 106,
     "metadata": {},
     "output_type": "execute_result"
    }
   ],
   "source": [
    "list1.sort()\n",
    "list1"
   ]
  },
  {
   "cell_type": "code",
   "execution_count": 108,
   "id": "5eb71571-2657-45c3-8b47-7b7bed56bd49",
   "metadata": {},
   "outputs": [
    {
     "data": {
      "text/plain": [
       "[84, 56, 32, 23, 16, 13, 12]"
      ]
     },
     "execution_count": 108,
     "metadata": {},
     "output_type": "execute_result"
    }
   ],
   "source": [
    "list1.sort(reverse=True)\n",
    "list1"
   ]
  },
  {
   "cell_type": "code",
   "execution_count": 109,
   "id": "8aff4f41-5a8c-49d1-9966-92458618dcd6",
   "metadata": {},
   "outputs": [
    {
     "data": {
      "text/plain": [
       "[1, 14, 15, 23, 24, 61]"
      ]
     },
     "execution_count": 109,
     "metadata": {},
     "output_type": "execute_result"
    }
   ],
   "source": [
    "list2=[15,14,1,24,61,23]\n",
    "sorted(list2)"
   ]
  },
  {
   "cell_type": "code",
   "execution_count": 110,
   "id": "e43f27b9-8a05-4b19-8406-cd7f5633d94a",
   "metadata": {},
   "outputs": [
    {
     "data": {
      "text/plain": [
       "[15, 14, 1, 24, 61, 23]"
      ]
     },
     "execution_count": 110,
     "metadata": {},
     "output_type": "execute_result"
    }
   ],
   "source": [
    "list2"
   ]
  },
  {
   "cell_type": "markdown",
   "id": "376f24ad-f172-47fe-bcdd-d869f07c1f5a",
   "metadata": {},
   "source": [
    "### loops in list"
   ]
  },
  {
   "cell_type": "code",
   "execution_count": 111,
   "id": "3b26815b-ce9b-425c-8b93-e0222a68de3a",
   "metadata": {},
   "outputs": [
    {
     "data": {
      "text/plain": [
       "['game', 'file', 'excel', 'docs', 'cite', 'bot', 'alt']"
      ]
     },
     "execution_count": 111,
     "metadata": {},
     "output_type": "execute_result"
    }
   ],
   "source": [
    "mylist"
   ]
  },
  {
   "cell_type": "code",
   "execution_count": 112,
   "id": "7000372b-b609-48df-b019-5438cb38bb47",
   "metadata": {},
   "outputs": [
    {
     "name": "stdout",
     "output_type": "stream",
     "text": [
      "game\n",
      "file\n",
      "excel\n",
      "docs\n",
      "cite\n",
      "bot\n",
      "alt\n"
     ]
    }
   ],
   "source": [
    "for i in mylist:\n",
    "    print(i)"
   ]
  },
  {
   "cell_type": "code",
   "execution_count": 113,
   "id": "7429b21a-60bd-4c30-b983-c4dc43581eb1",
   "metadata": {},
   "outputs": [
    {
     "name": "stdout",
     "output_type": "stream",
     "text": [
      "(0, 'game')\n",
      "(1, 'file')\n",
      "(2, 'excel')\n",
      "(3, 'docs')\n",
      "(4, 'cite')\n",
      "(5, 'bot')\n",
      "(6, 'alt')\n"
     ]
    }
   ],
   "source": [
    "for i in enumerate(mylist):\n",
    "    print(i)"
   ]
  },
  {
   "cell_type": "markdown",
   "id": "85227094-a60c-4ef7-93a1-b85869c85346",
   "metadata": {},
   "source": [
    "### Count"
   ]
  },
  {
   "cell_type": "code",
   "execution_count": 114,
   "id": "f948501b-3d08-4bbe-ad24-1d325e71e364",
   "metadata": {},
   "outputs": [],
   "source": [
    "list3 =[2,3,1,5,2,2,13,1,4,1,7,8]"
   ]
  },
  {
   "cell_type": "code",
   "execution_count": 115,
   "id": "7a3b64fa-f054-4586-a314-1527208bce48",
   "metadata": {},
   "outputs": [
    {
     "data": {
      "text/plain": [
       "3"
      ]
     },
     "execution_count": 115,
     "metadata": {},
     "output_type": "execute_result"
    }
   ],
   "source": [
    "list3.count(2)"
   ]
  },
  {
   "cell_type": "code",
   "execution_count": 116,
   "id": "4fada405-2d93-4002-994a-4872f086b2e3",
   "metadata": {},
   "outputs": [
    {
     "data": {
      "text/plain": [
       "3"
      ]
     },
     "execution_count": 116,
     "metadata": {},
     "output_type": "execute_result"
    }
   ],
   "source": [
    "list3.count(1)"
   ]
  },
  {
   "cell_type": "code",
   "execution_count": 117,
   "id": "04b8a494-df14-49e4-9906-7824321aaa85",
   "metadata": {},
   "outputs": [
    {
     "data": {
      "text/plain": [
       "1"
      ]
     },
     "execution_count": 117,
     "metadata": {},
     "output_type": "execute_result"
    }
   ],
   "source": [
    "list3.count(5)"
   ]
  },
  {
   "cell_type": "markdown",
   "id": "baaaefaf-fac7-48f3-8539-7320995c0c4e",
   "metadata": {},
   "source": [
    "### All/Any"
   ]
  },
  {
   "cell_type": "code",
   "execution_count": 118,
   "id": "c9b0305c-bd2c-40b6-b263-d172244cfa95",
   "metadata": {},
   "outputs": [],
   "source": [
    "L1=[1,2,3,4,7]\n",
    "L2=[1,2,3,4,7,0]"
   ]
  },
  {
   "cell_type": "code",
   "execution_count": 119,
   "id": "a5af5642-20bc-49e2-ae40-836bc39d6ca9",
   "metadata": {},
   "outputs": [
    {
     "data": {
      "text/plain": [
       "True"
      ]
     },
     "execution_count": 119,
     "metadata": {},
     "output_type": "execute_result"
    }
   ],
   "source": [
    "all(L1)"
   ]
  },
  {
   "cell_type": "code",
   "execution_count": 120,
   "id": "91c625dc-bbe6-47d0-8a63-3fed62726535",
   "metadata": {},
   "outputs": [
    {
     "data": {
      "text/plain": [
       "False"
      ]
     },
     "execution_count": 120,
     "metadata": {},
     "output_type": "execute_result"
    }
   ],
   "source": [
    "all(L2)"
   ]
  },
  {
   "cell_type": "code",
   "execution_count": 121,
   "id": "a20d2e1c-c321-4d0c-9808-3494e57cc868",
   "metadata": {},
   "outputs": [
    {
     "data": {
      "text/plain": [
       "True"
      ]
     },
     "execution_count": 121,
     "metadata": {},
     "output_type": "execute_result"
    }
   ],
   "source": [
    "any(L1)"
   ]
  },
  {
   "cell_type": "code",
   "execution_count": 122,
   "id": "e3fc5bc2-37ff-4211-85a6-e93b72319bbf",
   "metadata": {},
   "outputs": [
    {
     "data": {
      "text/plain": [
       "True"
      ]
     },
     "execution_count": 122,
     "metadata": {},
     "output_type": "execute_result"
    }
   ],
   "source": [
    "any(L2)"
   ]
  },
  {
   "cell_type": "code",
   "execution_count": 126,
   "id": "779d7a01-6a45-4a57-aa55-65008dacb177",
   "metadata": {},
   "outputs": [],
   "source": [
    "L3=[1,2,5,6,False,True]\n",
    "L4=[1,2,5,6,False]\n",
    "L5=[0]"
   ]
  },
  {
   "cell_type": "code",
   "execution_count": 127,
   "id": "21ff266a-05a5-45db-a965-f26f100370d6",
   "metadata": {},
   "outputs": [
    {
     "name": "stdout",
     "output_type": "stream",
     "text": [
      "False\n",
      "False\n",
      "True\n",
      "True\n",
      "False\n"
     ]
    }
   ],
   "source": [
    "print(all(L3))\n",
    "print(all(L4))\n",
    "print(any(L3))\n",
    "print(any(L4))\n",
    "print(any(L5))"
   ]
  },
  {
   "cell_type": "code",
   "execution_count": null,
   "id": "cec7b34c-0bf2-4a5c-a637-5473eeb5b926",
   "metadata": {},
   "outputs": [],
   "source": []
  }
 ],
 "metadata": {
  "kernelspec": {
   "display_name": "Python 3 (ipykernel)",
   "language": "python",
   "name": "python3"
  },
  "language_info": {
   "codemirror_mode": {
    "name": "ipython",
    "version": 3
   },
   "file_extension": ".py",
   "mimetype": "text/x-python",
   "name": "python",
   "nbconvert_exporter": "python",
   "pygments_lexer": "ipython3",
   "version": "3.10.9"
  }
 },
 "nbformat": 4,
 "nbformat_minor": 5
}
